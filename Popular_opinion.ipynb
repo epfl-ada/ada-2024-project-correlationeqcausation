{
 "cells": [
  {
   "cell_type": "markdown",
   "id": "684c2c27-1591-41cb-b990-1f355172a1ca",
   "metadata": {},
   "source": [
    "# Reading data"
   ]
  },
  {
   "cell_type": "code",
   "execution_count": null,
   "id": "7c6a32dd-a4fe-47fe-aa5f-c2cd386da75a",
   "metadata": {},
   "outputs": [],
   "source": [
    "import pandas as pd\n",
    "import os\n",
    "import numpy as np\n",
    "import matplotlib.pyplot as plt\n",
    "import seaborn as sns\n",
    "\n",
    "from scipy import stats\n",
    "\n",
    "#Modelling\n",
    "import statsmodels.api as sm\n",
    "import sklearn\n",
    "from sklearn.model_selection import train_test_split\n",
    "from sklearn import tree\n",
    "from sklearn.ensemble import RandomForestClassifier\n",
    "\n",
    "#Resampling\n",
    "from imblearn.over_sampling import RandomOverSampler\n",
    "from imblearn.under_sampling import RandomUnderSampler"
   ]
  },
  {
   "cell_type": "code",
   "execution_count": null,
   "id": "c264e418-d363-4cdd-b7f6-929a9592ed11",
   "metadata": {},
   "outputs": [],
   "source": [
    "df = pd.read_csv('cache/data.csv', sep=',', index_col=0)\n",
    "opinion_df = df[['movie_identifier','actor_identifier','identifier','actor_gender','category', 'winner', 'oscar_nominated', 'average_rating', 'number_of_votes']]"
   ]
  },
  {
   "cell_type": "markdown",
   "id": "35763bcb-09b7-467a-909e-06e0f4582b71",
   "metadata": {},
   "source": [
    "# Correlation"
   ]
  },
  {
   "cell_type": "code",
   "execution_count": null,
   "id": "3e2c90b4-8469-447d-85ee-3d1b4ed7e017",
   "metadata": {},
   "outputs": [],
   "source": [
    "#Since the ratings are movie based, refactor data like so for general corellation measuring:\n",
    "#Take one line for each movie. If that movie was nominated at least once, oscar_nominated = 1, else 0\n",
    "nominated_movies = opinion_df[opinion_df['oscar_nominated'] == True]\n",
    "#Add nominated movies to the top to ensure that the movies kept are first\n",
    "each_movie_once_df = pd.concat([nominated_movies, opinion_df], axis=0)\n",
    "\n",
    "each_movie_once_df = each_movie_once_df.drop_duplicates(subset='movie_identifier', keep='first')"
   ]
  },
  {
   "cell_type": "code",
   "execution_count": null,
   "id": "aa225ef3-09ec-4445-ad39-7658a62fe6fc",
   "metadata": {},
   "outputs": [],
   "source": [
    "sns.lineplot(data=each_movie_once_df, x=\"average_rating\", y=\"oscar_nominated\")\n",
    "plt.ylabel(\"Probability of being nominated\")\n",
    "plt.xlabel(\"Movie average rating\")\n",
    "plt.title(\"Probability of being nominated from average rating\\nWith confidence interval\")\n",
    "plt.plot()"
   ]
  },
  {
   "cell_type": "markdown",
   "id": "e239163e-f77b-49a8-93d9-153973447349",
   "metadata": {},
   "source": [
    "It is pretty well seen, that in general, with the average rating rising the chances to be nominated do as well. As the upper area of average ratings is rarer, the model becomes more unpredictable.\n",
    "\n",
    "It is also noteworthy that the confindence interval when the probability of nomination is bigger is very large, meaning that the true mean of the probability could be 0 or 1. Overall though, the probability is quite clearly trending upwards with the average rating"
   ]
  },
  {
   "cell_type": "code",
   "execution_count": null,
   "id": "c0847bd8-9691-46ff-ae4d-d1991ee6c4f4",
   "metadata": {},
   "outputs": [],
   "source": [
    "binned_data"
   ]
  },
  {
   "cell_type": "code",
   "execution_count": null,
   "id": "29dcf513-2948-4936-8061-8d07705a15a6",
   "metadata": {},
   "outputs": [],
   "source": [
    "each_movie_once_df['binned_nr_votes'] = pd.cut(each_movie_once_df['number_of_votes'], bins=10)\n",
    "binned_data = each_movie_once_df.groupby('binned_nr_votes', observed=False)['oscar_nominated'].mean().reset_index()\n",
    "binned_data['binned_nr_votes'] = binned_data['binned_nr_votes'].apply(lambda x: x.mid)\n",
    "\n",
    "sns.lineplot(data=binned_data, x='binned_nr_votes', y=\"oscar_nominated\", marker=\"o\")\n",
    "plt.ylabel(\"Probability of being nominated\")\n",
    "plt.xlabel(\"Number of votes binned\")\n",
    "plt.title(\"Probability of being nominated from number of votes\\nWith confidence interval\")\n",
    "plt.plot()"
   ]
  },
  {
   "cell_type": "markdown",
   "id": "a1729575-8858-4495-839f-c8bde5473fb8",
   "metadata": {},
   "source": [
    "Notebly the number of votes a movie got also seems to be positively correlated with its odds of being nominated. This is likely due to the movies nominated having a lot of publicity and hence receiving more votes"
   ]
  },
  {
   "cell_type": "markdown",
   "id": "63a6fe98-7a21-4475-a105-22661ded0fe6",
   "metadata": {},
   "source": [
    "# logistic regression"
   ]
  },
  {
   "cell_type": "markdown",
   "id": "0e410836-9fbd-4759-a3d7-e0db90a5b6bb",
   "metadata": {},
   "source": [
    "For seeing if a movie being nominated for an oscar is predictable from the ratings it got and the number of them, we need to use the aforementioned transformation again: each movie only has one row, and if at least one actor was nominated then the whole movie is nominated."
   ]
  },
  {
   "cell_type": "code",
   "execution_count": null,
   "id": "4d3f7f08-02c5-4294-831a-2653a4c44f6f",
   "metadata": {},
   "outputs": [],
   "source": [
    "#Conducts logistic regression on the given split\n",
    "def log_regression(X_train, X_test, y_train, y_test):\n",
    "    # Normalize the data, fitting the scaler only to train and transforming both train and test\n",
    "    scaler = sklearn.preprocessing.StandardScaler()\n",
    "    scaler.fit(X_train)\n",
    "    X_train = scaler.transform(X_train)\n",
    "    X_test = scaler.transform(X_test)\n",
    "    \n",
    "    #Add constants\n",
    "    X_train = sm.add_constant(X_train)\n",
    "    X_test = sm.add_constant(X_test)\n",
    "    \n",
    "    model = sm.Logit(y_train, X_train)\n",
    "    return model.fit()"
   ]
  },
  {
   "cell_type": "code",
   "execution_count": null,
   "id": "46f4656f-e2f7-4ee5-819e-62c02c737273",
   "metadata": {
    "scrolled": true
   },
   "outputs": [],
   "source": [
    "X = each_movie_once_df[['average_rating', 'number_of_votes']]\n",
    "y = each_movie_once_df[['oscar_nominated']]\n",
    "\n",
    "X_train, X_test, y_train, y_test = train_test_split(X, y, test_size=0.2, random_state=42)\n",
    "\n",
    "result = log_regression(X_train, X_test, y_train, y_test)"
   ]
  },
  {
   "cell_type": "code",
   "execution_count": null,
   "id": "f610b97b-f357-47b4-acec-2902eb4f5e4d",
   "metadata": {},
   "outputs": [],
   "source": [
    "def find_optimal_cutoff(y_test, output, cutoffs):\n",
    "    best_f1 = 0\n",
    "    best_threshold = 0\n",
    "\n",
    "    for cutoff in cutoffs:\n",
    "        predictions = output > cutoff\n",
    "        temp_f1 = sklearn.metrics.f1_score(y_test, predictions)\n",
    "        if temp_f1 > best_f1:\n",
    "            best_f1 = temp_f1\n",
    "            best_threshold = cutoff\n",
    "    print('Best threshold:', best_threshold)\n",
    "    print('Best F1:', best_f1)\n",
    "\n",
    "    predictions = output > best_threshold\n",
    "    \n",
    "    accuracy = sklearn.metrics.accuracy_score(y_test, predictions)\n",
    "    print('Accuracy:', accuracy)\n",
    "    precision = sklearn.metrics.precision_score(y_test, predictions)\n",
    "    print('Precision:', precision)\n",
    "    recall = sklearn.metrics.recall_score(y_test, predictions)\n",
    "    print('Recall:', recall)"
   ]
  },
  {
   "cell_type": "code",
   "execution_count": null,
   "id": "48797b72-b47d-4982-bb9a-70b8d28e93d3",
   "metadata": {
    "scrolled": true
   },
   "outputs": [],
   "source": [
    "#Evaluate\n",
    "output = result.predict(sm.add_constant(X_test))\n",
    "\n",
    "#Find the statistics with the best cutoff point\n",
    "find_optimal_cutoff(y_test, output, np.linspace(0.1,1,10))"
   ]
  },
  {
   "cell_type": "markdown",
   "id": "45e8bea9-6ecb-4c0c-8f35-4adfc5a712df",
   "metadata": {},
   "source": [
    "The data is way too imbalanced to work. With every possible cutoff at most 1 test instance gets classified to be nominated. Attempting with data rebalancing"
   ]
  },
  {
   "cell_type": "markdown",
   "id": "01ddd34a-4b25-43bf-816c-ef3ae3f4e2e1",
   "metadata": {},
   "source": [
    "## With rebalanced data"
   ]
  },
  {
   "cell_type": "markdown",
   "id": "b1959d31-2f56-4efa-adcb-c043f46433e2",
   "metadata": {},
   "source": [
    "### Oversampling"
   ]
  },
  {
   "cell_type": "code",
   "execution_count": null,
   "id": "a22a4e78-5b14-43c0-8cc5-b6269cbb044f",
   "metadata": {
    "scrolled": true
   },
   "outputs": [],
   "source": [
    "X = each_movie_once_df[['average_rating', 'number_of_votes']]\n",
    "y = each_movie_once_df[['oscar_nominated']]\n",
    "\n",
    "X_train, X_test, y_train, y_test = train_test_split(X, y, test_size=0.2, random_state=42)\n",
    "\n",
    "#Oversample\n",
    "#At maximum triple the amount of positive samples\n",
    "sampling_strategy = {False: y_train.value_counts().iloc()[0], 1: y_train.value_counts().iloc()[1] * 5}\n",
    "\n",
    "ros = RandomOverSampler(random_state=42, sampling_strategy = sampling_strategy)\n",
    "X_resampled, y_resampled = ros.fit_resample(X_train, y_train)\n",
    "\n",
    "result = log_regression(X_resampled, X_test, y_resampled, y_test)"
   ]
  },
  {
   "cell_type": "code",
   "execution_count": null,
   "id": "651e7178-7703-4255-bd24-4a77df1de443",
   "metadata": {
    "scrolled": true
   },
   "outputs": [],
   "source": [
    "#Evaluate\n",
    "output = result.predict(sm.add_constant(X_test))\n",
    "\n",
    "#Find the statistics with the best cutoff point\n",
    "find_optimal_cutoff(y_test, output, np.linspace(0.1,1,10))"
   ]
  },
  {
   "cell_type": "markdown",
   "id": "07592be8-d1ce-4d9b-ae15-a57a4a22eb2c",
   "metadata": {},
   "source": [
    "Oversampling did not solve the problem, the model still predicts \"not nominated\" for almost all movies"
   ]
  },
  {
   "cell_type": "markdown",
   "id": "9f3cd3d9-926c-4915-93e7-29c1982d6572",
   "metadata": {},
   "source": [
    "### Undersampling"
   ]
  },
  {
   "cell_type": "code",
   "execution_count": null,
   "id": "f6785cd9-f51b-4acd-98db-bdcf7737e6b1",
   "metadata": {},
   "outputs": [],
   "source": [
    "X = each_movie_once_df[['average_rating', 'number_of_votes']]\n",
    "y = each_movie_once_df[['oscar_nominated']]\n",
    "\n",
    "X_train, X_test, y_train, y_test = train_test_split(X, y, test_size=0.2, random_state=42)\n",
    "\n",
    "#Oversample\n",
    "#Reduce the number of negative samples by 3fold\n",
    "sampling_strategy = {False: y_train.value_counts().iloc()[0] // 3, 1: y_train.value_counts().iloc()[1]}\n",
    "rus = RandomUnderSampler(random_state=42, sampling_strategy = sampling_strategy)\n",
    "\n",
    "X_resampled, y_resampled = rus.fit_resample(X_train, y_train)\n",
    "result = log_regression(X_resampled, X_test, y_resampled, y_test)"
   ]
  },
  {
   "cell_type": "code",
   "execution_count": null,
   "id": "828ebf9a-ea71-4e05-9102-18bf0a84cc38",
   "metadata": {
    "scrolled": true
   },
   "outputs": [],
   "source": [
    "y_resampled.value_counts()"
   ]
  },
  {
   "cell_type": "code",
   "execution_count": null,
   "id": "bb1678d7-dace-46fd-a244-940e36333ce1",
   "metadata": {},
   "outputs": [],
   "source": [
    "#Evaluate\n",
    "output = result.predict(sm.add_constant(X_test))\n",
    "\n",
    "#Find the statistics with the best cutoff point\n",
    "find_optimal_cutoff(y_test, output, np.linspace(0.1,1,10))"
   ]
  },
  {
   "cell_type": "markdown",
   "id": "bff1319e-40a1-4f63-afd6-961dd4441b25",
   "metadata": {},
   "source": [
    "Undersampling has no effect either, could be that oscar nominations are simply not linearly modellable from popular opinion."
   ]
  },
  {
   "cell_type": "markdown",
   "id": "b7f0d4d2-f4c8-4d1d-b536-c008105af5eb",
   "metadata": {},
   "source": [
    "# DecisionTree"
   ]
  },
  {
   "cell_type": "code",
   "execution_count": null,
   "id": "88810ad2-42ae-467e-84a5-1fdaca713635",
   "metadata": {},
   "outputs": [],
   "source": [
    "def evaluate_predictions(y_test, output):\n",
    "    print('Accuracy:', sklearn.metrics.accuracy_score(y_test, output))\n",
    "    print('Precision:', sklearn.metrics.precision_score(y_test, output))\n",
    "    print('Recall:', sklearn.metrics.recall_score(y_test, output))\n",
    "    print('F1:', sklearn.metrics.f1_score(y_test, output))"
   ]
  },
  {
   "cell_type": "code",
   "execution_count": null,
   "id": "b6a665d9-c3c0-439a-8438-be1c69f7d513",
   "metadata": {},
   "outputs": [],
   "source": [
    "X = each_movie_once_df[['average_rating', 'number_of_votes']]\n",
    "y = each_movie_once_df[['oscar_nominated']]\n",
    "\n",
    "X_train, X_test, y_train, y_test = train_test_split(X, y, test_size=0.2, random_state=42)\n",
    "\n",
    "model = tree.DecisionTreeClassifier(random_state=42)\n",
    "model.fit(X_train, y_train.values.ravel())"
   ]
  },
  {
   "cell_type": "code",
   "execution_count": null,
   "id": "34e60265-150a-433d-9f3e-a5c2faf22240",
   "metadata": {},
   "outputs": [],
   "source": [
    "output = model.predict(X_test)\n",
    "#Evaluation\n",
    "evaluate_predictions(y_test, output)"
   ]
  },
  {
   "cell_type": "code",
   "execution_count": null,
   "id": "ec6f6157-2753-4d87-a84b-2cbfc99c10c6",
   "metadata": {},
   "outputs": [],
   "source": [
    "print(f\"Trained model depth is {model.get_depth()} ; Number of leaves {model.get_n_leaves()}\")"
   ]
  },
  {
   "cell_type": "markdown",
   "id": "49918f9c-0ff1-4590-be39-6bc16a268996",
   "metadata": {},
   "source": [
    "Decision tree is able to solve this problem somewhat, although not with the perhaps desired accuracy. Additionally, the model trained has a huge complexity, even though it only posessed 2 features. This could indicate the model hardcoding a path for all instances and not finding any true patterns"
   ]
  },
  {
   "cell_type": "code",
   "execution_count": null,
   "id": "53b0629c-7177-4ca0-90ea-06510e37cd8e",
   "metadata": {},
   "outputs": [],
   "source": [
    "#tree.plot_tree(model)"
   ]
  },
  {
   "cell_type": "markdown",
   "id": "ab8b3846-996d-4370-a609-61f6adbd489c",
   "metadata": {},
   "source": [
    "## Limiting tree depth"
   ]
  },
  {
   "cell_type": "code",
   "execution_count": null,
   "id": "6c3533a0-1cea-4de9-9e66-c15f6c092b40",
   "metadata": {},
   "outputs": [],
   "source": [
    "X = each_movie_once_df[['average_rating', 'number_of_votes']]\n",
    "y = each_movie_once_df[['oscar_nominated']]\n",
    "\n",
    "X_train, X_test, y_train, y_test = train_test_split(X, y, test_size=0.2, random_state=42)\n",
    "\n",
    "model = tree.DecisionTreeClassifier(random_state=42, max_depth=5)\n",
    "model.fit(X_train, y_train.values.ravel())"
   ]
  },
  {
   "cell_type": "code",
   "execution_count": null,
   "id": "f7178c01-67be-4f9b-9465-8dee0ce5c810",
   "metadata": {
    "scrolled": true
   },
   "outputs": [],
   "source": [
    "output = model.predict(X_test)\n",
    "#Evaluation\n",
    "evaluate_predictions(y_test, output)"
   ]
  },
  {
   "cell_type": "markdown",
   "id": "67926e18-d877-4823-a3a5-e247ec178a10",
   "metadata": {},
   "source": [
    "Indeed with a limited space the tree is not able to model being nominated for a oscar, indicating that this is a complex problem"
   ]
  },
  {
   "cell_type": "markdown",
   "id": "9522e72f-21b3-43c7-8ee8-e76a6e3cb3cf",
   "metadata": {},
   "source": [
    "# Randomforest"
   ]
  },
  {
   "cell_type": "code",
   "execution_count": null,
   "id": "edbec8e8-d0d0-4476-b9bf-3e2c8f338f7c",
   "metadata": {},
   "outputs": [],
   "source": [
    "X = each_movie_once_df[['average_rating', 'number_of_votes']]\n",
    "y = each_movie_once_df[['oscar_nominated']]\n",
    "\n",
    "X_train, X_test, y_train, y_test = train_test_split(X, y, test_size=0.2, random_state=42)\n",
    "\n",
    "model = RandomForestClassifier(random_state=42)\n",
    "model.fit(X_train, y_train.values.ravel())"
   ]
  },
  {
   "cell_type": "code",
   "execution_count": null,
   "id": "6e34f09a-73db-4fed-87ef-a29e83755b53",
   "metadata": {},
   "outputs": [],
   "source": [
    "output = model.predict(X_test)\n",
    "#Evaluation\n",
    "evaluate_predictions(y_test, output)"
   ]
  },
  {
   "cell_type": "markdown",
   "id": "33a1201a-9fda-4b95-8041-429948845cdb",
   "metadata": {},
   "source": [
    "As expected, randomforest is able to squeeze the most information out of the data given. In total predicting with a 91% accuracy what movies will be nominated is not at all a bad score. However the recall and precision are not great, with only 1 in every 4 movies that are nominated caught by this model"
   ]
  },
  {
   "cell_type": "markdown",
   "id": "0a640edc-0df8-4528-aeb0-482e52de8585",
   "metadata": {},
   "source": [
    "# Predicting specific award categories\n",
    "As seen before then linear models perform terribly for predicting from scores, so I will only use non-linear models such as the random forest"
   ]
  },
  {
   "cell_type": "code",
   "execution_count": null,
   "id": "bd8e458f-7e62-4f45-867c-b952eed0ef8d",
   "metadata": {},
   "outputs": [],
   "source": [
    "# As the categories are gendered I will need to extract different datasets for men and women\n",
    "men_df = opinion_df[opinion_df['actor_gender'] == 'M']\n",
    "women_df = opinion_df[opinion_df['actor_gender'] == 'F']"
   ]
  },
  {
   "cell_type": "code",
   "execution_count": null,
   "id": "3dd60bf8-85be-4083-8514-fcbb8e44b7b7",
   "metadata": {
    "scrolled": true
   },
   "outputs": [],
   "source": [
    "opinion_df['category'].value_counts()"
   ]
  },
  {
   "cell_type": "markdown",
   "id": "c2a02e79-79a8-4783-b067-8b574f25f3bf",
   "metadata": {},
   "source": [
    "## Best actor"
   ]
  },
  {
   "cell_type": "code",
   "execution_count": null,
   "id": "b814161e-80cf-4ea4-8d27-247af7c6bba3",
   "metadata": {},
   "outputs": [],
   "source": [
    "men_df"
   ]
  },
  {
   "cell_type": "code",
   "execution_count": null,
   "id": "2bce0a86-5f11-49d2-bdae-5b475c243fb1",
   "metadata": {},
   "outputs": [],
   "source": []
  }
 ],
 "metadata": {
  "kernelspec": {
   "display_name": "Python 3 (ipykernel)",
   "language": "python",
   "name": "python3"
  },
  "language_info": {
   "codemirror_mode": {
    "name": "ipython",
    "version": 3
   },
   "file_extension": ".py",
   "mimetype": "text/x-python",
   "name": "python",
   "nbconvert_exporter": "python",
   "pygments_lexer": "ipython3",
   "version": "3.12.4"
  }
 },
 "nbformat": 4,
 "nbformat_minor": 5
}
