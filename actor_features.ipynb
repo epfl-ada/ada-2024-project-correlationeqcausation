{
 "cells": [
  {
   "cell_type": "code",
   "execution_count": null,
   "metadata": {},
   "outputs": [],
   "source": [
    "import pandas as pd\n",
    "import os\n",
    "import numpy as np\n",
    "import matplotlib.pyplot as plt\n",
    "import seaborn as sns\n",
    "import json\n",
    "\n",
    "from scipy import stats"
   ]
  },
  {
   "cell_type": "code",
   "execution_count": null,
   "metadata": {},
   "outputs": [],
   "source": [
    "%run data_pipeline.ipynb"
   ]
  },
  {
   "cell_type": "code",
   "execution_count": null,
   "metadata": {},
   "outputs": [],
   "source": [
    "# Read data\n",
    "df = pd.read_csv('cache/data.csv', sep=',', index_col=0)\n",
    "unclean_df = pd.read_csv('cache/unclean_data.csv', sep=',', index_col=0)"
   ]
  },
  {
   "cell_type": "code",
   "execution_count": null,
   "metadata": {},
   "outputs": [],
   "source": [
    "df.head()"
   ]
  },
  {
   "cell_type": "markdown",
   "metadata": {},
   "source": [
    "## **Actor Network Analysis**"
   ]
  },
  {
   "cell_type": "code",
   "execution_count": null,
   "metadata": {},
   "outputs": [],
   "source": [
    "import networkx as nx\n",
    "from itertools import combinations"
   ]
  },
  {
   "cell_type": "code",
   "execution_count": null,
   "metadata": {},
   "outputs": [],
   "source": [
    "oscar_nominated = df[df['oscar_nominated']==True]\n",
    "\n",
    "df_new_movies = df\n"
   ]
  },
  {
   "cell_type": "code",
   "execution_count": null,
   "metadata": {},
   "outputs": [],
   "source": [
    "print(len(df_new_movies), len(df))"
   ]
  },
  {
   "cell_type": "code",
   "execution_count": null,
   "metadata": {},
   "outputs": [],
   "source": [
    "G = nx.Graph()\n",
    "\n",
    "for _, row in df_new_movies.iterrows():\n",
    "    G.add_node(row['actor_identifier'], oscar_nominated=row['oscar_nominated'])\n",
    "\n",
    "\n",
    "for movie, group in df_new_movies.groupby('title'):\n",
    "    actors = group['actor_identifier'].tolist()\n",
    "    for actor1, actor2 in combinations(actors, 2):\n",
    "        if G.has_edge(actor1, actor2):\n",
    "            G[actor1][actor2]['movies'].append(movie)\n",
    "        else:\n",
    "            G.add_edge(actor1, actor2, movies=[movie])\n",
    "\n",
    "colors = {True: 'gold', False: 'blue'}\n",
    "node_colors = [colors[G.nodes[node]['oscar_nominated']] for node in G.nodes]\n"
   ]
  },
  {
   "cell_type": "code",
   "execution_count": null,
   "metadata": {},
   "outputs": [],
   "source": [
    "average_nominated_degree = []\n",
    "average_not_nominated = []\n",
    "degree_dict = dict(G.degree())\n",
    "for node, degree in degree_dict.items():\n",
    "    nominated = G.nodes[node]['oscar_nominated']\n",
    "    if nominated: \n",
    "        average_nominated_degree.append(G.degree(node))\n",
    "    else: \n",
    "        average_not_nominated.append(G.degree(node))\n",
    "\n",
    "print(np.mean(average_not_nominated))\n",
    "print(np.mean(average_nominated_degree))"
   ]
  },
  {
   "cell_type": "code",
   "execution_count": null,
   "metadata": {},
   "outputs": [],
   "source": [
    "plt.figure(figsize=(30, 24))  \n",
    "pos = nx.spring_layout(G, k=1, iterations=50)  \n",
    "nx.draw(G, pos, with_labels=False, node_color=node_colors, node_size=500, font_size=5, font_weight=\"bold\")\n",
    "degree_dict = dict(G.degree())\n",
    "for node, degree in degree_dict.items():\n",
    "    plt.text(pos[node][0], pos[node][1], str(degree), fontsize=12, ha='center', color='black')\n",
    "    \n",
    "\n",
    "plt.title(\"Actor Collaboration Graph with Colored Nodes\")\n",
    "plt.show()"
   ]
  },
  {
   "cell_type": "code",
   "execution_count": null,
   "metadata": {},
   "outputs": [],
   "source": [
    "G = nx.Graph()\n",
    "for movie, group in oscar_nominated.groupby('title'):\n",
    "    actors = group['actor_identifier'].tolist()\n",
    "    for actor1, actor2 in combinations(actors, 2):\n",
    "        if G.has_edge(actor1, actor2):\n",
    "            G[actor1][actor2]['movies'].append(movie)\n",
    "        else:\n",
    "            G.add_edge(actor1, actor2, movies=[movie])"
   ]
  },
  {
   "cell_type": "code",
   "execution_count": null,
   "metadata": {},
   "outputs": [],
   "source": [
    "#pos = nx.spring_layout(G, k=1, iterations=50) \n",
    "nx.draw_networkx(G, pos=None, arrows=None, with_labels=False, node_size=35, width=0.5)\n",
    "plt.title('Oscar Nominated Actors')"
   ]
  },
  {
   "cell_type": "markdown",
   "metadata": {},
   "source": [
    "## **Year bias**"
   ]
  },
  {
   "cell_type": "code",
   "execution_count": null,
   "metadata": {},
   "outputs": [],
   "source": [
    "from scipy.interpolate import CubicSpline"
   ]
  },
  {
   "cell_type": "markdown",
   "metadata": {},
   "source": [
    "Constructing df for analysis"
   ]
  },
  {
   "cell_type": "code",
   "execution_count": null,
   "metadata": {},
   "outputs": [],
   "source": [
    "# Counting movie releases per year\n",
    "movie_df = df.drop_duplicates(subset='movie_identifier', keep='first', inplace=False)[['movie_identifier', 'year']]\n",
    "movie_releases = movie_df.groupby('year').size().reset_index(name='count')\n",
    "movie_releases.head()"
   ]
  },
  {
   "cell_type": "code",
   "execution_count": null,
   "metadata": {},
   "outputs": [],
   "source": [
    "# Counting oscar nominations per year\n",
    "oscar_nominations = oscar_nominated.groupby('year').size().reset_index(name='count')\n",
    "years = pd.DataFrame({'year': movie_releases['year'].unique()})\n",
    "oscar_nominations = years.merge(oscar_nominations, on='year', how='left').fillna(0)\n",
    "oscar_nominations.head()"
   ]
  },
  {
   "cell_type": "code",
   "execution_count": null,
   "metadata": {},
   "outputs": [],
   "source": [
    "# Counting nominated movies per year\n",
    "nominations_per_movie_per_year = oscar_nominated.groupby(['year', 'movie_identifier']).agg({'title':'count'}).reset_index().rename(columns={'title':'count'})\n",
    "unique_nominated_movies_per_year = nominations_per_movie_per_year.groupby(['year']).agg({'movie_identifier':'count'}).reset_index().rename(columns={'movie_identifier':'count'})\n",
    "unique_nominated_movies_per_year.head()"
   ]
  },
  {
   "cell_type": "code",
   "execution_count": null,
   "metadata": {},
   "outputs": [],
   "source": [
    "# Merging releases and nominated movies per year\n",
    "movie_releases_with_nominations = movie_releases.merge(unique_nominated_movies_per_year, on='year', how='left').fillna(0).rename(columns={'count_x' : 'releases', 'count_y':'nominated movies'})\n",
    "movie_releases_with_nominations.head()"
   ]
  },
  {
   "cell_type": "code",
   "execution_count": null,
   "metadata": {},
   "outputs": [],
   "source": [
    "# Merging in nr. of oscar nominations per year\n",
    "releases_nominations_counts_df = movie_releases_with_nominations.merge(oscar_nominations, on='year', how='left').fillna(0).rename(columns={'count' : 'oscar nominations'})\n",
    "releases_nominations_counts_df.head()"
   ]
  },
  {
   "cell_type": "code",
   "execution_count": null,
   "metadata": {},
   "outputs": [],
   "source": [
    "# Calculating % of movies that was nominated each year\n",
    "releases_nominations_counts_df['%nominated'] = releases_nominations_counts_df['nominated movies'] / releases_nominations_counts_df['releases']\n",
    "releases_nominations_counts_df.head()"
   ]
  },
  {
   "cell_type": "markdown",
   "metadata": {},
   "source": [
    "**Plotting**"
   ]
  },
  {
   "cell_type": "code",
   "execution_count": null,
   "metadata": {},
   "outputs": [],
   "source": [
    "plt.figure(figsize=(10, 6))\n",
    "\n",
    "plt.bar(releases_nominations_counts_df['year']+0.4, releases_nominations_counts_df['releases'], label ='Releases', alpha=0.8)\n",
    "plt.bar(releases_nominations_counts_df['year']-0.4, releases_nominations_counts_df['oscar nominations'], label ='Nominations', color='red')\n",
    "plt.bar(releases_nominations_counts_df['year'], releases_nominations_counts_df['nominated movies'], label ='Nominated Movies', color='#00008B')\n",
    "\n",
    "\n",
    "plt.xlabel('Year')\n",
    "plt.xlim(min(df['year']), max(df['year']))\n",
    "\n",
    "plt.ylabel('Nr. Releases')\n",
    "\n",
    "plt.legend()\n",
    "\n",
    "plt.title('Movie releases and nominations per year')\n",
    "\n",
    "\n",
    "x = releases_nominations_counts_df['year']\n",
    "y = releases_nominations_counts_df['%nominated']\n",
    "\n",
    "cs = CubicSpline(x, y)\n",
    "\n",
    "x_smooth = np.linspace(min(x), max(x), 500)\n",
    "y_smooth = cs(x_smooth)\n",
    "ax2 = plt.twinx()\n",
    "ax2.set_ylabel('Share')\n",
    "ax2.plot(x_smooth, 100*y_smooth, color='black', label='Nominated movies (%)', alpha=0.8, linewidth=1)\n",
    "\n",
    "ax2.set_ylabel('Nominated Movies (%)')\n",
    "plt.legend()\n",
    "plt.show()\n"
   ]
  },
  {
   "cell_type": "markdown",
   "metadata": {},
   "source": [
    "## Genre"
   ]
  },
  {
   "cell_type": "code",
   "execution_count": null,
   "metadata": {},
   "outputs": [],
   "source": [
    "genre_df = df.copy()"
   ]
  },
  {
   "cell_type": "code",
   "execution_count": null,
   "metadata": {},
   "outputs": [],
   "source": [
    "genre_df['genres'] = genre_df['genres'].fillna('[]')\n",
    "genre_lists = genre_df['genres'].apply(lambda x: x[1:-1].split(', ') if x != '[]' else [])\n",
    "genre_lists = genre_lists.apply(lambda x: [g[1:-1] for g in x])\n",
    "genre_lists = genre_lists.apply(lambda x: [g for g in x if g != ''] )\n",
    "all_genres = set([genre for sublist in genre_lists for genre in sublist])"
   ]
  },
  {
   "cell_type": "code",
   "execution_count": null,
   "metadata": {},
   "outputs": [],
   "source": [
    "genre_dict = {}\n",
    "for g in all_genres:\n",
    "    genre_dict[g] = []\n",
    "\n",
    "for list in genre_lists:  \n",
    "    for g in all_genres:\n",
    "        if g in list: \n",
    "            genre_dict[g].append(1)\n",
    "        else: genre_dict[g].append(0)"
   ]
  },
  {
   "cell_type": "code",
   "execution_count": null,
   "metadata": {},
   "outputs": [],
   "source": [
    "genre_df = pd.concat([genre_df.reset_index(drop=True), pd.DataFrame(genre_dict).reset_index(drop=True)], axis=1)\n",
    "#genre_df = genre_df.drop(columns='index') "
   ]
  },
  {
   "cell_type": "code",
   "execution_count": null,
   "metadata": {},
   "outputs": [],
   "source": [
    "genre_df_oscar_nominated = genre_df[genre_df['oscar_nominated'] == True]"
   ]
  },
  {
   "cell_type": "code",
   "execution_count": null,
   "metadata": {},
   "outputs": [],
   "source": [
    "genre_df_oscar_nominated.columns.shape"
   ]
  },
  {
   "cell_type": "code",
   "execution_count": null,
   "metadata": {},
   "outputs": [],
   "source": [
    "genre_frequencies = genre_df.iloc[:,20:].sum(axis=0).sort_values(ascending=False)"
   ]
  },
  {
   "cell_type": "code",
   "execution_count": null,
   "metadata": {},
   "outputs": [],
   "source": [
    "nominated_genre_frequencies = genre_df_oscar_nominated.iloc[:,20:].sum(axis=0)\n",
    "nominated_genre_frequencies = nominated_genre_frequencies.reindex(genre_frequencies.index)"
   ]
  },
  {
   "cell_type": "code",
   "execution_count": null,
   "metadata": {},
   "outputs": [],
   "source": [
    "assert nominated_genre_frequencies.index.all() == genre_frequencies.index.all()"
   ]
  },
  {
   "cell_type": "code",
   "execution_count": null,
   "metadata": {},
   "outputs": [],
   "source": [
    "nominated_genre_frequencies_normalized = (nominated_genre_frequencies - nominated_genre_frequencies.mean())/nominated_genre_frequencies.std()\n",
    "nominated_genre_frequencies_normalized = nominated_genre_frequencies_normalized + abs(min(nominated_genre_frequencies_normalized))\n",
    "nominated_genre_frequencies_normalized = (nominated_genre_frequencies_normalized - min(nominated_genre_frequencies_normalized))/(max(nominated_genre_frequencies_normalized)- min(nominated_genre_frequencies_normalized))\n",
    "\n",
    "\n",
    "\n",
    "genre_frequencies_normalized = (genre_frequencies - genre_frequencies.mean())/genre_frequencies.std()\n",
    "genre_frequencies_normalized = genre_frequencies_normalized + abs(min(genre_frequencies_normalized))\n",
    "genre_frequencies_normalized = (genre_frequencies_normalized - min(genre_frequencies_normalized))/(max(genre_frequencies_normalized)- min(genre_frequencies_normalized))\n"
   ]
  },
  {
   "cell_type": "code",
   "execution_count": null,
   "metadata": {},
   "outputs": [],
   "source": [
    "plt.figure(figsize=(10, 6))\n",
    "plt.bar(np.arange(1, len(genre_frequencies)+1), genre_frequencies_normalized, color='red', label='Not nominated')\n",
    "plt.bar(np.arange(1, len(genre_frequencies)+1), nominated_genre_frequencies_normalized, label='Nominated')\n",
    "plt.title('Distribution of genres in nominated and not nominated movies')\n",
    "plt.legend()"
   ]
  },
  {
   "cell_type": "code",
   "execution_count": null,
   "metadata": {},
   "outputs": [],
   "source": [
    "import scipy\n",
    "scipy.stats.kstest(nominated_genre_frequencies_normalized, genre_frequencies_normalized)"
   ]
  },
  {
   "cell_type": "markdown",
   "metadata": {},
   "source": [
    "We can reject null hypothesis"
   ]
  }
 ],
 "metadata": {
  "kernelspec": {
   "display_name": "adavenv",
   "language": "python",
   "name": "python3"
  },
  "language_info": {
   "codemirror_mode": {
    "name": "ipython",
    "version": 3
   },
   "file_extension": ".py",
   "mimetype": "text/x-python",
   "name": "python",
   "nbconvert_exporter": "python",
   "pygments_lexer": "ipython3",
   "version": "3.9.6"
  }
 },
 "nbformat": 4,
 "nbformat_minor": 2
}
