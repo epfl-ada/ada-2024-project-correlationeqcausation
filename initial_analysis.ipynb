{
 "cells": [
  {
   "cell_type": "code",
   "execution_count": 252,
   "id": "initial_id",
   "metadata": {},
   "outputs": [],
   "source": [
    "import pandas as pd\n",
    "import os\n",
    "import numpy as np"
   ]
  },
  {
   "cell_type": "markdown",
   "id": "a477ebbabb542e1f",
   "metadata": {},
   "source": [
    "Form a graph with people as nodes with edges between them if they have starred in the same movie. Search for some correlation between how well connected people are and the kind of movies they have performed in / the type of role they have etc.\n",
    "Once such hypotheses have been formed, test them in a similar graph in the imdb movie dataset to see if they hold there as well. \n",
    "\n",
    "Test the hypothesis that an uncommon combination of genres means a somewhat extreme box office collection - either low or high\n",
    "\n",
    "\n",
    "\n",
    "Is benford's law scale invariant?"
   ]
  },
  {
   "cell_type": "markdown",
   "id": "25c1382d-6262-46fd-b7f7-2a4cf3bc0e48",
   "metadata": {},
   "source": [
    "## Merging characters and movies"
   ]
  },
  {
   "cell_type": "code",
   "execution_count": 253,
   "id": "ae8c2335af72bc67",
   "metadata": {},
   "outputs": [],
   "source": [
    "movie_df = pd.read_csv('ADA_venv/data/movie.metadata.tsv', sep='\\t', names=['wiki_movie_id', 'freebase_movie_id', 'title', 'release_date', 'box_office_revenue', 'runtime', 'languages', 'countries', 'genres'], index_col='freebase_movie_id')\n",
    "movie_df = movie_df.reset_index()"
   ]
  },
  {
   "cell_type": "code",
   "execution_count": 254,
   "id": "2fa4080b",
   "metadata": {},
   "outputs": [],
   "source": [
    "movie_df['parsed_movie_name'] = movie_df['title'].str.lower().str.strip()"
   ]
  },
  {
   "cell_type": "code",
   "execution_count": 255,
   "id": "1fdb1d7dad1c8cfc",
   "metadata": {},
   "outputs": [
    {
     "name": "stdout",
     "output_type": "stream",
     "text": [
      "Number of movies with actors of the same name: 313\n"
     ]
    }
   ],
   "source": [
    "col_names = [\"wiki_movie_id\", \"freebase_movie_id\", \"movie_release_date\", \"character_name\", \"actor_date_of_birth\", \"Actor gender\", \"Actor height (in meters)\", \"Actor ethnicity (Freebase ID)\", \"Actor name\", \"Actor age at movie release\", \"Freebase character/actor map ID\", \"Freebase character ID\", \"Freebase actor ID\"]\n",
    "character_df = pd.read_csv('ADA_venv/data/character.metadata.tsv', sep='\\t', names=col_names, index_col=\"Freebase character ID\")\n",
    "\n",
    "# Remove characters without actors\n",
    "character_df = character_df[character_df['Freebase actor ID'].notna()]\n",
    "\n",
    "# Allow only one character per actor per movie.\n",
    "# Motivation: When we look at if the actor won a Oscar we don't care about what role it won it as. \n",
    "character_df = character_df.groupby(['freebase_movie_id', 'Freebase actor ID']).first().reset_index()\n",
    "\n",
    "character_df['parsed_actor_name'] = character_df['Actor name'].str.lower().str.strip()\n",
    "\n",
    "# How many cases where the actors of the same name stars in the same movie or\n",
    "temp = character_df.groupby(['freebase_movie_id', 'parsed_actor_name']).agg(count = ('parsed_actor_name', 'size')).reset_index()\n",
    "movies_with_actors_of_same_name_df = temp[temp['count'] > 1]\n",
    "print('Number of movies with actors of the same name:', movies_with_actors_of_same_name_df.shape[0])\n",
    "\n",
    "# Only 313 we decide to drop the cases.\n",
    "# TODO: Check if any of the 311 actors won Oscars\n",
    "character_df = character_df.merge(temp, on=['freebase_movie_id', 'parsed_actor_name'], how='inner')\n",
    "dropped_character_df = character_df[character_df['count'] == 1]\n",
    "\n",
    "temp = dropped_character_df.groupby(['freebase_movie_id', 'parsed_actor_name']).agg(count = ('parsed_actor_name', 'size')).reset_index()\n",
    "\n",
    "assert temp[temp['count'] > 1].empty\n",
    "\n",
    "character_df = dropped_character_df"
   ]
  },
  {
   "cell_type": "code",
   "execution_count": 256,
   "id": "a224f6c5",
   "metadata": {},
   "outputs": [],
   "source": [
    "movie_character_df = movie_df.merge(character_df, on='freebase_movie_id', how='inner')\n",
    "movie_character_df = movie_character_df[[\n",
    "    'freebase_movie_id',\n",
    "    'title',\n",
    "    'release_date',\n",
    "    'box_office_revenue',\n",
    "    'runtime',\n",
    "    'languages',\n",
    "    'countries',\n",
    "    'genres',\n",
    "    'parsed_movie_name',\n",
    "    'Freebase actor ID',\n",
    "    'Actor gender',\n",
    "    'Actor height (in meters)',\n",
    "    'Actor ethnicity (Freebase ID)',\n",
    "    'Actor name',\n",
    "    'Actor age at movie release',\n",
    "    'Freebase character/actor map ID',\n",
    "    'parsed_actor_name'\n",
    "]]\n"
   ]
  },
  {
   "cell_type": "code",
   "execution_count": 257,
   "id": "9410c3c8",
   "metadata": {},
   "outputs": [
    {
     "name": "stdout",
     "output_type": "stream",
     "text": [
      "Number of combination of actors of the same names starring in movies with the same name: 350\n"
     ]
    }
   ],
   "source": [
    "# To join with Oscar Movie name and Actor name need to uniquely identify one row in movie_character_df \n",
    "temp = movie_character_df.groupby(['parsed_movie_name', 'parsed_actor_name']).agg(count = ('parsed_movie_name', 'size')).reset_index()\n",
    "print('Number of combination of actors of the same names starring in movies with the same name:', temp[temp['count'] > 1].shape[0])\n",
    "\n",
    "# 350 combination. We decide to drop the combinations \n",
    "# TODO: Check if any movie won an Oscar\n",
    "dropped_movie_character_df = movie_character_df.merge(temp, on=['parsed_movie_name', 'parsed_actor_name'], how='inner')\n",
    "dropped_movie_character_df = dropped_movie_character_df[dropped_movie_character_df['count'] == 1]\n",
    "\n",
    "temp = dropped_movie_character_df.groupby(['parsed_movie_name', 'parsed_actor_name']).agg(count = ('parsed_movie_name', 'size'))\n",
    "\n",
    "assert temp['count'].max() == 1\n",
    "\n",
    "movie_character_df = dropped_movie_character_df\n",
    "movie_character_df = movie_character_df.drop('count', axis=1)"
   ]
  },
  {
   "cell_type": "markdown",
   "id": "f68a9e8e-e996-4b87-a6c7-b5044fedd1e7",
   "metadata": {},
   "source": [
    "## Merging with oscar dataset"
   ]
  },
  {
   "cell_type": "code",
   "execution_count": 258,
   "id": "cff3f08dbb5e5b83",
   "metadata": {},
   "outputs": [],
   "source": [
    "oscar_df = pd.read_csv('ADA_venv/data/the_oscar_award.csv')\n",
    "\n",
    "# Removes weird Oscar nomination\n",
    "oscar_df = oscar_df[oscar_df['film'].notna() & oscar_df['name'].notna()]"
   ]
  },
  {
   "cell_type": "code",
   "execution_count": 259,
   "id": "191e868f",
   "metadata": {},
   "outputs": [],
   "source": [
    "# Filtering relevant Oscar catagories\n",
    "# TODO: explain why we drop certain categories.\n",
    "oscar_df = oscar_df[oscar_df['category'].str.contains('ACTOR') | oscar_df['category'].str.contains('ACTRESS')]"
   ]
  },
  {
   "cell_type": "markdown",
   "id": "6d82f1f9cfe7e597",
   "metadata": {},
   "source": [
    "This join needs to be checked. \n",
    "Joining with ignore case? \n",
    "Do we want to do a right join? (so also keep movies that did not win oscars)\n"
   ]
  },
  {
   "cell_type": "code",
   "execution_count": 260,
   "id": "6457f1f3",
   "metadata": {},
   "outputs": [],
   "source": [
    "# Avoid case-sensitivity and extra spaces\n",
    "oscar_df['parsed_movie_name'] = oscar_df['film'].str.lower().str.strip()\n",
    "oscar_df['parsed_actor_name'] = oscar_df['name'].str.lower().str.strip()"
   ]
  },
  {
   "cell_type": "code",
   "execution_count": 261,
   "id": "6d160430",
   "metadata": {},
   "outputs": [],
   "source": [
    "# One actor won two Oscars for the same movie (Barry Fitzgerald)\n",
    "oscar_df.groupby(['parsed_movie_name', 'parsed_actor_name']).agg(count = ('parsed_actor_name', 'count')).sort_values('count', ascending=False)\n",
    "\n",
    "# If actor has mutiple nomination for the same movie we choose the first\n",
    "oscar_df = oscar_df.groupby(['parsed_movie_name', 'parsed_actor_name']).first().reset_index()\n",
    "\n",
    "# For joining rows in oscar_df needs to be uniquely identified by name_parsed and film_title_parsed\n",
    "assert oscar_df.groupby(['parsed_movie_name', 'parsed_actor_name']).agg(count = ('parsed_movie_name', 'size')).max()['count'] == 1"
   ]
  },
  {
   "cell_type": "code",
   "execution_count": 262,
   "id": "296cf578",
   "metadata": {},
   "outputs": [],
   "source": [
    "movie_character_oscar_df = movie_character_df.merge(oscar_df, how='outer', on=['parsed_movie_name', 'parsed_actor_name'])"
   ]
  },
  {
   "cell_type": "code",
   "execution_count": 263,
   "id": "a36c4e21",
   "metadata": {},
   "outputs": [],
   "source": [
    "# Create column to determine if actor was nominated for Oscar \n",
    "movie_character_oscar_df['oscar_nominated'] = movie_character_oscar_df['winner'].notna()"
   ]
  },
  {
   "cell_type": "code",
   "execution_count": 264,
   "id": "9d1ca6ac",
   "metadata": {
    "scrolled": true
   },
   "outputs": [
    {
     "name": "stdout",
     "output_type": "stream",
     "text": [
      "Number of different Oscar nominated films in dataset: 1201\n",
      "Number of different Oscar nominated actors in dataset: 982\n",
      "Number of characters in dataset: 1827\n",
      "Number of movies in dataset: 1201\n",
      "Number of actors in dataset: 982\n"
     ]
    }
   ],
   "source": [
    "oscar_nominated_actors_df = movie_character_oscar_df[movie_character_oscar_df['oscar_nominated']]\n",
    "print('Number of different Oscar nominated films in dataset:', \n",
    "      oscar_nominated_actors_df['parsed_movie_name'].unique().shape[0])\n",
    "\n",
    "print('Number of different Oscar nominated actors in dataset:', \n",
    "      oscar_nominated_actors_df['parsed_actor_name'].unique().shape[0])\n",
    "\n",
    "print('Number of characters in dataset:', oscar_nominated_actors_df.shape[0])\n",
    "print('Number of movies in dataset:', oscar_nominated_actors_df['parsed_movie_name'].unique().shape[0])\n",
    "print('Number of actors in dataset:', oscar_nominated_actors_df['parsed_actor_name'].unique().shape[0])"
   ]
  },
  {
   "cell_type": "markdown",
   "id": "709a0029-7543-4d00-b941-6339510ecf2b",
   "metadata": {},
   "source": [
    "## Merging with IMDB ratings"
   ]
  },
  {
   "cell_type": "code",
   "execution_count": 265,
   "id": "82f19785-10e3-473c-9b04-219d495e4201",
   "metadata": {},
   "outputs": [
    {
     "name": "stderr",
     "output_type": "stream",
     "text": [
      "/var/folders/0y/ghdjhlvn38sf02nh2qxl20_c0000gn/T/ipykernel_71442/2118823699.py:2: DtypeWarning: Columns (4) have mixed types. Specify dtype option on import or set low_memory=False.\n",
      "  titlebasics_df = pd.read_csv('ADA_venv/data/title.basics.tsv', sep='\\t')\n"
     ]
    }
   ],
   "source": [
    "#Read data\n",
    "titlebasics_df = pd.read_csv('ADA_venv/data/title.basics.tsv', sep='\\t')\n",
    "titleratings_df = pd.read_csv('ADA_venv/data/title.ratings.tsv', sep='\\t')"
   ]
  },
  {
   "cell_type": "code",
   "execution_count": 266,
   "id": "772fc159",
   "metadata": {},
   "outputs": [
    {
     "data": {
      "text/plain": [
       "array(['short', 'movie', 'tvShort', 'tvMovie', 'tvEpisode', 'tvSeries',\n",
       "       'tvMiniSeries', 'tvSpecial', 'video', 'videoGame', 'tvPilot'],\n",
       "      dtype=object)"
      ]
     },
     "execution_count": 266,
     "metadata": {},
     "output_type": "execute_result"
    }
   ],
   "source": [
    "titlebasics_df['titleType'].unique()"
   ]
  },
  {
   "cell_type": "code",
   "execution_count": 267,
   "id": "e7f1f330",
   "metadata": {},
   "outputs": [
    {
     "data": {
      "text/html": [
       "<div>\n",
       "<style scoped>\n",
       "    .dataframe tbody tr th:only-of-type {\n",
       "        vertical-align: middle;\n",
       "    }\n",
       "\n",
       "    .dataframe tbody tr th {\n",
       "        vertical-align: top;\n",
       "    }\n",
       "\n",
       "    .dataframe thead th {\n",
       "        text-align: right;\n",
       "    }\n",
       "</style>\n",
       "<table border=\"1\" class=\"dataframe\">\n",
       "  <thead>\n",
       "    <tr style=\"text-align: right;\">\n",
       "      <th></th>\n",
       "      <th>tconst</th>\n",
       "      <th>averageRating</th>\n",
       "      <th>numVotes</th>\n",
       "    </tr>\n",
       "  </thead>\n",
       "  <tbody>\n",
       "    <tr>\n",
       "      <th>0</th>\n",
       "      <td>tt0000001</td>\n",
       "      <td>5.7</td>\n",
       "      <td>2098</td>\n",
       "    </tr>\n",
       "    <tr>\n",
       "      <th>1</th>\n",
       "      <td>tt0000002</td>\n",
       "      <td>5.6</td>\n",
       "      <td>282</td>\n",
       "    </tr>\n",
       "    <tr>\n",
       "      <th>2</th>\n",
       "      <td>tt0000003</td>\n",
       "      <td>6.5</td>\n",
       "      <td>2117</td>\n",
       "    </tr>\n",
       "    <tr>\n",
       "      <th>3</th>\n",
       "      <td>tt0000004</td>\n",
       "      <td>5.4</td>\n",
       "      <td>182</td>\n",
       "    </tr>\n",
       "    <tr>\n",
       "      <th>4</th>\n",
       "      <td>tt0000005</td>\n",
       "      <td>6.2</td>\n",
       "      <td>2848</td>\n",
       "    </tr>\n",
       "    <tr>\n",
       "      <th>...</th>\n",
       "      <td>...</td>\n",
       "      <td>...</td>\n",
       "      <td>...</td>\n",
       "    </tr>\n",
       "    <tr>\n",
       "      <th>1496495</th>\n",
       "      <td>tt9916730</td>\n",
       "      <td>7.0</td>\n",
       "      <td>12</td>\n",
       "    </tr>\n",
       "    <tr>\n",
       "      <th>1496496</th>\n",
       "      <td>tt9916766</td>\n",
       "      <td>7.1</td>\n",
       "      <td>24</td>\n",
       "    </tr>\n",
       "    <tr>\n",
       "      <th>1496497</th>\n",
       "      <td>tt9916778</td>\n",
       "      <td>7.2</td>\n",
       "      <td>37</td>\n",
       "    </tr>\n",
       "    <tr>\n",
       "      <th>1496498</th>\n",
       "      <td>tt9916840</td>\n",
       "      <td>6.9</td>\n",
       "      <td>11</td>\n",
       "    </tr>\n",
       "    <tr>\n",
       "      <th>1496499</th>\n",
       "      <td>tt9916880</td>\n",
       "      <td>7.9</td>\n",
       "      <td>9</td>\n",
       "    </tr>\n",
       "  </tbody>\n",
       "</table>\n",
       "<p>1496500 rows × 3 columns</p>\n",
       "</div>"
      ],
      "text/plain": [
       "            tconst  averageRating  numVotes\n",
       "0        tt0000001            5.7      2098\n",
       "1        tt0000002            5.6       282\n",
       "2        tt0000003            6.5      2117\n",
       "3        tt0000004            5.4       182\n",
       "4        tt0000005            6.2      2848\n",
       "...            ...            ...       ...\n",
       "1496495  tt9916730            7.0        12\n",
       "1496496  tt9916766            7.1        24\n",
       "1496497  tt9916778            7.2        37\n",
       "1496498  tt9916840            6.9        11\n",
       "1496499  tt9916880            7.9         9\n",
       "\n",
       "[1496500 rows x 3 columns]"
      ]
     },
     "execution_count": 267,
     "metadata": {},
     "output_type": "execute_result"
    }
   ],
   "source": [
    "titleratings_df"
   ]
  },
  {
   "cell_type": "code",
   "execution_count": 268,
   "id": "754aec45-38ea-4a20-9b8d-6987f9a96523",
   "metadata": {},
   "outputs": [],
   "source": [
    "#Merge dataframes containing ratings and title names\n",
    "name_rating_df = titlebasics_df.merge(titleratings_df, how='inner', on=['tconst', 'tconst'])\n",
    "#Consider only movies\n",
    "name_rating_df = name_rating_df[(name_rating_df[\"titleType\"] == 'movie')]\n",
    "#Get relevant columns\n",
    "name_rating_df = name_rating_df[[\"primaryTitle\", \"startYear\", \"averageRating\", \"numVotes\"]]"
   ]
  },
  {
   "cell_type": "code",
   "execution_count": 269,
   "id": "27e240ef-3ad9-46ac-a053-d80564942245",
   "metadata": {},
   "outputs": [],
   "source": [
    "#Change the year data in IMDB dataset to float for merging to work\n",
    "#\\\\N is a special value used for missing, replace with NaN so it can't be used for merging\n",
    "name_rating_df[\"startYear\"] = name_rating_df[\"startYear\"].replace('\\\\N', np.nan)\n",
    "name_rating_df[\"startYear\"] = name_rating_df[\"startYear\"].astype(float)\n",
    "#Rename columns for merge\n",
    "name_rating_df.rename(columns={'primaryTitle': 'title', 'startYear' : 'year', 'titleType': 'type'}, inplace=True)"
   ]
  },
  {
   "cell_type": "code",
   "execution_count": 270,
   "id": "80a2f723-fe8f-44e9-8e58-46ba836d457c",
   "metadata": {},
   "outputs": [],
   "source": [
    "#Have to take care of duplicate entries for movies in the same year\n",
    "#ASSUME they are the same movie and aggregate the scores: sum up the numVotes and calculate the\n",
    "#new average rating taking into account the number of votes\n",
    "\n",
    "#The ratings need to be weighted to account for the number of votes\n",
    "name_rating_df[\"RatingWeight\"] = name_rating_df['averageRating'] * name_rating_df['numVotes']\n",
    "# Group by title and year for duplicates, sum the number of votes and the weighted ratings\n",
    "name_rating_agg_df = name_rating_df.groupby(['title','year']).agg(\n",
    "    numVotes=('numVotes', 'sum'),\n",
    "    RatingWeight = ('RatingWeight','sum'), \n",
    ").reset_index()\n",
    "\n",
    "#Undo the previous weighing, dividing by number of all votes\n",
    "name_rating_agg_df['averageRating'] = name_rating_agg_df['RatingWeight'] / name_rating_agg_df['numVotes']\n",
    "#All ratings have 1 space after comma\n",
    "name_rating_agg_df['averageRating'] = name_rating_agg_df['averageRating'].round(1)\n",
    "\n",
    "#Drop the temporary weighted ratings\n",
    "name_rating_agg_df.drop(columns='RatingWeight', inplace=True)"
   ]
  },
  {
   "cell_type": "code",
   "execution_count": 271,
   "id": "19f9f170-47ec-473f-962a-743e3b3bf5bb",
   "metadata": {},
   "outputs": [],
   "source": [
    "#Get the year of release of the movies from the mixed formatting\n",
    "dates_as_year = pd.to_datetime(movie_character_oscar_df[\"release_date\"],format='mixed',errors='coerce').dt.year\n",
    "\n",
    "#Copy of the dataset with the added year column\n",
    "movie_character_oscar_fixedDate_df = movie_character_oscar_df.copy(deep=True)\n",
    "movie_character_oscar_fixedDate_df[\"year\"] = dates_as_year"
   ]
  },
  {
   "cell_type": "code",
   "execution_count": 272,
   "id": "50ab55d4-bd71-4286-ab9f-897ce01d2ca6",
   "metadata": {},
   "outputs": [],
   "source": [
    "#Merge ratings with everything previous (left merge because we only want to add the ratings where we can, they\n",
    "#are not the be-all-end-all\n",
    "movie_character_oscar_rating_df = movie_character_oscar_fixedDate_df.merge(\n",
    "    name_rating_agg_df, on=['title', 'year'], how='left')\n"
   ]
  },
  {
   "cell_type": "code",
   "execution_count": 273,
   "id": "bbf13fae",
   "metadata": {},
   "outputs": [
    {
     "data": {
      "text/plain": [
       "Index(['title', 'year', 'numVotes', 'averageRating'], dtype='object')"
      ]
     },
     "execution_count": 273,
     "metadata": {},
     "output_type": "execute_result"
    }
   ],
   "source": [
    "movie_character_oscar_rating_df.columns\n",
    "name_rating_agg_df.columns"
   ]
  },
  {
   "cell_type": "code",
   "execution_count": 274,
   "id": "befd5b42-d602-4afc-8f79-98ac9961a32e",
   "metadata": {
    "scrolled": true
   },
   "outputs": [
    {
     "name": "stdout",
     "output_type": "stream",
     "text": [
      "Total number of movies with ratings:  32935\n",
      "Total number of oscar-nominated movies with ratings:  969\n"
     ]
    }
   ],
   "source": [
    "print('Total number of movies with ratings: ',\n",
    "      movie_character_oscar_rating_df[movie_character_oscar_rating_df['averageRating'].notna()]['parsed_movie_name'].unique().shape[0])\n",
    "\n",
    "#Get oscar nominated movies\n",
    "oscar_nominated_actors_with_ratings_df = movie_character_oscar_rating_df[movie_character_oscar_rating_df['oscar_nominated']]\n",
    "print('Total number of oscar-nominated movies with ratings: ',\n",
    "      oscar_nominated_actors_with_ratings_df[oscar_nominated_actors_with_ratings_df['averageRating'].notna()]['parsed_movie_name'].unique().shape[0])"
   ]
  },
  {
   "cell_type": "code",
   "execution_count": 275,
   "id": "b60d7743-a0a0-473c-aa67-de381c84fa4c",
   "metadata": {},
   "outputs": [],
   "source": [
    "# Assert that adding ratings did not add any rows\n",
    "assert len(movie_character_oscar_df) == len(movie_character_oscar_rating_df)"
   ]
  },
  {
   "cell_type": "markdown",
   "id": "267cef3e-ae95-4721-a518-b9a6a3e2f9c8",
   "metadata": {},
   "source": [
    "## Output data"
   ]
  },
  {
   "cell_type": "code",
   "execution_count": 276,
   "id": "a1c0c8ff-ef80-48ce-8eda-ee60b49573c4",
   "metadata": {},
   "outputs": [
    {
     "data": {
      "text/html": [
       "<div>\n",
       "<style scoped>\n",
       "    .dataframe tbody tr th:only-of-type {\n",
       "        vertical-align: middle;\n",
       "    }\n",
       "\n",
       "    .dataframe tbody tr th {\n",
       "        vertical-align: top;\n",
       "    }\n",
       "\n",
       "    .dataframe thead th {\n",
       "        text-align: right;\n",
       "    }\n",
       "</style>\n",
       "<table border=\"1\" class=\"dataframe\">\n",
       "  <thead>\n",
       "    <tr style=\"text-align: right;\">\n",
       "      <th></th>\n",
       "      <th>freebase_movie_id</th>\n",
       "      <th>title</th>\n",
       "      <th>release_date</th>\n",
       "      <th>box_office_revenue</th>\n",
       "      <th>runtime</th>\n",
       "      <th>languages</th>\n",
       "      <th>countries</th>\n",
       "      <th>genres</th>\n",
       "      <th>parsed_movie_name</th>\n",
       "      <th>Freebase actor ID</th>\n",
       "      <th>...</th>\n",
       "      <th>year_ceremony</th>\n",
       "      <th>ceremony</th>\n",
       "      <th>category</th>\n",
       "      <th>name</th>\n",
       "      <th>film</th>\n",
       "      <th>winner</th>\n",
       "      <th>oscar_nominated</th>\n",
       "      <th>year</th>\n",
       "      <th>numVotes</th>\n",
       "      <th>averageRating</th>\n",
       "    </tr>\n",
       "  </thead>\n",
       "  <tbody>\n",
       "    <tr>\n",
       "      <th>0</th>\n",
       "      <td>/m/0crs0hx</td>\n",
       "      <td>#1 Cheerleader Camp</td>\n",
       "      <td>2010</td>\n",
       "      <td>NaN</td>\n",
       "      <td>90.0</td>\n",
       "      <td>{}</td>\n",
       "      <td>{\"/m/09c7w0\": \"United States of America\"}</td>\n",
       "      <td>{\"/m/01z02hx\": \"Sports\", \"/m/0gsy3b\": \"Sex com...</td>\n",
       "      <td>#1 cheerleader camp</td>\n",
       "      <td>/m/0gm2g0t</td>\n",
       "      <td>...</td>\n",
       "      <td>NaN</td>\n",
       "      <td>NaN</td>\n",
       "      <td>NaN</td>\n",
       "      <td>NaN</td>\n",
       "      <td>NaN</td>\n",
       "      <td>NaN</td>\n",
       "      <td>False</td>\n",
       "      <td>2010.0</td>\n",
       "      <td>NaN</td>\n",
       "      <td>NaN</td>\n",
       "    </tr>\n",
       "  </tbody>\n",
       "</table>\n",
       "<p>1 rows × 28 columns</p>\n",
       "</div>"
      ],
      "text/plain": [
       "  freebase_movie_id                title release_date  box_office_revenue  \\\n",
       "0        /m/0crs0hx  #1 Cheerleader Camp         2010                 NaN   \n",
       "\n",
       "   runtime languages                                  countries  \\\n",
       "0     90.0        {}  {\"/m/09c7w0\": \"United States of America\"}   \n",
       "\n",
       "                                              genres    parsed_movie_name  \\\n",
       "0  {\"/m/01z02hx\": \"Sports\", \"/m/0gsy3b\": \"Sex com...  #1 cheerleader camp   \n",
       "\n",
       "  Freebase actor ID  ... year_ceremony  ceremony category name  film winner  \\\n",
       "0        /m/0gm2g0t  ...           NaN       NaN      NaN  NaN   NaN    NaN   \n",
       "\n",
       "  oscar_nominated    year  numVotes  averageRating  \n",
       "0           False  2010.0       NaN            NaN  \n",
       "\n",
       "[1 rows x 28 columns]"
      ]
     },
     "execution_count": 276,
     "metadata": {},
     "output_type": "execute_result"
    }
   ],
   "source": [
    "movie_character_oscar_rating_df[:1]"
   ]
  },
  {
   "cell_type": "code",
   "execution_count": 277,
   "id": "ee5d443b",
   "metadata": {},
   "outputs": [],
   "source": [
    "# Finish processed data\n",
    "path = 'cache/processed data.csv'\n",
    "os.makedirs('cache', exist_ok=True)\n",
    "movie_character_oscar_rating_df.to_csv(path)"
   ]
  },
  {
   "cell_type": "code",
   "execution_count": 278,
   "id": "aa44b1dc",
   "metadata": {},
   "outputs": [],
   "source": [
    "import matplotlib.pyplot as plt\n",
    "import seaborn as sns\n",
    "main_movie_df = movie_character_oscar_rating_df.groupby('title').first().reset_index()\n",
    "main_with_rating_df = main_movie_df[main_movie_df['averageRating'].notna()]"
   ]
  },
  {
   "cell_type": "code",
   "execution_count": 288,
   "id": "65d87ce2",
   "metadata": {},
   "outputs": [],
   "source": [
    "nominated = main_with_rating_df[main_with_rating_df['oscar_nominated']]\n",
    "not_nominated = main_with_rating_df[main_with_rating_df['oscar_nominated'] == False]\n",
    "assert nominated.shape[0] + not_nominated.shape[0] == main_with_rating_df.shape[0]"
   ]
  },
  {
   "cell_type": "code",
   "execution_count": null,
   "id": "30e87775",
   "metadata": {},
   "outputs": [
    {
     "name": "stdout",
     "output_type": "stream",
     "text": [
      "Excluded:  2062\n"
     ]
    }
   ],
   "source": [
    "# Rule of thumb to exlude outliers / low confidence values \n",
    "excluded = not_nominated[not_nominated['numVotes'] < 30]\n",
    "print('Excluded: ', len(excluded))\n",
    "not_nominated = not_nominated[not_nominated['numVotes'] > 30]\n",
    "nominated = nominated[nominated['numVotes'] > 30]"
   ]
  },
  {
   "cell_type": "code",
   "execution_count": 290,
   "id": "6376fdb2",
   "metadata": {},
   "outputs": [
    {
     "data": {
      "image/png": "[encoded data removed]",
      "text/plain": [
       "<Figure size 640x480 with 1 Axes>"
      ]
     },
     "metadata": {},
     "output_type": "display_data"
    }
   ],
   "source": [
    "sns.histplot(nominated, x=\"averageRating\", stat = 'density', color = 'gold',label ='Nominated')\n",
    "sns.histplot(not_nominated, x=\"averageRating\", stat=\"density\", color = 'grey', label = 'Not nominated')\n",
    "\n",
    "plt.title('Rating distribution of movies')\n",
    "plt.xlabel('IMDB rating')\n",
    "plt.ylabel('Probability density')\n",
    "plt.legend()\n",
    "plt.show()\n"
   ]
  },
  {
   "cell_type": "code",
   "execution_count": null,
   "id": "8104702e",
   "metadata": {},
   "outputs": [
    {
     "data": {
      "image/png": "[encoded data removed]",
      "text/plain": [
       "<Figure size 640x480 with 1 Axes>"
      ]
     },
     "metadata": {},
     "output_type": "display_data"
    }
   ],
   "source": [
    "sns.histplot(not_nominated, x=\"numVotes\", bins=50, label = 'Not nominated', color = 'grey')\n",
    "sns.histplot(nominated, x=\"numVotes\", bins=50, label = 'Nominated', color = 'gold')\n",
    "plt.yscale('log')\n",
    "plt.title('Reviews per movie')\n",
    "plt.xlabel('Reviews')\n",
    "plt.ylabel('Nr. of movies')\n",
    "plt.legend()\n",
    "plt.show()"
   ]
  },
  {
   "cell_type": "code",
   "execution_count": 296,
   "id": "ffa2da46",
   "metadata": {},
   "outputs": [
    {
     "data": {
      "image/png": "[encoded data removed]",
      "text/plain": [
       "<Figure size 640x480 with 1 Axes>"
      ]
     },
     "metadata": {},
     "output_type": "display_data"
    }
   ],
   "source": [
    "lim_not_nominated = not_nominated[not_nominated['numVotes'] < 1000]\n",
    "lim_nominated = nominated[nominated['numVotes'] < 1000]\n",
    "\n",
    "sns.histplot(lim_not_nominated, x=\"numVotes\", bins=50, label = 'Not nominated', color = 'grey')\n",
    "sns.histplot(lim_nominated, x=\"numVotes\", bins=50, label = 'Nominated', color = 'gold')\n",
    "plt.yscale('log')\n",
    "plt.title('Reviews per movie')\n",
    "plt.xlabel('Reviews')\n",
    "plt.ylabel('Nr. of movies')\n",
    "plt.legend()\n",
    "plt.show()"
   ]
  },
  {
   "cell_type": "code",
   "execution_count": null,
   "id": "c787fee5",
   "metadata": {},
   "outputs": [
    {
     "data": {
      "text/plain": [
       "Index(['title', 'freebase_movie_id', 'release_date', 'box_office_revenue',\n",
       "       'runtime', 'languages', 'countries', 'genres', 'parsed_movie_name',\n",
       "       'Freebase actor ID', 'Actor gender', 'Actor height (in meters)',\n",
       "       'Actor ethnicity (Freebase ID)', 'Actor name',\n",
       "       'Actor age at movie release', 'Freebase character/actor map ID',\n",
       "       'parsed_actor_name', 'year_film', 'year_ceremony', 'ceremony',\n",
       "       'category', 'name', 'film', 'winner', 'oscar_nominated', 'year',\n",
       "       'numVotes', 'averageRating'],\n",
       "      dtype='object')"
      ]
     },
     "execution_count": 297,
     "metadata": {},
     "output_type": "execute_result"
    }
   ],
   "source": []
  },
  {
   "cell_type": "code",
   "execution_count": 300,
   "id": "b4125cd3",
   "metadata": {},
   "outputs": [
    {
     "data": {
      "image/png": "[encoded data removed]",
      "text/plain": [
       "<Figure size 640x480 with 1 Axes>"
      ]
     },
     "metadata": {},
     "output_type": "display_data"
    }
   ],
   "source": [
    "sns.histplot(nominated, x=\"box_office_revenue\", stat = 'density', color = 'gold',label ='Nominated')\n",
    "sns.histplot(not_nominated, x=\"box_office_revenue\", stat=\"density\", color = 'grey', label = 'Not nominated')\n",
    "\n",
    "plt.title('--')\n",
    "plt.yscale('log')\n",
    "plt.xlabel('Box office revenue')\n",
    "plt.ylabel('Probability density')\n",
    "plt.legend()\n",
    "plt.show()"
   ]
  },
  {
   "cell_type": "code",
   "execution_count": null,
   "id": "da0bd0b3",
   "metadata": {},
   "outputs": [],
   "source": [
    "lim_not_nominated = not_nominated[not_nominated['numVotes'] < 10**9]\n",
    "lim_nominated = nominated[nominated['numVotes'] < 10**9]"
   ]
  }
 ],
 "metadata": {
  "kernelspec": {
   "display_name": "base",
   "language": "python",
   "name": "python3"
  },
  "language_info": {
   "codemirror_mode": {
    "name": "ipython",
    "version": 3
   },
   "file_extension": ".py",
   "mimetype": "text/x-python",
   "name": "python",
   "nbconvert_exporter": "python",
   "pygments_lexer": "ipython3",
   "version": "3.12.4"
  }
 },
 "nbformat": 4,
 "nbformat_minor": 5
}
