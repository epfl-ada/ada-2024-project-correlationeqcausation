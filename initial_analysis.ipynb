{
 "cells": [
  {
   "cell_type": "code",
   "execution_count": 6,
   "id": "initial_id",
   "metadata": {
    "ExecuteTime": {
     "end_time": "2024-11-15T11:24:44.247928Z",
     "start_time": "2024-11-15T11:24:44.245226Z"
    }
   },
   "outputs": [],
   "source": [
    "import pandas as pd\n",
    "import os\n",
    "import numpy as np\n",
    "import matplotlib.pyplot as plt\n",
    "import seaborn as sns\n",
    "from scipy import stats\n",
    "import math\n",
    "import statsmodels.formula.api as smf"
   ]
  },
  {
   "cell_type": "markdown",
   "id": "35fe3fbd",
   "metadata": {},
   "source": [
    "# Data Pipeline"
   ]
  },
  {
   "cell_type": "markdown",
   "id": "de1927a724623b47",
   "metadata": {},
   "source": [
    "## How datasets are joined\n",
    "\n",
    "### Movie dataset and Character dataset\n",
    "We join the two datasets on the `freebase_movie_id`.\n",
    "\n",
    "### Character dataset and Oscar dataset\n",
    "Oscar dataset does not have `freebase_movie_id` or `freebase_actor_id`. We instead use `parsed_actor_name` and `movie_identifier`. `parsed_actor_name` will be unique for each movie as we drop actors if they share `parsed_actor_name` from playing another character in the same movie. `movie_identifier` is a combination of `parsed_movie_name` and `release_year`. This is unique as we drop movies that share `movie_identifier`.\n",
    "\n",
    "### Resulting dataset from previous steps and IMDb dataset\n",
    "We join these datasets using a combination of `parsed_movie_name` and `release_year` as primary key.\n",
    "<br><br><br>\n",
    "The resulting dataset after the entire pipeline is run is written to `cache/data.csv`, ready for use in P3."
   ]
  },
  {
   "cell_type": "markdown",
   "id": "5cba463e61a1f108",
   "metadata": {},
   "source": []
  },
  {
   "cell_type": "code",
   "execution_count": 7,
   "id": "2309d2c8",
   "metadata": {
    "ExecuteTime": {
     "end_time": "2024-11-15T11:25:31.018305Z",
     "start_time": "2024-11-15T11:24:44.261753Z"
    }
   },
   "outputs": [
    {
     "name": "stdout",
     "output_type": "stream",
     "text": [
      "########## Data pipeline ##########\n",
      "\n",
      "Preparing CMU data\n",
      "379 movies shared both name and release year, dropping\n",
      "314 movies had actors with the same name, dropping\n",
      "\n",
      "Merging Oscar dataset, after merge:\n",
      "Number of different Oscar nominated movies in dataset: 952 in total 63968 different movies\n",
      "Number of different Oscar nominated actors in dataset: 801 in total 134907 different actors\n",
      "Number of Oscar nominated rows: 1443\n",
      "\n",
      "Merging IMDb dataset, after merge:\n",
      "Number of movies with ratings: 36758\n",
      "Oscar nominated movies with rating: 939\n",
      "Processing done, dataset written to cache/data.csv\n"
     ]
    }
   ],
   "source": [
    "%run data_pipeline.ipynb"
   ]
  },
  {
   "cell_type": "code",
   "execution_count": 8,
   "id": "dd2a4f09",
   "metadata": {
    "ExecuteTime": {
     "end_time": "2024-11-15T11:25:32.927001Z",
     "start_time": "2024-11-15T11:25:31.648108Z"
    }
   },
   "outputs": [],
   "source": [
    "movie_df = pd.read_csv('cache/data.csv', sep=',', index_col=0)"
   ]
  },
  {
   "cell_type": "code",
   "execution_count": 9,
   "id": "ee5d7ee9",
   "metadata": {},
   "outputs": [
    {
     "data": {
      "text/html": [
       "<div>\n",
       "<style scoped>\n",
       "    .dataframe tbody tr th:only-of-type {\n",
       "        vertical-align: middle;\n",
       "    }\n",
       "\n",
       "    .dataframe tbody tr th {\n",
       "        vertical-align: top;\n",
       "    }\n",
       "\n",
       "    .dataframe thead th {\n",
       "        text-align: right;\n",
       "    }\n",
       "</style>\n",
       "<table border=\"1\" class=\"dataframe\">\n",
       "  <thead>\n",
       "    <tr style=\"text-align: right;\">\n",
       "      <th></th>\n",
       "      <th>title</th>\n",
       "      <th>release_date</th>\n",
       "      <th>box_office_revenue</th>\n",
       "      <th>runtime</th>\n",
       "      <th>languages</th>\n",
       "      <th>countries</th>\n",
       "      <th>genres</th>\n",
       "      <th>movie_identifier</th>\n",
       "      <th>actor_gender</th>\n",
       "      <th>actor_height</th>\n",
       "      <th>...</th>\n",
       "      <th>parsed_actor_name</th>\n",
       "      <th>actor_identifier</th>\n",
       "      <th>identifier</th>\n",
       "      <th>category</th>\n",
       "      <th>winner</th>\n",
       "      <th>oscar_nominated</th>\n",
       "      <th>year</th>\n",
       "      <th>has_rating</th>\n",
       "      <th>average_rating</th>\n",
       "      <th>number_of_votes</th>\n",
       "    </tr>\n",
       "  </thead>\n",
       "  <tbody>\n",
       "    <tr>\n",
       "      <th>0</th>\n",
       "      <td>Ghosts of Mars</td>\n",
       "      <td>2001-08-24</td>\n",
       "      <td>14010832.0</td>\n",
       "      <td>98.0</td>\n",
       "      <td>['English Language']</td>\n",
       "      <td>['United States of America']</td>\n",
       "      <td>['Thriller', 'Science Fiction', 'Horror', 'Adv...</td>\n",
       "      <td>ghosts of mars_2001</td>\n",
       "      <td>M</td>\n",
       "      <td>1.727</td>\n",
       "      <td>...</td>\n",
       "      <td>ice cube</td>\n",
       "      <td>/m/01vw26l</td>\n",
       "      <td>ghosts of mars_2001_ice cube</td>\n",
       "      <td>NaN</td>\n",
       "      <td>NaN</td>\n",
       "      <td>False</td>\n",
       "      <td>2001.0</td>\n",
       "      <td>True</td>\n",
       "      <td>4.9</td>\n",
       "      <td>58876.0</td>\n",
       "    </tr>\n",
       "    <tr>\n",
       "      <th>1</th>\n",
       "      <td>Ghosts of Mars</td>\n",
       "      <td>2001-08-24</td>\n",
       "      <td>14010832.0</td>\n",
       "      <td>98.0</td>\n",
       "      <td>['English Language']</td>\n",
       "      <td>['United States of America']</td>\n",
       "      <td>['Thriller', 'Science Fiction', 'Horror', 'Adv...</td>\n",
       "      <td>ghosts of mars_2001</td>\n",
       "      <td>F</td>\n",
       "      <td>1.650</td>\n",
       "      <td>...</td>\n",
       "      <td>clea duvall</td>\n",
       "      <td>/m/01y9xg</td>\n",
       "      <td>ghosts of mars_2001_clea duvall</td>\n",
       "      <td>NaN</td>\n",
       "      <td>NaN</td>\n",
       "      <td>False</td>\n",
       "      <td>2001.0</td>\n",
       "      <td>True</td>\n",
       "      <td>4.9</td>\n",
       "      <td>58876.0</td>\n",
       "    </tr>\n",
       "    <tr>\n",
       "      <th>2</th>\n",
       "      <td>Ghosts of Mars</td>\n",
       "      <td>2001-08-24</td>\n",
       "      <td>14010832.0</td>\n",
       "      <td>98.0</td>\n",
       "      <td>['English Language']</td>\n",
       "      <td>['United States of America']</td>\n",
       "      <td>['Thriller', 'Science Fiction', 'Horror', 'Adv...</td>\n",
       "      <td>ghosts of mars_2001</td>\n",
       "      <td>M</td>\n",
       "      <td>NaN</td>\n",
       "      <td>...</td>\n",
       "      <td>robert carradine</td>\n",
       "      <td>/m/026qxz</td>\n",
       "      <td>ghosts of mars_2001_robert carradine</td>\n",
       "      <td>NaN</td>\n",
       "      <td>NaN</td>\n",
       "      <td>False</td>\n",
       "      <td>2001.0</td>\n",
       "      <td>True</td>\n",
       "      <td>4.9</td>\n",
       "      <td>58876.0</td>\n",
       "    </tr>\n",
       "    <tr>\n",
       "      <th>3</th>\n",
       "      <td>Ghosts of Mars</td>\n",
       "      <td>2001-08-24</td>\n",
       "      <td>14010832.0</td>\n",
       "      <td>98.0</td>\n",
       "      <td>['English Language']</td>\n",
       "      <td>['United States of America']</td>\n",
       "      <td>['Thriller', 'Science Fiction', 'Horror', 'Adv...</td>\n",
       "      <td>ghosts of mars_2001</td>\n",
       "      <td>M</td>\n",
       "      <td>NaN</td>\n",
       "      <td>...</td>\n",
       "      <td>doug mcgrath</td>\n",
       "      <td>/m/02r5d3j</td>\n",
       "      <td>ghosts of mars_2001_doug mcgrath</td>\n",
       "      <td>NaN</td>\n",
       "      <td>NaN</td>\n",
       "      <td>False</td>\n",
       "      <td>2001.0</td>\n",
       "      <td>True</td>\n",
       "      <td>4.9</td>\n",
       "      <td>58876.0</td>\n",
       "    </tr>\n",
       "    <tr>\n",
       "      <th>4</th>\n",
       "      <td>Ghosts of Mars</td>\n",
       "      <td>2001-08-24</td>\n",
       "      <td>14010832.0</td>\n",
       "      <td>98.0</td>\n",
       "      <td>['English Language']</td>\n",
       "      <td>['United States of America']</td>\n",
       "      <td>['Thriller', 'Science Fiction', 'Horror', 'Adv...</td>\n",
       "      <td>ghosts of mars_2001</td>\n",
       "      <td>F</td>\n",
       "      <td>1.780</td>\n",
       "      <td>...</td>\n",
       "      <td>natasha henstridge</td>\n",
       "      <td>/m/0346l4</td>\n",
       "      <td>ghosts of mars_2001_natasha henstridge</td>\n",
       "      <td>NaN</td>\n",
       "      <td>NaN</td>\n",
       "      <td>False</td>\n",
       "      <td>2001.0</td>\n",
       "      <td>True</td>\n",
       "      <td>4.9</td>\n",
       "      <td>58876.0</td>\n",
       "    </tr>\n",
       "  </tbody>\n",
       "</table>\n",
       "<p>5 rows × 23 columns</p>\n",
       "</div>"
      ],
      "text/plain": [
       "            title release_date  box_office_revenue  runtime  \\\n",
       "0  Ghosts of Mars   2001-08-24          14010832.0     98.0   \n",
       "1  Ghosts of Mars   2001-08-24          14010832.0     98.0   \n",
       "2  Ghosts of Mars   2001-08-24          14010832.0     98.0   \n",
       "3  Ghosts of Mars   2001-08-24          14010832.0     98.0   \n",
       "4  Ghosts of Mars   2001-08-24          14010832.0     98.0   \n",
       "\n",
       "              languages                     countries  \\\n",
       "0  ['English Language']  ['United States of America']   \n",
       "1  ['English Language']  ['United States of America']   \n",
       "2  ['English Language']  ['United States of America']   \n",
       "3  ['English Language']  ['United States of America']   \n",
       "4  ['English Language']  ['United States of America']   \n",
       "\n",
       "                                              genres     movie_identifier  \\\n",
       "0  ['Thriller', 'Science Fiction', 'Horror', 'Adv...  ghosts of mars_2001   \n",
       "1  ['Thriller', 'Science Fiction', 'Horror', 'Adv...  ghosts of mars_2001   \n",
       "2  ['Thriller', 'Science Fiction', 'Horror', 'Adv...  ghosts of mars_2001   \n",
       "3  ['Thriller', 'Science Fiction', 'Horror', 'Adv...  ghosts of mars_2001   \n",
       "4  ['Thriller', 'Science Fiction', 'Horror', 'Adv...  ghosts of mars_2001   \n",
       "\n",
       "  actor_gender  actor_height  ...   parsed_actor_name actor_identifier  \\\n",
       "0            M         1.727  ...            ice cube       /m/01vw26l   \n",
       "1            F         1.650  ...         clea duvall        /m/01y9xg   \n",
       "2            M           NaN  ...    robert carradine        /m/026qxz   \n",
       "3            M           NaN  ...        doug mcgrath       /m/02r5d3j   \n",
       "4            F         1.780  ...  natasha henstridge        /m/0346l4   \n",
       "\n",
       "                               identifier category winner oscar_nominated  \\\n",
       "0            ghosts of mars_2001_ice cube      NaN    NaN           False   \n",
       "1         ghosts of mars_2001_clea duvall      NaN    NaN           False   \n",
       "2    ghosts of mars_2001_robert carradine      NaN    NaN           False   \n",
       "3        ghosts of mars_2001_doug mcgrath      NaN    NaN           False   \n",
       "4  ghosts of mars_2001_natasha henstridge      NaN    NaN           False   \n",
       "\n",
       "     year has_rating  average_rating  number_of_votes  \n",
       "0  2001.0       True             4.9          58876.0  \n",
       "1  2001.0       True             4.9          58876.0  \n",
       "2  2001.0       True             4.9          58876.0  \n",
       "3  2001.0       True             4.9          58876.0  \n",
       "4  2001.0       True             4.9          58876.0  \n",
       "\n",
       "[5 rows x 23 columns]"
      ]
     },
     "execution_count": 9,
     "metadata": {},
     "output_type": "execute_result"
    }
   ],
   "source": [
    "movie_df.head()"
   ]
  },
  {
   "cell_type": "markdown",
   "id": "ebda7859",
   "metadata": {},
   "source": [
    "# Country/nomination analysis"
   ]
  },
  {
   "cell_type": "code",
   "execution_count": 10,
   "id": "207d45a6",
   "metadata": {},
   "outputs": [],
   "source": [
    "# movie_character_oscar_rating_df contains a row for each actor/movie pair. We select the non-American actors and compare with the American actors\n",
    "\n",
    "# All actors/movie rows, American and non-American\n",
    "total_actors_num = len(movie_df['countries'])\n",
    "american_total_actors_num = len(movie_df[movie_df['countries'].str.contains('United States of America')])\n",
    "non_american_total_actors_num = total_actors_num - american_total_actors_num\n",
    "\n",
    "# All actors/movie rows with an Oscar nomination, American and non-American\n",
    "total_nominated_actors_num = len(movie_df[movie_df['oscar_nominated'] == True]['countries'])\n",
    "american_nominations_num = len(movie_df[(movie_df['countries'].str.contains('United States of America')) & (movie_df['oscar_nominated'] == True)])\n",
    "non_american_nominations_num = total_nominated_actors_num - american_nominations_num"
   ]
  },
  {
   "cell_type": "code",
   "execution_count": 11,
   "id": "8bd6828f",
   "metadata": {},
   "outputs": [
    {
     "data": {
      "text/plain": [
       "BinomTestResult(k=130, n=203152, alternative='two-sided', statistic=0.0006399149405371347, pvalue=2.6118071094409342e-307)"
      ]
     },
     "execution_count": 11,
     "metadata": {},
     "output_type": "execute_result"
    }
   ],
   "source": [
    "# Observed probability of American actor getting nominated for a film\n",
    "p_american = american_nominations_num / american_total_actors_num\n",
    "p_non_american = non_american_nominations_num / non_american_total_actors_num\n",
    "\n",
    "# We perform a hypothesis test for whether non-American actors getting nominated have the same binomial probability as American ones\n",
    "stats.binomtest(non_american_nominations_num, non_american_total_actors_num, p_american)"
   ]
  },
  {
   "cell_type": "markdown",
   "id": "e9e369ac",
   "metadata": {},
   "source": [
    "P-value=2.6118071094409342e-307. We can safely discard the hypothesis that these have the same probability distribution, and conclude that there is a significantly different probability of being nominated for an Oscar for American and non-American actors."
   ]
  },
  {
   "cell_type": "code",
   "execution_count": 12,
   "id": "ecccb059",
   "metadata": {},
   "outputs": [
    {
     "name": "stdout",
     "output_type": "stream",
     "text": [
      "Fraction of American actors nominated for an Oscar: 0.00546\n",
      "Fraction of non-American actors nominated for an Oscar: 0.00064\n"
     ]
    }
   ],
   "source": [
    "print('Fraction of American actors nominated for an Oscar:',round(p_american, 5))\n",
    "print('Fraction of non-American actors nominated for an Oscar:', round(p_non_american, 5))"
   ]
  },
  {
   "cell_type": "markdown",
   "id": "ebd1d261",
   "metadata": {},
   "source": [
    "We see that the observed probability of being nominated is higher for actors in American movies. We believe based on this analysis that the Oscar nominations are generally skewed with higher chances for actors in American movies."
   ]
  },
  {
   "cell_type": "markdown",
   "id": "acb2de70",
   "metadata": {},
   "source": [
    "# Logistic regression on movie and actor traits"
   ]
  },
  {
   "cell_type": "code",
   "execution_count": 13,
   "id": "06834535",
   "metadata": {},
   "outputs": [
    {
     "data": {
      "text/plain": [
       "Index(['title', 'release_date', 'box_office_revenue', 'runtime', 'languages',\n",
       "       'countries', 'genres', 'movie_identifier', 'actor_gender',\n",
       "       'actor_height', 'actor_ethnicity', 'actor_name', 'actor_age',\n",
       "       'parsed_actor_name', 'actor_identifier', 'identifier', 'category',\n",
       "       'winner', 'oscar_nominated', 'year', 'has_rating', 'average_rating',\n",
       "       'number_of_votes'],\n",
       "      dtype='object')"
      ]
     },
     "execution_count": 13,
     "metadata": {},
     "output_type": "execute_result"
    }
   ],
   "source": [
    "movie_df.columns"
   ]
  },
  {
   "cell_type": "code",
   "execution_count": 14,
   "id": "7cd54a7b",
   "metadata": {},
   "outputs": [
    {
     "data": {
      "text/html": [
       "<div>\n",
       "<style scoped>\n",
       "    .dataframe tbody tr th:only-of-type {\n",
       "        vertical-align: middle;\n",
       "    }\n",
       "\n",
       "    .dataframe tbody tr th {\n",
       "        vertical-align: top;\n",
       "    }\n",
       "\n",
       "    .dataframe thead th {\n",
       "        text-align: right;\n",
       "    }\n",
       "</style>\n",
       "<table border=\"1\" class=\"dataframe\">\n",
       "  <thead>\n",
       "    <tr style=\"text-align: right;\">\n",
       "      <th></th>\n",
       "      <th>title</th>\n",
       "      <th>release_date</th>\n",
       "      <th>box_office_revenue</th>\n",
       "      <th>runtime</th>\n",
       "      <th>languages</th>\n",
       "      <th>countries</th>\n",
       "      <th>genres</th>\n",
       "      <th>movie_identifier</th>\n",
       "      <th>actor_gender</th>\n",
       "      <th>actor_height</th>\n",
       "      <th>...</th>\n",
       "      <th>parsed_actor_name</th>\n",
       "      <th>actor_identifier</th>\n",
       "      <th>identifier</th>\n",
       "      <th>category</th>\n",
       "      <th>winner</th>\n",
       "      <th>oscar_nominated</th>\n",
       "      <th>year</th>\n",
       "      <th>has_rating</th>\n",
       "      <th>average_rating</th>\n",
       "      <th>number_of_votes</th>\n",
       "    </tr>\n",
       "    <tr>\n",
       "      <th>actor_ethnicity</th>\n",
       "      <th></th>\n",
       "      <th></th>\n",
       "      <th></th>\n",
       "      <th></th>\n",
       "      <th></th>\n",
       "      <th></th>\n",
       "      <th></th>\n",
       "      <th></th>\n",
       "      <th></th>\n",
       "      <th></th>\n",
       "      <th></th>\n",
       "      <th></th>\n",
       "      <th></th>\n",
       "      <th></th>\n",
       "      <th></th>\n",
       "      <th></th>\n",
       "      <th></th>\n",
       "      <th></th>\n",
       "      <th></th>\n",
       "      <th></th>\n",
       "      <th></th>\n",
       "    </tr>\n",
       "  </thead>\n",
       "  <tbody>\n",
       "    <tr>\n",
       "      <th>/m/0dryh9k</th>\n",
       "      <td>16000</td>\n",
       "      <td>15167</td>\n",
       "      <td>176</td>\n",
       "      <td>9492</td>\n",
       "      <td>16000</td>\n",
       "      <td>16000</td>\n",
       "      <td>16000</td>\n",
       "      <td>16000</td>\n",
       "      <td>16000</td>\n",
       "      <td>6067</td>\n",
       "      <td>...</td>\n",
       "      <td>16000</td>\n",
       "      <td>16000</td>\n",
       "      <td>16000</td>\n",
       "      <td>3</td>\n",
       "      <td>3</td>\n",
       "      <td>16000</td>\n",
       "      <td>15167</td>\n",
       "      <td>16000</td>\n",
       "      <td>11029</td>\n",
       "      <td>11029</td>\n",
       "    </tr>\n",
       "    <tr>\n",
       "      <th>/m/0x67</th>\n",
       "      <td>10065</td>\n",
       "      <td>9933</td>\n",
       "      <td>4737</td>\n",
       "      <td>9667</td>\n",
       "      <td>10065</td>\n",
       "      <td>10065</td>\n",
       "      <td>10065</td>\n",
       "      <td>10065</td>\n",
       "      <td>10055</td>\n",
       "      <td>6476</td>\n",
       "      <td>...</td>\n",
       "      <td>10065</td>\n",
       "      <td>10065</td>\n",
       "      <td>10065</td>\n",
       "      <td>51</td>\n",
       "      <td>51</td>\n",
       "      <td>10065</td>\n",
       "      <td>9933</td>\n",
       "      <td>10065</td>\n",
       "      <td>7296</td>\n",
       "      <td>7296</td>\n",
       "    </tr>\n",
       "    <tr>\n",
       "      <th>/m/041rx</th>\n",
       "      <td>9758</td>\n",
       "      <td>9508</td>\n",
       "      <td>3797</td>\n",
       "      <td>8916</td>\n",
       "      <td>9758</td>\n",
       "      <td>9758</td>\n",
       "      <td>9758</td>\n",
       "      <td>9758</td>\n",
       "      <td>9758</td>\n",
       "      <td>7162</td>\n",
       "      <td>...</td>\n",
       "      <td>9758</td>\n",
       "      <td>9758</td>\n",
       "      <td>9758</td>\n",
       "      <td>104</td>\n",
       "      <td>104</td>\n",
       "      <td>9758</td>\n",
       "      <td>9508</td>\n",
       "      <td>9758</td>\n",
       "      <td>6778</td>\n",
       "      <td>6778</td>\n",
       "    </tr>\n",
       "    <tr>\n",
       "      <th>/m/02w7gg</th>\n",
       "      <td>6027</td>\n",
       "      <td>5893</td>\n",
       "      <td>2564</td>\n",
       "      <td>5708</td>\n",
       "      <td>6027</td>\n",
       "      <td>6027</td>\n",
       "      <td>6027</td>\n",
       "      <td>6027</td>\n",
       "      <td>6027</td>\n",
       "      <td>5114</td>\n",
       "      <td>...</td>\n",
       "      <td>6027</td>\n",
       "      <td>6027</td>\n",
       "      <td>6027</td>\n",
       "      <td>55</td>\n",
       "      <td>55</td>\n",
       "      <td>6027</td>\n",
       "      <td>5893</td>\n",
       "      <td>6027</td>\n",
       "      <td>4276</td>\n",
       "      <td>4276</td>\n",
       "    </tr>\n",
       "    <tr>\n",
       "      <th>/m/033tf_</th>\n",
       "      <td>3814</td>\n",
       "      <td>3775</td>\n",
       "      <td>1831</td>\n",
       "      <td>3684</td>\n",
       "      <td>3814</td>\n",
       "      <td>3814</td>\n",
       "      <td>3814</td>\n",
       "      <td>3814</td>\n",
       "      <td>3814</td>\n",
       "      <td>3448</td>\n",
       "      <td>...</td>\n",
       "      <td>3814</td>\n",
       "      <td>3814</td>\n",
       "      <td>3814</td>\n",
       "      <td>57</td>\n",
       "      <td>57</td>\n",
       "      <td>3814</td>\n",
       "      <td>3775</td>\n",
       "      <td>3814</td>\n",
       "      <td>2961</td>\n",
       "      <td>2961</td>\n",
       "    </tr>\n",
       "    <tr>\n",
       "      <th>/m/0xnvg</th>\n",
       "      <td>2927</td>\n",
       "      <td>2883</td>\n",
       "      <td>1533</td>\n",
       "      <td>2815</td>\n",
       "      <td>2927</td>\n",
       "      <td>2927</td>\n",
       "      <td>2927</td>\n",
       "      <td>2927</td>\n",
       "      <td>2927</td>\n",
       "      <td>2828</td>\n",
       "      <td>...</td>\n",
       "      <td>2927</td>\n",
       "      <td>2927</td>\n",
       "      <td>2927</td>\n",
       "      <td>52</td>\n",
       "      <td>52</td>\n",
       "      <td>2927</td>\n",
       "      <td>2883</td>\n",
       "      <td>2927</td>\n",
       "      <td>2233</td>\n",
       "      <td>2233</td>\n",
       "    </tr>\n",
       "    <tr>\n",
       "      <th>/m/02ctzb</th>\n",
       "      <td>2279</td>\n",
       "      <td>2237</td>\n",
       "      <td>847</td>\n",
       "      <td>2127</td>\n",
       "      <td>2279</td>\n",
       "      <td>2279</td>\n",
       "      <td>2279</td>\n",
       "      <td>2279</td>\n",
       "      <td>2278</td>\n",
       "      <td>1594</td>\n",
       "      <td>...</td>\n",
       "      <td>2279</td>\n",
       "      <td>2279</td>\n",
       "      <td>2279</td>\n",
       "      <td>21</td>\n",
       "      <td>21</td>\n",
       "      <td>2279</td>\n",
       "      <td>2237</td>\n",
       "      <td>2279</td>\n",
       "      <td>1489</td>\n",
       "      <td>1489</td>\n",
       "    </tr>\n",
       "    <tr>\n",
       "      <th>/m/07hwkr</th>\n",
       "      <td>2231</td>\n",
       "      <td>2196</td>\n",
       "      <td>1026</td>\n",
       "      <td>2130</td>\n",
       "      <td>2231</td>\n",
       "      <td>2231</td>\n",
       "      <td>2231</td>\n",
       "      <td>2231</td>\n",
       "      <td>2231</td>\n",
       "      <td>2023</td>\n",
       "      <td>...</td>\n",
       "      <td>2231</td>\n",
       "      <td>2231</td>\n",
       "      <td>2231</td>\n",
       "      <td>36</td>\n",
       "      <td>36</td>\n",
       "      <td>2231</td>\n",
       "      <td>2196</td>\n",
       "      <td>2231</td>\n",
       "      <td>1666</td>\n",
       "      <td>1666</td>\n",
       "    </tr>\n",
       "    <tr>\n",
       "      <th>/m/07bch9</th>\n",
       "      <td>2197</td>\n",
       "      <td>2173</td>\n",
       "      <td>733</td>\n",
       "      <td>1850</td>\n",
       "      <td>2197</td>\n",
       "      <td>2197</td>\n",
       "      <td>2197</td>\n",
       "      <td>2197</td>\n",
       "      <td>2197</td>\n",
       "      <td>1803</td>\n",
       "      <td>...</td>\n",
       "      <td>2197</td>\n",
       "      <td>2197</td>\n",
       "      <td>2197</td>\n",
       "      <td>34</td>\n",
       "      <td>34</td>\n",
       "      <td>2197</td>\n",
       "      <td>2173</td>\n",
       "      <td>2197</td>\n",
       "      <td>1373</td>\n",
       "      <td>1373</td>\n",
       "    </tr>\n",
       "    <tr>\n",
       "      <th>/m/044038p</th>\n",
       "      <td>1857</td>\n",
       "      <td>1816</td>\n",
       "      <td>759</td>\n",
       "      <td>1765</td>\n",
       "      <td>1857</td>\n",
       "      <td>1857</td>\n",
       "      <td>1857</td>\n",
       "      <td>1857</td>\n",
       "      <td>1857</td>\n",
       "      <td>1263</td>\n",
       "      <td>...</td>\n",
       "      <td>1857</td>\n",
       "      <td>1857</td>\n",
       "      <td>1857</td>\n",
       "      <td>5</td>\n",
       "      <td>5</td>\n",
       "      <td>1857</td>\n",
       "      <td>1816</td>\n",
       "      <td>1857</td>\n",
       "      <td>1189</td>\n",
       "      <td>1189</td>\n",
       "    </tr>\n",
       "    <tr>\n",
       "      <th>/m/03bkbh</th>\n",
       "      <td>1612</td>\n",
       "      <td>1577</td>\n",
       "      <td>720</td>\n",
       "      <td>1522</td>\n",
       "      <td>1612</td>\n",
       "      <td>1612</td>\n",
       "      <td>1612</td>\n",
       "      <td>1612</td>\n",
       "      <td>1612</td>\n",
       "      <td>1241</td>\n",
       "      <td>...</td>\n",
       "      <td>1612</td>\n",
       "      <td>1612</td>\n",
       "      <td>1612</td>\n",
       "      <td>24</td>\n",
       "      <td>24</td>\n",
       "      <td>1612</td>\n",
       "      <td>1577</td>\n",
       "      <td>1612</td>\n",
       "      <td>1266</td>\n",
       "      <td>1266</td>\n",
       "    </tr>\n",
       "    <tr>\n",
       "      <th>/m/0d7wh</th>\n",
       "      <td>1399</td>\n",
       "      <td>1376</td>\n",
       "      <td>558</td>\n",
       "      <td>1308</td>\n",
       "      <td>1399</td>\n",
       "      <td>1399</td>\n",
       "      <td>1399</td>\n",
       "      <td>1399</td>\n",
       "      <td>1399</td>\n",
       "      <td>1013</td>\n",
       "      <td>...</td>\n",
       "      <td>1399</td>\n",
       "      <td>1399</td>\n",
       "      <td>1399</td>\n",
       "      <td>16</td>\n",
       "      <td>16</td>\n",
       "      <td>1399</td>\n",
       "      <td>1376</td>\n",
       "      <td>1399</td>\n",
       "      <td>1005</td>\n",
       "      <td>1005</td>\n",
       "    </tr>\n",
       "    <tr>\n",
       "      <th>/m/03ts0c</th>\n",
       "      <td>1344</td>\n",
       "      <td>1291</td>\n",
       "      <td>302</td>\n",
       "      <td>1291</td>\n",
       "      <td>1344</td>\n",
       "      <td>1344</td>\n",
       "      <td>1344</td>\n",
       "      <td>1344</td>\n",
       "      <td>1344</td>\n",
       "      <td>778</td>\n",
       "      <td>...</td>\n",
       "      <td>1344</td>\n",
       "      <td>1344</td>\n",
       "      <td>1344</td>\n",
       "      <td>4</td>\n",
       "      <td>4</td>\n",
       "      <td>1344</td>\n",
       "      <td>1291</td>\n",
       "      <td>1344</td>\n",
       "      <td>860</td>\n",
       "      <td>860</td>\n",
       "    </tr>\n",
       "    <tr>\n",
       "      <th>/m/0222qb</th>\n",
       "      <td>1287</td>\n",
       "      <td>1250</td>\n",
       "      <td>207</td>\n",
       "      <td>1196</td>\n",
       "      <td>1287</td>\n",
       "      <td>1287</td>\n",
       "      <td>1287</td>\n",
       "      <td>1287</td>\n",
       "      <td>1287</td>\n",
       "      <td>742</td>\n",
       "      <td>...</td>\n",
       "      <td>1287</td>\n",
       "      <td>1287</td>\n",
       "      <td>1287</td>\n",
       "      <td>3</td>\n",
       "      <td>3</td>\n",
       "      <td>1287</td>\n",
       "      <td>1250</td>\n",
       "      <td>1287</td>\n",
       "      <td>788</td>\n",
       "      <td>788</td>\n",
       "    </tr>\n",
       "    <tr>\n",
       "      <th>/m/01rv7x</th>\n",
       "      <td>1187</td>\n",
       "      <td>1094</td>\n",
       "      <td>21</td>\n",
       "      <td>645</td>\n",
       "      <td>1187</td>\n",
       "      <td>1187</td>\n",
       "      <td>1187</td>\n",
       "      <td>1187</td>\n",
       "      <td>1187</td>\n",
       "      <td>216</td>\n",
       "      <td>...</td>\n",
       "      <td>1187</td>\n",
       "      <td>1187</td>\n",
       "      <td>1187</td>\n",
       "      <td>0</td>\n",
       "      <td>0</td>\n",
       "      <td>1187</td>\n",
       "      <td>1094</td>\n",
       "      <td>1187</td>\n",
       "      <td>695</td>\n",
       "      <td>695</td>\n",
       "    </tr>\n",
       "  </tbody>\n",
       "</table>\n",
       "<p>15 rows × 22 columns</p>\n",
       "</div>"
      ],
      "text/plain": [
       "                 title  release_date  box_office_revenue  runtime  languages  \\\n",
       "actor_ethnicity                                                                \n",
       "/m/0dryh9k       16000         15167                 176     9492      16000   \n",
       "/m/0x67          10065          9933                4737     9667      10065   \n",
       "/m/041rx          9758          9508                3797     8916       9758   \n",
       "/m/02w7gg         6027          5893                2564     5708       6027   \n",
       "/m/033tf_         3814          3775                1831     3684       3814   \n",
       "/m/0xnvg          2927          2883                1533     2815       2927   \n",
       "/m/02ctzb         2279          2237                 847     2127       2279   \n",
       "/m/07hwkr         2231          2196                1026     2130       2231   \n",
       "/m/07bch9         2197          2173                 733     1850       2197   \n",
       "/m/044038p        1857          1816                 759     1765       1857   \n",
       "/m/03bkbh         1612          1577                 720     1522       1612   \n",
       "/m/0d7wh          1399          1376                 558     1308       1399   \n",
       "/m/03ts0c         1344          1291                 302     1291       1344   \n",
       "/m/0222qb         1287          1250                 207     1196       1287   \n",
       "/m/01rv7x         1187          1094                  21      645       1187   \n",
       "\n",
       "                 countries  genres  movie_identifier  actor_gender  \\\n",
       "actor_ethnicity                                                      \n",
       "/m/0dryh9k           16000   16000             16000         16000   \n",
       "/m/0x67              10065   10065             10065         10055   \n",
       "/m/041rx              9758    9758              9758          9758   \n",
       "/m/02w7gg             6027    6027              6027          6027   \n",
       "/m/033tf_             3814    3814              3814          3814   \n",
       "/m/0xnvg              2927    2927              2927          2927   \n",
       "/m/02ctzb             2279    2279              2279          2278   \n",
       "/m/07hwkr             2231    2231              2231          2231   \n",
       "/m/07bch9             2197    2197              2197          2197   \n",
       "/m/044038p            1857    1857              1857          1857   \n",
       "/m/03bkbh             1612    1612              1612          1612   \n",
       "/m/0d7wh              1399    1399              1399          1399   \n",
       "/m/03ts0c             1344    1344              1344          1344   \n",
       "/m/0222qb             1287    1287              1287          1287   \n",
       "/m/01rv7x             1187    1187              1187          1187   \n",
       "\n",
       "                 actor_height  ...  parsed_actor_name  actor_identifier  \\\n",
       "actor_ethnicity                ...                                        \n",
       "/m/0dryh9k               6067  ...              16000             16000   \n",
       "/m/0x67                  6476  ...              10065             10065   \n",
       "/m/041rx                 7162  ...               9758              9758   \n",
       "/m/02w7gg                5114  ...               6027              6027   \n",
       "/m/033tf_                3448  ...               3814              3814   \n",
       "/m/0xnvg                 2828  ...               2927              2927   \n",
       "/m/02ctzb                1594  ...               2279              2279   \n",
       "/m/07hwkr                2023  ...               2231              2231   \n",
       "/m/07bch9                1803  ...               2197              2197   \n",
       "/m/044038p               1263  ...               1857              1857   \n",
       "/m/03bkbh                1241  ...               1612              1612   \n",
       "/m/0d7wh                 1013  ...               1399              1399   \n",
       "/m/03ts0c                 778  ...               1344              1344   \n",
       "/m/0222qb                 742  ...               1287              1287   \n",
       "/m/01rv7x                 216  ...               1187              1187   \n",
       "\n",
       "                 identifier  category  winner  oscar_nominated   year  \\\n",
       "actor_ethnicity                                                         \n",
       "/m/0dryh9k            16000         3       3            16000  15167   \n",
       "/m/0x67               10065        51      51            10065   9933   \n",
       "/m/041rx               9758       104     104             9758   9508   \n",
       "/m/02w7gg              6027        55      55             6027   5893   \n",
       "/m/033tf_              3814        57      57             3814   3775   \n",
       "/m/0xnvg               2927        52      52             2927   2883   \n",
       "/m/02ctzb              2279        21      21             2279   2237   \n",
       "/m/07hwkr              2231        36      36             2231   2196   \n",
       "/m/07bch9              2197        34      34             2197   2173   \n",
       "/m/044038p             1857         5       5             1857   1816   \n",
       "/m/03bkbh              1612        24      24             1612   1577   \n",
       "/m/0d7wh               1399        16      16             1399   1376   \n",
       "/m/03ts0c              1344         4       4             1344   1291   \n",
       "/m/0222qb              1287         3       3             1287   1250   \n",
       "/m/01rv7x              1187         0       0             1187   1094   \n",
       "\n",
       "                 has_rating  average_rating  number_of_votes  \n",
       "actor_ethnicity                                               \n",
       "/m/0dryh9k            16000           11029            11029  \n",
       "/m/0x67               10065            7296             7296  \n",
       "/m/041rx               9758            6778             6778  \n",
       "/m/02w7gg              6027            4276             4276  \n",
       "/m/033tf_              3814            2961             2961  \n",
       "/m/0xnvg               2927            2233             2233  \n",
       "/m/02ctzb              2279            1489             1489  \n",
       "/m/07hwkr              2231            1666             1666  \n",
       "/m/07bch9              2197            1373             1373  \n",
       "/m/044038p             1857            1189             1189  \n",
       "/m/03bkbh              1612            1266             1266  \n",
       "/m/0d7wh               1399            1005             1005  \n",
       "/m/03ts0c              1344             860              860  \n",
       "/m/0222qb              1287             788              788  \n",
       "/m/01rv7x              1187             695              695  \n",
       "\n",
       "[15 rows x 22 columns]"
      ]
     },
     "execution_count": 14,
     "metadata": {},
     "output_type": "execute_result"
    }
   ],
   "source": [
    "# Finding the most common ethnicities\n",
    "movie_df.groupby('actor_ethnicity').count().sort_values(by='title', ascending=False).head(15)"
   ]
  },
  {
   "cell_type": "code",
   "execution_count": 43,
   "id": "68cd3d6c",
   "metadata": {},
   "outputs": [],
   "source": [
    "# top fifteen most frequent ethnicities\n",
    "# Found the mappings by looking the ids up.\n",
    "\n",
    "# An alternate solution would probably be to download the other freebase datasets and join using that.\n",
    "# However, the dataset is quite large so we chose to go this route instead.\n",
    "ethnicity_map = {    \n",
    "    'Indian' : '/m/0dryh9k',\n",
    "    'Black' : '/m/0x67',\n",
    "    'Jewish' : '/m/041rx', \n",
    "    'English' : '/m/02w7gg',\n",
    "    'Irish_Americans' : '/m/033tf_',\n",
    "    'Italian_Americans' : '/m/0xnvg',\n",
    "    'White_people' : '/m/02ctzb',\n",
    "    'White_Americans' : '/m/07hwkr',\n",
    "    'Scottish_Americans': '/m/07bch9',\n",
    "    # '???' : '/m/044038p', Could not find what this maps to\n",
    "    'Irish_people' : '/m/03bkbh',\n",
    "    'British' : '/m/0d7wh',\n",
    "    'French' : '/m/03ts0c',\n",
    "    'Italians' : '/m/0222qb',\n",
    "    'Tamil' : '/m/01rv7x',   \n",
    "}"
   ]
  },
  {
   "cell_type": "code",
   "execution_count": 51,
   "id": "cd5db19d",
   "metadata": {},
   "outputs": [],
   "source": [
    "# We normalize the data before performing logistic regression\n",
    "def normalize_column(df_column):\n",
    "    return (df_column - df_column.mean()) / df_column.std()"
   ]
  },
  {
   "cell_type": "code",
   "execution_count": 59,
   "id": "e1c7e1b7",
   "metadata": {},
   "outputs": [
    {
     "name": "stderr",
     "output_type": "stream",
     "text": [
      "C:\\Users\\johnh\\AppData\\Local\\Temp\\ipykernel_15988\\896929296.py:6: FutureWarning: Downcasting behavior in `replace` is deprecated and will be removed in a future version. To retain the old behavior, explicitly call `result.infer_objects(copy=False)`. To opt-in to the future behavior, set `pd.set_option('future.no_silent_downcasting', True)`\n",
      "  normalized_movie_df['oscar_nominated'] = normalized_movie_df['oscar_nominated'].replace({True: 1, False: 0})\n"
     ]
    }
   ],
   "source": [
    "normalized_movie_df = movie_df.copy(deep=True)\n",
    "features_to_normalize = ['actor_age', 'box_office_revenue', 'runtime', 'actor_height', 'year', 'average_rating', 'number_of_votes',]\n",
    "normalized_movie_df[features_to_normalize] = normalized_movie_df[features_to_normalize].apply(normalize_column)\n",
    "\n",
    "# Encode oscar_nominated as 0 or 1 for logistic regression\n",
    "normalized_movie_df['oscar_nominated'] = normalized_movie_df['oscar_nominated'].replace({True: 1, False: 0})\n",
    "\n",
    "# One-hot encoding the 5 most frequent ethnicities for the logistic regression:\n",
    "ethnicities = list(ethnicity_map.keys())[:5]\n",
    "for name in ethnicities:\n",
    "    normalized_movie_df[name] = normalized_movie_df['actor_ethnicity'].map(lambda ethnicity: 1 if ethnicity == ethnicity_map[name] else 0)"
   ]
  },
  {
   "cell_type": "code",
   "execution_count": 60,
   "id": "3b21f353",
   "metadata": {},
   "outputs": [],
   "source": [
    "# Regression and plotting code inspired and/or copied from solution to exercise 4\n",
    "# We perform logistic regression using a selection of relevant features from the dataframe\n",
    "mod = smf.logit(formula='oscar_nominated ~  runtime + box_office_revenue + actor_height + \\\n",
    "                        actor_age + year + average_rating + number_of_votes + \\\n",
    "                        C(Indian) + C(Black) + C(Jewish) + C(English) + C(Irish_Americans)', data=normalized_movie_df)"
   ]
  },
  {
   "cell_type": "code",
   "execution_count": 61,
   "id": "966f9cd0",
   "metadata": {},
   "outputs": [
    {
     "name": "stdout",
     "output_type": "stream",
     "text": [
      "Optimization terminated successfully.\n",
      "         Current function value: 0.069410\n",
      "         Iterations 10\n",
      "                           Logit Regression Results                           \n",
      "==============================================================================\n",
      "Dep. Variable:        oscar_nominated   No. Observations:                46882\n",
      "Model:                          Logit   Df Residuals:                    46869\n",
      "Method:                           MLE   Df Model:                           12\n",
      "Date:                Fri, 15 Nov 2024   Pseudo R-squ.:                  0.2183\n",
      "Time:                        12:42:17   Log-Likelihood:                -3254.1\n",
      "converged:                       True   LL-Null:                       -4162.8\n",
      "Covariance Type:            nonrobust   LLR p-value:                     0.000\n",
      "===========================================================================================\n",
      "                              coef    std err          z      P>|z|      [0.025      0.975]\n",
      "-------------------------------------------------------------------------------------------\n",
      "Intercept                  -5.3712      0.093    -57.583      0.000      -5.554      -5.188\n",
      "C(Indian)[T.1]              0.8822      0.641      1.375      0.169      -0.375       2.140\n",
      "C(Black)[T.1]               0.1669      0.186      0.900      0.368      -0.197       0.531\n",
      "C(Jewish)[T.1]              0.1691      0.143      1.184      0.236      -0.111       0.449\n",
      "C(English)[T.1]             0.1443      0.173      0.834      0.404      -0.195       0.484\n",
      "C(Irish_Americans)[T.1]     0.4811      0.186      2.590      0.010       0.117       0.845\n",
      "runtime                    19.3630      5.682      3.408      0.001       8.227      30.499\n",
      "box_office_revenue          0.0370      0.040      0.937      0.349      -0.040       0.115\n",
      "actor_height              -11.0711      1.456     -7.606      0.000     -13.924      -8.218\n",
      "actor_age                   0.3715      0.054      6.838      0.000       0.265       0.478\n",
      "year                       -0.6045      0.050    -11.983      0.000      -0.703      -0.506\n",
      "average_rating              2.1904      0.084     26.055      0.000       2.026       2.355\n",
      "number_of_votes            -0.2141      0.024     -8.899      0.000      -0.261      -0.167\n",
      "===========================================================================================\n"
     ]
    },
    {
     "name": "stderr",
     "output_type": "stream",
     "text": [
      "c:\\Users\\johnh\\anaconda3\\Lib\\site-packages\\statsmodels\\discrete\\discrete_model.py:2385: RuntimeWarning: overflow encountered in exp\n",
      "  return 1/(1+np.exp(-X))\n",
      "c:\\Users\\johnh\\anaconda3\\Lib\\site-packages\\statsmodels\\discrete\\discrete_model.py:2385: RuntimeWarning: overflow encountered in exp\n",
      "  return 1/(1+np.exp(-X))\n"
     ]
    }
   ],
   "source": [
    "# Fit the model and print results\n",
    "res = mod.fit()\n",
    "print(res.summary())"
   ]
  },
  {
   "cell_type": "code",
   "execution_count": 62,
   "id": "c8a9aca3",
   "metadata": {},
   "outputs": [
    {
     "data": {
      "text/html": [
       "<div>\n",
       "<style scoped>\n",
       "    .dataframe tbody tr th:only-of-type {\n",
       "        vertical-align: middle;\n",
       "    }\n",
       "\n",
       "    .dataframe tbody tr th {\n",
       "        vertical-align: top;\n",
       "    }\n",
       "\n",
       "    .dataframe thead th {\n",
       "        text-align: right;\n",
       "    }\n",
       "</style>\n",
       "<table border=\"1\" class=\"dataframe\">\n",
       "  <thead>\n",
       "    <tr style=\"text-align: right;\">\n",
       "      <th></th>\n",
       "      <th>0</th>\n",
       "      <th>1</th>\n",
       "    </tr>\n",
       "  </thead>\n",
       "  <tbody>\n",
       "    <tr>\n",
       "      <th>Intercept</th>\n",
       "      <td>-5.554048</td>\n",
       "      <td>-5.188402</td>\n",
       "    </tr>\n",
       "    <tr>\n",
       "      <th>C(Indian)[T.1]</th>\n",
       "      <td>-0.375065</td>\n",
       "      <td>2.139532</td>\n",
       "    </tr>\n",
       "    <tr>\n",
       "      <th>C(Black)[T.1]</th>\n",
       "      <td>-0.196781</td>\n",
       "      <td>0.530607</td>\n",
       "    </tr>\n",
       "    <tr>\n",
       "      <th>C(Jewish)[T.1]</th>\n",
       "      <td>-0.110763</td>\n",
       "      <td>0.448978</td>\n",
       "    </tr>\n",
       "    <tr>\n",
       "      <th>C(English)[T.1]</th>\n",
       "      <td>-0.194977</td>\n",
       "      <td>0.483673</td>\n",
       "    </tr>\n",
       "    <tr>\n",
       "      <th>C(Irish_Americans)[T.1]</th>\n",
       "      <td>0.116992</td>\n",
       "      <td>0.845163</td>\n",
       "    </tr>\n",
       "    <tr>\n",
       "      <th>runtime</th>\n",
       "      <td>8.227059</td>\n",
       "      <td>30.498853</td>\n",
       "    </tr>\n",
       "    <tr>\n",
       "      <th>box_office_revenue</th>\n",
       "      <td>-0.040455</td>\n",
       "      <td>0.114526</td>\n",
       "    </tr>\n",
       "    <tr>\n",
       "      <th>actor_height</th>\n",
       "      <td>-13.923900</td>\n",
       "      <td>-8.218296</td>\n",
       "    </tr>\n",
       "    <tr>\n",
       "      <th>actor_age</th>\n",
       "      <td>0.265030</td>\n",
       "      <td>0.478024</td>\n",
       "    </tr>\n",
       "    <tr>\n",
       "      <th>year</th>\n",
       "      <td>-0.703415</td>\n",
       "      <td>-0.505651</td>\n",
       "    </tr>\n",
       "    <tr>\n",
       "      <th>average_rating</th>\n",
       "      <td>2.025674</td>\n",
       "      <td>2.355223</td>\n",
       "    </tr>\n",
       "    <tr>\n",
       "      <th>number_of_votes</th>\n",
       "      <td>-0.261287</td>\n",
       "      <td>-0.166966</td>\n",
       "    </tr>\n",
       "  </tbody>\n",
       "</table>\n",
       "</div>"
      ],
      "text/plain": [
       "                                 0          1\n",
       "Intercept                -5.554048  -5.188402\n",
       "C(Indian)[T.1]           -0.375065   2.139532\n",
       "C(Black)[T.1]            -0.196781   0.530607\n",
       "C(Jewish)[T.1]           -0.110763   0.448978\n",
       "C(English)[T.1]          -0.194977   0.483673\n",
       "C(Irish_Americans)[T.1]   0.116992   0.845163\n",
       "runtime                   8.227059  30.498853\n",
       "box_office_revenue       -0.040455   0.114526\n",
       "actor_height            -13.923900  -8.218296\n",
       "actor_age                 0.265030   0.478024\n",
       "year                     -0.703415  -0.505651\n",
       "average_rating            2.025674   2.355223\n",
       "number_of_votes          -0.261287  -0.166966"
      ]
     },
     "execution_count": 62,
     "metadata": {},
     "output_type": "execute_result"
    }
   ],
   "source": [
    "# feature names\n",
    "variables = res.params.index\n",
    "\n",
    "# quantifying uncertainty!\n",
    "\n",
    "# coefficients\n",
    "coefficients = res.params.values\n",
    "\n",
    "# p-values\n",
    "p_values = res.pvalues\n",
    "\n",
    "# standard errors\n",
    "standard_errors = res.bse.values\n",
    "\n",
    "#confidence intervals\n",
    "res.conf_int()"
   ]
  },
  {
   "cell_type": "code",
   "execution_count": 64,
   "id": "1840b7d0",
   "metadata": {},
   "outputs": [],
   "source": [
    "#sort them all by coefficients\n",
    "l1, l2, l3, l4 = zip(*sorted(zip(coefficients[1:], variables[1:], standard_errors[1:], p_values[1:])))"
   ]
  },
  {
   "cell_type": "code",
   "execution_count": 65,
   "id": "abe28cda",
   "metadata": {},
   "outputs": [
    {
     "data": {
      "text/plain": [
       "Text(0.5, 1.0, 'Logistic regression coefficient by feature')"
      ]
     },
     "execution_count": 65,
     "metadata": {},
     "output_type": "execute_result"
    },
    {
     "data": {
      "image/png": "[encoded data removed]",
      "text/plain": [
       "<Figure size 640x480 with 1 Axes>"
      ]
     },
     "metadata": {},
     "output_type": "display_data"
    }
   ],
   "source": [
    "# Plot the results\n",
    "plt.errorbar(l1, np.array(range(len(l1))), xerr= 2*np.array(l3), linewidth = 1,\n",
    "             linestyle = 'none',marker = 'o',markersize= 3,\n",
    "             markerfacecolor = 'black',markeredgecolor = 'black', capsize= 5)\n",
    "\n",
    "plt.vlines(0,0, len(l1), linestyle = '--')\n",
    "\n",
    "plt.yticks(range(len(l2)),l2)\n",
    "plt.xlabel('Coefficient')\n",
    "plt.title('Logistic regression coefficient by feature')"
   ]
  },
  {
   "cell_type": "markdown",
   "id": "e08ae323",
   "metadata": {},
   "source": [
    "Lines around the points represent the confidence interval for the coefficient of each feature."
   ]
  },
  {
   "cell_type": "markdown",
   "id": "80d9a616df340add",
   "metadata": {},
   "source": [
    "From this plot we see that there are multiple factors that can be used to predict whether a movie/actor row will be nominated or not. This serves as an initial analysis, we will do this more thoroughly in P3 to make more relevant conclusions for our research questions."
   ]
  },
  {
   "cell_type": "markdown",
   "id": "2a50e0f3",
   "metadata": {},
   "source": [
    "# Review analysis"
   ]
  },
  {
   "cell_type": "markdown",
   "id": "97042b70",
   "metadata": {},
   "source": [
    "To extract movies with nominated actors we need to find every movie where atleast one of the rows in the column 'oscar_nominated' is positive.\n",
    "To extract movies without a nominated actor we need to find every movie where every row in the column 'oscar_nominated' is false. "
   ]
  },
  {
   "cell_type": "code",
   "execution_count": 22,
   "id": "aa44b1dc",
   "metadata": {},
   "outputs": [
    {
     "name": "stdout",
     "output_type": "stream",
     "text": [
      "Shape before:  (63968, 23)\n",
      "Intersection:  Series([], dtype: object)\n",
      "Shape after:  (63968, 23)\n"
     ]
    }
   ],
   "source": [
    "# Grouping by title\n",
    "unique_movies_df = movie_df.groupby('movie_identifier').first().reset_index()\n",
    "print('Shape before: ', unique_movies_df.shape)\n",
    "unique_nominated_movies_df = movie_df[movie_df['oscar_nominated'] == True].groupby('movie_identifier').first().reset_index()\n",
    "# Mask is true if a movie from unique_movies_df is not in the dataframe unique_nominated_movies_df\n",
    "mask = unique_movies_df['movie_identifier'].isin(unique_nominated_movies_df['movie_identifier']) == False\n",
    "# Applying the mask \n",
    "not_nominated_df = unique_movies_df[mask]\n",
    "\n",
    "# Checking the intersection between nominated and not nominated movies, should be 0 \n",
    "print('Intersection: ', pd.Series(list(set(unique_nominated_movies_df['movie_identifier']).intersection(set(not_nominated_df['movie_identifier'])))))\n",
    "\n",
    "unique_movies_df = pd.concat([unique_nominated_movies_df, not_nominated_df], axis = 0) \n",
    "print('Shape after: ', unique_movies_df.shape)"
   ]
  },
  {
   "cell_type": "code",
   "execution_count": 23,
   "id": "15de117d",
   "metadata": {},
   "outputs": [],
   "source": [
    "# Removing movies without imdb ratings\n",
    "movie_unique_with_rating_df = unique_movies_df[unique_movies_df['average_rating'].notna()]\n"
   ]
  },
  {
   "cell_type": "code",
   "execution_count": 24,
   "id": "65d87ce2",
   "metadata": {},
   "outputs": [],
   "source": [
    "# Extracting nominated and movies and not nominated movies \n",
    "nominated = movie_unique_with_rating_df[movie_unique_with_rating_df['oscar_nominated']]\n",
    "not_nominated = movie_unique_with_rating_df[movie_unique_with_rating_df['oscar_nominated'] == False]\n",
    "assert nominated.shape[0] + not_nominated.shape[0] == movie_unique_with_rating_df.shape[0]"
   ]
  },
  {
   "cell_type": "code",
   "execution_count": 25,
   "id": "30e87775",
   "metadata": {},
   "outputs": [
    {
     "name": "stdout",
     "output_type": "stream",
     "text": [
      "Excluded:  2319\n"
     ]
    }
   ],
   "source": [
    "# We exclude all movies with fewer than 30 reviews. There are no movies with oscar nominated actors with fewer than 30 reviews.\n",
    "# This is based on a rule of thumb to exlude outliers / low confidence values \n",
    "excluded = not_nominated[not_nominated['number_of_votes'] < 30]\n",
    "print('Excluded: ', len(excluded))\n",
    "not_nominated = not_nominated[not_nominated['number_of_votes'] > 30]\n",
    "nominated = nominated[nominated['number_of_votes'] > 30]"
   ]
  },
  {
   "cell_type": "code",
   "execution_count": 26,
   "id": "6376fdb2",
   "metadata": {},
   "outputs": [
    {
     "data": {
      "image/png": "[encoded data removed]",
      "text/plain": [
       "<Figure size 640x480 with 1 Axes>"
      ]
     },
     "metadata": {},
     "output_type": "display_data"
    }
   ],
   "source": [
    "# Empirical CDF for nominated and not nominated \n",
    "\n",
    "sns.histplot(nominated, x=\"average_rating\", stat = 'density', color = 'gold',label ='Nominated')\n",
    "sns.histplot(not_nominated, x=\"average_rating\", stat=\"density\", color = 'grey', label = 'Not nominated')\n",
    "\n",
    "plt.title('Rating distribution of movies')\n",
    "plt.xlabel('IMDB rating')\n",
    "plt.ylabel('Probability density')\n",
    "plt.legend()\n",
    "plt.show()\n"
   ]
  },
  {
   "cell_type": "markdown",
   "id": "6ac4c9a3",
   "metadata": {},
   "source": [
    "These empirical distributions look different. We use a two sample Kolmogorov-Smirnov test to test if they are different. The null hypothesis is that the observations come from the same distribution. We reject the null hypothesis if the p-value < 0.05."
   ]
  },
  {
   "cell_type": "code",
   "execution_count": 27,
   "id": "eb0b8752",
   "metadata": {
    "ExecuteTime": {
     "end_time": "2024-11-15T11:26:33.947220162Z",
     "start_time": "2024-11-15T10:30:21.517393Z"
    }
   },
   "outputs": [
    {
     "data": {
      "text/plain": [
       "KstestResult(statistic=0.5495968082108683, pvalue=1.8236172254661653e-259, statistic_location=6.8, statistic_sign=-1)"
      ]
     },
     "execution_count": 27,
     "metadata": {},
     "output_type": "execute_result"
    }
   ],
   "source": [
    "stats.kstest(nominated['average_rating'], not_nominated['average_rating'])"
   ]
  },
  {
   "cell_type": "markdown",
   "id": "72e23719",
   "metadata": {},
   "source": [
    "P-value = 1.0389776134332205e-255. This is small enough to safely reject the null hypothesis. We conclude that the distributions are in fact different distributions. "
   ]
  },
  {
   "cell_type": "code",
   "execution_count": 28,
   "id": "8104702e",
   "metadata": {
    "ExecuteTime": {
     "end_time": "2024-11-15T11:26:33.948110156Z",
     "start_time": "2024-11-15T10:30:22.084555Z"
    }
   },
   "outputs": [
    {
     "data": {
      "image/png": "[encoded data removed]",
      "text/plain": [
       "<Figure size 640x480 with 1 Axes>"
      ]
     },
     "metadata": {},
     "output_type": "display_data"
    }
   ],
   "source": [
    "# Plotting reviews per IMDB reviews per movie \n",
    "sns.histplot(not_nominated, x=\"number_of_votes\", bins=50, label = 'Not nominated', color = 'grey')\n",
    "sns.histplot(nominated, x=\"number_of_votes\", bins=50, label = 'Nominated', color = 'gold')\n",
    "plt.yscale('log')\n",
    "plt.title('Reviews per movie')\n",
    "plt.xlabel('Reviews')\n",
    "plt.ylabel('Nr. of movies')\n",
    "plt.legend()\n",
    "plt.show()"
   ]
  },
  {
   "cell_type": "code",
   "execution_count": 29,
   "id": "ffa2da46",
   "metadata": {
    "ExecuteTime": {
     "end_time": "2024-11-15T11:26:33.948325120Z",
     "start_time": "2024-11-15T10:30:22.552151Z"
    }
   },
   "outputs": [
    {
     "name": "stdout",
     "output_type": "stream",
     "text": [
      "Share of not nominated movies with fewer than 10 000 reviews 82.69 %\n",
      "Share of nominated with fewer than 10 000 reviews 33.55 %\n"
     ]
    },
    {
     "data": {
      "image/png": "[encoded data removed]",
      "text/plain": [
       "<Figure size 640x480 with 1 Axes>"
      ]
     },
     "metadata": {},
     "output_type": "display_data"
    }
   ],
   "source": [
    "# As per the plot above, most movies with nominated actors have fewer than 500 000 reviews.\n",
    "# We zoom in and look at the movies with few reviews. \n",
    "\n",
    "lim_not_nominated = not_nominated[not_nominated['number_of_votes'] < 10000]\n",
    "lim_nominated = nominated[nominated['number_of_votes'] < 10000]\n",
    "\n",
    "print('Share of not nominated movies with fewer than 10 000 reviews', round(len(lim_not_nominated)/len(not_nominated)*100,2), '%')\n",
    "print('Share of nominated with fewer than 10 000 reviews', round(len(lim_nominated)/(len(nominated))*100,2),  '%')\n",
    "\n",
    "sns.histplot(lim_not_nominated, x=\"number_of_votes\", bins=50, label = 'Not nominated', color = 'grey')\n",
    "sns.histplot(lim_nominated, x=\"number_of_votes\", bins=50, label = 'Nominated', color = 'gold')\n",
    "\n",
    "plt.yscale('log')\n",
    "plt.title('Reviews per movie')\n",
    "plt.xlabel('Reviews')\n",
    "plt.ylabel('Nr. of movies')\n",
    "plt.legend()\n",
    "plt.show()"
   ]
  },
  {
   "cell_type": "markdown",
   "id": "5db98b35",
   "metadata": {},
   "source": [
    "We can see that most movies with relatively few review are not nominated. "
   ]
  },
  {
   "cell_type": "code",
   "execution_count": 30,
   "id": "b4125cd3",
   "metadata": {
    "ExecuteTime": {
     "end_time": "2024-11-15T11:26:33.948528301Z",
     "start_time": "2024-11-15T10:30:23.647085Z"
    }
   },
   "outputs": [
    {
     "data": {
      "image/png": "[encoded data removed]",
      "text/plain": [
       "<Figure size 640x480 with 1 Axes>"
      ]
     },
     "metadata": {},
     "output_type": "display_data"
    }
   ],
   "source": [
    "sns.histplot(not_nominated, x=\"box_office_revenue\", stat=\"density\", color = 'grey', label = 'Not nominated', bins = 60)\n",
    "sns.histplot(nominated, x=\"box_office_revenue\", stat = 'density', color = 'gold',label ='Nominated', bins = 10)\n",
    "\n",
    "plt.title('Box office revenue distribution')\n",
    "plt.yscale('log')\n",
    "plt.xlabel('Box-office revenue')\n",
    "plt.ylabel('Probability density')\n",
    "plt.legend()\n",
    "plt.show()"
   ]
  },
  {
   "cell_type": "markdown",
   "id": "a17f74dc",
   "metadata": {},
   "source": [
    "Notice that the above plot is a probability distribution and that the y axis is in log scale. We are suprised since all movies with nominated actors does not seem to be the ones with the highest revenue. To investigate this we look into movies with lower box-office revenue. "
   ]
  },
  {
   "cell_type": "code",
   "execution_count": 31,
   "id": "6df5bd63",
   "metadata": {
    "ExecuteTime": {
     "end_time": "2024-11-15T11:26:33.948706094Z",
     "start_time": "2024-11-15T10:30:24.598682Z"
    }
   },
   "outputs": [
    {
     "data": {
      "image/png": "[encoded data removed]",
      "text/plain": [
       "<Figure size 640x480 with 1 Axes>"
      ]
     },
     "metadata": {},
     "output_type": "display_data"
    }
   ],
   "source": [
    "lim_not_nominated = not_nominated[not_nominated['box_office_revenue'] < 10**7]\n",
    "lim_nominated = nominated[nominated['box_office_revenue'] < 10**7]\n",
    "\n",
    "sns.histplot(lim_not_nominated, x=\"box_office_revenue\", stat=\"density\", color = 'grey', label = 'Not nominated', bins = 60)\n",
    "sns.histplot(lim_nominated, x=\"box_office_revenue\", stat = 'density', color = 'gold',label ='Nominated', bins = 30)\n",
    "\n",
    "plt.title('Box office revenue distribution for movies with revenue less than 10**7')\n",
    "plt.yscale('log')\n",
    "plt.xlabel('Box-office revenue')\n",
    "plt.ylabel('Probability density')\n",
    "plt.legend()\n",
    "plt.show()\n"
   ]
  },
  {
   "cell_type": "markdown",
   "id": "dde0f513",
   "metadata": {},
   "source": [
    "We can see that movies with nominated actors have revenue in an interval. They neither the movies with the highest revenue, or the movies with the lowest revenue. "
   ]
  },
  {
   "cell_type": "code",
   "execution_count": 32,
   "id": "441abcab",
   "metadata": {
    "ExecuteTime": {
     "end_time": "2024-11-15T11:26:33.948888976Z",
     "start_time": "2024-11-15T10:30:25.526472Z"
    }
   },
   "outputs": [
    {
     "data": {
      "text/plain": [
       "movie_identifier\n",
       "on the waterfront_1954        5\n",
       "bonnie and clyde_1967         5\n",
       "all about eve_1950            5\n",
       "the godfather part ii_1974    5\n",
       "network_1976                  5\n",
       "                             ..\n",
       "black swan_2010               1\n",
       "cinderella man_2005           1\n",
       "ghost_1990                    1\n",
       "the cider house rules_1999    1\n",
       "juno_2007                     1\n",
       "Name: count, Length: 952, dtype: int64"
      ]
     },
     "execution_count": 32,
     "metadata": {},
     "output_type": "execute_result"
    }
   ],
   "source": [
    "nominated = movie_df[movie_df['oscar_nominated'] == True]\n",
    "nominated['movie_identifier'].value_counts()"
   ]
  },
  {
   "cell_type": "code",
   "execution_count": 33,
   "id": "15a2c7d9",
   "metadata": {
    "ExecuteTime": {
     "end_time": "2024-11-15T11:26:33.949262476Z",
     "start_time": "2024-11-15T10:30:26.117191Z"
    }
   },
   "outputs": [],
   "source": [
    "oscar_nomination_count_per_movie = nominated.groupby([\"movie_identifier\"])['movie_identifier'].count().to_frame().rename(columns={\"movie_identifier\": \"count\"})"
   ]
  },
  {
   "cell_type": "code",
   "execution_count": 34,
   "id": "83f8fc05",
   "metadata": {
    "ExecuteTime": {
     "end_time": "2024-11-15T11:26:33.949485225Z",
     "start_time": "2024-11-15T10:30:26.155442Z"
    }
   },
   "outputs": [
    {
     "data": {
      "text/plain": [
       "<Axes: xlabel='count', ylabel='Density'>"
      ]
     },
     "execution_count": 34,
     "metadata": {},
     "output_type": "execute_result"
    },
    {
     "data": {
      "image/png": "[encoded data removed]",
      "text/plain": [
       "<Figure size 640x480 with 1 Axes>"
      ]
     },
     "metadata": {},
     "output_type": "display_data"
    }
   ],
   "source": [
    "sns.histplot(oscar_nomination_count_per_movie, x=\"count\", stat = 'density', color = 'gold',label ='Nominated')\n"
   ]
  },
  {
   "cell_type": "code",
   "execution_count": 35,
   "id": "cc1953cc",
   "metadata": {
    "ExecuteTime": {
     "end_time": "2024-11-15T11:26:33.949711891Z",
     "start_time": "2024-11-15T10:30:26.553305Z"
    }
   },
   "outputs": [],
   "source": [
    "# Defining some variables for analysis. \n",
    "nr_movies = len(unique_movies_df)\n",
    "nr_nom_movies = len(nominated.groupby('movie_identifier'))\n",
    "nr_nominations = len(nominated)\n",
    "\n",
    "zero_nom_movies = nr_movies - nr_nom_movies\n",
    "one_nom_movies = len(oscar_nomination_count_per_movie[oscar_nomination_count_per_movie['count'] == 1])"
   ]
  },
  {
   "cell_type": "code",
   "execution_count": 36,
   "id": "6383f026",
   "metadata": {
    "ExecuteTime": {
     "end_time": "2024-11-15T11:26:33.949911325Z",
     "start_time": "2024-11-15T10:30:26.586234Z"
    }
   },
   "outputs": [
    {
     "name": "stdout",
     "output_type": "stream",
     "text": [
      "Likelyhood of a movie having a nominated actor:  1.488 %\n",
      "Probablity that a movie with a nominated actor will have atleast one more nominated actor 36.45 %\n"
     ]
    }
   ],
   "source": [
    "# What is the probablity a movie will have a nominated actor? \n",
    "print('Likelyhood of a movie having a nominated actor: ', round(nr_nom_movies/nr_movies*100, 3), '%')\n",
    "\n",
    "# Given that a movie has a nominated actor, what is the probablity that it will have atleast one more nominated actor? \n",
    "print('Probablity that a movie with a nominated actor will have atleast one more nominated actor', round((nr_nom_movies - one_nom_movies)/(nr_nom_movies)*100, 3), '%')\n"
   ]
  },
  {
   "cell_type": "code",
   "execution_count": 37,
   "id": "3b40fca1",
   "metadata": {
    "ExecuteTime": {
     "end_time": "2024-11-15T11:26:33.950116731Z",
     "start_time": "2024-11-15T10:30:27.267135Z"
    }
   },
   "outputs": [
    {
     "data": {
      "text/plain": [
       "<Axes: xlabel='count', ylabel='Density'>"
      ]
     },
     "execution_count": 37,
     "metadata": {},
     "output_type": "execute_result"
    },
    {
     "data": {
      "image/png": "[encoded data removed]",
      "text/plain": [
       "<Figure size 640x480 with 1 Axes>"
      ]
     },
     "metadata": {},
     "output_type": "display_data"
    }
   ],
   "source": [
    "oscar_nomination_per_actor_name = nominated.groupby([\"actor_identifier\"])['actor_identifier'].count().to_frame().rename(columns={\"actor_identifier\": \"count\"})\n",
    "sns.histplot(oscar_nomination_per_actor_name, x=\"count\", stat = 'density', color = 'gold',label ='Nominated')\n"
   ]
  }
 ],
 "metadata": {
  "kernelspec": {
   "display_name": "base",
   "language": "python",
   "name": "python3"
  },
  "language_info": {
   "codemirror_mode": {
    "name": "ipython",
    "version": 3
   },
   "file_extension": ".py",
   "mimetype": "text/x-python",
   "name": "python",
   "nbconvert_exporter": "python",
   "pygments_lexer": "ipython3",
   "version": "3.12.4"
  }
 },
 "nbformat": 4,
 "nbformat_minor": 5
}
