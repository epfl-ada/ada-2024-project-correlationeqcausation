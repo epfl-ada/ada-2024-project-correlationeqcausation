{
 "cells": [
  {
   "cell_type": "code",
   "execution_count": null,
   "metadata": {},
   "outputs": [],
   "source": [
    "import seaborn as sns\n",
    "import matplotlib.pyplot as plt"
   ]
  },
  {
   "cell_type": "code",
   "execution_count": null,
   "metadata": {},
   "outputs": [],
   "source": [
    "%run data_pipeline.ipynb"
   ]
  },
  {
   "cell_type": "code",
   "execution_count": null,
   "metadata": {},
   "outputs": [],
   "source": [
    "import pandas as pd\n",
    "\n",
    "# Load the data\n",
    "genres_df = pd.read_parquet('cache/genres.parquet')\n",
    "languages_df = pd.read_parquet('cache/languages.parquet')\n",
    "countries_df = pd.read_parquet('cache/countries.parquet')\n",
    "data_df = pd.read_parquet('cache/data.parquet')\n",
    "data_df['oscar_nominated'] = data_df['oscar_nominated'].astype(float)"
   ]
  },
  {
   "cell_type": "markdown",
   "metadata": {},
   "source": [
    "### Find number of movies the actor starred in prior to starring in the current movie"
   ]
  },
  {
   "cell_type": "code",
   "execution_count": null,
   "metadata": {},
   "outputs": [],
   "source": [
    "# Sort movies by year \n",
    "data_df = data_df.loc[data_df['year'].notna(), :]\n",
    "data_df = data_df.sort_values('year', ascending=True)\n",
    "\n",
    "# Get cumulative count of movies for each actor\n",
    "data_df['number_of_movies_starred_in'] = data_df.groupby('actor_identifier').cumcount() + 1"
   ]
  },
  {
   "cell_type": "markdown",
   "metadata": {},
   "source": [
    "### Find distribution of number of movies actors star in"
   ]
  },
  {
   "cell_type": "code",
   "execution_count": null,
   "metadata": {},
   "outputs": [],
   "source": [
    "# The cumulative count does not make sense for the earlier movies since we don't count movies\n",
    "# prior to that. We set the year to 2000 since now this issue would only occur if actors starred in a movie\n",
    "# prior to 1928 and were nominated for an Oscar after 2000. Which is unlikely.\n",
    "\n",
    "oscar_nominated_plot_df = data_df.loc[(data_df['oscar_nominated'] == 1) & (data_df['year'] > 2000)].groupby('actor_identifier').agg(\n",
    "    movies_starred_in=('number_of_movies_starred_in', 'min')).reset_index()\n",
    "not_oscar_nominated_plot_df = data_df.loc[(data_df['oscar_nominated'] == 0) & (data_df['year'] > 2000)].groupby('actor_identifier').agg(\n",
    "    movies_starred_in=('number_of_movies_starred_in', 'max')).reset_index()\n",
    "\n",
    "fig, axs = plt.subplots(2, 1, figsize=(12, 6))\n",
    "sns.histplot(data=not_oscar_nominated_plot_df, x='movies_starred_in', ax=axs[0], log_scale=False)\n",
    "sns.histplot(data=oscar_nominated_plot_df, x='movies_starred_in', ax=axs[1], log_scale=False)\n",
    "\n",
    "axs[0].set_title('Number of movies starred in by actors never nominated for an Oscar')\n",
    "axs[1].set_title('Number of movies starred in by actors before getting nominated for their first Oscar')\n",
    "\n",
    "axs[0].set_xlabel('Number of movies starred in')\n",
    "axs[1].set_xlabel('Number of movies starred in')\n",
    "\n",
    "plt.tight_layout()\n",
    "plt.show()"
   ]
  },
  {
   "cell_type": "code",
   "execution_count": null,
   "metadata": {},
   "outputs": [],
   "source": []
  },
  {
   "cell_type": "code",
   "execution_count": null,
   "metadata": {},
   "outputs": [],
   "source": [
    "print('Mean number of movies starred in by actors never nominated for an Oscar: ', not_oscar_nominated_plot_df['movies_starred_in'].mean())\n",
    "print('Mean number of movies starred in by actors before getting nominated for their first Oscar: ', oscar_nominated_plot_df['movies_starred_in'].mean())"
   ]
  },
  {
   "cell_type": "code",
   "execution_count": null,
   "metadata": {},
   "outputs": [],
   "source": [
    "# Do a p-test to see if the difference is significant\n",
    "from scipy.stats import ttest_ind\n",
    "\n",
    "ttest_result = ttest_ind(not_oscar_nominated_plot_df['movies_starred_in'], oscar_nominated_plot_df['movies_starred_in'])\n",
    "print('P-value: ', ttest_result.pvalue)"
   ]
  },
  {
   "cell_type": "markdown",
   "metadata": {},
   "source": [
    "The p-value is less than 5%, thus we conclude the distributions to be different."
   ]
  },
  {
   "cell_type": "markdown",
   "metadata": {},
   "source": [
    "We conclude that actors who got nominated for Oscars in the 21th centaury on average starred in 14 movies. "
   ]
  },
  {
   "cell_type": "markdown",
   "metadata": {},
   "source": [
    "### Do the chance of winning an Oscar increase because you have more entries (as in more movies) or because of something else? (2000 >)"
   ]
  },
  {
   "cell_type": "code",
   "execution_count": null,
   "metadata": {},
   "outputs": [],
   "source": [
    "# Assuming each movie is independent of the other\n",
    "# Probability of getting nominated for an Oscar after starring in one movie\n",
    "filtered_df = data_df.loc[data_df['year'] > 2000]\n",
    "iid_p = filtered_df.loc[filtered_df['oscar_nominated'] == 1].shape[0] / filtered_df.shape[0]\n",
    "print('Probability of getting nominated for an Oscar after starring in one movie: ', iid_p)\n",
    "\n",
    "nominated_df = filtered_df.loc[filtered_df['oscar_nominated'] == 1]\n",
    "\n",
    "actual_probabilities = []\n",
    "iid_probabilities = []\n",
    "\n",
    "for i in range(1, 25):\n",
    "    actual_probabilities.append(nominated_df.loc[nominated_df['number_of_movies_starred_in'] <= i].shape[0] / filtered_df.shape[0])\n",
    "    iid_probabilities.append(1 - (1 - iid_p) ** i)\n",
    "\n",
    "\n",
    "plt.plot(range(1, 25), actual_probabilities, label='Actual probabilities')\n",
    "# plt.plot(range(1, 25), iid_probabilities, label='IID probabilities')\n",
    "plt.xlabel('Number of movies starred in')\n",
    "plt.ylabel('Probability of getting nominated for an Oscar')\n",
    "plt.legend()\n",
    "plt.show()\n",
    "\n",
    "\n",
    "\n"
   ]
  },
  {
   "cell_type": "code",
   "execution_count": null,
   "metadata": {},
   "outputs": [],
   "source": [
    "data_df['cumulative_rating'] = data_df.groupby('actor_identifier')['average_rating'].cumsum()\n",
    "data_df['average_rating'] = data_df['cumulative_rating'] / data_df['number_of_movies_starred_in']\n",
    "\n",
    "# Removing rows after actor's first Oscar nomination\n",
    "oscar_nominated_df = data_df.loc[data_df['oscar_nominated'] == 1]\n",
    "non_oscar_nominated_df = data_df.loc[data_df['oscar_nominated'] == 0]\n",
    "\n",
    "# oscar_nominated_grouped_df = oscar_nominated_df.groupby('actor_identifier').agg(\n",
    "#     first_oscar_nominated_year=('year', 'min')).reset_index()\n",
    "\n",
    "# before_oscar_nominated_df = oscar_nominated_grouped_df.merge(data_df, on='actor_identifier')\n",
    "# before_oscar_nominated_df = before_oscar_nominated_df.loc[before_oscar_nominated_df['year'] <= before_oscar_nominated_df['first_oscar_nominated_year']]\n",
    "\n",
    "# after_oscar_nominated_df = oscar_nominated_grouped_df.merge(data_df, on='actor_identifier')\n",
    "# after_oscar_nominated_df = after_oscar_nominated_df.loc[after_oscar_nominated_df['year'] > after_oscar_nominated_df['first_oscar_nominated_year']]\n",
    "\n",
    "oscar_nominated_df = oscar_nominated_df.groupby('actor_identifier').agg(\n",
    "    average_box_office=('average_rating', 'last'),\n",
    "    number_of_movies_starred_in=('number_of_movies_starred_in', 'last')).reset_index()\n",
    "\n",
    "non_oscar_nominated_df = non_oscar_nominated_df.groupby('actor_identifier').agg(\n",
    "    average_box_office=('average_rating', 'last'),\n",
    "    number_of_movies_starred_in=('number_of_movies_starred_in', 'last')).reset_index()\n",
    "\n",
    "fig, axs = plt.subplots(1, 2, figsize=(12, 6), layout='tight', sharey=True, sharex=True)\n",
    "\n",
    "sns.scatterplot(data=oscar_nominated_df, x='number_of_movies_starred_in', y='average_box_office', ax=axs[0])\n",
    "sns.scatterplot(data=non_oscar_nominated_df, x='number_of_movies_starred_in', y='average_box_office', ax=axs[1])\n",
    "\n",
    "axs[0].set_title('Actors before their first Oscar nomination')\n",
    "axs[1].set_title('Actors who have never been nominated for an Oscar at the time of their last movie')\n",
    "\n",
    "axs[0].set_xlabel('Number of movies starred in')\n",
    "axs[1].set_xlabel('Number of movies starred in')\n",
    "axs[0].set_ylabel('Average box office revenue up until that point')\n",
    "\n",
    "plt.legend()\n",
    "\n",
    "# fig, ax = plt.subplots(1, 1, figsize=(12, 6))\n",
    "\n",
    "# sns.lineplot(data=before_oscar_nominated_df, x='number_of_movies_starred_in', y='average_rating', orient='x', ax=ax)\n",
    "# sns.lineplot(data=non_oscar_nominated_df, x='number_of_movies_starred_in', y='average_rating', orient='x', ax=ax)\n",
    "# sns.lineplot(data=after_oscar_nominated_df, x='number_of_movies_starred_in', y='average_rating', orient='x', ax=ax)"
   ]
  },
  {
   "cell_type": "code",
   "execution_count": null,
   "metadata": {},
   "outputs": [],
   "source": []
  }
 ],
 "metadata": {
  "kernelspec": {
   "display_name": "ada",
   "language": "python",
   "name": "ada"
  },
  "language_info": {
   "codemirror_mode": {
    "name": "ipython",
    "version": 3
   },
   "file_extension": ".py",
   "mimetype": "text/x-python",
   "name": "python",
   "nbconvert_exporter": "python",
   "pygments_lexer": "ipython3",
   "version": "3.12.6"
  }
 },
 "nbformat": 4,
 "nbformat_minor": 2
}
