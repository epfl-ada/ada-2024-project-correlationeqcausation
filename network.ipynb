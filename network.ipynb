{
 "cells": [
  {
   "cell_type": "code",
   "execution_count": 131,
   "metadata": {},
   "outputs": [],
   "source": [
    "import pandas as pd\n",
    "import numpy as np\n",
    "import matplotlib.pyplot as plt\n",
    "import networkx as nx\n",
    "from itertools import combinations\n",
    "import plotly.graph_objects as go\n",
    "import plotly.graph_objects as px\n",
    "import mpld3"
   ]
  },
  {
   "cell_type": "code",
   "execution_count": 132,
   "metadata": {},
   "outputs": [
    {
     "name": "stdout",
     "output_type": "stream",
     "text": [
      "Requirement already satisfied: mpld3 in /opt/anaconda3/lib/python3.12/site-packages (0.5.10)\n",
      "Requirement already satisfied: jinja2 in /opt/anaconda3/lib/python3.12/site-packages (from mpld3) (3.1.4)\n",
      "Requirement already satisfied: matplotlib in /opt/anaconda3/lib/python3.12/site-packages (from mpld3) (3.8.4)\n",
      "Requirement already satisfied: MarkupSafe>=2.0 in /opt/anaconda3/lib/python3.12/site-packages (from jinja2->mpld3) (2.1.3)\n",
      "Requirement already satisfied: contourpy>=1.0.1 in /opt/anaconda3/lib/python3.12/site-packages (from matplotlib->mpld3) (1.2.0)\n",
      "Requirement already satisfied: cycler>=0.10 in /opt/anaconda3/lib/python3.12/site-packages (from matplotlib->mpld3) (0.11.0)\n",
      "Requirement already satisfied: fonttools>=4.22.0 in /opt/anaconda3/lib/python3.12/site-packages (from matplotlib->mpld3) (4.51.0)\n",
      "Requirement already satisfied: kiwisolver>=1.3.1 in /opt/anaconda3/lib/python3.12/site-packages (from matplotlib->mpld3) (1.4.4)\n",
      "Requirement already satisfied: numpy>=1.21 in /opt/anaconda3/lib/python3.12/site-packages (from matplotlib->mpld3) (1.26.4)\n",
      "Requirement already satisfied: packaging>=20.0 in /opt/anaconda3/lib/python3.12/site-packages (from matplotlib->mpld3) (23.2)\n",
      "Requirement already satisfied: pillow>=8 in /opt/anaconda3/lib/python3.12/site-packages (from matplotlib->mpld3) (10.3.0)\n",
      "Requirement already satisfied: pyparsing>=2.3.1 in /opt/anaconda3/lib/python3.12/site-packages (from matplotlib->mpld3) (3.0.9)\n",
      "Requirement already satisfied: python-dateutil>=2.7 in /opt/anaconda3/lib/python3.12/site-packages (from matplotlib->mpld3) (2.9.0.post0)\n",
      "Requirement already satisfied: six>=1.5 in /opt/anaconda3/lib/python3.12/site-packages (from python-dateutil>=2.7->matplotlib->mpld3) (1.16.0)\n"
     ]
    }
   ],
   "source": [
    "!pip install mpld3"
   ]
  },
  {
   "cell_type": "code",
   "execution_count": 133,
   "metadata": {},
   "outputs": [
    {
     "name": "stdout",
     "output_type": "stream",
     "text": [
      "########## Data pipeline ##########\n",
      "\n",
      "Preparing CMU data\n",
      "379 movies shared both name and release year, dropping\n",
      "314 movies had actors with the same name, dropping\n",
      "\n",
      "Merging Oscar dataset, after merge:\n",
      "Number of different Oscar nominated movies in dataset: 952 in total 63968 different movies\n",
      "Number of different Oscar nominated actors in dataset: 801 in total 134907 different actors\n",
      "Number of Oscar nominated rows: 1443\n",
      "\n",
      "Merging IMDb dataset, after merge:\n",
      "Number of movies with ratings: 36758\n",
      "Oscar nominated movies with rating: 939\n",
      "Number of rows in data before cleaning:  443504\n",
      "Number of rows in data after cleaning:  23819\n",
      "Number of rows where age is < 0: 7 . Dropping these rows\n",
      "\n",
      "FINAL STATE OF DATA\n",
      "Number of rows:  23812\n",
      "Number of different Oscar nominated movies in dataset: 394 in total 5987 different movies\n",
      "Number of different Oscar nominated actors in dataset: 284 in total 2959 different actors\n",
      "Number of Oscar nominated rows: 519\n",
      "Processing done, dataset written to cache/data.csv\n"
     ]
    }
   ],
   "source": [
    "%run data_pipeline.ipynb"
   ]
  },
  {
   "cell_type": "code",
   "execution_count": 134,
   "metadata": {},
   "outputs": [],
   "source": [
    "# Read data\n",
    "df = pd.read_csv('cache/data.csv', sep=',', index_col=0)\n",
    "unclean_df = pd.read_csv('cache/unclean_data.csv', sep=',', index_col=0)"
   ]
  },
  {
   "cell_type": "code",
   "execution_count": 135,
   "metadata": {},
   "outputs": [
    {
     "data": {
      "text/html": [
       "<div>\n",
       "<style scoped>\n",
       "    .dataframe tbody tr th:only-of-type {\n",
       "        vertical-align: middle;\n",
       "    }\n",
       "\n",
       "    .dataframe tbody tr th {\n",
       "        vertical-align: top;\n",
       "    }\n",
       "\n",
       "    .dataframe thead th {\n",
       "        text-align: right;\n",
       "    }\n",
       "</style>\n",
       "<table border=\"1\" class=\"dataframe\">\n",
       "  <thead>\n",
       "    <tr style=\"text-align: right;\">\n",
       "      <th></th>\n",
       "      <th>title</th>\n",
       "      <th>box_office_revenue</th>\n",
       "      <th>runtime</th>\n",
       "      <th>languages</th>\n",
       "      <th>countries</th>\n",
       "      <th>genres</th>\n",
       "      <th>movie_identifier</th>\n",
       "      <th>actor_gender</th>\n",
       "      <th>actor_height</th>\n",
       "      <th>actor_ethnicity</th>\n",
       "      <th>...</th>\n",
       "      <th>identifier</th>\n",
       "      <th>category</th>\n",
       "      <th>winner</th>\n",
       "      <th>oscar_nominated</th>\n",
       "      <th>year</th>\n",
       "      <th>average_rating</th>\n",
       "      <th>number_of_votes</th>\n",
       "      <th>number_of_movies_starred_in</th>\n",
       "      <th>average_rating_previous_movies</th>\n",
       "      <th>average_box_office_revenue_previous_movies</th>\n",
       "    </tr>\n",
       "  </thead>\n",
       "  <tbody>\n",
       "    <tr>\n",
       "      <th>140029</th>\n",
       "      <td>Down to You</td>\n",
       "      <td>24419914</td>\n",
       "      <td>92</td>\n",
       "      <td>['French Language', 'English Language']</td>\n",
       "      <td>['United States of America']</td>\n",
       "      <td>['Romantic comedy', 'Romance Film', 'Drama', '...</td>\n",
       "      <td>down to you_2000</td>\n",
       "      <td>M</td>\n",
       "      <td>1.88</td>\n",
       "      <td>/m/0xnvg</td>\n",
       "      <td>...</td>\n",
       "      <td>down to you_2000_adam carolla</td>\n",
       "      <td>NaN</td>\n",
       "      <td>NaN</td>\n",
       "      <td>False</td>\n",
       "      <td>2000</td>\n",
       "      <td>5.0</td>\n",
       "      <td>15878</td>\n",
       "      <td>1</td>\n",
       "      <td>2.500000</td>\n",
       "      <td>1.220996e+07</td>\n",
       "    </tr>\n",
       "    <tr>\n",
       "      <th>60320</th>\n",
       "      <td>The Bible: In The Beginning</td>\n",
       "      <td>34900023</td>\n",
       "      <td>171</td>\n",
       "      <td>['English Language']</td>\n",
       "      <td>['United States of America', 'Italy']</td>\n",
       "      <td>['Christian film', 'Drama', 'Epic', 'World cin...</td>\n",
       "      <td>the bible in the beginning_1966</td>\n",
       "      <td>M</td>\n",
       "      <td>1.85</td>\n",
       "      <td>/m/03bkbh</td>\n",
       "      <td>...</td>\n",
       "      <td>the bible in the beginning_1966_richard harris</td>\n",
       "      <td>NaN</td>\n",
       "      <td>NaN</td>\n",
       "      <td>False</td>\n",
       "      <td>1966</td>\n",
       "      <td>6.2</td>\n",
       "      <td>6385</td>\n",
       "      <td>1</td>\n",
       "      <td>3.100000</td>\n",
       "      <td>1.745001e+07</td>\n",
       "    </tr>\n",
       "    <tr>\n",
       "      <th>389034</th>\n",
       "      <td>Hawaii</td>\n",
       "      <td>34562222</td>\n",
       "      <td>161</td>\n",
       "      <td>['English Language']</td>\n",
       "      <td>['United States of America']</td>\n",
       "      <td>['Period piece', 'Roadshow theatrical release'...</td>\n",
       "      <td>hawaii_1966</td>\n",
       "      <td>M</td>\n",
       "      <td>1.85</td>\n",
       "      <td>/m/03bkbh</td>\n",
       "      <td>...</td>\n",
       "      <td>hawaii_1966_richard harris</td>\n",
       "      <td>NaN</td>\n",
       "      <td>NaN</td>\n",
       "      <td>False</td>\n",
       "      <td>1966</td>\n",
       "      <td>6.5</td>\n",
       "      <td>3708</td>\n",
       "      <td>1</td>\n",
       "      <td>6.350000</td>\n",
       "      <td>3.473112e+07</td>\n",
       "    </tr>\n",
       "    <tr>\n",
       "      <th>130002</th>\n",
       "      <td>Camelot</td>\n",
       "      <td>31102578</td>\n",
       "      <td>178</td>\n",
       "      <td>['English Language']</td>\n",
       "      <td>['United States of America']</td>\n",
       "      <td>['Costume drama', 'Musical', 'Roadshow theatri...</td>\n",
       "      <td>camelot_1967</td>\n",
       "      <td>M</td>\n",
       "      <td>1.85</td>\n",
       "      <td>/m/03bkbh</td>\n",
       "      <td>...</td>\n",
       "      <td>camelot_1967_richard harris</td>\n",
       "      <td>NaN</td>\n",
       "      <td>NaN</td>\n",
       "      <td>False</td>\n",
       "      <td>1967</td>\n",
       "      <td>6.6</td>\n",
       "      <td>7624</td>\n",
       "      <td>2</td>\n",
       "      <td>6.433333</td>\n",
       "      <td>3.352161e+07</td>\n",
       "    </tr>\n",
       "    <tr>\n",
       "      <th>182566</th>\n",
       "      <td>Caprice</td>\n",
       "      <td>4075000</td>\n",
       "      <td>95</td>\n",
       "      <td>['English Language']</td>\n",
       "      <td>['United States of America']</td>\n",
       "      <td>['Romantic comedy', 'Crime Fiction', 'Mystery'...</td>\n",
       "      <td>caprice_1967</td>\n",
       "      <td>M</td>\n",
       "      <td>1.85</td>\n",
       "      <td>/m/03bkbh</td>\n",
       "      <td>...</td>\n",
       "      <td>caprice_1967_richard harris</td>\n",
       "      <td>NaN</td>\n",
       "      <td>NaN</td>\n",
       "      <td>False</td>\n",
       "      <td>1967</td>\n",
       "      <td>5.5</td>\n",
       "      <td>1761</td>\n",
       "      <td>3</td>\n",
       "      <td>6.200000</td>\n",
       "      <td>2.615996e+07</td>\n",
       "    </tr>\n",
       "  </tbody>\n",
       "</table>\n",
       "<p>5 rows × 23 columns</p>\n",
       "</div>"
      ],
      "text/plain": [
       "                              title  box_office_revenue  runtime  \\\n",
       "140029                  Down to You            24419914       92   \n",
       "60320   The Bible: In The Beginning            34900023      171   \n",
       "389034                       Hawaii            34562222      161   \n",
       "130002                      Camelot            31102578      178   \n",
       "182566                      Caprice             4075000       95   \n",
       "\n",
       "                                      languages  \\\n",
       "140029  ['French Language', 'English Language']   \n",
       "60320                      ['English Language']   \n",
       "389034                     ['English Language']   \n",
       "130002                     ['English Language']   \n",
       "182566                     ['English Language']   \n",
       "\n",
       "                                    countries  \\\n",
       "140029           ['United States of America']   \n",
       "60320   ['United States of America', 'Italy']   \n",
       "389034           ['United States of America']   \n",
       "130002           ['United States of America']   \n",
       "182566           ['United States of America']   \n",
       "\n",
       "                                                   genres  \\\n",
       "140029  ['Romantic comedy', 'Romance Film', 'Drama', '...   \n",
       "60320   ['Christian film', 'Drama', 'Epic', 'World cin...   \n",
       "389034  ['Period piece', 'Roadshow theatrical release'...   \n",
       "130002  ['Costume drama', 'Musical', 'Roadshow theatri...   \n",
       "182566  ['Romantic comedy', 'Crime Fiction', 'Mystery'...   \n",
       "\n",
       "                       movie_identifier actor_gender  actor_height  \\\n",
       "140029                 down to you_2000            M          1.88   \n",
       "60320   the bible in the beginning_1966            M          1.85   \n",
       "389034                      hawaii_1966            M          1.85   \n",
       "130002                     camelot_1967            M          1.85   \n",
       "182566                     caprice_1967            M          1.85   \n",
       "\n",
       "       actor_ethnicity  ...                                      identifier  \\\n",
       "140029        /m/0xnvg  ...                   down to you_2000_adam carolla   \n",
       "60320        /m/03bkbh  ...  the bible in the beginning_1966_richard harris   \n",
       "389034       /m/03bkbh  ...                      hawaii_1966_richard harris   \n",
       "130002       /m/03bkbh  ...                     camelot_1967_richard harris   \n",
       "182566       /m/03bkbh  ...                     caprice_1967_richard harris   \n",
       "\n",
       "       category winner oscar_nominated  year average_rating  number_of_votes  \\\n",
       "140029      NaN    NaN           False  2000            5.0            15878   \n",
       "60320       NaN    NaN           False  1966            6.2             6385   \n",
       "389034      NaN    NaN           False  1966            6.5             3708   \n",
       "130002      NaN    NaN           False  1967            6.6             7624   \n",
       "182566      NaN    NaN           False  1967            5.5             1761   \n",
       "\n",
       "        number_of_movies_starred_in  average_rating_previous_movies  \\\n",
       "140029                            1                        2.500000   \n",
       "60320                             1                        3.100000   \n",
       "389034                            1                        6.350000   \n",
       "130002                            2                        6.433333   \n",
       "182566                            3                        6.200000   \n",
       "\n",
       "        average_box_office_revenue_previous_movies  \n",
       "140029                                1.220996e+07  \n",
       "60320                                 1.745001e+07  \n",
       "389034                                3.473112e+07  \n",
       "130002                                3.352161e+07  \n",
       "182566                                2.615996e+07  \n",
       "\n",
       "[5 rows x 23 columns]"
      ]
     },
     "execution_count": 135,
     "metadata": {},
     "output_type": "execute_result"
    }
   ],
   "source": [
    "df.head()"
   ]
  },
  {
   "cell_type": "markdown",
   "metadata": {},
   "source": [
    "## **Actor Network Analysis**"
   ]
  },
  {
   "cell_type": "markdown",
   "metadata": {},
   "source": [
    "In this section we dive into each actors network. How many relationships does a oscar nominated actor have? How many does an oscar winner have? Does this correlate and does non-nominated actors have fewer relationships?\n",
    "\n",
    "(note; A relationship is defined as starred in the same movie as another actor)"
   ]
  },
  {
   "cell_type": "code",
   "execution_count": 136,
   "metadata": {},
   "outputs": [],
   "source": [
    "df_movies = df\n",
    "oscar_nominated_df = df[df['oscar_nominated']==True]"
   ]
  },
  {
   "cell_type": "markdown",
   "metadata": {},
   "source": [
    "First we take a look at all actors:"
   ]
  },
  {
   "cell_type": "code",
   "execution_count": 137,
   "metadata": {},
   "outputs": [],
   "source": [
    "# Creating a graph\n",
    "G = nx.Graph()\n",
    "\n",
    "# Adding all actors as nodes\n",
    "for _, row in df_movies.iterrows():\n",
    "    G.add_node(row['actor_identifier'], oscar_nominated=row['oscar_nominated'])\n",
    "\n",
    "\n",
    "# Grouping, and for each group add the each combination of actors as an edge\n",
    "for movie, group in df_movies.groupby('title'):\n",
    "    actors = group['actor_identifier'].tolist()\n",
    "    for actor1, actor2 in combinations(actors, 2):\n",
    "        if G.has_edge(actor1, actor2):\n",
    "            # Adding an edge \n",
    "            G[actor1][actor2]['movies'].append(movie)\n",
    "        else:\n",
    "            # If the edge already exists, adding the movie to the list of movies for that edge. \n",
    "            G.add_edge(actor1, actor2, movies=[movie])\n"
   ]
  },
  {
   "cell_type": "code",
   "execution_count": 138,
   "metadata": {},
   "outputs": [
    {
     "name": "stdout",
     "output_type": "stream",
     "text": [
      "Mean edge count for not nominated actors:  37.2\n",
      "Mean edge count for nominated actors:  72.8\n"
     ]
    }
   ],
   "source": [
    "# Now we add the degree of each node in two lists based on if they are nominated \n",
    "# or not such that we can calculate the average degree of both groups. \n",
    "nominated_nodes = []\n",
    "not_nodes = []\n",
    "degree_dict = dict(G.degree())\n",
    "for node, degree in degree_dict.items():\n",
    "    nominated = G.nodes[node]['oscar_nominated']\n",
    "    if nominated: \n",
    "        nominated_nodes.append(G.degree(node))\n",
    "    else: \n",
    "        not_nodes.append(G.degree(node))\n",
    "\n",
    "print('Mean edge count for not nominated actors: ', np.round(np.mean(not_nodes),1))\n",
    "print('Mean edge count for nominated actors: ', np.mean(nominated_nodes))"
   ]
  },
  {
   "cell_type": "markdown",
   "metadata": {},
   "source": [
    "Nominated actors has almost 2x the relationsships compared to not nominated. We look into this further by comparing number of movie performances for not nominated and not nominated actors. "
   ]
  },
  {
   "cell_type": "code",
   "execution_count": 139,
   "metadata": {},
   "outputs": [
    {
     "data": {
      "text/plain": [
       "number_of_movies_starred_in    5.96785\n",
       "dtype: float64"
      ]
     },
     "execution_count": 139,
     "metadata": {},
     "output_type": "execute_result"
    }
   ],
   "source": [
    "# Defining values for plot. \n",
    "temp_df = df[['actor_identifier','oscar_nominated']].groupby('actor_identifier').agg('max').reset_index()\n",
    "df_with_nominated_status = df.merge(temp_df, on='actor_identifier', how='outer')\n",
    "\n",
    "oscar_nominated_actors = df_with_nominated_status[df_with_nominated_status['oscar_nominated_y'] == True]\n",
    "oscar_nominated_actors = oscar_nominated_actors[['actor_identifier', 'number_of_movies_starred_in']].groupby('actor_identifier').agg('max')\n",
    "\n",
    "not_nominated_actors = df_with_nominated_status[df_with_nominated_status['oscar_nominated_y'] == False]\n",
    "not_nominated_actors = not_nominated_actors[['actor_identifier', 'number_of_movies_starred_in']].groupby('actor_identifier').agg('max')\n",
    "oscar_nominated_actors.mean()\n",
    "not_nominated_actors.mean()"
   ]
  },
  {
   "cell_type": "code",
   "execution_count": 140,
   "metadata": {},
   "outputs": [],
   "source": [
    "# Defining values for plot. \n",
    "mean_relationships_nominated = np.mean(nominated_nodes)\n",
    "mean_relationships_not_nominated = np.mean(not_nodes)"
   ]
  },
  {
   "cell_type": "code",
   "execution_count": 141,
   "metadata": {},
   "outputs": [
    {
     "data": {
      "application/vnd.plotly.v1+json": {
       "config": {
        "plotlyServerURL": "https://plot.ly"
       },
       "data": [
        {
         "marker": {
          "color": "blue"
         },
         "name": "Nominated",
         "type": "bar",
         "x": [
          "Relationships",
          "Movie performances"
         ],
         "y": [
          72.8,
          19.422535211267604
         ]
        },
        {
         "marker": {
          "color": "red"
         },
         "name": "Not nominated",
         "type": "bar",
         "x": [
          "Relationships",
          "Movie performances"
         ],
         "y": [
          37.17391304347826,
          5.967850467289719
         ]
        }
       ],
       "layout": {
        "template": {
         "data": {
          "bar": [
           {
            "error_x": {
             "color": "#2a3f5f"
            },
            "error_y": {
             "color": "#2a3f5f"
            },
            "marker": {
             "line": {
              "color": "#E5ECF6",
              "width": 0.5
             },
             "pattern": {
              "fillmode": "overlay",
              "size": 10,
              "solidity": 0.2
             }
            },
            "type": "bar"
           }
          ],
          "barpolar": [
           {
            "marker": {
             "line": {
              "color": "#E5ECF6",
              "width": 0.5
             },
             "pattern": {
              "fillmode": "overlay",
              "size": 10,
              "solidity": 0.2
             }
            },
            "type": "barpolar"
           }
          ],
          "carpet": [
           {
            "aaxis": {
             "endlinecolor": "#2a3f5f",
             "gridcolor": "white",
             "linecolor": "white",
             "minorgridcolor": "white",
             "startlinecolor": "#2a3f5f"
            },
            "baxis": {
             "endlinecolor": "#2a3f5f",
             "gridcolor": "white",
             "linecolor": "white",
             "minorgridcolor": "white",
             "startlinecolor": "#2a3f5f"
            },
            "type": "carpet"
           }
          ],
          "choropleth": [
           {
            "colorbar": {
             "outlinewidth": 0,
             "ticks": ""
            },
            "type": "choropleth"
           }
          ],
          "contour": [
           {
            "colorbar": {
             "outlinewidth": 0,
             "ticks": ""
            },
            "colorscale": [
             [
              0,
              "#0d0887"
             ],
             [
              0.1111111111111111,
              "#46039f"
             ],
             [
              0.2222222222222222,
              "#7201a8"
             ],
             [
              0.3333333333333333,
              "#9c179e"
             ],
             [
              0.4444444444444444,
              "#bd3786"
             ],
             [
              0.5555555555555556,
              "#d8576b"
             ],
             [
              0.6666666666666666,
              "#ed7953"
             ],
             [
              0.7777777777777778,
              "#fb9f3a"
             ],
             [
              0.8888888888888888,
              "#fdca26"
             ],
             [
              1,
              "#f0f921"
             ]
            ],
            "type": "contour"
           }
          ],
          "contourcarpet": [
           {
            "colorbar": {
             "outlinewidth": 0,
             "ticks": ""
            },
            "type": "contourcarpet"
           }
          ],
          "heatmap": [
           {
            "colorbar": {
             "outlinewidth": 0,
             "ticks": ""
            },
            "colorscale": [
             [
              0,
              "#0d0887"
             ],
             [
              0.1111111111111111,
              "#46039f"
             ],
             [
              0.2222222222222222,
              "#7201a8"
             ],
             [
              0.3333333333333333,
              "#9c179e"
             ],
             [
              0.4444444444444444,
              "#bd3786"
             ],
             [
              0.5555555555555556,
              "#d8576b"
             ],
             [
              0.6666666666666666,
              "#ed7953"
             ],
             [
              0.7777777777777778,
              "#fb9f3a"
             ],
             [
              0.8888888888888888,
              "#fdca26"
             ],
             [
              1,
              "#f0f921"
             ]
            ],
            "type": "heatmap"
           }
          ],
          "heatmapgl": [
           {
            "colorbar": {
             "outlinewidth": 0,
             "ticks": ""
            },
            "colorscale": [
             [
              0,
              "#0d0887"
             ],
             [
              0.1111111111111111,
              "#46039f"
             ],
             [
              0.2222222222222222,
              "#7201a8"
             ],
             [
              0.3333333333333333,
              "#9c179e"
             ],
             [
              0.4444444444444444,
              "#bd3786"
             ],
             [
              0.5555555555555556,
              "#d8576b"
             ],
             [
              0.6666666666666666,
              "#ed7953"
             ],
             [
              0.7777777777777778,
              "#fb9f3a"
             ],
             [
              0.8888888888888888,
              "#fdca26"
             ],
             [
              1,
              "#f0f921"
             ]
            ],
            "type": "heatmapgl"
           }
          ],
          "histogram": [
           {
            "marker": {
             "pattern": {
              "fillmode": "overlay",
              "size": 10,
              "solidity": 0.2
             }
            },
            "type": "histogram"
           }
          ],
          "histogram2d": [
           {
            "colorbar": {
             "outlinewidth": 0,
             "ticks": ""
            },
            "colorscale": [
             [
              0,
              "#0d0887"
             ],
             [
              0.1111111111111111,
              "#46039f"
             ],
             [
              0.2222222222222222,
              "#7201a8"
             ],
             [
              0.3333333333333333,
              "#9c179e"
             ],
             [
              0.4444444444444444,
              "#bd3786"
             ],
             [
              0.5555555555555556,
              "#d8576b"
             ],
             [
              0.6666666666666666,
              "#ed7953"
             ],
             [
              0.7777777777777778,
              "#fb9f3a"
             ],
             [
              0.8888888888888888,
              "#fdca26"
             ],
             [
              1,
              "#f0f921"
             ]
            ],
            "type": "histogram2d"
           }
          ],
          "histogram2dcontour": [
           {
            "colorbar": {
             "outlinewidth": 0,
             "ticks": ""
            },
            "colorscale": [
             [
              0,
              "#0d0887"
             ],
             [
              0.1111111111111111,
              "#46039f"
             ],
             [
              0.2222222222222222,
              "#7201a8"
             ],
             [
              0.3333333333333333,
              "#9c179e"
             ],
             [
              0.4444444444444444,
              "#bd3786"
             ],
             [
              0.5555555555555556,
              "#d8576b"
             ],
             [
              0.6666666666666666,
              "#ed7953"
             ],
             [
              0.7777777777777778,
              "#fb9f3a"
             ],
             [
              0.8888888888888888,
              "#fdca26"
             ],
             [
              1,
              "#f0f921"
             ]
            ],
            "type": "histogram2dcontour"
           }
          ],
          "mesh3d": [
           {
            "colorbar": {
             "outlinewidth": 0,
             "ticks": ""
            },
            "type": "mesh3d"
           }
          ],
          "parcoords": [
           {
            "line": {
             "colorbar": {
              "outlinewidth": 0,
              "ticks": ""
             }
            },
            "type": "parcoords"
           }
          ],
          "pie": [
           {
            "automargin": true,
            "type": "pie"
           }
          ],
          "scatter": [
           {
            "fillpattern": {
             "fillmode": "overlay",
             "size": 10,
             "solidity": 0.2
            },
            "type": "scatter"
           }
          ],
          "scatter3d": [
           {
            "line": {
             "colorbar": {
              "outlinewidth": 0,
              "ticks": ""
             }
            },
            "marker": {
             "colorbar": {
              "outlinewidth": 0,
              "ticks": ""
             }
            },
            "type": "scatter3d"
           }
          ],
          "scattercarpet": [
           {
            "marker": {
             "colorbar": {
              "outlinewidth": 0,
              "ticks": ""
             }
            },
            "type": "scattercarpet"
           }
          ],
          "scattergeo": [
           {
            "marker": {
             "colorbar": {
              "outlinewidth": 0,
              "ticks": ""
             }
            },
            "type": "scattergeo"
           }
          ],
          "scattergl": [
           {
            "marker": {
             "colorbar": {
              "outlinewidth": 0,
              "ticks": ""
             }
            },
            "type": "scattergl"
           }
          ],
          "scattermapbox": [
           {
            "marker": {
             "colorbar": {
              "outlinewidth": 0,
              "ticks": ""
             }
            },
            "type": "scattermapbox"
           }
          ],
          "scatterpolar": [
           {
            "marker": {
             "colorbar": {
              "outlinewidth": 0,
              "ticks": ""
             }
            },
            "type": "scatterpolar"
           }
          ],
          "scatterpolargl": [
           {
            "marker": {
             "colorbar": {
              "outlinewidth": 0,
              "ticks": ""
             }
            },
            "type": "scatterpolargl"
           }
          ],
          "scatterternary": [
           {
            "marker": {
             "colorbar": {
              "outlinewidth": 0,
              "ticks": ""
             }
            },
            "type": "scatterternary"
           }
          ],
          "surface": [
           {
            "colorbar": {
             "outlinewidth": 0,
             "ticks": ""
            },
            "colorscale": [
             [
              0,
              "#0d0887"
             ],
             [
              0.1111111111111111,
              "#46039f"
             ],
             [
              0.2222222222222222,
              "#7201a8"
             ],
             [
              0.3333333333333333,
              "#9c179e"
             ],
             [
              0.4444444444444444,
              "#bd3786"
             ],
             [
              0.5555555555555556,
              "#d8576b"
             ],
             [
              0.6666666666666666,
              "#ed7953"
             ],
             [
              0.7777777777777778,
              "#fb9f3a"
             ],
             [
              0.8888888888888888,
              "#fdca26"
             ],
             [
              1,
              "#f0f921"
             ]
            ],
            "type": "surface"
           }
          ],
          "table": [
           {
            "cells": {
             "fill": {
              "color": "#EBF0F8"
             },
             "line": {
              "color": "white"
             }
            },
            "header": {
             "fill": {
              "color": "#C8D4E3"
             },
             "line": {
              "color": "white"
             }
            },
            "type": "table"
           }
          ]
         },
         "layout": {
          "annotationdefaults": {
           "arrowcolor": "#2a3f5f",
           "arrowhead": 0,
           "arrowwidth": 1
          },
          "autotypenumbers": "strict",
          "coloraxis": {
           "colorbar": {
            "outlinewidth": 0,
            "ticks": ""
           }
          },
          "colorscale": {
           "diverging": [
            [
             0,
             "#8e0152"
            ],
            [
             0.1,
             "#c51b7d"
            ],
            [
             0.2,
             "#de77ae"
            ],
            [
             0.3,
             "#f1b6da"
            ],
            [
             0.4,
             "#fde0ef"
            ],
            [
             0.5,
             "#f7f7f7"
            ],
            [
             0.6,
             "#e6f5d0"
            ],
            [
             0.7,
             "#b8e186"
            ],
            [
             0.8,
             "#7fbc41"
            ],
            [
             0.9,
             "#4d9221"
            ],
            [
             1,
             "#276419"
            ]
           ],
           "sequential": [
            [
             0,
             "#0d0887"
            ],
            [
             0.1111111111111111,
             "#46039f"
            ],
            [
             0.2222222222222222,
             "#7201a8"
            ],
            [
             0.3333333333333333,
             "#9c179e"
            ],
            [
             0.4444444444444444,
             "#bd3786"
            ],
            [
             0.5555555555555556,
             "#d8576b"
            ],
            [
             0.6666666666666666,
             "#ed7953"
            ],
            [
             0.7777777777777778,
             "#fb9f3a"
            ],
            [
             0.8888888888888888,
             "#fdca26"
            ],
            [
             1,
             "#f0f921"
            ]
           ],
           "sequentialminus": [
            [
             0,
             "#0d0887"
            ],
            [
             0.1111111111111111,
             "#46039f"
            ],
            [
             0.2222222222222222,
             "#7201a8"
            ],
            [
             0.3333333333333333,
             "#9c179e"
            ],
            [
             0.4444444444444444,
             "#bd3786"
            ],
            [
             0.5555555555555556,
             "#d8576b"
            ],
            [
             0.6666666666666666,
             "#ed7953"
            ],
            [
             0.7777777777777778,
             "#fb9f3a"
            ],
            [
             0.8888888888888888,
             "#fdca26"
            ],
            [
             1,
             "#f0f921"
            ]
           ]
          },
          "colorway": [
           "#636efa",
           "#EF553B",
           "#00cc96",
           "#ab63fa",
           "#FFA15A",
           "#19d3f3",
           "#FF6692",
           "#B6E880",
           "#FF97FF",
           "#FECB52"
          ],
          "font": {
           "color": "#2a3f5f"
          },
          "geo": {
           "bgcolor": "white",
           "lakecolor": "white",
           "landcolor": "#E5ECF6",
           "showlakes": true,
           "showland": true,
           "subunitcolor": "white"
          },
          "hoverlabel": {
           "align": "left"
          },
          "hovermode": "closest",
          "mapbox": {
           "style": "light"
          },
          "paper_bgcolor": "white",
          "plot_bgcolor": "#E5ECF6",
          "polar": {
           "angularaxis": {
            "gridcolor": "white",
            "linecolor": "white",
            "ticks": ""
           },
           "bgcolor": "#E5ECF6",
           "radialaxis": {
            "gridcolor": "white",
            "linecolor": "white",
            "ticks": ""
           }
          },
          "scene": {
           "xaxis": {
            "backgroundcolor": "#E5ECF6",
            "gridcolor": "white",
            "gridwidth": 2,
            "linecolor": "white",
            "showbackground": true,
            "ticks": "",
            "zerolinecolor": "white"
           },
           "yaxis": {
            "backgroundcolor": "#E5ECF6",
            "gridcolor": "white",
            "gridwidth": 2,
            "linecolor": "white",
            "showbackground": true,
            "ticks": "",
            "zerolinecolor": "white"
           },
           "zaxis": {
            "backgroundcolor": "#E5ECF6",
            "gridcolor": "white",
            "gridwidth": 2,
            "linecolor": "white",
            "showbackground": true,
            "ticks": "",
            "zerolinecolor": "white"
           }
          },
          "shapedefaults": {
           "line": {
            "color": "#2a3f5f"
           }
          },
          "ternary": {
           "aaxis": {
            "gridcolor": "white",
            "linecolor": "white",
            "ticks": ""
           },
           "baxis": {
            "gridcolor": "white",
            "linecolor": "white",
            "ticks": ""
           },
           "bgcolor": "#E5ECF6",
           "caxis": {
            "gridcolor": "white",
            "linecolor": "white",
            "ticks": ""
           }
          },
          "title": {
           "x": 0.05
          },
          "xaxis": {
           "automargin": true,
           "gridcolor": "white",
           "linecolor": "white",
           "ticks": "",
           "title": {
            "standoff": 15
           },
           "zerolinecolor": "white",
           "zerolinewidth": 2
          },
          "yaxis": {
           "automargin": true,
           "gridcolor": "white",
           "linecolor": "white",
           "ticks": "",
           "title": {
            "standoff": 15
           },
           "zerolinecolor": "white",
           "zerolinewidth": 2
          }
         }
        },
        "title": {
         "text": "Relationships and Performances for nominated and not nominated actors"
        },
        "yaxis": {
         "title": {
          "text": "Number of movies or Relationships"
         }
        }
       }
      }
     },
     "metadata": {},
     "output_type": "display_data"
    }
   ],
   "source": [
    "# Plotting \n",
    "x = ['Relationships', 'Movie performances']\n",
    " \n",
    "plot = px.Figure(data=[px.Bar(\n",
    "    name = 'Nominated',\n",
    "    x = x,\n",
    "    y = [mean_relationships_nominated,oscar_nominated_actors.mean().values[0]], \n",
    "     marker_color='blue'\n",
    "   ),\n",
    "    px.Bar(\n",
    "    name = 'Not nominated',\n",
    "    x = x,\n",
    "    y = [mean_relationships_not_nominated, not_nominated_actors.mean().values[0]], \n",
    "    marker_color = 'red'\n",
    "    )\n",
    "]\n",
    ")    \n",
    "\n",
    "plot.update_layout(\n",
    "    title=\"Relationships and Performances for nominated and not nominated actors\",\n",
    "    yaxis_title=\"Number of movies or Relationships\",\n",
    ")\n",
    "\n",
    "plot.write_html('network_analysis.html', full_html=False, include_plotlyjs='cdn')\n",
    "plot.show()"
   ]
  },
  {
   "cell_type": "markdown",
   "metadata": {},
   "source": [
    "Actors that are nominated have significantly more relationships compared to not nominted relationships, while nr. of movie performances are relatively similar. "
   ]
  },
  {
   "cell_type": "code",
   "execution_count": 142,
   "metadata": {},
   "outputs": [],
   "source": [
    "G = nx.Graph()\n",
    "for movie, group in oscar_nominated_df.groupby('movie_identifier'):\n",
    "    actors = group['actor_identifier'].tolist()\n",
    "    for actor1, actor2 in combinations(actors, 2):\n",
    "        if G.has_edge(actor1, actor2):\n",
    "            G[actor1][actor2]['movies'].append(movie)\n",
    "        else:\n",
    "            G.add_edge(actor1, actor2, movies=[movie])"
   ]
  },
  {
   "cell_type": "code",
   "execution_count": 143,
   "metadata": {},
   "outputs": [
    {
     "data": {
      "image/png": "[encoded data removed]",
      "text/plain": [
       "<Figure size 640x480 with 1 Axes>"
      ]
     },
     "metadata": {},
     "output_type": "display_data"
    }
   ],
   "source": [
    "pos = nx.spring_layout(G, k=0.15, iterations=50) \n",
    "nx.draw_networkx_nodes(\n",
    "    G, pos,\n",
    "    node_color='blue', \n",
    "    node_size=35,\n",
    "    label='Nominated actor'  \n",
    ")\n",
    "\n",
    "nx.draw_networkx_edges(\n",
    "    G, pos,\n",
    "    width=0.5,\n",
    "    edge_color='gray', \n",
    "    label = 'Actor relation'\n",
    ")\n",
    "\n",
    "\n",
    "plt.legend\n",
    "plt.title('Oscar Nominated Actors')\n",
    "plt.legend(\n",
    "    loc='upper left',  \n",
    "    title=\"Legend\",   \n",
    "    fontsize='10',\n",
    "    title_fontsize='12'\n",
    ")\n",
    "mpld3.save_html(plt.gcf(), \"network_graph.html\")"
   ]
  },
  {
   "cell_type": "markdown",
   "metadata": {},
   "source": [
    "It seems like all nominated actors have atleast one relationship with one other nominated actor. "
   ]
  },
  {
   "cell_type": "markdown",
   "metadata": {},
   "source": [
    "TEXT NETWORK ANALYSIS: "
   ]
  },
  {
   "cell_type": "markdown",
   "metadata": {},
   "source": [
    "What makes a great movie is seldom a single performance, it often an ensemble of great performances enhancing each other. Hence we make a deep dive into the actor relationships with other actors. We define a relationship as having performed in the same movie as another actor, i.e. actors will be nodes and shared performances between actors are edges in a graph. It is however not useful plotting the graph of all actors as it has over 23 000 nodes. We instead count the number of relationships for nominated and not nominated actors which turn out to 72.8 and 37.2 respectively. Nominated actors have this number of relationships while on average having stared in 8.9 movies while not nominated actors have on average starred in 7.9 movies. From this we see three options: 1. Nominated actors perofmr in movies with more actors, creatingmore relationships per movie starred in. 2. Nominated actors are in more popular movies where more actors are registered and hence in the dataset. 3. TBD\n",
    "\n",
    "Additionally, it appears that all nominated actors have a relationship to atleas another oscar nominated actor. This enforces the hypothesis that great performances are not stand-alone but rather enforced by other performances. "
   ]
  }
 ],
 "metadata": {
  "kernelspec": {
   "display_name": "base",
   "language": "python",
   "name": "python3"
  },
  "language_info": {
   "codemirror_mode": {
    "name": "ipython",
    "version": 3
   },
   "file_extension": ".py",
   "mimetype": "text/x-python",
   "name": "python",
   "nbconvert_exporter": "python",
   "pygments_lexer": "ipython3",
   "version": "3.12.4"
  }
 },
 "nbformat": 4,
 "nbformat_minor": 2
}
