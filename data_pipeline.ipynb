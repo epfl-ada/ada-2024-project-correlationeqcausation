{
 "cells": [
  {
   "cell_type": "code",
   "id": "initial_id",
   "metadata": {
    "ExecuteTime": {
     "end_time": "2024-11-15T10:23:26.646807Z",
     "start_time": "2024-11-15T10:23:26.644432Z"
    }
   },
   "source": [
    "import pandas as pd\n",
    "import os\n",
    "import numpy as np\n",
    "import re"
   ],
   "outputs": [],
   "execution_count": 2
  },
  {
   "cell_type": "markdown",
   "id": "0ce9df0d",
   "metadata": {},
   "source": [
    "# How datasets are joined\n",
    "\n",
    "### Movie dataset and Character dataset\n",
    "We join the two datasets on the `freebase_movie_id`.\n",
    "\n",
    "### Character dataset and Oscar dataset\n",
    "Oscar dataset does not have `freebase_movie_id` or `freebase_actor_id`. We instead use `parsed_actor_name` and `movie_identifier`. `parsed_actor_name` will be unique for each movie as we drop actors if they share `parsed_actor_name` from playing another character in the same movie. `movie_identifier` is a combination of `parsed_movie_name` and `release_year`. This is unique as we drop movies that share `movie_identifier`.\n",
    "\n",
    "### Resulting dataset from previous steps and IMDb dataset\n",
    "We join these datasets using a combination of `parsed_movie_name` and `release_year` as primary key. "
   ]
  },
  {
   "cell_type": "markdown",
   "id": "25c1382d-6262-46fd-b7f7-2a4cf3bc0e48",
   "metadata": {},
   "source": [
    "# Preparing Movie dataset"
   ]
  },
  {
   "cell_type": "code",
   "id": "aeeab722-d305-4d8e-80a2-98d0ac561df7",
   "metadata": {
    "ExecuteTime": {
     "end_time": "2024-11-15T10:23:26.704715Z",
     "start_time": "2024-11-15T10:23:26.702614Z"
    }
   },
   "source": [
    "print(\"########## Data pipeline ##########\")\n",
    "print(\"\\nPreparing CMU data\")"
   ],
   "outputs": [
    {
     "name": "stdout",
     "output_type": "stream",
     "text": [
      "########## Data pipeline ##########\n",
      "\n",
      "Preparing CMU data\n"
     ]
    }
   ],
   "execution_count": 3
  },
  {
   "cell_type": "code",
   "id": "ae8c2335af72bc67",
   "metadata": {
    "ExecuteTime": {
     "end_time": "2024-11-15T10:23:27.039398Z",
     "start_time": "2024-11-15T10:23:26.819822Z"
    }
   },
   "source": [
    "movie_df = pd.read_csv('data/movie.metadata.tsv', sep='\\t', names=['wiki_movie_id', 'freebase_movie_id', 'title', 'release_date', 'box_office_revenue', 'runtime', 'languages', 'countries', 'genres'], index_col='freebase_movie_id')\n",
    "movie_df = movie_df.reset_index()"
   ],
   "outputs": [],
   "execution_count": 4
  },
  {
   "cell_type": "code",
   "id": "d9ab03e6",
   "metadata": {
    "ExecuteTime": {
     "end_time": "2024-11-15T10:23:27.055711Z",
     "start_time": "2024-11-15T10:23:27.053190Z"
    }
   },
   "source": [
    "# This method removes trailing and leading whitespaces, converts names entirely to lowercase (to ensure case differences in names from different datasets don't affect later joins (with IMDb, for example). \n",
    "# We also remove any characters that are not [a-zA-Z0-9 -] (alphanumeric, whitespace and '-') \n",
    "def parse_string(s):\n",
    "    try:\n",
    "        s = s.lower().strip()\n",
    "        s  = re.sub('[^a-zA-Z0-9 -]', '', s)\n",
    "        if len(s) == 0:\n",
    "            return None\n",
    "        return s\n",
    "    except:\n",
    "        return None "
   ],
   "outputs": [],
   "execution_count": 5
  },
  {
   "cell_type": "code",
   "id": "2fa4080b",
   "metadata": {
    "ExecuteTime": {
     "end_time": "2024-11-15T10:23:31.125271Z",
     "start_time": "2024-11-15T10:23:27.099614Z"
    }
   },
   "source": [
    "movie_df['parsed_movie_name'] = movie_df['title'].apply(parse_string)\n",
    "movie_df['release_year'] = movie_df['release_date'].apply(lambda x: pd.to_datetime(x, format='mixed', errors='coerce').year)"
   ],
   "outputs": [],
   "execution_count": 6
  },
  {
   "cell_type": "code",
   "id": "88903292",
   "metadata": {
    "ExecuteTime": {
     "end_time": "2024-11-15T10:23:31.137635Z",
     "start_time": "2024-11-15T10:23:31.134775Z"
    }
   },
   "source": [
    "movie_df['release_year'] = movie_df['release_year'].fillna(0).astype(int)"
   ],
   "outputs": [],
   "execution_count": 7
  },
  {
   "cell_type": "code",
   "id": "74d6f019",
   "metadata": {
    "ExecuteTime": {
     "end_time": "2024-11-15T10:23:31.575668Z",
     "start_time": "2024-11-15T10:23:31.182188Z"
    }
   },
   "source": [
    "#Dropped movies without parsed_movie_name\n",
    "movie_df = movie_df[movie_df['parsed_movie_name'].notna()]\n",
    "#Create identifier\n",
    "movie_df['movie_identifier'] = movie_df.apply(lambda x: x['parsed_movie_name'] + '_' + str(x['release_year']), axis=1)\n",
    "movie_df = movie_df.drop(['parsed_movie_name'], axis=1)"
   ],
   "outputs": [],
   "execution_count": 8
  },
  {
   "cell_type": "code",
   "id": "7874d38f",
   "metadata": {
    "ExecuteTime": {
     "end_time": "2024-11-15T10:23:31.586651Z",
     "start_time": "2024-11-15T10:23:31.584732Z"
    }
   },
   "source": [
    "def extract_column(s):\n",
    "    s = str(s)\n",
    "    return re.findall(r'\\\"([^\\/:][\\w\\s]+)\"', s)"
   ],
   "outputs": [],
   "execution_count": 9
  },
  {
   "cell_type": "code",
   "id": "e3fa199e",
   "metadata": {
    "ExecuteTime": {
     "end_time": "2024-11-15T10:23:32.348661Z",
     "start_time": "2024-11-15T10:23:31.630921Z"
    }
   },
   "source": [
    "# Extract data from columns\n",
    "movie_df['countries'] = movie_df['countries'].apply(extract_column)\n",
    "movie_df['languages'] = movie_df['languages'].apply(extract_column)\n",
    "movie_df['genres'] = movie_df['genres'].apply(extract_column)\n",
    "\n",
    "# If movie has not language it is assumed to be in english.\n",
    "movie_df['languages'] = movie_df.apply(lambda x: x['languages'] if len(x['languages']) else ['English Language'], axis=1)"
   ],
   "outputs": [],
   "execution_count": 10
  },
  {
   "cell_type": "code",
   "id": "4ecc79cd",
   "metadata": {
    "ExecuteTime": {
     "end_time": "2024-11-15T10:23:32.502422Z",
     "start_time": "2024-11-15T10:23:32.359338Z"
    }
   },
   "source": [
    "# Remove movies with duplicate movie_identifiers\n",
    "temp = movie_df.groupby('movie_identifier').agg(count = ('movie_identifier', 'size'))\n",
    "print(temp[temp['count'] > 1]['count'].sum(), 'movies shared both name and release year, dropping')\n",
    "movie_df = movie_df.merge(temp[temp['count'] == 1], on='movie_identifier', how='inner')\n",
    "\n",
    "movie_df = movie_df.drop('count', axis=1)"
   ],
   "outputs": [
    {
     "name": "stdout",
     "output_type": "stream",
     "text": [
      "377 movies shared both name and release year, dropping\n"
     ]
    }
   ],
   "execution_count": 11
  },
  {
   "cell_type": "markdown",
   "id": "e4190fda",
   "metadata": {},
   "source": [
    "# Preparing Character dataset"
   ]
  },
  {
   "cell_type": "code",
   "id": "76fa5a65",
   "metadata": {
    "ExecuteTime": {
     "end_time": "2024-11-15T10:23:33.306783Z",
     "start_time": "2024-11-15T10:23:32.514061Z"
    }
   },
   "source": [
    "# Read character\n",
    "col_names = [\"wiki_movie_id\", \"freebase_movie_id\", \"movie_release_date\", \"character_name\", \"actor_date_of_birth\", \"Actor gender\", \"Actor height (in meters)\", \"Actor ethnicity (Freebase ID)\", \"Actor name\", \"Actor age at movie release\", \"Freebase character/actor map ID\", \"Freebase character ID\", \"Freebase actor ID\"]\n",
    "character_df = pd.read_csv('data/character.metadata.tsv', sep='\\t', names=col_names, index_col=\"Freebase character ID\")"
   ],
   "outputs": [],
   "execution_count": 12
  },
  {
   "cell_type": "code",
   "id": "1fdb1d7dad1c8cfc",
   "metadata": {
    "ExecuteTime": {
     "end_time": "2024-11-15T10:23:36.838267Z",
     "start_time": "2024-11-15T10:23:33.321459Z"
    }
   },
   "source": [
    "# Remove characters without actors\n",
    "character_df = character_df[character_df['Freebase actor ID'].notna()]\n",
    "\n",
    "# Allow only one character per actor per movie.\n",
    "# Motivation: When we look at if the actor won a Oscar we don't care about what role it won it as. \n",
    "character_df = character_df.groupby(['freebase_movie_id', 'Freebase actor ID']).first().reset_index()\n",
    "\n",
    "character_df['parsed_actor_name'] = character_df['Actor name'].apply(parse_string)\n",
    "\n",
    "# How many cases where the actors of the same name stars in the same movie or\n",
    "temp = character_df.groupby(['freebase_movie_id', 'parsed_actor_name']).agg(count = ('parsed_actor_name', 'size')).reset_index()\n",
    "movies_with_actors_of_same_name_df = temp[temp['count'] > 1]\n",
    "print(movies_with_actors_of_same_name_df.shape[0], 'movies had actors with the same name, dropping')\n",
    "\n",
    "# Only 314 actors had acted multiple times in the same movie we decide to drop the cases.\n",
    "character_df = character_df.merge(temp, on=['freebase_movie_id', 'parsed_actor_name'], how='inner')\n",
    "dropped_character_df = character_df[character_df['count'] == 1]\n",
    "\n",
    "temp = dropped_character_df.groupby(['freebase_movie_id', 'parsed_actor_name']).agg(count = ('parsed_actor_name', 'size')).reset_index()\n",
    "\n",
    "assert temp[temp['count'] > 1].empty\n",
    "\n",
    "character_df = dropped_character_df\n",
    "character_df = character_df.drop('count', axis=1)"
   ],
   "outputs": [
    {
     "name": "stdout",
     "output_type": "stream",
     "text": [
      "313 movies had actors with the same name, dropping\n"
     ]
    }
   ],
   "execution_count": 13
  },
  {
   "cell_type": "markdown",
   "id": "7f761e69",
   "metadata": {},
   "source": [
    "# Merge Movie dataset on character dataset"
   ]
  },
  {
   "cell_type": "code",
   "id": "a224f6c5",
   "metadata": {
    "ExecuteTime": {
     "end_time": "2024-11-15T10:23:37.396784Z",
     "start_time": "2024-11-15T10:23:36.857666Z"
    }
   },
   "source": [
    "movie_character_df = movie_df.merge(character_df, on='freebase_movie_id', how='inner')\n",
    "movie_character_df = movie_character_df[[\n",
    "    'title',\n",
    "    'release_date',\n",
    "    'box_office_revenue',\n",
    "    'runtime',\n",
    "    'languages',\n",
    "    'countries',\n",
    "    'genres',\n",
    "    'movie_identifier',\n",
    "    'Freebase actor ID',\n",
    "    'Actor gender',\n",
    "    'Actor height (in meters)',\n",
    "    'Actor ethnicity (Freebase ID)',\n",
    "    'Actor name',\n",
    "    'Actor age at movie release',\n",
    "    'parsed_actor_name'\n",
    "]]\n",
    "movie_character_df['actor_identifier'] = movie_character_df['Freebase actor ID']\n",
    "movie_character_df = movie_character_df.drop('Freebase actor ID', axis=1)"
   ],
   "outputs": [],
   "execution_count": 14
  },
  {
   "cell_type": "code",
   "id": "88961730",
   "metadata": {
    "ExecuteTime": {
     "end_time": "2024-11-15T10:23:39.446291Z",
     "start_time": "2024-11-15T10:23:37.422062Z"
    }
   },
   "source": [
    "# Create identifier used for joining on Oscar dataset\n",
    "movie_character_df['identifier'] = movie_character_df.apply(lambda x: x['movie_identifier'] + '_' + x['parsed_actor_name'], axis=1)\n",
    "assert movie_character_df['identifier'].is_unique"
   ],
   "outputs": [],
   "execution_count": 15
  },
  {
   "cell_type": "markdown",
   "id": "70346312",
   "metadata": {},
   "source": [
    "# Preparing Oscar dataset"
   ]
  },
  {
   "cell_type": "code",
   "id": "cff3f08dbb5e5b83",
   "metadata": {
    "ExecuteTime": {
     "end_time": "2024-11-15T10:23:39.502936Z",
     "start_time": "2024-11-15T10:23:39.474147Z"
    }
   },
   "source": [
    "oscar_df = pd.read_csv('data/the_oscar_award.csv')\n",
    "\n",
    "# Removes weird Oscar nomination\n",
    "oscar_df = oscar_df[oscar_df['film'].notna() & oscar_df['name'].notna()]"
   ],
   "outputs": [],
   "execution_count": 16
  },
  {
   "cell_type": "code",
   "id": "191e868f",
   "metadata": {
    "ExecuteTime": {
     "end_time": "2024-11-15T10:23:39.538687Z",
     "start_time": "2024-11-15T10:23:39.531171Z"
    }
   },
   "source": [
    "# Filtering relevant Oscar catagories\n",
    "# We only consider nominations for actors and actresses. Meaning we disregard nominations for directors, animation, costumes, etc.\n",
    "oscar_df = oscar_df[oscar_df['category'].str.contains('ACTOR') | oscar_df['category'].str.contains('ACTRESS')]"
   ],
   "outputs": [],
   "execution_count": 17
  },
  {
   "cell_type": "code",
   "id": "6457f1f3",
   "metadata": {
    "ExecuteTime": {
     "end_time": "2024-11-15T10:23:39.610049Z",
     "start_time": "2024-11-15T10:23:39.576720Z"
    }
   },
   "source": [
    "# Create identifier \n",
    "oscar_df['parsed_movie_name'] = oscar_df['film'].apply(parse_string)\n",
    "oscar_df['parsed_actor_name'] = oscar_df['name'].apply(parse_string)\n",
    "oscar_df['identifier'] = oscar_df.apply(lambda x: x['parsed_movie_name'] + '_' + str(x['year_film']) + '_' + x['parsed_actor_name'], axis=1)"
   ],
   "outputs": [],
   "execution_count": 18
  },
  {
   "cell_type": "code",
   "id": "64d56f50",
   "metadata": {
    "ExecuteTime": {
     "end_time": "2024-11-15T10:23:39.644781Z",
     "start_time": "2024-11-15T10:23:39.638446Z"
    }
   },
   "source": [
    "# If rows share identifier it must mean the same actor got nominated for the \n",
    "# same film in multiple categories. We only count one.\n",
    "oscar_df = oscar_df.groupby(['identifier']).first().reset_index()\n",
    "assert oscar_df['identifier'].is_unique"
   ],
   "outputs": [],
   "execution_count": 19
  },
  {
   "cell_type": "code",
   "id": "e8e7bc0b",
   "metadata": {
    "ExecuteTime": {
     "end_time": "2024-11-15T10:23:39.686110Z",
     "start_time": "2024-11-15T10:23:39.682728Z"
    }
   },
   "source": [
    "# Select relevant columns\n",
    "oscar_df = oscar_df[[\n",
    "    'identifier',\n",
    "    'category',\n",
    "    'winner'\n",
    "]]"
   ],
   "outputs": [],
   "execution_count": 20
  },
  {
   "cell_type": "markdown",
   "id": "df64d805",
   "metadata": {},
   "source": [
    "# Merge movie_character dataset to Oscar\n",
    "The join is identifier which consists of parsed_movie_name, release_year and parsed_actor_name"
   ]
  },
  {
   "cell_type": "code",
   "id": "296cf578",
   "metadata": {
    "ExecuteTime": {
     "end_time": "2024-11-15T10:23:39.883035Z",
     "start_time": "2024-11-15T10:23:39.731601Z"
    }
   },
   "source": [
    "movie_character_oscar_df = movie_character_df.merge(oscar_df, how='left', on='identifier')"
   ],
   "outputs": [],
   "execution_count": 21
  },
  {
   "cell_type": "code",
   "id": "a36c4e21",
   "metadata": {
    "ExecuteTime": {
     "end_time": "2024-11-15T10:23:39.921959Z",
     "start_time": "2024-11-15T10:23:39.914918Z"
    }
   },
   "source": [
    "# Create column to determine if actor was nominated for Oscar \n",
    "movie_character_oscar_df['oscar_nominated'] = movie_character_oscar_df['category'].notna()"
   ],
   "outputs": [],
   "execution_count": 22
  },
  {
   "cell_type": "markdown",
   "id": "008eed5d",
   "metadata": {},
   "source": [
    "## Stats about dataset"
   ]
  },
  {
   "cell_type": "code",
   "id": "9d1ca6ac",
   "metadata": {
    "scrolled": true,
    "ExecuteTime": {
     "end_time": "2024-11-15T10:23:40.025412Z",
     "start_time": "2024-11-15T10:23:39.959782Z"
    }
   },
   "source": [
    "print(\"\\nMerging Oscar dataset, after merge:\")\n",
    "nominated_df = movie_character_oscar_df[movie_character_oscar_df['oscar_nominated'] == True]\n",
    "print('Number of different Oscar nominated movies in dataset:', \n",
    "      nominated_df['movie_identifier'].unique().shape[0],\n",
    "      \"in total\", movie_character_oscar_df['movie_identifier'].unique().shape[0], \"different movies\")\n",
    "print('Number of different Oscar nominated actors in dataset:', \n",
    "      nominated_df['actor_identifier'].unique().shape[0],\n",
    "      'in total',movie_character_oscar_df['actor_identifier'].unique().shape[0],\"different actors\")\n",
    "print('Number of Oscar nominated rows:', nominated_df.shape[0])"
   ],
   "outputs": [
    {
     "name": "stdout",
     "output_type": "stream",
     "text": [
      "\n",
      "Merging Oscar dataset, after merge:\n",
      "Number of different Oscar nominated movies in dataset: 952 in total 63974 different movies\n",
      "Number of different Oscar nominated actors in dataset: 801 in total 134936 different actors\n",
      "Number of Oscar nominated rows: 1443\n"
     ]
    }
   ],
   "execution_count": 23
  },
  {
   "cell_type": "markdown",
   "id": "709a0029-7543-4d00-b941-6339510ecf2b",
   "metadata": {},
   "source": [
    "# Prepare IMDB rating dataset "
   ]
  },
  {
   "cell_type": "code",
   "id": "82f19785-10e3-473c-9b04-219d495e4201",
   "metadata": {
    "ExecuteTime": {
     "end_time": "2024-11-15T10:23:54.979401Z",
     "start_time": "2024-11-15T10:23:40.066817Z"
    }
   },
   "source": [
    "#Read data\n",
    "titlebasics_df = pd.read_csv('data/title.basics.tsv', sep='\\t', quoting=3)\n",
    "titleratings_df = pd.read_csv('data/title.ratings.tsv', sep='\\t')"
   ],
   "outputs": [],
   "execution_count": 24
  },
  {
   "cell_type": "code",
   "id": "754aec45-38ea-4a20-9b8d-6987f9a96523",
   "metadata": {
    "ExecuteTime": {
     "end_time": "2024-11-15T10:24:08.954421Z",
     "start_time": "2024-11-15T10:23:55.022501Z"
    }
   },
   "source": [
    "#Merge dataframes containing ratings and title names\n",
    "name_rating_df = titlebasics_df.merge(titleratings_df, how='inner', on=['tconst', 'tconst'])\n",
    "#Consider only movies\n",
    "name_rating_df = name_rating_df[(name_rating_df[\"titleType\"] == 'movie')]\n",
    "#Get relevant columns\n",
    "name_rating_df = name_rating_df[[\"primaryTitle\", \"startYear\", \"averageRating\", \"numVotes\"]]"
   ],
   "outputs": [],
   "execution_count": 25
  },
  {
   "cell_type": "code",
   "id": "27e240ef-3ad9-46ac-a053-d80564942245",
   "metadata": {
    "ExecuteTime": {
     "end_time": "2024-11-15T10:24:09.043914Z",
     "start_time": "2024-11-15T10:24:09.003411Z"
    }
   },
   "source": [
    "#Change the year data in IMDB dataset to float for merging to work\n",
    "#\\\\N is a special value used for missing, replace with NaN so it can't be used for merging\n",
    "name_rating_df[\"startYear\"] = name_rating_df[\"startYear\"].replace('\\\\N', np.nan)\n",
    "name_rating_df[\"startYear\"] = name_rating_df[\"startYear\"].astype(float)\n",
    "#Rename columns for merge\n",
    "name_rating_df.rename(columns={'primaryTitle': 'title', 'startYear' : 'year', 'titleType': 'type'}, inplace=True)"
   ],
   "outputs": [],
   "execution_count": 26
  },
  {
   "cell_type": "code",
   "id": "80a2f723-fe8f-44e9-8e58-46ba836d457c",
   "metadata": {
    "ExecuteTime": {
     "end_time": "2024-11-15T10:24:09.641281Z",
     "start_time": "2024-11-15T10:24:09.091725Z"
    }
   },
   "source": [
    "#Have to take care of duplicate entries for movies in the same year\n",
    "#ASSUME they are the same movie and aggregate the scores: sum up the numVotes and calculate the\n",
    "#new average rating taking into account the number of votes\n",
    "\n",
    "#The ratings need to be weighted to account for the number of votes\n",
    "name_rating_df[\"RatingWeight\"] = name_rating_df['averageRating'] * name_rating_df['numVotes']\n",
    "# Group by title and year for duplicates, sum the number of votes and the weighted ratings\n",
    "name_rating_agg_df = name_rating_df.groupby(['title','year']).agg(\n",
    "    numVotes=('numVotes', 'sum'),\n",
    "    RatingWeight = ('RatingWeight','sum'), \n",
    ").reset_index()\n",
    "\n",
    "#Undo the previous weighing, dividing by number of all votes\n",
    "name_rating_agg_df['averageRating'] = name_rating_agg_df['RatingWeight'] / name_rating_agg_df['numVotes']\n",
    "#All ratings have 1 space after comma\n",
    "name_rating_agg_df['averageRating'] = name_rating_agg_df['averageRating'].round(1)\n",
    "\n",
    "#Drop the temporary weighted ratings\n",
    "name_rating_agg_df.drop(columns='RatingWeight', inplace=True)"
   ],
   "outputs": [],
   "execution_count": 27
  },
  {
   "cell_type": "code",
   "id": "19f9f170-47ec-473f-962a-743e3b3bf5bb",
   "metadata": {
    "ExecuteTime": {
     "end_time": "2024-11-15T10:24:09.724853Z",
     "start_time": "2024-11-15T10:24:09.686679Z"
    }
   },
   "source": [
    "#Get the year of release of the movies from the mixed formatting\n",
    "dates_as_year = pd.to_datetime(movie_character_oscar_df[\"release_date\"],format='mixed',errors='coerce').dt.year\n",
    "\n",
    "#Copy of the dataset with the added year column\n",
    "movie_character_oscar_df['year'] = dates_as_year \n",
    "\n",
    "rows_before_ratings = movie_character_oscar_df.shape[0]"
   ],
   "outputs": [],
   "execution_count": 28
  },
  {
   "cell_type": "markdown",
   "id": "de5294f8",
   "metadata": {},
   "source": [
    "# Join movie_character_oscar on IMDB dataset"
   ]
  },
  {
   "cell_type": "code",
   "id": "11b8a9fc",
   "metadata": {
    "ExecuteTime": {
     "end_time": "2024-11-15T10:24:13.603612Z",
     "start_time": "2024-11-15T10:24:09.770699Z"
    }
   },
   "source": [
    "# Create identifier\n",
    "imdb_df = name_rating_agg_df.copy(deep=True)\n",
    "imdb_df['parsed_movie_name'] = imdb_df.apply(lambda x: parse_string(x['title']), axis=1)\n",
    "imdb_df['release_year'] = imdb_df['year'].fillna(0).astype(int)\n",
    "imdb_df = imdb_df[imdb_df['parsed_movie_name'].notna()]\n",
    "imdb_df['movie_identifier'] = imdb_df.apply(lambda x: x['parsed_movie_name'] + '_' + str(x['release_year']), axis=1)"
   ],
   "outputs": [],
   "execution_count": 29
  },
  {
   "cell_type": "code",
   "id": "17dba1aa",
   "metadata": {
    "ExecuteTime": {
     "end_time": "2024-11-15T10:24:14.145302Z",
     "start_time": "2024-11-15T10:24:13.656098Z"
    }
   },
   "source": [
    "# Drop ratings of movies that share movie identifier\n",
    "temp = imdb_df.groupby('movie_identifier').agg(count = ('movie_identifier', 'size')).sort_values('count', ascending=False)\n",
    "temp = temp[temp['count'] == 1]\n",
    "imdb_df = imdb_df.merge(temp, on='movie_identifier', how='inner')\n",
    "imdb_df = imdb_df.drop('count', axis=1)\n",
    "assert imdb_df['movie_identifier'].is_unique"
   ],
   "outputs": [],
   "execution_count": 30
  },
  {
   "cell_type": "code",
   "id": "b5b890be",
   "metadata": {
    "ExecuteTime": {
     "end_time": "2024-11-15T10:24:14.226435Z",
     "start_time": "2024-11-15T10:24:14.208732Z"
    }
   },
   "source": [
    "# Select relevant columns\n",
    "imdb_df = imdb_df[[\n",
    "    'averageRating',\n",
    "    'numVotes',\n",
    "    'movie_identifier'\n",
    "]]"
   ],
   "outputs": [],
   "execution_count": 31
  },
  {
   "cell_type": "code",
   "id": "50ab55d4-bd71-4286-ab9f-897ce01d2ca6",
   "metadata": {
    "ExecuteTime": {
     "end_time": "2024-11-15T10:24:14.417330Z",
     "start_time": "2024-11-15T10:24:14.275579Z"
    }
   },
   "source": [
    "movie_character_oscar_rating_df = movie_character_oscar_df.merge(imdb_df, on='movie_identifier', how='left')\n",
    "movie_character_oscar_rating_df['has_rating'] = movie_character_oscar_rating_df['numVotes'].notna()"
   ],
   "outputs": [],
   "execution_count": 32
  },
  {
   "cell_type": "code",
   "id": "29f71d3c",
   "metadata": {
    "ExecuteTime": {
     "end_time": "2024-11-15T10:24:14.745430Z",
     "start_time": "2024-11-15T10:24:14.632693Z"
    }
   },
   "source": [
    "movie_character_oscar_rating_df['average_rating'] = movie_character_oscar_rating_df['averageRating']\n",
    "movie_character_oscar_rating_df['number_of_votes'] = movie_character_oscar_rating_df['numVotes']\n",
    "movie_character_oscar_rating_df = movie_character_oscar_rating_df.drop(['numVotes', 'averageRating'], axis=1)"
   ],
   "outputs": [],
   "execution_count": 33
  },
  {
   "cell_type": "code",
   "id": "cd1f0ba4",
   "metadata": {
    "ExecuteTime": {
     "end_time": "2024-11-15T10:24:15.012181Z",
     "start_time": "2024-11-15T10:24:14.940117Z"
    }
   },
   "source": [
    "## Stats of dataset\n",
    "print(\"\\nMerging IMDb dataset, after merge:\")\n",
    "rating_df = movie_character_oscar_rating_df[movie_character_oscar_rating_df['has_rating'] == True]\n",
    "print('Number of movies with ratings:', rating_df['movie_identifier'].unique().shape[0])\n",
    "print('Oscar nominated movies with rating:', rating_df[rating_df['oscar_nominated'] == True]['movie_identifier'].unique().shape[0])\n",
    "\n",
    "# Almost all Oscar nominated movies have rating"
   ],
   "outputs": [
    {
     "name": "stdout",
     "output_type": "stream",
     "text": [
      "\n",
      "Merging IMDb dataset, after merge:\n",
      "Number of movies with ratings: 36614\n",
      "Oscar nominated movies with rating: 936\n"
     ]
    }
   ],
   "execution_count": 34
  },
  {
   "cell_type": "markdown",
   "id": "908428e0",
   "metadata": {},
   "source": [
    "# Rename columns"
   ]
  },
  {
   "cell_type": "code",
   "id": "1df7857e",
   "metadata": {
    "ExecuteTime": {
     "end_time": "2024-11-15T10:24:15.560630Z",
     "start_time": "2024-11-15T10:24:15.330656Z"
    }
   },
   "source": [
    "# Rename columns to a more standardized format\n",
    "movie_character_oscar_rating_df = movie_character_oscar_rating_df.rename(columns=\n",
    "                                       {\"Actor gender\": \"actor_gender\",\n",
    "                                        \"Actor height (in meters)\": \"actor_height\",\n",
    "                                        \"Actor ethnicity (Freebase ID)\":\"actor_ethnicity\",\n",
    "                                        \"Actor name\":\"actor_name\",\n",
    "                                        \"Actor age at movie release\":\"actor_age\",\n",
    "                                        })"
   ],
   "outputs": [],
   "execution_count": 35
  },
  {
   "cell_type": "markdown",
   "id": "267cef3e-ae95-4721-a518-b9a6a3e2f9c8",
   "metadata": {},
   "source": [
    "# Write data"
   ]
  },
  {
   "cell_type": "code",
   "id": "ee5d443b",
   "metadata": {
    "ExecuteTime": {
     "end_time": "2024-11-15T10:24:18.553561Z",
     "start_time": "2024-11-15T10:24:15.832151Z"
    }
   },
   "source": [
    "# Finish processed data\n",
    "path = 'cache/data.csv'\n",
    "os.makedirs('cache', exist_ok=True)\n",
    "movie_character_oscar_rating_df.to_csv(path)\n",
    "print('Processing done, dataset written to',path)"
   ],
   "outputs": [
    {
     "name": "stdout",
     "output_type": "stream",
     "text": [
      "Processing done, dataset written to cache/data.csv\n"
     ]
    }
   ],
   "execution_count": 36
  }
 ],
 "metadata": {
  "kernelspec": {
   "display_name": "Python 3 (ipykernel)",
   "language": "python",
   "name": "python3"
  },
  "language_info": {
   "codemirror_mode": {
    "name": "ipython",
    "version": 3
   },
   "file_extension": ".py",
   "mimetype": "text/x-python",
   "name": "python",
   "nbconvert_exporter": "python",
   "pygments_lexer": "ipython3",
   "version": "3.12.4"
  }
 },
 "nbformat": 4,
 "nbformat_minor": 5
}
