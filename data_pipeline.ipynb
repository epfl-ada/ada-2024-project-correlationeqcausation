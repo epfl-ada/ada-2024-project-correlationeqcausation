{
 "cells": [
  {
   "cell_type": "code",
   "execution_count": 2,
   "id": "initial_id",
   "metadata": {
    "ExecuteTime": {
     "end_time": "2024-11-11T08:18:47.497290Z",
     "start_time": "2024-11-11T08:18:47.494843Z"
    }
   },
   "outputs": [],
   "source": [
    "import pandas as pd\n",
    "import os\n",
    "import numpy as np"
   ]
  },
  {
   "cell_type": "markdown",
   "id": "25c1382d-6262-46fd-b7f7-2a4cf3bc0e48",
   "metadata": {},
   "source": [
    "## Merging characters and movies"
   ]
  },
  {
   "cell_type": "code",
   "execution_count": 3,
   "id": "ae8c2335af72bc67",
   "metadata": {
    "ExecuteTime": {
     "end_time": "2024-11-11T08:20:13.897912Z",
     "start_time": "2024-11-11T08:20:13.692279Z"
    }
   },
   "outputs": [],
   "source": [
    "movie_df = pd.read_csv('data/movie.metadata.tsv', sep='\\t', names=['wiki_movie_id', 'freebase_movie_id', 'title', 'release_date', 'box_office_revenue', 'runtime', 'languages', 'countries', 'genres'], index_col='freebase_movie_id')\n",
    "movie_df = movie_df.reset_index()"
   ]
  },
  {
   "cell_type": "code",
   "execution_count": 4,
   "id": "2fa4080b",
   "metadata": {
    "ExecuteTime": {
     "end_time": "2024-11-11T08:20:19.599749Z",
     "start_time": "2024-11-11T08:20:19.573301Z"
    }
   },
   "outputs": [],
   "source": [
    "movie_df['parsed_movie_name'] = movie_df['title'].str.lower().str.strip()"
   ]
  },
  {
   "cell_type": "code",
   "execution_count": 6,
   "id": "1fdb1d7dad1c8cfc",
   "metadata": {
    "ExecuteTime": {
     "end_time": "2024-11-11T08:20:24.022875Z",
     "start_time": "2024-11-11T08:20:21.382810Z"
    }
   },
   "outputs": [
    {
     "name": "stdout",
     "output_type": "stream",
     "text": [
      "Number of movies with actors of the same name: 313\n"
     ]
    }
   ],
   "source": [
    "col_names = [\"wiki_movie_id\", \"freebase_movie_id\", \"movie_release_date\", \"character_name\", \"actor_date_of_birth\", \"Actor gender\", \"Actor height (in meters)\", \"Actor ethnicity (Freebase ID)\", \"Actor name\", \"Actor age at movie release\", \"Freebase character/actor map ID\", \"Freebase character ID\", \"Freebase actor ID\"]\n",
    "character_df = pd.read_csv('data/character.metadata.tsv', sep='\\t', names=col_names, index_col=\"Freebase character ID\")\n",
    "\n",
    "# Remove characters without actors\n",
    "character_df = character_df[character_df['Freebase actor ID'].notna()]\n",
    "\n",
    "# Allow only one character per actor per movie.\n",
    "# Motivation: When we look at if the actor won a Oscar we don't care about what role it won it as. \n",
    "character_df = character_df.groupby(['freebase_movie_id', 'Freebase actor ID']).first().reset_index()\n",
    "\n",
    "character_df['parsed_actor_name'] = character_df['Actor name'].str.lower().str.strip()\n",
    "\n",
    "# How many cases where the actors of the same name stars in the same movie or\n",
    "temp = character_df.groupby(['freebase_movie_id', 'parsed_actor_name']).agg(count = ('parsed_actor_name', 'size')).reset_index()\n",
    "movies_with_actors_of_same_name_df = temp[temp['count'] > 1]\n",
    "print('Number of movies with actors of the same name:', movies_with_actors_of_same_name_df.shape[0])\n",
    "\n",
    "# Only 313 we decide to drop the cases.\n",
    "# TODO: Check if any of the 311 actors won Oscars\n",
    "character_df = character_df.merge(temp, on=['freebase_movie_id', 'parsed_actor_name'], how='inner')\n",
    "dropped_character_df = character_df[character_df['count'] == 1]\n",
    "\n",
    "temp = dropped_character_df.groupby(['freebase_movie_id', 'parsed_actor_name']).agg(count = ('parsed_actor_name', 'size')).reset_index()\n",
    "\n",
    "assert temp[temp['count'] > 1].empty\n",
    "\n",
    "character_df = dropped_character_df"
   ]
  },
  {
   "cell_type": "code",
   "execution_count": 7,
   "id": "a224f6c5",
   "metadata": {
    "ExecuteTime": {
     "end_time": "2024-11-11T08:20:31.228371Z",
     "start_time": "2024-11-11T08:20:30.699391Z"
    }
   },
   "outputs": [],
   "source": [
    "movie_character_df = movie_df.merge(character_df, on='freebase_movie_id', how='inner')\n",
    "movie_character_df = movie_character_df[[\n",
    "    'freebase_movie_id',\n",
    "    'title',\n",
    "    'release_date',\n",
    "    'box_office_revenue',\n",
    "    'runtime',\n",
    "    'languages',\n",
    "    'countries',\n",
    "    'genres',\n",
    "    'parsed_movie_name',\n",
    "    'Freebase actor ID',\n",
    "    'Actor gender',\n",
    "    'Actor height (in meters)',\n",
    "    'Actor ethnicity (Freebase ID)',\n",
    "    'Actor name',\n",
    "    'Actor age at movie release',\n",
    "    'Freebase character/actor map ID',\n",
    "    'parsed_actor_name'\n",
    "]]\n"
   ]
  },
  {
   "cell_type": "code",
   "execution_count": 8,
   "id": "9410c3c8",
   "metadata": {
    "ExecuteTime": {
     "end_time": "2024-11-11T08:20:39.895382Z",
     "start_time": "2024-11-11T08:20:38.509622Z"
    }
   },
   "outputs": [
    {
     "name": "stdout",
     "output_type": "stream",
     "text": [
      "Number of combination of actors of the same names starring in movies with the same name: 350\n"
     ]
    }
   ],
   "source": [
    "# To join with Oscar Movie name and Actor name need to uniquely identify one row in movie_character_df \n",
    "temp = movie_character_df.groupby(['parsed_movie_name', 'parsed_actor_name']).agg(count = ('parsed_movie_name', 'size')).reset_index()\n",
    "print('Number of combination of actors of the same names starring in movies with the same name:', temp[temp['count'] > 1].shape[0])\n",
    "\n",
    "# 350 combination. We decide to drop the combinations \n",
    "# TODO: Check if any movie won an Oscar\n",
    "dropped_movie_character_df = movie_character_df.merge(temp, on=['parsed_movie_name', 'parsed_actor_name'], how='inner')\n",
    "dropped_movie_character_df = dropped_movie_character_df[dropped_movie_character_df['count'] == 1]\n",
    "\n",
    "temp = dropped_movie_character_df.groupby(['parsed_movie_name', 'parsed_actor_name']).agg(count = ('parsed_movie_name', 'size'))\n",
    "\n",
    "assert temp['count'].max() == 1\n",
    "\n",
    "movie_character_df = dropped_movie_character_df\n",
    "movie_character_df = movie_character_df.drop('count', axis=1)"
   ]
  },
  {
   "cell_type": "markdown",
   "id": "f68a9e8e-e996-4b87-a6c7-b5044fedd1e7",
   "metadata": {},
   "source": [
    "## Merging with oscar dataset"
   ]
  },
  {
   "cell_type": "code",
   "execution_count": 9,
   "id": "cff3f08dbb5e5b83",
   "metadata": {
    "ExecuteTime": {
     "end_time": "2024-11-11T08:20:44.555949Z",
     "start_time": "2024-11-11T08:20:44.538568Z"
    }
   },
   "outputs": [],
   "source": [
    "oscar_df = pd.read_csv('data/the_oscar_award.csv')\n",
    "\n",
    "# Removes weird Oscar nomination\n",
    "oscar_df = oscar_df[oscar_df['film'].notna() & oscar_df['name'].notna()]"
   ]
  },
  {
   "cell_type": "code",
   "execution_count": 10,
   "id": "191e868f",
   "metadata": {
    "ExecuteTime": {
     "end_time": "2024-11-11T08:20:46.187895Z",
     "start_time": "2024-11-11T08:20:46.178140Z"
    }
   },
   "outputs": [],
   "source": [
    "# Filtering relevant Oscar catagories\n",
    "# TODO: explain why we drop certain categories.\n",
    "oscar_df = oscar_df[oscar_df['category'].str.contains('ACTOR') | oscar_df['category'].str.contains('ACTRESS')]"
   ]
  },
  {
   "cell_type": "markdown",
   "id": "6d82f1f9cfe7e597",
   "metadata": {},
   "source": [
    "This join needs to be checked. \n",
    "Joining with ignore case? \n",
    "Do we want to do a right join? (so also keep movies that did not win oscars)\n"
   ]
  },
  {
   "cell_type": "code",
   "execution_count": 11,
   "id": "6457f1f3",
   "metadata": {
    "ExecuteTime": {
     "end_time": "2024-11-11T08:20:48.617424Z",
     "start_time": "2024-11-11T08:20:48.611092Z"
    }
   },
   "outputs": [],
   "source": [
    "# Avoid case-sensitivity and extra spaces\n",
    "oscar_df['parsed_movie_name'] = oscar_df['film'].str.lower().str.strip()\n",
    "oscar_df['parsed_actor_name'] = oscar_df['name'].str.lower().str.strip()"
   ]
  },
  {
   "cell_type": "code",
   "execution_count": 12,
   "id": "6d160430",
   "metadata": {
    "ExecuteTime": {
     "end_time": "2024-11-11T08:20:51.125242Z",
     "start_time": "2024-11-11T08:20:51.109547Z"
    }
   },
   "outputs": [],
   "source": [
    "# One actor won two Oscars for the same movie (Barry Fitzgerald)\n",
    "oscar_df.groupby(['parsed_movie_name', 'parsed_actor_name']).agg(count = ('parsed_actor_name', 'count')).sort_values('count', ascending=False)\n",
    "\n",
    "# If actor has mutiple nomination for the same movie we choose the first\n",
    "oscar_df = oscar_df.groupby(['parsed_movie_name', 'parsed_actor_name']).first().reset_index()\n",
    "\n",
    "# For joining rows in oscar_df needs to be uniquely identified by name_parsed and film_title_parsed\n",
    "assert oscar_df.groupby(['parsed_movie_name', 'parsed_actor_name']).agg(count = ('parsed_movie_name', 'size')).max()['count'] == 1"
   ]
  },
  {
   "cell_type": "code",
   "execution_count": 13,
   "id": "296cf578",
   "metadata": {
    "ExecuteTime": {
     "end_time": "2024-11-11T08:20:53.912887Z",
     "start_time": "2024-11-11T08:20:53.573752Z"
    }
   },
   "outputs": [],
   "source": [
    "movie_character_oscar_df = movie_character_df.merge(oscar_df, how='outer', on=['parsed_movie_name', 'parsed_actor_name'])"
   ]
  },
  {
   "cell_type": "code",
   "execution_count": 14,
   "id": "a36c4e21",
   "metadata": {
    "ExecuteTime": {
     "end_time": "2024-11-11T08:20:54.961629Z",
     "start_time": "2024-11-11T08:20:54.953613Z"
    }
   },
   "outputs": [],
   "source": [
    "# Create column to determine if actor was nominated for Oscar \n",
    "movie_character_oscar_df['oscar_nominated'] = movie_character_oscar_df['winner'].notna()"
   ]
  },
  {
   "cell_type": "code",
   "execution_count": 15,
   "id": "9d1ca6ac",
   "metadata": {
    "ExecuteTime": {
     "end_time": "2024-11-11T08:20:56.055350Z",
     "start_time": "2024-11-11T08:20:56.047051Z"
    },
    "scrolled": true
   },
   "outputs": [
    {
     "name": "stdout",
     "output_type": "stream",
     "text": [
      "Number of different Oscar nominated films in dataset: 1201\n",
      "Number of different Oscar nominated actors in dataset: 982\n",
      "Number of characters in dataset: 1827\n",
      "Number of movies in dataset: 1201\n",
      "Number of actors in dataset: 982\n"
     ]
    }
   ],
   "source": [
    "oscar_nominated_actors_df = movie_character_oscar_df[movie_character_oscar_df['oscar_nominated']]\n",
    "print('Number of different Oscar nominated films in dataset:', \n",
    "      oscar_nominated_actors_df['parsed_movie_name'].unique().shape[0])\n",
    "\n",
    "print('Number of different Oscar nominated actors in dataset:', \n",
    "      oscar_nominated_actors_df['parsed_actor_name'].unique().shape[0])\n",
    "\n",
    "print('Number of characters in dataset:', oscar_nominated_actors_df.shape[0])\n",
    "print('Number of movies in dataset:', oscar_nominated_actors_df['parsed_movie_name'].unique().shape[0])\n",
    "print('Number of actors in dataset:', oscar_nominated_actors_df['parsed_actor_name'].unique().shape[0])"
   ]
  },
  {
   "cell_type": "markdown",
   "id": "709a0029-7543-4d00-b941-6339510ecf2b",
   "metadata": {},
   "source": [
    "## Merging with IMDB ratings"
   ]
  },
  {
   "cell_type": "code",
   "execution_count": null,
   "id": "82f19785-10e3-473c-9b04-219d495e4201",
   "metadata": {
    "ExecuteTime": {
     "end_time": "2024-11-11T08:21:14.942252Z",
     "start_time": "2024-11-11T08:21:02.336388Z"
    }
   },
   "outputs": [
    {
     "name": "stderr",
     "output_type": "stream",
     "text": [
      "/var/folders/q8/ngmz2fx96cg6d3rs8tldz4r00000gn/T/ipykernel_11846/427300125.py:2: DtypeWarning: Columns (4) have mixed types. Specify dtype option on import or set low_memory=False.\n",
      "  titlebasics_df = pd.read_csv('data/title.basics.tsv', sep='\\t')\n"
     ]
    }
   ],
   "source": [
    "#Read data\n",
    "titlebasics_df = pd.read_csv('data/title.basics.tsv', sep='\\t', quoting=3)\n",
    "titleratings_df = pd.read_csv('data/title.ratings.tsv', sep='\\t')"
   ]
  },
  {
   "cell_type": "code",
   "execution_count": 18,
   "id": "754aec45-38ea-4a20-9b8d-6987f9a96523",
   "metadata": {
    "ExecuteTime": {
     "end_time": "2024-11-11T08:22:33.613184Z",
     "start_time": "2024-11-11T08:22:19.919889Z"
    }
   },
   "outputs": [],
   "source": [
    "#Merge dataframes containing ratings and title names\n",
    "name_rating_df = titlebasics_df.merge(titleratings_df, how='inner', on=['tconst', 'tconst'])\n",
    "#Consider only movies\n",
    "name_rating_df = name_rating_df[(name_rating_df[\"titleType\"] == 'movie')]\n",
    "#Get relevant columns\n",
    "name_rating_df = name_rating_df[[\"primaryTitle\", \"startYear\", \"averageRating\", \"numVotes\"]]"
   ]
  },
  {
   "cell_type": "code",
   "execution_count": 19,
   "id": "27e240ef-3ad9-46ac-a053-d80564942245",
   "metadata": {
    "ExecuteTime": {
     "end_time": "2024-11-11T08:23:30.200819Z",
     "start_time": "2024-11-11T08:23:30.166692Z"
    }
   },
   "outputs": [],
   "source": [
    "#Change the year data in IMDB dataset to float for merging to work\n",
    "#\\\\N is a special value used for missing, replace with NaN so it can't be used for merging\n",
    "name_rating_df[\"startYear\"] = name_rating_df[\"startYear\"].replace('\\\\N', np.nan)\n",
    "name_rating_df[\"startYear\"] = name_rating_df[\"startYear\"].astype(float)\n",
    "#Rename columns for merge\n",
    "name_rating_df.rename(columns={'primaryTitle': 'title', 'startYear' : 'year', 'titleType': 'type'}, inplace=True)"
   ]
  },
  {
   "cell_type": "code",
   "execution_count": 20,
   "id": "ffc0da87",
   "metadata": {},
   "outputs": [
    {
     "data": {
      "text/html": [
       "<div>\n",
       "<style scoped>\n",
       "    .dataframe tbody tr th:only-of-type {\n",
       "        vertical-align: middle;\n",
       "    }\n",
       "\n",
       "    .dataframe tbody tr th {\n",
       "        vertical-align: top;\n",
       "    }\n",
       "\n",
       "    .dataframe thead th {\n",
       "        text-align: right;\n",
       "    }\n",
       "</style>\n",
       "<table border=\"1\" class=\"dataframe\">\n",
       "  <thead>\n",
       "    <tr style=\"text-align: right;\">\n",
       "      <th></th>\n",
       "      <th>title</th>\n",
       "      <th>year</th>\n",
       "      <th>averageRating</th>\n",
       "      <th>numVotes</th>\n",
       "    </tr>\n",
       "  </thead>\n",
       "  <tbody>\n",
       "    <tr>\n",
       "      <th>8</th>\n",
       "      <td>Miss Jerry</td>\n",
       "      <td>1894.0</td>\n",
       "      <td>5.4</td>\n",
       "      <td>215</td>\n",
       "    </tr>\n",
       "    <tr>\n",
       "      <th>144</th>\n",
       "      <td>The Corbett-Fitzsimmons Fight</td>\n",
       "      <td>1897.0</td>\n",
       "      <td>5.2</td>\n",
       "      <td>539</td>\n",
       "    </tr>\n",
       "    <tr>\n",
       "      <th>339</th>\n",
       "      <td>Bohemios</td>\n",
       "      <td>1905.0</td>\n",
       "      <td>4.4</td>\n",
       "      <td>18</td>\n",
       "    </tr>\n",
       "    <tr>\n",
       "      <th>374</th>\n",
       "      <td>The Story of the Kelly Gang</td>\n",
       "      <td>1906.0</td>\n",
       "      <td>6.0</td>\n",
       "      <td>938</td>\n",
       "    </tr>\n",
       "    <tr>\n",
       "      <th>384</th>\n",
       "      <td>The Prodigal Son</td>\n",
       "      <td>1907.0</td>\n",
       "      <td>5.7</td>\n",
       "      <td>28</td>\n",
       "    </tr>\n",
       "    <tr>\n",
       "      <th>...</th>\n",
       "      <td>...</td>\n",
       "      <td>...</td>\n",
       "      <td>...</td>\n",
       "      <td>...</td>\n",
       "    </tr>\n",
       "    <tr>\n",
       "      <th>1497890</th>\n",
       "      <td>Coven</td>\n",
       "      <td>2020.0</td>\n",
       "      <td>6.4</td>\n",
       "      <td>5937</td>\n",
       "    </tr>\n",
       "    <tr>\n",
       "      <th>1497895</th>\n",
       "      <td>The Secret of China</td>\n",
       "      <td>2019.0</td>\n",
       "      <td>3.6</td>\n",
       "      <td>19</td>\n",
       "    </tr>\n",
       "    <tr>\n",
       "      <th>1497901</th>\n",
       "      <td>Kuambil Lagi Hatiku</td>\n",
       "      <td>2019.0</td>\n",
       "      <td>8.3</td>\n",
       "      <td>9</td>\n",
       "    </tr>\n",
       "    <tr>\n",
       "      <th>1497914</th>\n",
       "      <td>Dankyavar Danka</td>\n",
       "      <td>2013.0</td>\n",
       "      <td>8.4</td>\n",
       "      <td>8</td>\n",
       "    </tr>\n",
       "    <tr>\n",
       "      <th>1497916</th>\n",
       "      <td>6 Gunn</td>\n",
       "      <td>2017.0</td>\n",
       "      <td>7.0</td>\n",
       "      <td>12</td>\n",
       "    </tr>\n",
       "  </tbody>\n",
       "</table>\n",
       "<p>319770 rows × 4 columns</p>\n",
       "</div>"
      ],
      "text/plain": [
       "                                 title    year  averageRating  numVotes\n",
       "8                           Miss Jerry  1894.0            5.4       215\n",
       "144      The Corbett-Fitzsimmons Fight  1897.0            5.2       539\n",
       "339                           Bohemios  1905.0            4.4        18\n",
       "374        The Story of the Kelly Gang  1906.0            6.0       938\n",
       "384                   The Prodigal Son  1907.0            5.7        28\n",
       "...                                ...     ...            ...       ...\n",
       "1497890                          Coven  2020.0            6.4      5937\n",
       "1497895            The Secret of China  2019.0            3.6        19\n",
       "1497901            Kuambil Lagi Hatiku  2019.0            8.3         9\n",
       "1497914                Dankyavar Danka  2013.0            8.4         8\n",
       "1497916                         6 Gunn  2017.0            7.0        12\n",
       "\n",
       "[319770 rows x 4 columns]"
      ]
     },
     "execution_count": 20,
     "metadata": {},
     "output_type": "execute_result"
    }
   ],
   "source": [
    "name_rating_df"
   ]
  },
  {
   "cell_type": "code",
   "execution_count": 20,
   "id": "80a2f723-fe8f-44e9-8e58-46ba836d457c",
   "metadata": {
    "ExecuteTime": {
     "end_time": "2024-11-11T08:24:01.748712Z",
     "start_time": "2024-11-11T08:24:01.123321Z"
    }
   },
   "outputs": [],
   "source": [
    "#Have to take care of duplicate entries for movies in the same year\n",
    "#ASSUME they are the same movie and aggregate the scores: sum up the numVotes and calculate the\n",
    "#new average rating taking into account the number of votes\n",
    "\n",
    "#The ratings need to be weighted to account for the number of votes\n",
    "name_rating_df[\"RatingWeight\"] = name_rating_df['averageRating'] * name_rating_df['numVotes']\n",
    "# Group by title and year for duplicates, sum the number of votes and the weighted ratings\n",
    "name_rating_agg_df = name_rating_df.groupby(['title','year']).agg(\n",
    "    numVotes=('numVotes', 'sum'),\n",
    "    RatingWeight = ('RatingWeight','sum'), \n",
    ").reset_index()\n",
    "\n",
    "#Undo the previous weighing, dividing by number of all votes\n",
    "name_rating_agg_df['averageRating'] = name_rating_agg_df['RatingWeight'] / name_rating_agg_df['numVotes']\n",
    "#All ratings have 1 space after comma\n",
    "name_rating_agg_df['averageRating'] = name_rating_agg_df['averageRating'].round(1)\n",
    "\n",
    "#Drop the temporary weighted ratings\n",
    "name_rating_agg_df.drop(columns='RatingWeight', inplace=True)"
   ]
  },
  {
   "cell_type": "code",
   "execution_count": 21,
   "id": "19f9f170-47ec-473f-962a-743e3b3bf5bb",
   "metadata": {
    "ExecuteTime": {
     "end_time": "2024-11-11T08:24:16.394112Z",
     "start_time": "2024-11-11T08:24:16.115297Z"
    }
   },
   "outputs": [],
   "source": [
    "#Get the year of release of the movies from the mixed formatting\n",
    "dates_as_year = pd.to_datetime(movie_character_oscar_df[\"release_date\"],format='mixed',errors='coerce').dt.year\n",
    "\n",
    "#Copy of the dataset with the added year column\n",
    "movie_character_oscar_fixedDate_df = movie_character_oscar_df.copy(deep=True)\n",
    "movie_character_oscar_fixedDate_df[\"year\"] = dates_as_year"
   ]
  },
  {
   "cell_type": "code",
   "execution_count": 22,
   "id": "50ab55d4-bd71-4286-ab9f-897ce01d2ca6",
   "metadata": {
    "ExecuteTime": {
     "end_time": "2024-11-11T08:24:17.463050Z",
     "start_time": "2024-11-11T08:24:17.272800Z"
    }
   },
   "outputs": [],
   "source": [
    "#Merge ratings with everything previous (left merge because we only want to add the ratings where we can, they\n",
    "#are not the be-all-end-all\n",
    "movie_character_oscar_rating_df = movie_character_oscar_fixedDate_df.merge(\n",
    "    name_rating_agg_df, on=['title', 'year'], how='left')\n"
   ]
  },
  {
   "cell_type": "code",
   "execution_count": 23,
   "id": "bbf13fae",
   "metadata": {
    "ExecuteTime": {
     "end_time": "2024-11-11T08:24:39.967480Z",
     "start_time": "2024-11-11T08:24:39.963672Z"
    }
   },
   "outputs": [
    {
     "name": "stdout",
     "output_type": "stream",
     "text": [
      "Index(['freebase_movie_id', 'title', 'release_date', 'box_office_revenue',\n",
      "       'runtime', 'languages', 'countries', 'genres', 'parsed_movie_name',\n",
      "       'Freebase actor ID', 'Actor gender', 'Actor height (in meters)',\n",
      "       'Actor ethnicity (Freebase ID)', 'Actor name',\n",
      "       'Actor age at movie release', 'Freebase character/actor map ID',\n",
      "       'parsed_actor_name', 'year_film', 'year_ceremony', 'ceremony',\n",
      "       'category', 'name', 'film', 'winner', 'oscar_nominated', 'year',\n",
      "       'numVotes', 'averageRating'],\n",
      "      dtype='object')\n",
      "Index(['title', 'year', 'numVotes', 'averageRating'], dtype='object')\n"
     ]
    }
   ],
   "source": [
    "print(movie_character_oscar_rating_df.columns)\n",
    "print(name_rating_agg_df.columns)"
   ]
  },
  {
   "cell_type": "code",
   "execution_count": 25,
   "id": "94a99e6f8bf5744a",
   "metadata": {
    "ExecuteTime": {
     "end_time": "2024-11-11T08:26:38.015972Z",
     "start_time": "2024-11-11T08:26:37.805120Z"
    }
   },
   "outputs": [
    {
     "data": {
      "text/plain": [
       "freebase_movie_id                  444700\n",
       "title                              444700\n",
       "release_date                       434854\n",
       "box_office_revenue                  99727\n",
       "runtime                            395191\n",
       "languages                          444700\n",
       "countries                          444700\n",
       "genres                             444700\n",
       "parsed_movie_name                  445017\n",
       "Freebase actor ID                  444700\n",
       "Actor gender                       400434\n",
       "Actor height (in meters)           152680\n",
       "Actor ethnicity (Freebase ID)      104228\n",
       "Actor name                         444700\n",
       "Actor age at movie release         288956\n",
       "Freebase character/actor map ID    444700\n",
       "parsed_actor_name                  445017\n",
       "year_film                            1827\n",
       "year_ceremony                        1827\n",
       "ceremony                             1827\n",
       "category                             1827\n",
       "name                                 1827\n",
       "film                                 1827\n",
       "winner                               1827\n",
       "oscar_nominated                    445017\n",
       "year                               434839\n",
       "numVotes                           285446\n",
       "averageRating                      285446\n",
       "dtype: int64"
      ]
     },
     "execution_count": 25,
     "metadata": {},
     "output_type": "execute_result"
    }
   ],
   "source": [
    "movie_character_oscar_rating_df.notna().sum()"
   ]
  },
  {
   "cell_type": "markdown",
   "id": "4de792d7f008aba5",
   "metadata": {},
   "source": [
    "We have three columns for date - `release_date`, `year_ceremony` and `year_film`. `year_film` and `year_ceremony` are from the oscar dataset and are only available for 1827 rows. Additionally, `year_ceremony` is always exactly 1 more than `year_film`. This allows us to conclude that the `year_film` and `year_ceremony` columns are redundant and can be dropped.\n",
    "\n",
    "For similar reasons, the `name` and `film` columns from the oscar dataset are also redundant.\n",
    "\n",
    "The `Freebase character/actor map ID` column is also not useful for us as we only care about actors and not the characters played by them in movies. \n",
    "\n",
    "From the pairs of columns (`title`,`parsed_movie_name`) and (`Actor_name`, `parsed_actor_name`), we choose to keep the parsed versions. At first glance, it might appear that the parsed columns have no missing values while the original ones do not, but this is simply because the missing values have been converted to 'nan' strings. This is something to be mindful of. TODO we might even want to drop rows with `nan` actors?\n",
    "\n"
   ]
  },
  {
   "cell_type": "code",
   "execution_count": 28,
   "id": "2dcabdfed9c10552",
   "metadata": {
    "ExecuteTime": {
     "end_time": "2024-11-11T08:49:33.630873Z",
     "start_time": "2024-11-11T08:49:33.544879Z"
    }
   },
   "outputs": [
    {
     "data": {
      "text/plain": [
       "Index(['freebase_movie_id', 'release_date', 'box_office_revenue', 'runtime',\n",
       "       'languages', 'countries', 'genres', 'parsed_movie_name',\n",
       "       'Freebase actor ID', 'Actor gender', 'Actor height (in meters)',\n",
       "       'Actor ethnicity (Freebase ID)', 'Actor age at movie release',\n",
       "       'parsed_actor_name', 'ceremony', 'category', 'winner',\n",
       "       'oscar_nominated', 'year', 'numVotes', 'averageRating'],\n",
       "      dtype='object')"
      ]
     },
     "execution_count": 28,
     "metadata": {},
     "output_type": "execute_result"
    }
   ],
   "source": [
    "movie_character_oscar_rating_df_dropped = movie_character_oscar_rating_df.drop(columns=['Freebase character/actor map ID', 'name', 'film', 'year_film', 'year_ceremony', 'title', 'Actor name'])\n",
    "movie_character_oscar_rating_df_dropped.columns"
   ]
  },
  {
   "cell_type": "code",
   "execution_count": 38,
   "id": "b9ec026445f24e45",
   "metadata": {
    "ExecuteTime": {
     "end_time": "2024-11-11T08:56:45.786512Z",
     "start_time": "2024-11-11T08:56:45.782811Z"
    }
   },
   "outputs": [
    {
     "data": {
      "text/plain": [
       "Index(['freebase_movie_id', 'release_date', 'box_office_revenue', 'runtime',\n",
       "       'languages', 'countries', 'genres', 'title', 'Freebase actor ID',\n",
       "       'Actor gender', 'Actor height (in meters)',\n",
       "       'Actor ethnicity (Freebase ID)', 'Actor age at movie release',\n",
       "       'actor_name', 'ceremony', 'category', 'winner', 'oscar_nominated',\n",
       "       'year', 'numVotes', 'averageRating'],\n",
       "      dtype='object')"
      ]
     },
     "execution_count": 38,
     "metadata": {},
     "output_type": "execute_result"
    }
   ],
   "source": [
    "movie_character_oscar_rating_df_dropped.rename(columns={'parsed_movie_name': 'title', 'parsed_actor_name': 'actor_name'}, inplace=True)\n",
    "movie_character_oscar_rating_df_dropped.columns"
   ]
  },
  {
   "cell_type": "code",
   "execution_count": 39,
   "id": "779a11476187dab",
   "metadata": {
    "ExecuteTime": {
     "end_time": "2024-11-11T08:57:17.123224Z",
     "start_time": "2024-11-11T08:57:17.118265Z"
    }
   },
   "outputs": [
    {
     "name": "stdout",
     "output_type": "stream",
     "text": [
      "freebase_movie_id                 object\n",
      "release_date                      object\n",
      "box_office_revenue               float64\n",
      "runtime                          float64\n",
      "languages                         object\n",
      "countries                         object\n",
      "genres                            object\n",
      "title                             object\n",
      "Freebase actor ID                 object\n",
      "Actor gender                      object\n",
      "Actor height (in meters)         float64\n",
      "Actor ethnicity (Freebase ID)     object\n",
      "Actor age at movie release       float64\n",
      "actor_name                        object\n",
      "ceremony                         float64\n",
      "category                          object\n",
      "winner                              bool\n",
      "oscar_nominated                     bool\n",
      "year                             float64\n",
      "numVotes                         float64\n",
      "averageRating                    float64\n",
      "dtype: object\n"
     ]
    }
   ],
   "source": [
    "# We also note that the `winner` column has only 1827 values, while the `oscar_nominated` column has 445017. It is safe to say that if a movie is not nominated for an oscar, then it also does not win an oscar. Thus we impute the missing values for `winner` with `False`\n",
    "movie_character_oscar_rating_df_dropped.loc[movie_character_oscar_rating_df_dropped['winner'].isna(), 'winner'] = False\n",
    "\n",
    "# This now also allows us to cast the `winner` column to boolean type\n",
    "movie_character_oscar_rating_df_dropped['winner'] = movie_character_oscar_rating_df_dropped['winner'].astype(bool)\n",
    "print(movie_character_oscar_rating_df_dropped.dtypes)"
   ]
  },
  {
   "cell_type": "code",
   "execution_count": 41,
   "id": "befd5b42-d602-4afc-8f79-98ac9961a32e",
   "metadata": {
    "ExecuteTime": {
     "end_time": "2024-11-11T08:57:41.696007Z",
     "start_time": "2024-11-11T08:57:41.626030Z"
    },
    "scrolled": true
   },
   "outputs": [
    {
     "name": "stdout",
     "output_type": "stream",
     "text": [
      "Total number of movies with ratings:  32935\n",
      "Total number of oscar-nominated movies with ratings:  969\n"
     ]
    }
   ],
   "source": [
    "print('Total number of movies with ratings: ',\n",
    "      movie_character_oscar_rating_df_dropped[movie_character_oscar_rating_df_dropped['averageRating'].notna()]['title'].unique().shape[0])\n",
    "\n",
    "#Get oscar nominated movies\n",
    "oscar_nominated_actors_with_ratings_df = movie_character_oscar_rating_df_dropped[movie_character_oscar_rating_df_dropped['oscar_nominated']]\n",
    "print('Total number of oscar-nominated movies with ratings: ',\n",
    "      oscar_nominated_actors_with_ratings_df[oscar_nominated_actors_with_ratings_df['averageRating'].notna()]['title'].unique().shape[0])"
   ]
  },
  {
   "cell_type": "code",
   "execution_count": 42,
   "id": "b60d7743-a0a0-473c-aa67-de381c84fa4c",
   "metadata": {
    "ExecuteTime": {
     "end_time": "2024-11-11T08:57:48.761387Z",
     "start_time": "2024-11-11T08:57:48.759169Z"
    }
   },
   "outputs": [],
   "source": [
    "# Assert that adding ratings did not add any rows\n",
    "assert len(movie_character_oscar_df) == len(movie_character_oscar_rating_df_dropped)"
   ]
  },
  {
   "cell_type": "markdown",
   "id": "267cef3e-ae95-4721-a518-b9a6a3e2f9c8",
   "metadata": {},
   "source": [
    "## Output data"
   ]
  },
  {
   "cell_type": "code",
   "execution_count": 43,
   "id": "a1c0c8ff-ef80-48ce-8eda-ee60b49573c4",
   "metadata": {
    "ExecuteTime": {
     "end_time": "2024-11-11T08:57:52.122778Z",
     "start_time": "2024-11-11T08:57:52.111883Z"
    }
   },
   "outputs": [
    {
     "data": {
      "text/html": [
       "<div>\n",
       "<style scoped>\n",
       "    .dataframe tbody tr th:only-of-type {\n",
       "        vertical-align: middle;\n",
       "    }\n",
       "\n",
       "    .dataframe tbody tr th {\n",
       "        vertical-align: top;\n",
       "    }\n",
       "\n",
       "    .dataframe thead th {\n",
       "        text-align: right;\n",
       "    }\n",
       "</style>\n",
       "<table border=\"1\" class=\"dataframe\">\n",
       "  <thead>\n",
       "    <tr style=\"text-align: right;\">\n",
       "      <th></th>\n",
       "      <th>freebase_movie_id</th>\n",
       "      <th>release_date</th>\n",
       "      <th>box_office_revenue</th>\n",
       "      <th>runtime</th>\n",
       "      <th>languages</th>\n",
       "      <th>countries</th>\n",
       "      <th>genres</th>\n",
       "      <th>title</th>\n",
       "      <th>Freebase actor ID</th>\n",
       "      <th>Actor gender</th>\n",
       "      <th>...</th>\n",
       "      <th>Actor ethnicity (Freebase ID)</th>\n",
       "      <th>Actor age at movie release</th>\n",
       "      <th>actor_name</th>\n",
       "      <th>ceremony</th>\n",
       "      <th>category</th>\n",
       "      <th>winner</th>\n",
       "      <th>oscar_nominated</th>\n",
       "      <th>year</th>\n",
       "      <th>numVotes</th>\n",
       "      <th>averageRating</th>\n",
       "    </tr>\n",
       "  </thead>\n",
       "  <tbody>\n",
       "    <tr>\n",
       "      <th>0</th>\n",
       "      <td>/m/03vyhn</td>\n",
       "      <td>2001-08-24</td>\n",
       "      <td>14010832.0</td>\n",
       "      <td>98.0</td>\n",
       "      <td>{\"/m/02h40lc\": \"English Language\"}</td>\n",
       "      <td>{\"/m/09c7w0\": \"United States of America\"}</td>\n",
       "      <td>{\"/m/01jfsb\": \"Thriller\", \"/m/06n90\": \"Science...</td>\n",
       "      <td>ghosts of mars</td>\n",
       "      <td>/m/01vw26l</td>\n",
       "      <td>M</td>\n",
       "      <td>...</td>\n",
       "      <td>/m/0x67</td>\n",
       "      <td>32.0</td>\n",
       "      <td>ice cube</td>\n",
       "      <td>NaN</td>\n",
       "      <td>NaN</td>\n",
       "      <td>False</td>\n",
       "      <td>False</td>\n",
       "      <td>2001.0</td>\n",
       "      <td>58876.0</td>\n",
       "      <td>4.9</td>\n",
       "    </tr>\n",
       "  </tbody>\n",
       "</table>\n",
       "<p>1 rows × 21 columns</p>\n",
       "</div>"
      ],
      "text/plain": [
       "  freebase_movie_id release_date  box_office_revenue  runtime  \\\n",
       "0         /m/03vyhn   2001-08-24          14010832.0     98.0   \n",
       "\n",
       "                            languages  \\\n",
       "0  {\"/m/02h40lc\": \"English Language\"}   \n",
       "\n",
       "                                   countries  \\\n",
       "0  {\"/m/09c7w0\": \"United States of America\"}   \n",
       "\n",
       "                                              genres           title  \\\n",
       "0  {\"/m/01jfsb\": \"Thriller\", \"/m/06n90\": \"Science...  ghosts of mars   \n",
       "\n",
       "  Freebase actor ID Actor gender  ...  Actor ethnicity (Freebase ID)  \\\n",
       "0        /m/01vw26l            M  ...                        /m/0x67   \n",
       "\n",
       "  Actor age at movie release  actor_name ceremony  category winner  \\\n",
       "0                       32.0    ice cube      NaN       NaN  False   \n",
       "\n",
       "   oscar_nominated    year  numVotes  averageRating  \n",
       "0            False  2001.0   58876.0            4.9  \n",
       "\n",
       "[1 rows x 21 columns]"
      ]
     },
     "execution_count": 43,
     "metadata": {},
     "output_type": "execute_result"
    }
   ],
   "source": [
    "movie_character_oscar_rating_df_dropped[:1]"
   ]
  },
  {
   "cell_type": "code",
   "execution_count": null,
   "id": "ee5d443b",
   "metadata": {
    "ExecuteTime": {
     "end_time": "2024-11-11T08:57:58.782231Z",
     "start_time": "2024-11-11T08:57:56.271594Z"
    }
   },
   "outputs": [],
   "source": [
    "# Finish processed data\n",
    "path = 'cache/data.csv'\n",
    "os.makedirs('cache', exist_ok=True)\n",
    "movie_character_oscar_rating_df_dropped.to_csv(path)"
   ]
  }
 ],
 "metadata": {
  "kernelspec": {
   "display_name": "ada",
   "language": "python",
   "name": "ada"
  },
  "language_info": {
   "codemirror_mode": {
    "name": "ipython",
    "version": 3
   },
   "file_extension": ".py",
   "mimetype": "text/x-python",
   "name": "python",
   "nbconvert_exporter": "python",
   "pygments_lexer": "ipython3",
   "version": "3.12.6"
  }
 },
 "nbformat": 4,
 "nbformat_minor": 5
}
