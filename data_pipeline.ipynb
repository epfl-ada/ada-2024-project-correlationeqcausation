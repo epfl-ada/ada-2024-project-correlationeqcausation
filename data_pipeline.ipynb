{
 "cells": [
  {
   "cell_type": "code",
   "execution_count": 2,
   "id": "initial_id",
   "metadata": {
    "ExecuteTime": {
     "end_time": "2024-11-11T08:18:47.497290Z",
     "start_time": "2024-11-11T08:18:47.494843Z"
    }
   },
   "outputs": [],
   "source": [
    "import pandas as pd\n",
    "import os\n",
    "import numpy as np\n",
    "import re"
   ]
  },
  {
   "cell_type": "markdown",
   "id": "0ce9df0d",
   "metadata": {},
   "source": [
    "# How datasets are joined\n",
    "\n",
    "### Movie dataset on Character dataset\n",
    "We can use freebase_movie_id\n",
    "\n",
    "### Character dataset on Oscar dataset\n",
    "Oscar dataset does not have freebase_movie_id or freebase_actor_id. We instead use parsed_actor_name and movie_identifier. parsed_actor_name will be unique for each movie as we drop actors if they share parsed_actor_name with another actor in the same movie. movie_identifier is a combination of parsed_movie_name and release_year. This is unique as we drop movies that share movie identifier."
   ]
  },
  {
   "cell_type": "markdown",
   "id": "25c1382d-6262-46fd-b7f7-2a4cf3bc0e48",
   "metadata": {},
   "source": [
    "# Preparing Movie dataset"
   ]
  },
  {
   "cell_type": "code",
   "execution_count": 164,
   "id": "ae8c2335af72bc67",
   "metadata": {
    "ExecuteTime": {
     "end_time": "2024-11-11T08:20:13.897912Z",
     "start_time": "2024-11-11T08:20:13.692279Z"
    }
   },
   "outputs": [],
   "source": [
    "movie_df = pd.read_csv('data/movie.metadata.tsv', sep='\\t', names=['wiki_movie_id', 'freebase_movie_id', 'title', 'release_date', 'box_office_revenue', 'runtime', 'languages', 'countries', 'genres'], index_col='freebase_movie_id')\n",
    "movie_df = movie_df.reset_index()"
   ]
  },
  {
   "cell_type": "code",
   "execution_count": 84,
   "id": "d9ab03e6",
   "metadata": {},
   "outputs": [],
   "source": [
    "def parse_string(s):\n",
    "    try:\n",
    "        s = s.lower().strip()\n",
    "        s  = re.sub('[^a-zA-Z0-9 -]', '', s)\n",
    "        if len(s) == 0:\n",
    "            return None\n",
    "        return s\n",
    "    except:\n",
    "        return None "
   ]
  },
  {
   "cell_type": "code",
   "execution_count": 166,
   "id": "2fa4080b",
   "metadata": {
    "ExecuteTime": {
     "end_time": "2024-11-11T08:20:19.599749Z",
     "start_time": "2024-11-11T08:20:19.573301Z"
    }
   },
   "outputs": [],
   "source": [
    "movie_df['parsed_movie_name'] = movie_df['title'].apply(parse_string)\n",
    "movie_df['release_year'] = movie_df['release_date'].apply(lambda x: pd.to_datetime(x, format='mixed', errors='coerce').year)"
   ]
  },
  {
   "cell_type": "code",
   "execution_count": 170,
   "id": "88903292",
   "metadata": {},
   "outputs": [],
   "source": [
    "movie_df['release_year'] = movie_df['release_year'].fillna(0).astype(int)"
   ]
  },
  {
   "cell_type": "code",
   "execution_count": 171,
   "id": "74d6f019",
   "metadata": {},
   "outputs": [
    {
     "name": "stderr",
     "output_type": "stream",
     "text": [
      "/var/folders/q8/ngmz2fx96cg6d3rs8tldz4r00000gn/T/ipykernel_41489/2069076716.py:4: SettingWithCopyWarning: \n",
      "A value is trying to be set on a copy of a slice from a DataFrame.\n",
      "Try using .loc[row_indexer,col_indexer] = value instead\n",
      "\n",
      "See the caveats in the documentation: https://pandas.pydata.org/pandas-docs/stable/user_guide/indexing.html#returning-a-view-versus-a-copy\n",
      "  movie_df['movie_identifier'] = movie_df.apply(lambda x: x['parsed_movie_name'] + '_' + str(x['release_year']), axis=1)\n"
     ]
    }
   ],
   "source": [
    "#Dropped movies without parsed_movie_name\n",
    "movie_df = movie_df[movie_df['parsed_movie_name'].notna()]\n",
    "#Create identifier\n",
    "movie_df['movie_identifier'] = movie_df.apply(lambda x: x['parsed_movie_name'] + '_' + str(x['release_year']), axis=1)\n",
    "movie_df = movie_df.drop(['parsed_movie_name'], axis=1)"
   ]
  },
  {
   "cell_type": "code",
   "execution_count": 172,
   "id": "7874d38f",
   "metadata": {},
   "outputs": [
    {
     "name": "stderr",
     "output_type": "stream",
     "text": [
      "<>:3: SyntaxWarning: invalid escape sequence '\\/'\n",
      "<>:3: SyntaxWarning: invalid escape sequence '\\/'\n",
      "/var/folders/q8/ngmz2fx96cg6d3rs8tldz4r00000gn/T/ipykernel_41489/2187841618.py:3: SyntaxWarning: invalid escape sequence '\\/'\n",
      "  return re.findall('\\\"([^\\/:][\\w\\s]+)\"', s)\n"
     ]
    }
   ],
   "source": [
    "def extract_column(s):\n",
    "    s = str(s)\n",
    "    return re.findall('\\\"([^\\/:][\\w\\s]+)\"', s)"
   ]
  },
  {
   "cell_type": "code",
   "execution_count": 173,
   "id": "e3fa199e",
   "metadata": {},
   "outputs": [],
   "source": [
    "# Extract data from columns\n",
    "movie_df['countries'] = movie_df['countries'].apply(extract_column)\n",
    "movie_df['languages'] = movie_df['languages'].apply(extract_column)\n",
    "movie_df['genres'] = movie_df['genres'].apply(extract_column)"
   ]
  },
  {
   "cell_type": "code",
   "execution_count": 174,
   "id": "189b63cc",
   "metadata": {},
   "outputs": [],
   "source": [
    "movie_df['country'] = movie_df['countries'].map(lambda x: None if len(x) == 0 else x[0])\n",
    "movie_df['language'] = movie_df['languages'].map(lambda x: 'English Language' if len(x) == 0 else x[0])\n",
    "movie_df = movie_df.drop(['countries', 'languages'], axis=1)"
   ]
  },
  {
   "cell_type": "code",
   "execution_count": 175,
   "id": "4ecc79cd",
   "metadata": {},
   "outputs": [
    {
     "name": "stdout",
     "output_type": "stream",
     "text": [
      "Number of movies with duplicate movie identifier: 379\n"
     ]
    }
   ],
   "source": [
    "# Remove movies with duplicate movie_identifiers\n",
    "temp = movie_df.groupby('movie_identifier').agg(count = ('movie_identifier', 'size'))\n",
    "print('Number of movies with duplicate movie identifier:', temp[temp['count'] > 1]['count'].sum())\n",
    "movie_df = movie_df.merge(temp[temp['count'] == 1], on='movie_identifier', how='inner')\n",
    "\n",
    "movie_df = movie_df.drop('count', axis=1)"
   ]
  },
  {
   "cell_type": "markdown",
   "id": "e4190fda",
   "metadata": {},
   "source": [
    "# Preparing Character dataset"
   ]
  },
  {
   "cell_type": "code",
   "execution_count": 176,
   "id": "76fa5a65",
   "metadata": {},
   "outputs": [],
   "source": [
    "# Read character\n",
    "col_names = [\"wiki_movie_id\", \"freebase_movie_id\", \"movie_release_date\", \"character_name\", \"actor_date_of_birth\", \"Actor gender\", \"Actor height (in meters)\", \"Actor ethnicity (Freebase ID)\", \"Actor name\", \"Actor age at movie release\", \"Freebase character/actor map ID\", \"Freebase character ID\", \"Freebase actor ID\"]\n",
    "character_df = pd.read_csv('data/character.metadata.tsv', sep='\\t', names=col_names, index_col=\"Freebase character ID\")"
   ]
  },
  {
   "cell_type": "code",
   "execution_count": 177,
   "id": "1fdb1d7dad1c8cfc",
   "metadata": {
    "ExecuteTime": {
     "end_time": "2024-11-11T08:20:24.022875Z",
     "start_time": "2024-11-11T08:20:21.382810Z"
    }
   },
   "outputs": [
    {
     "name": "stdout",
     "output_type": "stream",
     "text": [
      "Number of movies with actors of the same name: 314\n"
     ]
    }
   ],
   "source": [
    "# Remove characters without actors\n",
    "character_df = character_df[character_df['Freebase actor ID'].notna()]\n",
    "\n",
    "# Allow only one character per actor per movie.\n",
    "# Motivation: When we look at if the actor won a Oscar we don't care about what role it won it as. \n",
    "character_df = character_df.groupby(['freebase_movie_id', 'Freebase actor ID']).first().reset_index()\n",
    "\n",
    "character_df['parsed_actor_name'] = character_df['Actor name'].apply(parse_string)\n",
    "\n",
    "# How many cases where the actors of the same name stars in the same movie or\n",
    "temp = character_df.groupby(['freebase_movie_id', 'parsed_actor_name']).agg(count = ('parsed_actor_name', 'size')).reset_index()\n",
    "movies_with_actors_of_same_name_df = temp[temp['count'] > 1]\n",
    "print('Number of movies with actors of the same name:', movies_with_actors_of_same_name_df.shape[0])\n",
    "\n",
    "# Only 313 we decide to drop the cases.\n",
    "# TODO: Check if any of the 311 actors won Oscars\n",
    "character_df = character_df.merge(temp, on=['freebase_movie_id', 'parsed_actor_name'], how='inner')\n",
    "dropped_character_df = character_df[character_df['count'] == 1]\n",
    "\n",
    "temp = dropped_character_df.groupby(['freebase_movie_id', 'parsed_actor_name']).agg(count = ('parsed_actor_name', 'size')).reset_index()\n",
    "\n",
    "assert temp[temp['count'] > 1].empty\n",
    "\n",
    "character_df = dropped_character_df\n",
    "character_df = character_df.drop('count', axis=1)"
   ]
  },
  {
   "cell_type": "markdown",
   "id": "7f761e69",
   "metadata": {},
   "source": [
    "# Merge Movie dataset on character dataset"
   ]
  },
  {
   "cell_type": "code",
   "execution_count": 178,
   "id": "a224f6c5",
   "metadata": {
    "ExecuteTime": {
     "end_time": "2024-11-11T08:20:31.228371Z",
     "start_time": "2024-11-11T08:20:30.699391Z"
    }
   },
   "outputs": [],
   "source": [
    "movie_character_df = movie_df.merge(character_df, on='freebase_movie_id', how='inner')\n",
    "movie_character_df = movie_character_df[[\n",
    "    'title',\n",
    "    'release_date',\n",
    "    'box_office_revenue',\n",
    "    'runtime',\n",
    "    'language',\n",
    "    'country',\n",
    "    'genres',\n",
    "    'movie_identifier',\n",
    "    'Freebase actor ID',\n",
    "    'Actor gender',\n",
    "    'Actor height (in meters)',\n",
    "    'Actor ethnicity (Freebase ID)',\n",
    "    'Actor name',\n",
    "    'Actor age at movie release',\n",
    "    'parsed_actor_name'\n",
    "]]\n",
    "movie_character_df['actor_identifier'] = movie_character_df['Freebase actor ID']\n",
    "movie_character_df = movie_character_df.drop('Freebase actor ID', axis=1)"
   ]
  },
  {
   "cell_type": "code",
   "execution_count": 180,
   "id": "88961730",
   "metadata": {},
   "outputs": [],
   "source": [
    "# Create identifier used for joining on Oscar dataset\n",
    "movie_character_df['identifier'] = movie_character_df.apply(lambda x: x['movie_identifier'] + '_' + x['parsed_actor_name'], axis=1)\n",
    "assert movie_character_df['identifier'].is_unique"
   ]
  },
  {
   "cell_type": "markdown",
   "id": "70346312",
   "metadata": {},
   "source": [
    "# Preparing Oscar dataset"
   ]
  },
  {
   "cell_type": "code",
   "execution_count": 181,
   "id": "cff3f08dbb5e5b83",
   "metadata": {
    "ExecuteTime": {
     "end_time": "2024-11-11T08:20:44.555949Z",
     "start_time": "2024-11-11T08:20:44.538568Z"
    }
   },
   "outputs": [],
   "source": [
    "oscar_df = pd.read_csv('data/the_oscar_award.csv')\n",
    "\n",
    "# Removes weird Oscar nomination\n",
    "oscar_df = oscar_df[oscar_df['film'].notna() & oscar_df['name'].notna()]"
   ]
  },
  {
   "cell_type": "code",
   "execution_count": 182,
   "id": "191e868f",
   "metadata": {
    "ExecuteTime": {
     "end_time": "2024-11-11T08:20:46.187895Z",
     "start_time": "2024-11-11T08:20:46.178140Z"
    }
   },
   "outputs": [],
   "source": [
    "# Filtering relevant Oscar catagories\n",
    "# TODO: explain why we drop certain categories.\n",
    "oscar_df = oscar_df[oscar_df['category'].str.contains('ACTOR') | oscar_df['category'].str.contains('ACTRESS')]"
   ]
  },
  {
   "cell_type": "code",
   "execution_count": 183,
   "id": "6457f1f3",
   "metadata": {
    "ExecuteTime": {
     "end_time": "2024-11-11T08:20:48.617424Z",
     "start_time": "2024-11-11T08:20:48.611092Z"
    }
   },
   "outputs": [],
   "source": [
    "# Create identifier \n",
    "oscar_df['parsed_movie_name'] = oscar_df['film'].apply(parse_string)\n",
    "oscar_df['parsed_actor_name'] = oscar_df['name'].apply(parse_string)\n",
    "oscar_df['identifier'] = oscar_df.apply(lambda x: x['parsed_movie_name'] + '_' + str(x['year_film']) + '_' + x['parsed_actor_name'], axis=1)"
   ]
  },
  {
   "cell_type": "code",
   "execution_count": 184,
   "id": "64d56f50",
   "metadata": {},
   "outputs": [],
   "source": [
    "# If rows share identifier it must mean the same actor got nominated for the \n",
    "# same film in multiple categories. We only count one.\n",
    "oscar_df = oscar_df.groupby(['identifier']).first().reset_index()\n",
    "assert oscar_df['identifier'].is_unique"
   ]
  },
  {
   "cell_type": "code",
   "execution_count": 191,
   "id": "e8e7bc0b",
   "metadata": {},
   "outputs": [],
   "source": [
    "# Select relevant columns\n",
    "oscar_df = oscar_df[[\n",
    "    'identifier',\n",
    "    'category',\n",
    "    'winner'\n",
    "]]"
   ]
  },
  {
   "cell_type": "markdown",
   "id": "df64d805",
   "metadata": {},
   "source": [
    "# Merge movie_character dataset to Oscar\n",
    "The join is identifier which consists of parsed_movie_name, release_year and parsed_actor_name"
   ]
  },
  {
   "cell_type": "code",
   "execution_count": 249,
   "id": "296cf578",
   "metadata": {
    "ExecuteTime": {
     "end_time": "2024-11-11T08:20:53.912887Z",
     "start_time": "2024-11-11T08:20:53.573752Z"
    }
   },
   "outputs": [],
   "source": [
    "movie_character_oscar_df = movie_character_df.merge(oscar_df, how='left', on='identifier')"
   ]
  },
  {
   "cell_type": "code",
   "execution_count": 250,
   "id": "a36c4e21",
   "metadata": {
    "ExecuteTime": {
     "end_time": "2024-11-11T08:20:54.961629Z",
     "start_time": "2024-11-11T08:20:54.953613Z"
    }
   },
   "outputs": [],
   "source": [
    "# Create column to determine if actor was nominated for Oscar \n",
    "movie_character_oscar_df['oscar_nominated'] = movie_character_oscar_df['category'].notna()"
   ]
  },
  {
   "cell_type": "markdown",
   "id": "008eed5d",
   "metadata": {},
   "source": [
    "## Stats about dataset"
   ]
  },
  {
   "cell_type": "code",
   "execution_count": 251,
   "id": "9d1ca6ac",
   "metadata": {
    "ExecuteTime": {
     "end_time": "2024-11-11T08:20:56.055350Z",
     "start_time": "2024-11-11T08:20:56.047051Z"
    },
    "scrolled": true
   },
   "outputs": [
    {
     "name": "stdout",
     "output_type": "stream",
     "text": [
      "Number of different Oscar nominated movies in dataset: 952\n",
      "Number of different movies in dataset: 63968\n",
      "Number of different Oscar nominated actors in dataset: 801\n",
      "Number of different actors in dataset: 134907\n",
      "Number of Oscar nominated rows: 1443\n"
     ]
    }
   ],
   "source": [
    "nominated_df = movie_character_oscar_df[movie_character_oscar_df['oscar_nominated'] == True]\n",
    "print('Number of different Oscar nominated movies in dataset:', \n",
    "      nominated_df['movie_identifier'].unique().shape[0])\n",
    "print('Number of different movies in dataset:', \n",
    "      movie_character_oscar_df['movie_identifier'].unique().shape[0])\n",
    "print('Number of different Oscar nominated actors in dataset:', \n",
    "      nominated_df['actor_identifier'].unique().shape[0])\n",
    "print('Number of different actors in dataset:', \n",
    "      movie_character_oscar_df['actor_identifier'].unique().shape[0])\n",
    "print('Number of Oscar nominated rows:', nominated_df.shape[0])\n",
    "\n",
    "# More actors than movies. Why: Actors can win more oscars"
   ]
  },
  {
   "cell_type": "markdown",
   "id": "709a0029-7543-4d00-b941-6339510ecf2b",
   "metadata": {},
   "source": [
    "# Prepare IMDB rating dataset "
   ]
  },
  {
   "cell_type": "code",
   "execution_count": 252,
   "id": "82f19785-10e3-473c-9b04-219d495e4201",
   "metadata": {
    "ExecuteTime": {
     "end_time": "2024-11-11T08:21:14.942252Z",
     "start_time": "2024-11-11T08:21:02.336388Z"
    }
   },
   "outputs": [],
   "source": [
    "#Read data\n",
    "titlebasics_df = pd.read_csv('data/title.basics.tsv', sep='\\t', quoting=3)\n",
    "titleratings_df = pd.read_csv('data/title.ratings.tsv', sep='\\t')"
   ]
  },
  {
   "cell_type": "code",
   "execution_count": 204,
   "id": "754aec45-38ea-4a20-9b8d-6987f9a96523",
   "metadata": {
    "ExecuteTime": {
     "end_time": "2024-11-11T08:22:33.613184Z",
     "start_time": "2024-11-11T08:22:19.919889Z"
    }
   },
   "outputs": [],
   "source": [
    "#Merge dataframes containing ratings and title names\n",
    "name_rating_df = titlebasics_df.merge(titleratings_df, how='inner', on=['tconst', 'tconst'])\n",
    "#Consider only movies\n",
    "name_rating_df = name_rating_df[(name_rating_df[\"titleType\"] == 'movie')]\n",
    "#Get relevant columns\n",
    "name_rating_df = name_rating_df[[\"primaryTitle\", \"startYear\", \"averageRating\", \"numVotes\"]]"
   ]
  },
  {
   "cell_type": "code",
   "execution_count": 205,
   "id": "27e240ef-3ad9-46ac-a053-d80564942245",
   "metadata": {
    "ExecuteTime": {
     "end_time": "2024-11-11T08:23:30.200819Z",
     "start_time": "2024-11-11T08:23:30.166692Z"
    }
   },
   "outputs": [],
   "source": [
    "#Change the year data in IMDB dataset to float for merging to work\n",
    "#\\\\N is a special value used for missing, replace with NaN so it can't be used for merging\n",
    "name_rating_df[\"startYear\"] = name_rating_df[\"startYear\"].replace('\\\\N', np.nan)\n",
    "name_rating_df[\"startYear\"] = name_rating_df[\"startYear\"].astype(float)\n",
    "#Rename columns for merge\n",
    "name_rating_df.rename(columns={'primaryTitle': 'title', 'startYear' : 'year', 'titleType': 'type'}, inplace=True)"
   ]
  },
  {
   "cell_type": "code",
   "execution_count": 206,
   "id": "80a2f723-fe8f-44e9-8e58-46ba836d457c",
   "metadata": {
    "ExecuteTime": {
     "end_time": "2024-11-11T08:24:01.748712Z",
     "start_time": "2024-11-11T08:24:01.123321Z"
    }
   },
   "outputs": [],
   "source": [
    "#Have to take care of duplicate entries for movies in the same year\n",
    "#ASSUME they are the same movie and aggregate the scores: sum up the numVotes and calculate the\n",
    "#new average rating taking into account the number of votes\n",
    "\n",
    "#The ratings need to be weighted to account for the number of votes\n",
    "name_rating_df[\"RatingWeight\"] = name_rating_df['averageRating'] * name_rating_df['numVotes']\n",
    "# Group by title and year for duplicates, sum the number of votes and the weighted ratings\n",
    "name_rating_agg_df = name_rating_df.groupby(['title','year']).agg(\n",
    "    numVotes=('numVotes', 'sum'),\n",
    "    RatingWeight = ('RatingWeight','sum'), \n",
    ").reset_index()\n",
    "\n",
    "#Undo the previous weighing, dividing by number of all votes\n",
    "name_rating_agg_df['averageRating'] = name_rating_agg_df['RatingWeight'] / name_rating_agg_df['numVotes']\n",
    "#All ratings have 1 space after comma\n",
    "name_rating_agg_df['averageRating'] = name_rating_agg_df['averageRating'].round(1)\n",
    "\n",
    "#Drop the temporary weighted ratings\n",
    "name_rating_agg_df.drop(columns='RatingWeight', inplace=True)"
   ]
  },
  {
   "cell_type": "code",
   "execution_count": 207,
   "id": "19f9f170-47ec-473f-962a-743e3b3bf5bb",
   "metadata": {
    "ExecuteTime": {
     "end_time": "2024-11-11T08:24:16.394112Z",
     "start_time": "2024-11-11T08:24:16.115297Z"
    }
   },
   "outputs": [],
   "source": [
    "#Get the year of release of the movies from the mixed formatting\n",
    "dates_as_year = pd.to_datetime(movie_character_oscar_df[\"release_date\"],format='mixed',errors='coerce').dt.year\n",
    "\n",
    "#Copy of the dataset with the added year column\n",
    "movie_character_oscar_df['year'] = dates_as_year \n",
    "\n",
    "rows_before_ratings = movie_character_oscar_df.shape[0]"
   ]
  },
  {
   "cell_type": "markdown",
   "id": "de5294f8",
   "metadata": {},
   "source": [
    "# Join movie_character_oscar on IMDB dataset"
   ]
  },
  {
   "cell_type": "code",
   "execution_count": 210,
   "id": "ea49f24b",
   "metadata": {},
   "outputs": [
    {
     "data": {
      "text/html": [
       "<div>\n",
       "<style scoped>\n",
       "    .dataframe tbody tr th:only-of-type {\n",
       "        vertical-align: middle;\n",
       "    }\n",
       "\n",
       "    .dataframe tbody tr th {\n",
       "        vertical-align: top;\n",
       "    }\n",
       "\n",
       "    .dataframe thead th {\n",
       "        text-align: right;\n",
       "    }\n",
       "</style>\n",
       "<table border=\"1\" class=\"dataframe\">\n",
       "  <thead>\n",
       "    <tr style=\"text-align: right;\">\n",
       "      <th></th>\n",
       "      <th>title</th>\n",
       "      <th>year</th>\n",
       "      <th>numVotes</th>\n",
       "      <th>averageRating</th>\n",
       "    </tr>\n",
       "  </thead>\n",
       "  <tbody>\n",
       "    <tr>\n",
       "      <th>0</th>\n",
       "      <td>!Women Art Revolution</td>\n",
       "      <td>2010.0</td>\n",
       "      <td>261</td>\n",
       "      <td>6.9</td>\n",
       "    </tr>\n",
       "    <tr>\n",
       "      <th>1</th>\n",
       "      <td>\"Flip Flop Flippin': One man's search for char...</td>\n",
       "      <td>2014.0</td>\n",
       "      <td>25</td>\n",
       "      <td>6.1</td>\n",
       "    </tr>\n",
       "    <tr>\n",
       "      <th>2</th>\n",
       "      <td>\"Giliap\"</td>\n",
       "      <td>1975.0</td>\n",
       "      <td>969</td>\n",
       "      <td>6.3</td>\n",
       "    </tr>\n",
       "    <tr>\n",
       "      <th>3</th>\n",
       "      <td>\"Has Anyone Seen Viljo?\"</td>\n",
       "      <td>1988.0</td>\n",
       "      <td>335</td>\n",
       "      <td>4.4</td>\n",
       "    </tr>\n",
       "    <tr>\n",
       "      <th>4</th>\n",
       "      <td>#1 Serial Killer</td>\n",
       "      <td>2013.0</td>\n",
       "      <td>72</td>\n",
       "      <td>5.6</td>\n",
       "    </tr>\n",
       "    <tr>\n",
       "      <th>...</th>\n",
       "      <td>...</td>\n",
       "      <td>...</td>\n",
       "      <td>...</td>\n",
       "      <td>...</td>\n",
       "    </tr>\n",
       "    <tr>\n",
       "      <th>317862</th>\n",
       "      <td>Üçünüzü de mihlarim</td>\n",
       "      <td>1965.0</td>\n",
       "      <td>44</td>\n",
       "      <td>5.4</td>\n",
       "    </tr>\n",
       "    <tr>\n",
       "      <th>317863</th>\n",
       "      <td>Üçüzler</td>\n",
       "      <td>1993.0</td>\n",
       "      <td>7</td>\n",
       "      <td>3.6</td>\n",
       "    </tr>\n",
       "    <tr>\n",
       "      <th>317864</th>\n",
       "      <td>Þegiðu og syntu</td>\n",
       "      <td>2020.0</td>\n",
       "      <td>16</td>\n",
       "      <td>9.4</td>\n",
       "    </tr>\n",
       "    <tr>\n",
       "      <th>317865</th>\n",
       "      <td>à propos: philosophie</td>\n",
       "      <td>2016.0</td>\n",
       "      <td>8</td>\n",
       "      <td>8.5</td>\n",
       "    </tr>\n",
       "    <tr>\n",
       "      <th>317866</th>\n",
       "      <td>ärtico</td>\n",
       "      <td>2014.0</td>\n",
       "      <td>123</td>\n",
       "      <td>5.6</td>\n",
       "    </tr>\n",
       "  </tbody>\n",
       "</table>\n",
       "<p>317867 rows × 4 columns</p>\n",
       "</div>"
      ],
      "text/plain": [
       "                                                    title    year  numVotes  \\\n",
       "0                                   !Women Art Revolution  2010.0       261   \n",
       "1       \"Flip Flop Flippin': One man's search for char...  2014.0        25   \n",
       "2                                                \"Giliap\"  1975.0       969   \n",
       "3                                \"Has Anyone Seen Viljo?\"  1988.0       335   \n",
       "4                                        #1 Serial Killer  2013.0        72   \n",
       "...                                                   ...     ...       ...   \n",
       "317862                                Üçünüzü de mihlarim  1965.0        44   \n",
       "317863                                            Üçüzler  1993.0         7   \n",
       "317864                                    Þegiðu og syntu  2020.0        16   \n",
       "317865                              à propos: philosophie  2016.0         8   \n",
       "317866                                             ärtico  2014.0       123   \n",
       "\n",
       "        averageRating  \n",
       "0                 6.9  \n",
       "1                 6.1  \n",
       "2                 6.3  \n",
       "3                 4.4  \n",
       "4                 5.6  \n",
       "...               ...  \n",
       "317862            5.4  \n",
       "317863            3.6  \n",
       "317864            9.4  \n",
       "317865            8.5  \n",
       "317866            5.6  \n",
       "\n",
       "[317867 rows x 4 columns]"
      ]
     },
     "execution_count": 210,
     "metadata": {},
     "output_type": "execute_result"
    }
   ],
   "source": [
    "name_rating_agg_df"
   ]
  },
  {
   "cell_type": "code",
   "execution_count": 216,
   "id": "11b8a9fc",
   "metadata": {},
   "outputs": [],
   "source": [
    "# Create identifier\n",
    "imdb_df = name_rating_agg_df.copy(deep=True)\n",
    "imdb_df['parsed_movie_name'] = imdb_df.apply(lambda x: parse_string(x['title']), axis=1)\n",
    "imdb_df['release_year'] = imdb_df['year'].fillna(0).astype(int)\n",
    "imdb_df = imdb_df[imdb_df['parsed_movie_name'].notna()]\n",
    "imdb_df['movie_identifier'] = imdb_df.apply(lambda x: x['parsed_movie_name'] + '_' + str(x['release_year']), axis=1)"
   ]
  },
  {
   "cell_type": "code",
   "execution_count": 222,
   "id": "17dba1aa",
   "metadata": {},
   "outputs": [],
   "source": [
    "# Drop ratings of movies that share movie identifier\n",
    "temp = imdb_df.groupby('movie_identifier').agg(count = ('movie_identifier', 'size')).sort_values('count', ascending=False)\n",
    "temp = temp[temp['count'] == 1]\n",
    "imdb_df = imdb_df.merge(temp, on='movie_identifier', how='inner')\n",
    "imdb_df = imdb_df.drop('count', axis=1)\n",
    "assert imdb_df['movie_identifier'].is_unique"
   ]
  },
  {
   "cell_type": "code",
   "execution_count": 227,
   "id": "b5b890be",
   "metadata": {},
   "outputs": [],
   "source": [
    "# Select relevant columns\n",
    "imdb_df = imdb_df[[\n",
    "    'averageRating',\n",
    "    'numVotes',\n",
    "    'movie_identifier'\n",
    "]]"
   ]
  },
  {
   "cell_type": "code",
   "execution_count": 253,
   "id": "50ab55d4-bd71-4286-ab9f-897ce01d2ca6",
   "metadata": {
    "ExecuteTime": {
     "end_time": "2024-11-11T08:24:17.463050Z",
     "start_time": "2024-11-11T08:24:17.272800Z"
    }
   },
   "outputs": [],
   "source": [
    "movie_character_oscar_rating_df = movie_character_oscar_df.merge(imdb_df, on='movie_identifier', how='left')\n",
    "movie_character_oscar_rating_df['has_rating'] = movie_character_oscar_rating_df['numVotes'].notna()"
   ]
  },
  {
   "cell_type": "code",
   "execution_count": 245,
   "id": "29f71d3c",
   "metadata": {},
   "outputs": [],
   "source": [
    "movie_character_oscar_rating_df['average_rating'] = movie_character_oscar_rating_df['averageRating']\n",
    "movie_character_oscar_rating_df['number_of_votes'] = movie_character_oscar_rating_df['numVotes']\n",
    "movie_character_oscar_rating_df = movie_character_oscar_rating_df.drop(['numVotes', 'averageRating'], axis=1)"
   ]
  },
  {
   "cell_type": "code",
   "execution_count": null,
   "id": "cd1f0ba4",
   "metadata": {},
   "outputs": [
    {
     "name": "stdout",
     "output_type": "stream",
     "text": [
      "Number of movies with ratings: 36757\n",
      "Oscar nominated movies with rating: 1426\n"
     ]
    }
   ],
   "source": [
    "## Stats of dataset\n",
    "rating_df = movie_character_oscar_rating_df[movie_character_oscar_rating_df['has_rating'] == True]\n",
    "print('Number of movies with ratings:', rating_df['movie_identifier'].unique().shape[0])\n",
    "print('Oscar nominated movies with rating:', rating_df[rating_df['oscar_nominated'] == True]['movie_identifier'].shape[0])\n",
    "\n",
    "# Basically all Oscar nominated movies have rating"
   ]
  },
  {
   "cell_type": "markdown",
   "id": "4de792d7f008aba5",
   "metadata": {},
   "source": [
    "We have three columns for date - `release_date`, `year_ceremony` and `year_film`. `year_film` and `year_ceremony` are from the oscar dataset and are only available for 1827 rows. Additionally, `year_ceremony` is always exactly 1 more than `year_film`. This allows us to conclude that the `year_film` and `year_ceremony` columns are redundant and can be dropped.\n",
    "\n",
    "For similar reasons, the `name` and `film` columns from the oscar dataset are also redundant.\n",
    "\n",
    "The `Freebase character/actor map ID` column is also not useful for us as we only care about actors and not the characters played by them in movies. \n",
    "\n",
    "From the pairs of columns (`title`,`parsed_movie_name`) and (`Actor_name`, `parsed_actor_name`), we choose to keep the parsed versions. At first glance, it might appear that the parsed columns have no missing values while the original ones do not, but this is simply because the missing values have been converted to 'nan' strings. This is something to be mindful of. TODO we might even want to drop rows with `nan` actors?\n",
    "\n"
   ]
  },
  {
   "cell_type": "code",
   "execution_count": 258,
   "id": "2b0e9bef",
   "metadata": {},
   "outputs": [
    {
     "data": {
      "text/html": [
       "<div>\n",
       "<style scoped>\n",
       "    .dataframe tbody tr th:only-of-type {\n",
       "        vertical-align: middle;\n",
       "    }\n",
       "\n",
       "    .dataframe tbody tr th {\n",
       "        vertical-align: top;\n",
       "    }\n",
       "\n",
       "    .dataframe thead th {\n",
       "        text-align: right;\n",
       "    }\n",
       "</style>\n",
       "<table border=\"1\" class=\"dataframe\">\n",
       "  <thead>\n",
       "    <tr style=\"text-align: right;\">\n",
       "      <th></th>\n",
       "      <th>title</th>\n",
       "      <th>release_date</th>\n",
       "      <th>box_office_revenue</th>\n",
       "      <th>runtime</th>\n",
       "      <th>language</th>\n",
       "      <th>country</th>\n",
       "      <th>genres</th>\n",
       "      <th>movie_identifier</th>\n",
       "      <th>Actor gender</th>\n",
       "      <th>Actor height (in meters)</th>\n",
       "      <th>...</th>\n",
       "      <th>Actor age at movie release</th>\n",
       "      <th>parsed_actor_name</th>\n",
       "      <th>actor_identifier</th>\n",
       "      <th>identifier</th>\n",
       "      <th>category</th>\n",
       "      <th>winner</th>\n",
       "      <th>oscar_nominated</th>\n",
       "      <th>averageRating</th>\n",
       "      <th>numVotes</th>\n",
       "      <th>has_rating</th>\n",
       "    </tr>\n",
       "  </thead>\n",
       "  <tbody>\n",
       "    <tr>\n",
       "      <th>0</th>\n",
       "      <td>Ghosts of Mars</td>\n",
       "      <td>2001-08-24</td>\n",
       "      <td>14010832.0</td>\n",
       "      <td>98.0</td>\n",
       "      <td>English Language</td>\n",
       "      <td>United States of America</td>\n",
       "      <td>[Thriller, Science Fiction, Horror, Adventure,...</td>\n",
       "      <td>ghosts of mars_2001</td>\n",
       "      <td>M</td>\n",
       "      <td>1.727</td>\n",
       "      <td>...</td>\n",
       "      <td>32.0</td>\n",
       "      <td>ice cube</td>\n",
       "      <td>/m/01vw26l</td>\n",
       "      <td>ghosts of mars_2001_ice cube</td>\n",
       "      <td>NaN</td>\n",
       "      <td>NaN</td>\n",
       "      <td>False</td>\n",
       "      <td>4.9</td>\n",
       "      <td>58894.0</td>\n",
       "      <td>True</td>\n",
       "    </tr>\n",
       "    <tr>\n",
       "      <th>1</th>\n",
       "      <td>Ghosts of Mars</td>\n",
       "      <td>2001-08-24</td>\n",
       "      <td>14010832.0</td>\n",
       "      <td>98.0</td>\n",
       "      <td>English Language</td>\n",
       "      <td>United States of America</td>\n",
       "      <td>[Thriller, Science Fiction, Horror, Adventure,...</td>\n",
       "      <td>ghosts of mars_2001</td>\n",
       "      <td>F</td>\n",
       "      <td>1.650</td>\n",
       "      <td>...</td>\n",
       "      <td>23.0</td>\n",
       "      <td>clea duvall</td>\n",
       "      <td>/m/01y9xg</td>\n",
       "      <td>ghosts of mars_2001_clea duvall</td>\n",
       "      <td>NaN</td>\n",
       "      <td>NaN</td>\n",
       "      <td>False</td>\n",
       "      <td>4.9</td>\n",
       "      <td>58894.0</td>\n",
       "      <td>True</td>\n",
       "    </tr>\n",
       "    <tr>\n",
       "      <th>2</th>\n",
       "      <td>Ghosts of Mars</td>\n",
       "      <td>2001-08-24</td>\n",
       "      <td>14010832.0</td>\n",
       "      <td>98.0</td>\n",
       "      <td>English Language</td>\n",
       "      <td>United States of America</td>\n",
       "      <td>[Thriller, Science Fiction, Horror, Adventure,...</td>\n",
       "      <td>ghosts of mars_2001</td>\n",
       "      <td>M</td>\n",
       "      <td>NaN</td>\n",
       "      <td>...</td>\n",
       "      <td>47.0</td>\n",
       "      <td>robert carradine</td>\n",
       "      <td>/m/026qxz</td>\n",
       "      <td>ghosts of mars_2001_robert carradine</td>\n",
       "      <td>NaN</td>\n",
       "      <td>NaN</td>\n",
       "      <td>False</td>\n",
       "      <td>4.9</td>\n",
       "      <td>58894.0</td>\n",
       "      <td>True</td>\n",
       "    </tr>\n",
       "    <tr>\n",
       "      <th>3</th>\n",
       "      <td>Ghosts of Mars</td>\n",
       "      <td>2001-08-24</td>\n",
       "      <td>14010832.0</td>\n",
       "      <td>98.0</td>\n",
       "      <td>English Language</td>\n",
       "      <td>United States of America</td>\n",
       "      <td>[Thriller, Science Fiction, Horror, Adventure,...</td>\n",
       "      <td>ghosts of mars_2001</td>\n",
       "      <td>M</td>\n",
       "      <td>NaN</td>\n",
       "      <td>...</td>\n",
       "      <td>66.0</td>\n",
       "      <td>doug mcgrath</td>\n",
       "      <td>/m/02r5d3j</td>\n",
       "      <td>ghosts of mars_2001_doug mcgrath</td>\n",
       "      <td>NaN</td>\n",
       "      <td>NaN</td>\n",
       "      <td>False</td>\n",
       "      <td>4.9</td>\n",
       "      <td>58894.0</td>\n",
       "      <td>True</td>\n",
       "    </tr>\n",
       "    <tr>\n",
       "      <th>4</th>\n",
       "      <td>Ghosts of Mars</td>\n",
       "      <td>2001-08-24</td>\n",
       "      <td>14010832.0</td>\n",
       "      <td>98.0</td>\n",
       "      <td>English Language</td>\n",
       "      <td>United States of America</td>\n",
       "      <td>[Thriller, Science Fiction, Horror, Adventure,...</td>\n",
       "      <td>ghosts of mars_2001</td>\n",
       "      <td>F</td>\n",
       "      <td>1.780</td>\n",
       "      <td>...</td>\n",
       "      <td>27.0</td>\n",
       "      <td>natasha henstridge</td>\n",
       "      <td>/m/0346l4</td>\n",
       "      <td>ghosts of mars_2001_natasha henstridge</td>\n",
       "      <td>NaN</td>\n",
       "      <td>NaN</td>\n",
       "      <td>False</td>\n",
       "      <td>4.9</td>\n",
       "      <td>58894.0</td>\n",
       "      <td>True</td>\n",
       "    </tr>\n",
       "    <tr>\n",
       "      <th>...</th>\n",
       "      <td>...</td>\n",
       "      <td>...</td>\n",
       "      <td>...</td>\n",
       "      <td>...</td>\n",
       "      <td>...</td>\n",
       "      <td>...</td>\n",
       "      <td>...</td>\n",
       "      <td>...</td>\n",
       "      <td>...</td>\n",
       "      <td>...</td>\n",
       "      <td>...</td>\n",
       "      <td>...</td>\n",
       "      <td>...</td>\n",
       "      <td>...</td>\n",
       "      <td>...</td>\n",
       "      <td>...</td>\n",
       "      <td>...</td>\n",
       "      <td>...</td>\n",
       "      <td>...</td>\n",
       "      <td>...</td>\n",
       "      <td>...</td>\n",
       "    </tr>\n",
       "    <tr>\n",
       "      <th>443499</th>\n",
       "      <td>Spliced</td>\n",
       "      <td>2002</td>\n",
       "      <td>NaN</td>\n",
       "      <td>86.0</td>\n",
       "      <td>English Language</td>\n",
       "      <td>Canada</td>\n",
       "      <td>[Thriller, Horror, Slasher, Teen]</td>\n",
       "      <td>spliced_2002</td>\n",
       "      <td>None</td>\n",
       "      <td>NaN</td>\n",
       "      <td>...</td>\n",
       "      <td>19.0</td>\n",
       "      <td>andrea runge</td>\n",
       "      <td>/m/0gbx_rk</td>\n",
       "      <td>spliced_2002_andrea runge</td>\n",
       "      <td>NaN</td>\n",
       "      <td>NaN</td>\n",
       "      <td>False</td>\n",
       "      <td>NaN</td>\n",
       "      <td>NaN</td>\n",
       "      <td>False</td>\n",
       "    </tr>\n",
       "    <tr>\n",
       "      <th>443500</th>\n",
       "      <td>Spliced</td>\n",
       "      <td>2002</td>\n",
       "      <td>NaN</td>\n",
       "      <td>86.0</td>\n",
       "      <td>English Language</td>\n",
       "      <td>Canada</td>\n",
       "      <td>[Thriller, Horror, Slasher, Teen]</td>\n",
       "      <td>spliced_2002</td>\n",
       "      <td>F</td>\n",
       "      <td>NaN</td>\n",
       "      <td>...</td>\n",
       "      <td>NaN</td>\n",
       "      <td>wendy anderson</td>\n",
       "      <td>/m/0gby01h</td>\n",
       "      <td>spliced_2002_wendy anderson</td>\n",
       "      <td>NaN</td>\n",
       "      <td>NaN</td>\n",
       "      <td>False</td>\n",
       "      <td>NaN</td>\n",
       "      <td>NaN</td>\n",
       "      <td>False</td>\n",
       "    </tr>\n",
       "    <tr>\n",
       "      <th>443501</th>\n",
       "      <td>Spliced</td>\n",
       "      <td>2002</td>\n",
       "      <td>NaN</td>\n",
       "      <td>86.0</td>\n",
       "      <td>English Language</td>\n",
       "      <td>Canada</td>\n",
       "      <td>[Thriller, Horror, Slasher, Teen]</td>\n",
       "      <td>spliced_2002</td>\n",
       "      <td>None</td>\n",
       "      <td>NaN</td>\n",
       "      <td>...</td>\n",
       "      <td>NaN</td>\n",
       "      <td>billy morton</td>\n",
       "      <td>/m/0gc4lfm</td>\n",
       "      <td>spliced_2002_billy morton</td>\n",
       "      <td>NaN</td>\n",
       "      <td>NaN</td>\n",
       "      <td>False</td>\n",
       "      <td>NaN</td>\n",
       "      <td>NaN</td>\n",
       "      <td>False</td>\n",
       "    </tr>\n",
       "    <tr>\n",
       "      <th>443502</th>\n",
       "      <td>Spliced</td>\n",
       "      <td>2002</td>\n",
       "      <td>NaN</td>\n",
       "      <td>86.0</td>\n",
       "      <td>English Language</td>\n",
       "      <td>Canada</td>\n",
       "      <td>[Thriller, Horror, Slasher, Teen]</td>\n",
       "      <td>spliced_2002</td>\n",
       "      <td>None</td>\n",
       "      <td>NaN</td>\n",
       "      <td>...</td>\n",
       "      <td>NaN</td>\n",
       "      <td>ariel bastian</td>\n",
       "      <td>/m/0gdkb55</td>\n",
       "      <td>spliced_2002_ariel bastian</td>\n",
       "      <td>NaN</td>\n",
       "      <td>NaN</td>\n",
       "      <td>False</td>\n",
       "      <td>NaN</td>\n",
       "      <td>NaN</td>\n",
       "      <td>False</td>\n",
       "    </tr>\n",
       "    <tr>\n",
       "      <th>443503</th>\n",
       "      <td>Spliced</td>\n",
       "      <td>2002</td>\n",
       "      <td>NaN</td>\n",
       "      <td>86.0</td>\n",
       "      <td>English Language</td>\n",
       "      <td>Canada</td>\n",
       "      <td>[Thriller, Horror, Slasher, Teen]</td>\n",
       "      <td>spliced_2002</td>\n",
       "      <td>None</td>\n",
       "      <td>NaN</td>\n",
       "      <td>...</td>\n",
       "      <td>NaN</td>\n",
       "      <td>jared van snellenberg</td>\n",
       "      <td>/m/0gdmxzn</td>\n",
       "      <td>spliced_2002_jared van snellenberg</td>\n",
       "      <td>NaN</td>\n",
       "      <td>NaN</td>\n",
       "      <td>False</td>\n",
       "      <td>NaN</td>\n",
       "      <td>NaN</td>\n",
       "      <td>False</td>\n",
       "    </tr>\n",
       "  </tbody>\n",
       "</table>\n",
       "<p>443504 rows × 22 columns</p>\n",
       "</div>"
      ],
      "text/plain": [
       "                 title release_date  box_office_revenue  runtime  \\\n",
       "0       Ghosts of Mars   2001-08-24          14010832.0     98.0   \n",
       "1       Ghosts of Mars   2001-08-24          14010832.0     98.0   \n",
       "2       Ghosts of Mars   2001-08-24          14010832.0     98.0   \n",
       "3       Ghosts of Mars   2001-08-24          14010832.0     98.0   \n",
       "4       Ghosts of Mars   2001-08-24          14010832.0     98.0   \n",
       "...                ...          ...                 ...      ...   \n",
       "443499         Spliced         2002                 NaN     86.0   \n",
       "443500         Spliced         2002                 NaN     86.0   \n",
       "443501         Spliced         2002                 NaN     86.0   \n",
       "443502         Spliced         2002                 NaN     86.0   \n",
       "443503         Spliced         2002                 NaN     86.0   \n",
       "\n",
       "                language                   country  \\\n",
       "0       English Language  United States of America   \n",
       "1       English Language  United States of America   \n",
       "2       English Language  United States of America   \n",
       "3       English Language  United States of America   \n",
       "4       English Language  United States of America   \n",
       "...                  ...                       ...   \n",
       "443499  English Language                    Canada   \n",
       "443500  English Language                    Canada   \n",
       "443501  English Language                    Canada   \n",
       "443502  English Language                    Canada   \n",
       "443503  English Language                    Canada   \n",
       "\n",
       "                                                   genres  \\\n",
       "0       [Thriller, Science Fiction, Horror, Adventure,...   \n",
       "1       [Thriller, Science Fiction, Horror, Adventure,...   \n",
       "2       [Thriller, Science Fiction, Horror, Adventure,...   \n",
       "3       [Thriller, Science Fiction, Horror, Adventure,...   \n",
       "4       [Thriller, Science Fiction, Horror, Adventure,...   \n",
       "...                                                   ...   \n",
       "443499                  [Thriller, Horror, Slasher, Teen]   \n",
       "443500                  [Thriller, Horror, Slasher, Teen]   \n",
       "443501                  [Thriller, Horror, Slasher, Teen]   \n",
       "443502                  [Thriller, Horror, Slasher, Teen]   \n",
       "443503                  [Thriller, Horror, Slasher, Teen]   \n",
       "\n",
       "           movie_identifier Actor gender  Actor height (in meters)  ...  \\\n",
       "0       ghosts of mars_2001            M                     1.727  ...   \n",
       "1       ghosts of mars_2001            F                     1.650  ...   \n",
       "2       ghosts of mars_2001            M                       NaN  ...   \n",
       "3       ghosts of mars_2001            M                       NaN  ...   \n",
       "4       ghosts of mars_2001            F                     1.780  ...   \n",
       "...                     ...          ...                       ...  ...   \n",
       "443499         spliced_2002         None                       NaN  ...   \n",
       "443500         spliced_2002            F                       NaN  ...   \n",
       "443501         spliced_2002         None                       NaN  ...   \n",
       "443502         spliced_2002         None                       NaN  ...   \n",
       "443503         spliced_2002         None                       NaN  ...   \n",
       "\n",
       "       Actor age at movie release      parsed_actor_name  actor_identifier  \\\n",
       "0                            32.0               ice cube        /m/01vw26l   \n",
       "1                            23.0            clea duvall         /m/01y9xg   \n",
       "2                            47.0       robert carradine         /m/026qxz   \n",
       "3                            66.0           doug mcgrath        /m/02r5d3j   \n",
       "4                            27.0     natasha henstridge         /m/0346l4   \n",
       "...                           ...                    ...               ...   \n",
       "443499                       19.0           andrea runge        /m/0gbx_rk   \n",
       "443500                        NaN         wendy anderson        /m/0gby01h   \n",
       "443501                        NaN           billy morton        /m/0gc4lfm   \n",
       "443502                        NaN          ariel bastian        /m/0gdkb55   \n",
       "443503                        NaN  jared van snellenberg        /m/0gdmxzn   \n",
       "\n",
       "                                    identifier category winner  \\\n",
       "0                 ghosts of mars_2001_ice cube      NaN    NaN   \n",
       "1              ghosts of mars_2001_clea duvall      NaN    NaN   \n",
       "2         ghosts of mars_2001_robert carradine      NaN    NaN   \n",
       "3             ghosts of mars_2001_doug mcgrath      NaN    NaN   \n",
       "4       ghosts of mars_2001_natasha henstridge      NaN    NaN   \n",
       "...                                        ...      ...    ...   \n",
       "443499               spliced_2002_andrea runge      NaN    NaN   \n",
       "443500             spliced_2002_wendy anderson      NaN    NaN   \n",
       "443501               spliced_2002_billy morton      NaN    NaN   \n",
       "443502              spliced_2002_ariel bastian      NaN    NaN   \n",
       "443503      spliced_2002_jared van snellenberg      NaN    NaN   \n",
       "\n",
       "       oscar_nominated averageRating  numVotes  has_rating  \n",
       "0                False           4.9   58894.0        True  \n",
       "1                False           4.9   58894.0        True  \n",
       "2                False           4.9   58894.0        True  \n",
       "3                False           4.9   58894.0        True  \n",
       "4                False           4.9   58894.0        True  \n",
       "...                ...           ...       ...         ...  \n",
       "443499           False           NaN       NaN       False  \n",
       "443500           False           NaN       NaN       False  \n",
       "443501           False           NaN       NaN       False  \n",
       "443502           False           NaN       NaN       False  \n",
       "443503           False           NaN       NaN       False  \n",
       "\n",
       "[443504 rows x 22 columns]"
      ]
     },
     "execution_count": 258,
     "metadata": {},
     "output_type": "execute_result"
    }
   ],
   "source": [
    "movie_character_oscar_rating_df"
   ]
  },
  {
   "cell_type": "markdown",
   "id": "267cef3e-ae95-4721-a518-b9a6a3e2f9c8",
   "metadata": {},
   "source": [
    "## Output data"
   ]
  },
  {
   "cell_type": "code",
   "execution_count": 257,
   "id": "ee5d443b",
   "metadata": {
    "ExecuteTime": {
     "end_time": "2024-11-11T08:57:58.782231Z",
     "start_time": "2024-11-11T08:57:56.271594Z"
    }
   },
   "outputs": [
    {
     "name": "stdout",
     "output_type": "stream",
     "text": [
      "Processing done\n"
     ]
    }
   ],
   "source": [
    "# Finish processed data\n",
    "path = 'cache/data.csv'\n",
    "os.makedirs('cache', exist_ok=True)\n",
    "movie_character_oscar_rating_df.to_csv(path)\n",
    "print('Processing done')"
   ]
  }
 ],
 "metadata": {
  "kernelspec": {
   "display_name": "ada",
   "language": "python",
   "name": "ada"
  },
  "language_info": {
   "codemirror_mode": {
    "name": "ipython",
    "version": 3
   },
   "file_extension": ".py",
   "mimetype": "text/x-python",
   "name": "python",
   "nbconvert_exporter": "python",
   "pygments_lexer": "ipython3",
   "version": "3.12.6"
  }
 },
 "nbformat": 4,
 "nbformat_minor": 5
}
