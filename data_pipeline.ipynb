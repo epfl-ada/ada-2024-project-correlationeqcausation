{
 "cells": [
  {
   "cell_type": "code",
   "execution_count": 239,
   "id": "initial_id",
   "metadata": {
    "ExecuteTime": {
     "end_time": "2024-11-11T08:18:47.497290Z",
     "start_time": "2024-11-11T08:18:47.494843Z"
    }
   },
   "outputs": [],
   "source": [
    "import pandas as pd\n",
    "import os\n",
    "import numpy as np\n",
    "import re"
   ]
  },
  {
   "cell_type": "markdown",
   "id": "25c1382d-6262-46fd-b7f7-2a4cf3bc0e48",
   "metadata": {},
   "source": [
    "## Merging characters and movies"
   ]
  },
  {
   "cell_type": "code",
   "execution_count": 240,
   "id": "ae8c2335af72bc67",
   "metadata": {
    "ExecuteTime": {
     "end_time": "2024-11-11T08:20:13.897912Z",
     "start_time": "2024-11-11T08:20:13.692279Z"
    }
   },
   "outputs": [],
   "source": [
    "movie_df = pd.read_csv('data/movie.metadata.tsv', sep='\\t', names=['wiki_movie_id', 'freebase_movie_id', 'title', 'release_date', 'box_office_revenue', 'runtime', 'languages', 'countries', 'genres'], index_col='freebase_movie_id')\n",
    "movie_df = movie_df.reset_index()"
   ]
  },
  {
   "cell_type": "code",
   "execution_count": 241,
   "id": "d9ab03e6",
   "metadata": {},
   "outputs": [],
   "source": [
    "def parse_string(s):\n",
    "    try:\n",
    "        s = s.lower().strip()\n",
    "        s  = re.sub('[^a-zA-Z0-9 -]', '', s)\n",
    "        if len(s) == 0:\n",
    "            return None\n",
    "        return s\n",
    "    except:\n",
    "        return None "
   ]
  },
  {
   "cell_type": "code",
   "execution_count": 242,
   "id": "2fa4080b",
   "metadata": {
    "ExecuteTime": {
     "end_time": "2024-11-11T08:20:19.599749Z",
     "start_time": "2024-11-11T08:20:19.573301Z"
    }
   },
   "outputs": [],
   "source": [
    "movie_df['parsed_movie_name'] = movie_df['title'].apply(parse_string)"
   ]
  },
  {
   "cell_type": "code",
   "execution_count": 243,
   "id": "1fdb1d7dad1c8cfc",
   "metadata": {
    "ExecuteTime": {
     "end_time": "2024-11-11T08:20:24.022875Z",
     "start_time": "2024-11-11T08:20:21.382810Z"
    }
   },
   "outputs": [
    {
     "name": "stdout",
     "output_type": "stream",
     "text": [
      "Number of movies with actors of the same name: 314\n"
     ]
    }
   ],
   "source": [
    "col_names = [\"wiki_movie_id\", \"freebase_movie_id\", \"movie_release_date\", \"character_name\", \"actor_date_of_birth\", \"Actor gender\", \"Actor height (in meters)\", \"Actor ethnicity (Freebase ID)\", \"Actor name\", \"Actor age at movie release\", \"Freebase character/actor map ID\", \"Freebase character ID\", \"Freebase actor ID\"]\n",
    "character_df = pd.read_csv('data/character.metadata.tsv', sep='\\t', names=col_names, index_col=\"Freebase character ID\")\n",
    "\n",
    "# Remove characters without actors\n",
    "character_df = character_df[character_df['Freebase actor ID'].notna()]\n",
    "\n",
    "# Allow only one character per actor per movie.\n",
    "# Motivation: When we look at if the actor won a Oscar we don't care about what role it won it as. \n",
    "character_df = character_df.groupby(['freebase_movie_id', 'Freebase actor ID']).first().reset_index()\n",
    "\n",
    "character_df['parsed_actor_name'] = character_df['Actor name'].apply(parse_string)\n",
    "\n",
    "# How many cases where the actors of the same name stars in the same movie or\n",
    "temp = character_df.groupby(['freebase_movie_id', 'parsed_actor_name']).agg(count = ('parsed_actor_name', 'size')).reset_index()\n",
    "movies_with_actors_of_same_name_df = temp[temp['count'] > 1]\n",
    "print('Number of movies with actors of the same name:', movies_with_actors_of_same_name_df.shape[0])\n",
    "\n",
    "# Only 313 we decide to drop the cases.\n",
    "# TODO: Check if any of the 311 actors won Oscars\n",
    "character_df = character_df.merge(temp, on=['freebase_movie_id', 'parsed_actor_name'], how='inner')\n",
    "dropped_character_df = character_df[character_df['count'] == 1]\n",
    "\n",
    "temp = dropped_character_df.groupby(['freebase_movie_id', 'parsed_actor_name']).agg(count = ('parsed_actor_name', 'size')).reset_index()\n",
    "\n",
    "assert temp[temp['count'] > 1].empty\n",
    "\n",
    "character_df = dropped_character_df"
   ]
  },
  {
   "cell_type": "code",
   "execution_count": 244,
   "id": "a224f6c5",
   "metadata": {
    "ExecuteTime": {
     "end_time": "2024-11-11T08:20:31.228371Z",
     "start_time": "2024-11-11T08:20:30.699391Z"
    }
   },
   "outputs": [],
   "source": [
    "movie_character_df = movie_df.merge(character_df, on='freebase_movie_id', how='inner')\n",
    "movie_character_df = movie_character_df[[\n",
    "    'freebase_movie_id',\n",
    "    'title',\n",
    "    'release_date',\n",
    "    'box_office_revenue',\n",
    "    'runtime',\n",
    "    'languages',\n",
    "    'countries',\n",
    "    'genres',\n",
    "    'parsed_movie_name',\n",
    "    'Freebase actor ID',\n",
    "    'Actor gender',\n",
    "    'Actor height (in meters)',\n",
    "    'Actor ethnicity (Freebase ID)',\n",
    "    'Actor name',\n",
    "    'Actor age at movie release',\n",
    "    'Freebase character/actor map ID',\n",
    "    'parsed_actor_name'\n",
    "]]\n"
   ]
  },
  {
   "cell_type": "code",
   "execution_count": 245,
   "id": "9410c3c8",
   "metadata": {
    "ExecuteTime": {
     "end_time": "2024-11-11T08:20:39.895382Z",
     "start_time": "2024-11-11T08:20:38.509622Z"
    }
   },
   "outputs": [
    {
     "name": "stdout",
     "output_type": "stream",
     "text": [
      "Number of combination of actors of the same names starring in movies with the same name: 353\n"
     ]
    }
   ],
   "source": [
    "# To join with Oscar Movie name and Actor name need to uniquely identify one row in movie_character_df \n",
    "temp = movie_character_df.groupby(['parsed_movie_name', 'parsed_actor_name']).agg(count = ('parsed_movie_name', 'size')).reset_index()\n",
    "print('Number of combination of actors of the same names starring in movies with the same name:', temp[temp['count'] > 1].shape[0])\n",
    "\n",
    "# 350 combination. We decide to drop the combinations \n",
    "# TODO: Check if any movie won an Oscar\n",
    "dropped_movie_character_df = movie_character_df.merge(temp, on=['parsed_movie_name', 'parsed_actor_name'], how='inner')\n",
    "dropped_movie_character_df = dropped_movie_character_df[dropped_movie_character_df['count'] == 1]\n",
    "\n",
    "temp = dropped_movie_character_df.groupby(['parsed_movie_name', 'parsed_actor_name']).agg(count = ('parsed_movie_name', 'size'))\n",
    "\n",
    "assert temp['count'].max() == 1\n",
    "\n",
    "movie_character_df = dropped_movie_character_df\n",
    "movie_character_df = movie_character_df.drop('count', axis=1)"
   ]
  },
  {
   "cell_type": "markdown",
   "id": "f68a9e8e-e996-4b87-a6c7-b5044fedd1e7",
   "metadata": {},
   "source": [
    "## Merging with oscar dataset"
   ]
  },
  {
   "cell_type": "code",
   "execution_count": 246,
   "id": "cff3f08dbb5e5b83",
   "metadata": {
    "ExecuteTime": {
     "end_time": "2024-11-11T08:20:44.555949Z",
     "start_time": "2024-11-11T08:20:44.538568Z"
    }
   },
   "outputs": [],
   "source": [
    "oscar_df = pd.read_csv('data/the_oscar_award.csv')\n",
    "\n",
    "# Removes weird Oscar nomination\n",
    "oscar_df = oscar_df[oscar_df['film'].notna() & oscar_df['name'].notna()]"
   ]
  },
  {
   "cell_type": "code",
   "execution_count": 247,
   "id": "191e868f",
   "metadata": {
    "ExecuteTime": {
     "end_time": "2024-11-11T08:20:46.187895Z",
     "start_time": "2024-11-11T08:20:46.178140Z"
    }
   },
   "outputs": [],
   "source": [
    "# Filtering relevant Oscar catagories\n",
    "# TODO: explain why we drop certain categories.\n",
    "oscar_df = oscar_df[oscar_df['category'].str.contains('ACTOR') | oscar_df['category'].str.contains('ACTRESS')]"
   ]
  },
  {
   "cell_type": "markdown",
   "id": "6d82f1f9cfe7e597",
   "metadata": {},
   "source": [
    "This join needs to be checked. \n",
    "Joining with ignore case? \n",
    "Do we want to do a right join? (so also keep movies that did not win oscars)\n"
   ]
  },
  {
   "cell_type": "code",
   "execution_count": 248,
   "id": "6457f1f3",
   "metadata": {
    "ExecuteTime": {
     "end_time": "2024-11-11T08:20:48.617424Z",
     "start_time": "2024-11-11T08:20:48.611092Z"
    }
   },
   "outputs": [],
   "source": [
    "# Avoid case-sensitivity and extra spaces\n",
    "oscar_df['parsed_movie_name'] = oscar_df['film'].apply(parse_string)\n",
    "oscar_df['parsed_actor_name'] = oscar_df['name'].apply(parse_string)"
   ]
  },
  {
   "cell_type": "code",
   "execution_count": 249,
   "id": "6d160430",
   "metadata": {
    "ExecuteTime": {
     "end_time": "2024-11-11T08:20:51.125242Z",
     "start_time": "2024-11-11T08:20:51.109547Z"
    }
   },
   "outputs": [],
   "source": [
    "# One actor won two Oscars for the same movie (Barry Fitzgerald)\n",
    "oscar_df.groupby(['parsed_movie_name', 'parsed_actor_name']).agg(count = ('parsed_actor_name', 'count')).sort_values('count', ascending=False)\n",
    "\n",
    "# If actor has mutiple nomination for the same movie we choose the first\n",
    "oscar_df = oscar_df.groupby(['parsed_movie_name', 'parsed_actor_name']).first().reset_index()\n",
    "\n",
    "# For joining rows in oscar_df needs to be uniquely identified by name_parsed and film_title_parsed\n",
    "assert oscar_df.groupby(['parsed_movie_name', 'parsed_actor_name']).agg(count = ('parsed_movie_name', 'size')).max()['count'] == 1"
   ]
  },
  {
   "cell_type": "code",
   "execution_count": 250,
   "id": "296cf578",
   "metadata": {
    "ExecuteTime": {
     "end_time": "2024-11-11T08:20:53.912887Z",
     "start_time": "2024-11-11T08:20:53.573752Z"
    }
   },
   "outputs": [],
   "source": [
    "movie_character_oscar_df = movie_character_df.merge(oscar_df, how='outer', on=['parsed_movie_name', 'parsed_actor_name'])"
   ]
  },
  {
   "cell_type": "code",
   "execution_count": 251,
   "id": "a36c4e21",
   "metadata": {
    "ExecuteTime": {
     "end_time": "2024-11-11T08:20:54.961629Z",
     "start_time": "2024-11-11T08:20:54.953613Z"
    }
   },
   "outputs": [],
   "source": [
    "# Create column to determine if actor was nominated for Oscar \n",
    "movie_character_oscar_df['oscar_nominated'] = movie_character_oscar_df['winner'].notna()"
   ]
  },
  {
   "cell_type": "code",
   "execution_count": 252,
   "id": "9d1ca6ac",
   "metadata": {
    "ExecuteTime": {
     "end_time": "2024-11-11T08:20:56.055350Z",
     "start_time": "2024-11-11T08:20:56.047051Z"
    },
    "scrolled": true
   },
   "outputs": [
    {
     "name": "stdout",
     "output_type": "stream",
     "text": [
      "Number of different Oscar nominated films in dataset: 1201\n",
      "Number of different Oscar nominated actors in dataset: 982\n",
      "Number of characters with Oscar nominated characters: 1827\n",
      "Number of Oscar nominated movies in dataset: 1201\n",
      "Number of Oscar nominated actors in dataset: 982\n"
     ]
    }
   ],
   "source": [
    "oscar_nominated_actors_df = movie_character_oscar_df[movie_character_oscar_df['oscar_nominated']]\n",
    "print('Number of different Oscar nominated films in dataset:', \n",
    "      oscar_nominated_actors_df['parsed_movie_name'].unique().shape[0])\n",
    "\n",
    "print('Number of different Oscar nominated actors in dataset:', \n",
    "      oscar_nominated_actors_df['parsed_actor_name'].unique().shape[0])\n",
    "\n",
    "print('Number of characters with Oscar nominated characters:', oscar_nominated_actors_df.shape[0])\n",
    "print('Number of Oscar nominated movies in dataset:', oscar_nominated_actors_df['parsed_movie_name'].unique().shape[0])\n",
    "print('Number of Oscar nominated actors in dataset:', oscar_nominated_actors_df['parsed_actor_name'].unique().shape[0])"
   ]
  },
  {
   "cell_type": "markdown",
   "id": "709a0029-7543-4d00-b941-6339510ecf2b",
   "metadata": {},
   "source": [
    "## Merging with IMDB ratings"
   ]
  },
  {
   "cell_type": "code",
   "execution_count": 253,
   "id": "82f19785-10e3-473c-9b04-219d495e4201",
   "metadata": {
    "ExecuteTime": {
     "end_time": "2024-11-11T08:21:14.942252Z",
     "start_time": "2024-11-11T08:21:02.336388Z"
    }
   },
   "outputs": [],
   "source": [
    "#Read data\n",
    "titlebasics_df = pd.read_csv('data/title.basics.tsv', sep='\\t', quoting=3)\n",
    "titleratings_df = pd.read_csv('data/title.ratings.tsv', sep='\\t')"
   ]
  },
  {
   "cell_type": "code",
   "execution_count": 254,
   "id": "754aec45-38ea-4a20-9b8d-6987f9a96523",
   "metadata": {
    "ExecuteTime": {
     "end_time": "2024-11-11T08:22:33.613184Z",
     "start_time": "2024-11-11T08:22:19.919889Z"
    }
   },
   "outputs": [],
   "source": [
    "#Merge dataframes containing ratings and title names\n",
    "name_rating_df = titlebasics_df.merge(titleratings_df, how='inner', on=['tconst', 'tconst'])\n",
    "#Consider only movies\n",
    "name_rating_df = name_rating_df[(name_rating_df[\"titleType\"] == 'movie')]\n",
    "#Get relevant columns\n",
    "name_rating_df = name_rating_df[[\"primaryTitle\", \"startYear\", \"averageRating\", \"numVotes\"]]"
   ]
  },
  {
   "cell_type": "code",
   "execution_count": 255,
   "id": "27e240ef-3ad9-46ac-a053-d80564942245",
   "metadata": {
    "ExecuteTime": {
     "end_time": "2024-11-11T08:23:30.200819Z",
     "start_time": "2024-11-11T08:23:30.166692Z"
    }
   },
   "outputs": [],
   "source": [
    "#Change the year data in IMDB dataset to float for merging to work\n",
    "#\\\\N is a special value used for missing, replace with NaN so it can't be used for merging\n",
    "name_rating_df[\"startYear\"] = name_rating_df[\"startYear\"].replace('\\\\N', np.nan)\n",
    "name_rating_df[\"startYear\"] = name_rating_df[\"startYear\"].astype(float)\n",
    "#Rename columns for merge\n",
    "name_rating_df.rename(columns={'primaryTitle': 'title', 'startYear' : 'year', 'titleType': 'type'}, inplace=True)"
   ]
  },
  {
   "cell_type": "code",
   "execution_count": 256,
   "id": "80a2f723-fe8f-44e9-8e58-46ba836d457c",
   "metadata": {
    "ExecuteTime": {
     "end_time": "2024-11-11T08:24:01.748712Z",
     "start_time": "2024-11-11T08:24:01.123321Z"
    }
   },
   "outputs": [],
   "source": [
    "#Have to take care of duplicate entries for movies in the same year\n",
    "#ASSUME they are the same movie and aggregate the scores: sum up the numVotes and calculate the\n",
    "#new average rating taking into account the number of votes\n",
    "\n",
    "#The ratings need to be weighted to account for the number of votes\n",
    "name_rating_df[\"RatingWeight\"] = name_rating_df['averageRating'] * name_rating_df['numVotes']\n",
    "# Group by title and year for duplicates, sum the number of votes and the weighted ratings\n",
    "name_rating_agg_df = name_rating_df.groupby(['title','year']).agg(\n",
    "    numVotes=('numVotes', 'sum'),\n",
    "    RatingWeight = ('RatingWeight','sum'), \n",
    ").reset_index()\n",
    "\n",
    "#Undo the previous weighing, dividing by number of all votes\n",
    "name_rating_agg_df['averageRating'] = name_rating_agg_df['RatingWeight'] / name_rating_agg_df['numVotes']\n",
    "#All ratings have 1 space after comma\n",
    "name_rating_agg_df['averageRating'] = name_rating_agg_df['averageRating'].round(1)\n",
    "\n",
    "#Drop the temporary weighted ratings\n",
    "name_rating_agg_df.drop(columns='RatingWeight', inplace=True)"
   ]
  },
  {
   "cell_type": "code",
   "execution_count": 257,
   "id": "19f9f170-47ec-473f-962a-743e3b3bf5bb",
   "metadata": {
    "ExecuteTime": {
     "end_time": "2024-11-11T08:24:16.394112Z",
     "start_time": "2024-11-11T08:24:16.115297Z"
    }
   },
   "outputs": [],
   "source": [
    "#Get the year of release of the movies from the mixed formatting\n",
    "dates_as_year = pd.to_datetime(movie_character_oscar_df[\"release_date\"],format='mixed',errors='coerce').dt.year\n",
    "\n",
    "#Copy of the dataset with the added year column\n",
    "movie_character_oscar_df['year'] = dates_as_year \n",
    "\n",
    "rows_before_ratings = movie_character_oscar_df.shape[0]"
   ]
  },
  {
   "cell_type": "code",
   "execution_count": 258,
   "id": "50ab55d4-bd71-4286-ab9f-897ce01d2ca6",
   "metadata": {
    "ExecuteTime": {
     "end_time": "2024-11-11T08:24:17.463050Z",
     "start_time": "2024-11-11T08:24:17.272800Z"
    }
   },
   "outputs": [],
   "source": [
    "#Merge ratings with everything previous (left merge because we only want to add the ratings where we can, they\n",
    "#are not the be-all-end-all\n",
    "name_rating_agg_df['parsed_movie_name'] = name_rating_agg_df['title'].apply(parse_string)\n",
    "movie_character_oscar_rating_df = movie_character_oscar_df.merge(\n",
    "    name_rating_agg_df, on=['parsed_movie_name', 'year'], how='left')\n"
   ]
  },
  {
   "cell_type": "markdown",
   "id": "4de792d7f008aba5",
   "metadata": {},
   "source": [
    "We have three columns for date - `release_date`, `year_ceremony` and `year_film`. `year_film` and `year_ceremony` are from the oscar dataset and are only available for 1827 rows. Additionally, `year_ceremony` is always exactly 1 more than `year_film`. This allows us to conclude that the `year_film` and `year_ceremony` columns are redundant and can be dropped.\n",
    "\n",
    "For similar reasons, the `name` and `film` columns from the oscar dataset are also redundant.\n",
    "\n",
    "The `Freebase character/actor map ID` column is also not useful for us as we only care about actors and not the characters played by them in movies. \n",
    "\n",
    "From the pairs of columns (`title`,`parsed_movie_name`) and (`Actor_name`, `parsed_actor_name`), we choose to keep the parsed versions. At first glance, it might appear that the parsed columns have no missing values while the original ones do not, but this is simply because the missing values have been converted to 'nan' strings. This is something to be mindful of. TODO we might even want to drop rows with `nan` actors?\n",
    "\n"
   ]
  },
  {
   "cell_type": "code",
   "execution_count": 259,
   "id": "fdd8c2d9",
   "metadata": {},
   "outputs": [],
   "source": [
    "movie_character_oscar_rating_df = movie_character_oscar_rating_df[[\n",
    "    'title_x',\n",
    "    'release_date',\n",
    "    'box_office_revenue',\n",
    "    'runtime',\n",
    "    'year',\n",
    "    'languages',\n",
    "    'countries',\n",
    "    'genres',\n",
    "    'parsed_movie_name',\n",
    "    'Actor gender',\n",
    "    'Actor height (in meters)',\n",
    "    'Actor name',\n",
    "    'Actor age at movie release',\n",
    "    'parsed_actor_name',\n",
    "    'oscar_nominated',\n",
    "    'numVotes',\n",
    "    'averageRating'\n",
    "]]"
   ]
  },
  {
   "cell_type": "code",
   "execution_count": 260,
   "id": "b9ec026445f24e45",
   "metadata": {
    "ExecuteTime": {
     "end_time": "2024-11-11T08:56:45.786512Z",
     "start_time": "2024-11-11T08:56:45.782811Z"
    }
   },
   "outputs": [],
   "source": [
    "movie_character_oscar_rating_df.rename(columns={\n",
    "    'title_x': 'title', \n",
    "    'year': 'release_year', \n",
    "    'numVotes': 'number_of_votes',\n",
    "    'averageRating': 'average_rating'\n",
    "}, inplace=True)"
   ]
  },
  {
   "cell_type": "code",
   "execution_count": 261,
   "id": "6f3a2d62",
   "metadata": {},
   "outputs": [],
   "source": [
    "# Creates an identifier\n",
    "# Film identifier assumes no movies of the same name come out in the same year\n",
    "movie_character_oscar_rating_df['identifier'] = movie_character_oscar_rating_df.apply(lambda x: x['parsed_actor_name'] + '_' + x['parsed_movie_name'] + '_' + str(x['release_year']), axis=1) \n",
    "movie_character_oscar_rating_df['film_identifier'] = movie_character_oscar_rating_df.apply(lambda x: x['parsed_movie_name'] + '_' + str(x['release_year']), axis=1)\n",
    "movie_character_oscar_rating_df = movie_character_oscar_rating_df.drop(columns=['parsed_actor_name', 'parsed_movie_name'], axis=1)"
   ]
  },
  {
   "cell_type": "code",
   "execution_count": 262,
   "id": "1368ac05",
   "metadata": {},
   "outputs": [
    {
     "data": {
      "text/html": [
       "<div>\n",
       "<style scoped>\n",
       "    .dataframe tbody tr th:only-of-type {\n",
       "        vertical-align: middle;\n",
       "    }\n",
       "\n",
       "    .dataframe tbody tr th {\n",
       "        vertical-align: top;\n",
       "    }\n",
       "\n",
       "    .dataframe thead th {\n",
       "        text-align: right;\n",
       "    }\n",
       "</style>\n",
       "<table border=\"1\" class=\"dataframe\">\n",
       "  <thead>\n",
       "    <tr style=\"text-align: right;\">\n",
       "      <th></th>\n",
       "      <th>title</th>\n",
       "      <th>release_date</th>\n",
       "      <th>box_office_revenue</th>\n",
       "      <th>runtime</th>\n",
       "      <th>release_year</th>\n",
       "      <th>languages</th>\n",
       "      <th>countries</th>\n",
       "      <th>genres</th>\n",
       "      <th>Actor gender</th>\n",
       "      <th>Actor height (in meters)</th>\n",
       "      <th>Actor name</th>\n",
       "      <th>Actor age at movie release</th>\n",
       "      <th>oscar_nominated</th>\n",
       "      <th>number_of_votes</th>\n",
       "      <th>average_rating</th>\n",
       "      <th>identifier</th>\n",
       "      <th>film_identifier</th>\n",
       "    </tr>\n",
       "  </thead>\n",
       "  <tbody>\n",
       "    <tr>\n",
       "      <th>0</th>\n",
       "      <td>È arrivato il cavaliere!</td>\n",
       "      <td>1950</td>\n",
       "      <td>NaN</td>\n",
       "      <td>92.0</td>\n",
       "      <td>1950.0</td>\n",
       "      <td>{\"/m/02bjrlw\": \"Italian Language\"}</td>\n",
       "      <td>{\"/m/03rjj\": \"Italy\"}</td>\n",
       "      <td>{\"/m/01z4y\": \"Comedy\"}</td>\n",
       "      <td>F</td>\n",
       "      <td>NaN</td>\n",
       "      <td>Alda Mangini</td>\n",
       "      <td>35.0</td>\n",
       "      <td>False</td>\n",
       "      <td>61.0</td>\n",
       "      <td>5.6</td>\n",
       "      <td>alda mangini_ arrivato il cavaliere_1950.0</td>\n",
       "      <td>arrivato il cavaliere_1950.0</td>\n",
       "    </tr>\n",
       "    <tr>\n",
       "      <th>1</th>\n",
       "      <td>È arrivato il cavaliere!</td>\n",
       "      <td>1950</td>\n",
       "      <td>NaN</td>\n",
       "      <td>92.0</td>\n",
       "      <td>1950.0</td>\n",
       "      <td>{\"/m/02bjrlw\": \"Italian Language\"}</td>\n",
       "      <td>{\"/m/03rjj\": \"Italy\"}</td>\n",
       "      <td>{\"/m/01z4y\": \"Comedy\"}</td>\n",
       "      <td>M</td>\n",
       "      <td>NaN</td>\n",
       "      <td>Arturo Bragaglia</td>\n",
       "      <td>NaN</td>\n",
       "      <td>False</td>\n",
       "      <td>61.0</td>\n",
       "      <td>5.6</td>\n",
       "      <td>arturo bragaglia_ arrivato il cavaliere_1950.0</td>\n",
       "      <td>arrivato il cavaliere_1950.0</td>\n",
       "    </tr>\n",
       "    <tr>\n",
       "      <th>2</th>\n",
       "      <td>È arrivato il cavaliere!</td>\n",
       "      <td>1950</td>\n",
       "      <td>NaN</td>\n",
       "      <td>92.0</td>\n",
       "      <td>1950.0</td>\n",
       "      <td>{\"/m/02bjrlw\": \"Italian Language\"}</td>\n",
       "      <td>{\"/m/03rjj\": \"Italy\"}</td>\n",
       "      <td>{\"/m/01z4y\": \"Comedy\"}</td>\n",
       "      <td>M</td>\n",
       "      <td>NaN</td>\n",
       "      <td>Carlo Mazzarella</td>\n",
       "      <td>30.0</td>\n",
       "      <td>False</td>\n",
       "      <td>61.0</td>\n",
       "      <td>5.6</td>\n",
       "      <td>carlo mazzarella_ arrivato il cavaliere_1950.0</td>\n",
       "      <td>arrivato il cavaliere_1950.0</td>\n",
       "    </tr>\n",
       "    <tr>\n",
       "      <th>3</th>\n",
       "      <td>È arrivato il cavaliere!</td>\n",
       "      <td>1950</td>\n",
       "      <td>NaN</td>\n",
       "      <td>92.0</td>\n",
       "      <td>1950.0</td>\n",
       "      <td>{\"/m/02bjrlw\": \"Italian Language\"}</td>\n",
       "      <td>{\"/m/03rjj\": \"Italy\"}</td>\n",
       "      <td>{\"/m/01z4y\": \"Comedy\"}</td>\n",
       "      <td>M</td>\n",
       "      <td>NaN</td>\n",
       "      <td>Enrico Viarisio</td>\n",
       "      <td>NaN</td>\n",
       "      <td>False</td>\n",
       "      <td>61.0</td>\n",
       "      <td>5.6</td>\n",
       "      <td>enrico viarisio_ arrivato il cavaliere_1950.0</td>\n",
       "      <td>arrivato il cavaliere_1950.0</td>\n",
       "    </tr>\n",
       "    <tr>\n",
       "      <th>4</th>\n",
       "      <td>È arrivato il cavaliere!</td>\n",
       "      <td>1950</td>\n",
       "      <td>NaN</td>\n",
       "      <td>92.0</td>\n",
       "      <td>1950.0</td>\n",
       "      <td>{\"/m/02bjrlw\": \"Italian Language\"}</td>\n",
       "      <td>{\"/m/03rjj\": \"Italy\"}</td>\n",
       "      <td>{\"/m/01z4y\": \"Comedy\"}</td>\n",
       "      <td>M</td>\n",
       "      <td>NaN</td>\n",
       "      <td>Enzo Biliotti</td>\n",
       "      <td>NaN</td>\n",
       "      <td>False</td>\n",
       "      <td>61.0</td>\n",
       "      <td>5.6</td>\n",
       "      <td>enzo biliotti_ arrivato il cavaliere_1950.0</td>\n",
       "      <td>arrivato il cavaliere_1950.0</td>\n",
       "    </tr>\n",
       "    <tr>\n",
       "      <th>...</th>\n",
       "      <td>...</td>\n",
       "      <td>...</td>\n",
       "      <td>...</td>\n",
       "      <td>...</td>\n",
       "      <td>...</td>\n",
       "      <td>...</td>\n",
       "      <td>...</td>\n",
       "      <td>...</td>\n",
       "      <td>...</td>\n",
       "      <td>...</td>\n",
       "      <td>...</td>\n",
       "      <td>...</td>\n",
       "      <td>...</td>\n",
       "      <td>...</td>\n",
       "      <td>...</td>\n",
       "      <td>...</td>\n",
       "      <td>...</td>\n",
       "    </tr>\n",
       "    <tr>\n",
       "      <th>445051</th>\n",
       "      <td>Zyzzyx Road</td>\n",
       "      <td>2006-02-25</td>\n",
       "      <td>NaN</td>\n",
       "      <td>90.0</td>\n",
       "      <td>2006.0</td>\n",
       "      <td>{\"/m/02h40lc\": \"English Language\"}</td>\n",
       "      <td>{\"/m/09c7w0\": \"United States of America\"}</td>\n",
       "      <td>{\"/m/01jfsb\": \"Thriller\", \"/m/0219x_\": \"Indie\"...</td>\n",
       "      <td>M</td>\n",
       "      <td>1.80</td>\n",
       "      <td>Tom Sizemore</td>\n",
       "      <td>44.0</td>\n",
       "      <td>False</td>\n",
       "      <td>NaN</td>\n",
       "      <td>NaN</td>\n",
       "      <td>tom sizemore_zyzzyx road_2006.0</td>\n",
       "      <td>zyzzyx road_2006.0</td>\n",
       "    </tr>\n",
       "    <tr>\n",
       "      <th>445052</th>\n",
       "      <td>Zyzzyx Road</td>\n",
       "      <td>2006-02-25</td>\n",
       "      <td>NaN</td>\n",
       "      <td>90.0</td>\n",
       "      <td>2006.0</td>\n",
       "      <td>{\"/m/02h40lc\": \"English Language\"}</td>\n",
       "      <td>{\"/m/09c7w0\": \"United States of America\"}</td>\n",
       "      <td>{\"/m/01jfsb\": \"Thriller\", \"/m/0219x_\": \"Indie\"...</td>\n",
       "      <td>M</td>\n",
       "      <td>NaN</td>\n",
       "      <td>Yorlin Madera</td>\n",
       "      <td>30.0</td>\n",
       "      <td>False</td>\n",
       "      <td>NaN</td>\n",
       "      <td>NaN</td>\n",
       "      <td>yorlin madera_zyzzyx road_2006.0</td>\n",
       "      <td>zyzzyx road_2006.0</td>\n",
       "    </tr>\n",
       "    <tr>\n",
       "      <th>445053</th>\n",
       "      <td>Zzyzx</td>\n",
       "      <td>2007</td>\n",
       "      <td>NaN</td>\n",
       "      <td>81.0</td>\n",
       "      <td>2007.0</td>\n",
       "      <td>{\"/m/02h40lc\": \"English Language\"}</td>\n",
       "      <td>{\"/m/09c7w0\": \"United States of America\"}</td>\n",
       "      <td>{\"/m/01jfsb\": \"Thriller\", \"/m/02wtdps\": \"Crime...</td>\n",
       "      <td>None</td>\n",
       "      <td>NaN</td>\n",
       "      <td>Kayo Zepeda</td>\n",
       "      <td>NaN</td>\n",
       "      <td>False</td>\n",
       "      <td>NaN</td>\n",
       "      <td>NaN</td>\n",
       "      <td>kayo zepeda_zzyzx_2007.0</td>\n",
       "      <td>zzyzx_2007.0</td>\n",
       "    </tr>\n",
       "    <tr>\n",
       "      <th>445054</th>\n",
       "      <td>Zzyzx</td>\n",
       "      <td>2007</td>\n",
       "      <td>NaN</td>\n",
       "      <td>81.0</td>\n",
       "      <td>2007.0</td>\n",
       "      <td>{\"/m/02h40lc\": \"English Language\"}</td>\n",
       "      <td>{\"/m/09c7w0\": \"United States of America\"}</td>\n",
       "      <td>{\"/m/01jfsb\": \"Thriller\", \"/m/02wtdps\": \"Crime...</td>\n",
       "      <td>M</td>\n",
       "      <td>1.85</td>\n",
       "      <td>Kenny Johnson</td>\n",
       "      <td>43.0</td>\n",
       "      <td>False</td>\n",
       "      <td>NaN</td>\n",
       "      <td>NaN</td>\n",
       "      <td>kenny johnson_zzyzx_2007.0</td>\n",
       "      <td>zzyzx_2007.0</td>\n",
       "    </tr>\n",
       "    <tr>\n",
       "      <th>445055</th>\n",
       "      <td>Zzyzx</td>\n",
       "      <td>2007</td>\n",
       "      <td>NaN</td>\n",
       "      <td>81.0</td>\n",
       "      <td>2007.0</td>\n",
       "      <td>{\"/m/02h40lc\": \"English Language\"}</td>\n",
       "      <td>{\"/m/09c7w0\": \"United States of America\"}</td>\n",
       "      <td>{\"/m/01jfsb\": \"Thriller\", \"/m/02wtdps\": \"Crime...</td>\n",
       "      <td>F</td>\n",
       "      <td>NaN</td>\n",
       "      <td>Robyn Cohen</td>\n",
       "      <td>NaN</td>\n",
       "      <td>False</td>\n",
       "      <td>NaN</td>\n",
       "      <td>NaN</td>\n",
       "      <td>robyn cohen_zzyzx_2007.0</td>\n",
       "      <td>zzyzx_2007.0</td>\n",
       "    </tr>\n",
       "  </tbody>\n",
       "</table>\n",
       "<p>445056 rows × 17 columns</p>\n",
       "</div>"
      ],
      "text/plain": [
       "                           title release_date  box_office_revenue  runtime  \\\n",
       "0       È arrivato il cavaliere!         1950                 NaN     92.0   \n",
       "1       È arrivato il cavaliere!         1950                 NaN     92.0   \n",
       "2       È arrivato il cavaliere!         1950                 NaN     92.0   \n",
       "3       È arrivato il cavaliere!         1950                 NaN     92.0   \n",
       "4       È arrivato il cavaliere!         1950                 NaN     92.0   \n",
       "...                          ...          ...                 ...      ...   \n",
       "445051               Zyzzyx Road   2006-02-25                 NaN     90.0   \n",
       "445052               Zyzzyx Road   2006-02-25                 NaN     90.0   \n",
       "445053                     Zzyzx         2007                 NaN     81.0   \n",
       "445054                     Zzyzx         2007                 NaN     81.0   \n",
       "445055                     Zzyzx         2007                 NaN     81.0   \n",
       "\n",
       "        release_year                           languages  \\\n",
       "0             1950.0  {\"/m/02bjrlw\": \"Italian Language\"}   \n",
       "1             1950.0  {\"/m/02bjrlw\": \"Italian Language\"}   \n",
       "2             1950.0  {\"/m/02bjrlw\": \"Italian Language\"}   \n",
       "3             1950.0  {\"/m/02bjrlw\": \"Italian Language\"}   \n",
       "4             1950.0  {\"/m/02bjrlw\": \"Italian Language\"}   \n",
       "...              ...                                 ...   \n",
       "445051        2006.0  {\"/m/02h40lc\": \"English Language\"}   \n",
       "445052        2006.0  {\"/m/02h40lc\": \"English Language\"}   \n",
       "445053        2007.0  {\"/m/02h40lc\": \"English Language\"}   \n",
       "445054        2007.0  {\"/m/02h40lc\": \"English Language\"}   \n",
       "445055        2007.0  {\"/m/02h40lc\": \"English Language\"}   \n",
       "\n",
       "                                        countries  \\\n",
       "0                           {\"/m/03rjj\": \"Italy\"}   \n",
       "1                           {\"/m/03rjj\": \"Italy\"}   \n",
       "2                           {\"/m/03rjj\": \"Italy\"}   \n",
       "3                           {\"/m/03rjj\": \"Italy\"}   \n",
       "4                           {\"/m/03rjj\": \"Italy\"}   \n",
       "...                                           ...   \n",
       "445051  {\"/m/09c7w0\": \"United States of America\"}   \n",
       "445052  {\"/m/09c7w0\": \"United States of America\"}   \n",
       "445053  {\"/m/09c7w0\": \"United States of America\"}   \n",
       "445054  {\"/m/09c7w0\": \"United States of America\"}   \n",
       "445055  {\"/m/09c7w0\": \"United States of America\"}   \n",
       "\n",
       "                                                   genres Actor gender  \\\n",
       "0                                  {\"/m/01z4y\": \"Comedy\"}            F   \n",
       "1                                  {\"/m/01z4y\": \"Comedy\"}            M   \n",
       "2                                  {\"/m/01z4y\": \"Comedy\"}            M   \n",
       "3                                  {\"/m/01z4y\": \"Comedy\"}            M   \n",
       "4                                  {\"/m/01z4y\": \"Comedy\"}            M   \n",
       "...                                                   ...          ...   \n",
       "445051  {\"/m/01jfsb\": \"Thriller\", \"/m/0219x_\": \"Indie\"...            M   \n",
       "445052  {\"/m/01jfsb\": \"Thriller\", \"/m/0219x_\": \"Indie\"...            M   \n",
       "445053  {\"/m/01jfsb\": \"Thriller\", \"/m/02wtdps\": \"Crime...         None   \n",
       "445054  {\"/m/01jfsb\": \"Thriller\", \"/m/02wtdps\": \"Crime...            M   \n",
       "445055  {\"/m/01jfsb\": \"Thriller\", \"/m/02wtdps\": \"Crime...            F   \n",
       "\n",
       "        Actor height (in meters)        Actor name  \\\n",
       "0                            NaN      Alda Mangini   \n",
       "1                            NaN  Arturo Bragaglia   \n",
       "2                            NaN  Carlo Mazzarella   \n",
       "3                            NaN   Enrico Viarisio   \n",
       "4                            NaN     Enzo Biliotti   \n",
       "...                          ...               ...   \n",
       "445051                      1.80      Tom Sizemore   \n",
       "445052                       NaN     Yorlin Madera   \n",
       "445053                       NaN       Kayo Zepeda   \n",
       "445054                      1.85     Kenny Johnson   \n",
       "445055                       NaN       Robyn Cohen   \n",
       "\n",
       "        Actor age at movie release  oscar_nominated  number_of_votes  \\\n",
       "0                             35.0            False             61.0   \n",
       "1                              NaN            False             61.0   \n",
       "2                             30.0            False             61.0   \n",
       "3                              NaN            False             61.0   \n",
       "4                              NaN            False             61.0   \n",
       "...                            ...              ...              ...   \n",
       "445051                        44.0            False              NaN   \n",
       "445052                        30.0            False              NaN   \n",
       "445053                         NaN            False              NaN   \n",
       "445054                        43.0            False              NaN   \n",
       "445055                         NaN            False              NaN   \n",
       "\n",
       "        average_rating                                      identifier  \\\n",
       "0                  5.6      alda mangini_ arrivato il cavaliere_1950.0   \n",
       "1                  5.6  arturo bragaglia_ arrivato il cavaliere_1950.0   \n",
       "2                  5.6  carlo mazzarella_ arrivato il cavaliere_1950.0   \n",
       "3                  5.6   enrico viarisio_ arrivato il cavaliere_1950.0   \n",
       "4                  5.6     enzo biliotti_ arrivato il cavaliere_1950.0   \n",
       "...                ...                                             ...   \n",
       "445051             NaN                 tom sizemore_zyzzyx road_2006.0   \n",
       "445052             NaN                yorlin madera_zyzzyx road_2006.0   \n",
       "445053             NaN                        kayo zepeda_zzyzx_2007.0   \n",
       "445054             NaN                      kenny johnson_zzyzx_2007.0   \n",
       "445055             NaN                        robyn cohen_zzyzx_2007.0   \n",
       "\n",
       "                      film_identifier  \n",
       "0        arrivato il cavaliere_1950.0  \n",
       "1        arrivato il cavaliere_1950.0  \n",
       "2        arrivato il cavaliere_1950.0  \n",
       "3        arrivato il cavaliere_1950.0  \n",
       "4        arrivato il cavaliere_1950.0  \n",
       "...                               ...  \n",
       "445051             zyzzyx road_2006.0  \n",
       "445052             zyzzyx road_2006.0  \n",
       "445053                   zzyzx_2007.0  \n",
       "445054                   zzyzx_2007.0  \n",
       "445055                   zzyzx_2007.0  \n",
       "\n",
       "[445056 rows x 17 columns]"
      ]
     },
     "execution_count": 262,
     "metadata": {},
     "output_type": "execute_result"
    }
   ],
   "source": [
    "movie_character_oscar_rating_df"
   ]
  },
  {
   "cell_type": "code",
   "execution_count": 263,
   "id": "779a11476187dab",
   "metadata": {
    "ExecuteTime": {
     "end_time": "2024-11-11T08:57:17.123224Z",
     "start_time": "2024-11-11T08:57:17.118265Z"
    }
   },
   "outputs": [],
   "source": [
    "# We also note that the `winner` column has only 1827 values, while the `oscar_nominated` column has 445017. It is safe to say that if a movie is not nominated for an oscar, then it also does not win an oscar. Thus we impute the missing values for `winner` with `False`\n",
    "# movie_character_oscar_rating_df_dropped.loc[movie_character_oscar_rating_df_dropped['winner'].isna(), 'winner'] = False\n",
    "\n",
    "# This now also allows us to cast the `winner` column to boolean type\n",
    "# movie_character_oscar_rating_df_dropped['winner'] = movie_character_oscar_rating_df_dropped['winner'].astype(bool)"
   ]
  },
  {
   "cell_type": "code",
   "execution_count": 264,
   "id": "befd5b42-d602-4afc-8f79-98ac9961a32e",
   "metadata": {
    "ExecuteTime": {
     "end_time": "2024-11-11T08:57:41.696007Z",
     "start_time": "2024-11-11T08:57:41.626030Z"
    },
    "scrolled": true
   },
   "outputs": [],
   "source": [
    "#TODO: Fix this print\n",
    "# print('Total number of movies with ratings: ',\n",
    "#       movie_character_oscar_rating_df[movie_character_oscar_rating_df['average_rating'].notna()]['title'].unique().shape[0])\n",
    "\n",
    "# #Get oscar nominated movies\n",
    "# oscar_nominated_actors_with_ratings_df = movie_character_oscar_rating_df[movie_character_oscar_rating_df['oscar_nominated']]\n",
    "# print('Total number of oscar-nominated movies with ratings: ',\n",
    "#       oscar_nominated_actors_with_ratings_df[oscar_nominated_actors_with_ratings_df['average'].notna()]['title'].unique().shape[0])"
   ]
  },
  {
   "cell_type": "code",
   "execution_count": 265,
   "id": "b60d7743-a0a0-473c-aa67-de381c84fa4c",
   "metadata": {
    "ExecuteTime": {
     "end_time": "2024-11-11T08:57:48.761387Z",
     "start_time": "2024-11-11T08:57:48.759169Z"
    }
   },
   "outputs": [],
   "source": [
    "#TODO: Fix the assert\n",
    "# Assert that adding ratings did not add any rows\n",
    "# assert len(movie_character_oscar_df) == len(movie_character_oscar_rating_df_dropped)"
   ]
  },
  {
   "cell_type": "markdown",
   "id": "ee63a4bf",
   "metadata": {},
   "source": [
    "# Extracting column data"
   ]
  },
  {
   "cell_type": "code",
   "execution_count": 266,
   "id": "2b61b6ed",
   "metadata": {},
   "outputs": [
    {
     "name": "stderr",
     "output_type": "stream",
     "text": [
      "<>:3: SyntaxWarning: invalid escape sequence '\\/'\n",
      "<>:3: SyntaxWarning: invalid escape sequence '\\/'\n",
      "/var/folders/q8/ngmz2fx96cg6d3rs8tldz4r00000gn/T/ipykernel_14196/2187841618.py:3: SyntaxWarning: invalid escape sequence '\\/'\n",
      "  return re.findall('\\\"([^\\/:][\\w\\s]+)\"', s)\n"
     ]
    }
   ],
   "source": [
    "def extract_column(s):\n",
    "    s = str(s)\n",
    "    return re.findall('\\\"([^\\/:][\\w\\s]+)\"', s)"
   ]
  },
  {
   "cell_type": "code",
   "execution_count": 267,
   "id": "e93983e8",
   "metadata": {},
   "outputs": [],
   "source": [
    "movie_character_oscar_rating_df['countries'] = movie_character_oscar_rating_df['countries'].apply(extract_column)\n",
    "movie_character_oscar_rating_df['languages'] = movie_character_oscar_rating_df['languages'].apply(extract_column)\n",
    "movie_character_oscar_rating_df['genres'] = movie_character_oscar_rating_df['genres'].apply(extract_column)"
   ]
  },
  {
   "cell_type": "code",
   "execution_count": 269,
   "id": "f52d28ca",
   "metadata": {},
   "outputs": [
    {
     "data": {
      "text/html": [
       "<div>\n",
       "<style scoped>\n",
       "    .dataframe tbody tr th:only-of-type {\n",
       "        vertical-align: middle;\n",
       "    }\n",
       "\n",
       "    .dataframe tbody tr th {\n",
       "        vertical-align: top;\n",
       "    }\n",
       "\n",
       "    .dataframe thead th {\n",
       "        text-align: right;\n",
       "    }\n",
       "</style>\n",
       "<table border=\"1\" class=\"dataframe\">\n",
       "  <thead>\n",
       "    <tr style=\"text-align: right;\">\n",
       "      <th></th>\n",
       "      <th>title</th>\n",
       "      <th>release_date</th>\n",
       "      <th>box_office_revenue</th>\n",
       "      <th>runtime</th>\n",
       "      <th>release_year</th>\n",
       "      <th>languages</th>\n",
       "      <th>countries</th>\n",
       "      <th>genres</th>\n",
       "      <th>Actor gender</th>\n",
       "      <th>Actor height (in meters)</th>\n",
       "      <th>Actor name</th>\n",
       "      <th>Actor age at movie release</th>\n",
       "      <th>oscar_nominated</th>\n",
       "      <th>number_of_votes</th>\n",
       "      <th>average_rating</th>\n",
       "      <th>identifier</th>\n",
       "      <th>film_identifier</th>\n",
       "    </tr>\n",
       "  </thead>\n",
       "  <tbody>\n",
       "    <tr>\n",
       "      <th>0</th>\n",
       "      <td>È arrivato il cavaliere!</td>\n",
       "      <td>1950</td>\n",
       "      <td>NaN</td>\n",
       "      <td>92.0</td>\n",
       "      <td>1950.0</td>\n",
       "      <td>[Italian Language]</td>\n",
       "      <td>[Italy]</td>\n",
       "      <td>[Comedy]</td>\n",
       "      <td>F</td>\n",
       "      <td>NaN</td>\n",
       "      <td>Alda Mangini</td>\n",
       "      <td>35.0</td>\n",
       "      <td>False</td>\n",
       "      <td>61.0</td>\n",
       "      <td>5.6</td>\n",
       "      <td>alda mangini_ arrivato il cavaliere_1950.0</td>\n",
       "      <td>arrivato il cavaliere_1950.0</td>\n",
       "    </tr>\n",
       "    <tr>\n",
       "      <th>1</th>\n",
       "      <td>È arrivato il cavaliere!</td>\n",
       "      <td>1950</td>\n",
       "      <td>NaN</td>\n",
       "      <td>92.0</td>\n",
       "      <td>1950.0</td>\n",
       "      <td>[Italian Language]</td>\n",
       "      <td>[Italy]</td>\n",
       "      <td>[Comedy]</td>\n",
       "      <td>M</td>\n",
       "      <td>NaN</td>\n",
       "      <td>Arturo Bragaglia</td>\n",
       "      <td>NaN</td>\n",
       "      <td>False</td>\n",
       "      <td>61.0</td>\n",
       "      <td>5.6</td>\n",
       "      <td>arturo bragaglia_ arrivato il cavaliere_1950.0</td>\n",
       "      <td>arrivato il cavaliere_1950.0</td>\n",
       "    </tr>\n",
       "    <tr>\n",
       "      <th>2</th>\n",
       "      <td>È arrivato il cavaliere!</td>\n",
       "      <td>1950</td>\n",
       "      <td>NaN</td>\n",
       "      <td>92.0</td>\n",
       "      <td>1950.0</td>\n",
       "      <td>[Italian Language]</td>\n",
       "      <td>[Italy]</td>\n",
       "      <td>[Comedy]</td>\n",
       "      <td>M</td>\n",
       "      <td>NaN</td>\n",
       "      <td>Carlo Mazzarella</td>\n",
       "      <td>30.0</td>\n",
       "      <td>False</td>\n",
       "      <td>61.0</td>\n",
       "      <td>5.6</td>\n",
       "      <td>carlo mazzarella_ arrivato il cavaliere_1950.0</td>\n",
       "      <td>arrivato il cavaliere_1950.0</td>\n",
       "    </tr>\n",
       "    <tr>\n",
       "      <th>3</th>\n",
       "      <td>È arrivato il cavaliere!</td>\n",
       "      <td>1950</td>\n",
       "      <td>NaN</td>\n",
       "      <td>92.0</td>\n",
       "      <td>1950.0</td>\n",
       "      <td>[Italian Language]</td>\n",
       "      <td>[Italy]</td>\n",
       "      <td>[Comedy]</td>\n",
       "      <td>M</td>\n",
       "      <td>NaN</td>\n",
       "      <td>Enrico Viarisio</td>\n",
       "      <td>NaN</td>\n",
       "      <td>False</td>\n",
       "      <td>61.0</td>\n",
       "      <td>5.6</td>\n",
       "      <td>enrico viarisio_ arrivato il cavaliere_1950.0</td>\n",
       "      <td>arrivato il cavaliere_1950.0</td>\n",
       "    </tr>\n",
       "    <tr>\n",
       "      <th>4</th>\n",
       "      <td>È arrivato il cavaliere!</td>\n",
       "      <td>1950</td>\n",
       "      <td>NaN</td>\n",
       "      <td>92.0</td>\n",
       "      <td>1950.0</td>\n",
       "      <td>[Italian Language]</td>\n",
       "      <td>[Italy]</td>\n",
       "      <td>[Comedy]</td>\n",
       "      <td>M</td>\n",
       "      <td>NaN</td>\n",
       "      <td>Enzo Biliotti</td>\n",
       "      <td>NaN</td>\n",
       "      <td>False</td>\n",
       "      <td>61.0</td>\n",
       "      <td>5.6</td>\n",
       "      <td>enzo biliotti_ arrivato il cavaliere_1950.0</td>\n",
       "      <td>arrivato il cavaliere_1950.0</td>\n",
       "    </tr>\n",
       "    <tr>\n",
       "      <th>...</th>\n",
       "      <td>...</td>\n",
       "      <td>...</td>\n",
       "      <td>...</td>\n",
       "      <td>...</td>\n",
       "      <td>...</td>\n",
       "      <td>...</td>\n",
       "      <td>...</td>\n",
       "      <td>...</td>\n",
       "      <td>...</td>\n",
       "      <td>...</td>\n",
       "      <td>...</td>\n",
       "      <td>...</td>\n",
       "      <td>...</td>\n",
       "      <td>...</td>\n",
       "      <td>...</td>\n",
       "      <td>...</td>\n",
       "      <td>...</td>\n",
       "    </tr>\n",
       "    <tr>\n",
       "      <th>445051</th>\n",
       "      <td>Zyzzyx Road</td>\n",
       "      <td>2006-02-25</td>\n",
       "      <td>NaN</td>\n",
       "      <td>90.0</td>\n",
       "      <td>2006.0</td>\n",
       "      <td>[English Language]</td>\n",
       "      <td>[United States of America]</td>\n",
       "      <td>[Thriller, Indie, Psychological thriller, Dram...</td>\n",
       "      <td>M</td>\n",
       "      <td>1.80</td>\n",
       "      <td>Tom Sizemore</td>\n",
       "      <td>44.0</td>\n",
       "      <td>False</td>\n",
       "      <td>NaN</td>\n",
       "      <td>NaN</td>\n",
       "      <td>tom sizemore_zyzzyx road_2006.0</td>\n",
       "      <td>zyzzyx road_2006.0</td>\n",
       "    </tr>\n",
       "    <tr>\n",
       "      <th>445052</th>\n",
       "      <td>Zyzzyx Road</td>\n",
       "      <td>2006-02-25</td>\n",
       "      <td>NaN</td>\n",
       "      <td>90.0</td>\n",
       "      <td>2006.0</td>\n",
       "      <td>[English Language]</td>\n",
       "      <td>[United States of America]</td>\n",
       "      <td>[Thriller, Indie, Psychological thriller, Dram...</td>\n",
       "      <td>M</td>\n",
       "      <td>NaN</td>\n",
       "      <td>Yorlin Madera</td>\n",
       "      <td>30.0</td>\n",
       "      <td>False</td>\n",
       "      <td>NaN</td>\n",
       "      <td>NaN</td>\n",
       "      <td>yorlin madera_zyzzyx road_2006.0</td>\n",
       "      <td>zyzzyx road_2006.0</td>\n",
       "    </tr>\n",
       "    <tr>\n",
       "      <th>445053</th>\n",
       "      <td>Zzyzx</td>\n",
       "      <td>2007</td>\n",
       "      <td>NaN</td>\n",
       "      <td>81.0</td>\n",
       "      <td>2007.0</td>\n",
       "      <td>[English Language]</td>\n",
       "      <td>[United States of America]</td>\n",
       "      <td>[Thriller, Crime Thriller, Road movie, Psychol...</td>\n",
       "      <td>None</td>\n",
       "      <td>NaN</td>\n",
       "      <td>Kayo Zepeda</td>\n",
       "      <td>NaN</td>\n",
       "      <td>False</td>\n",
       "      <td>NaN</td>\n",
       "      <td>NaN</td>\n",
       "      <td>kayo zepeda_zzyzx_2007.0</td>\n",
       "      <td>zzyzx_2007.0</td>\n",
       "    </tr>\n",
       "    <tr>\n",
       "      <th>445054</th>\n",
       "      <td>Zzyzx</td>\n",
       "      <td>2007</td>\n",
       "      <td>NaN</td>\n",
       "      <td>81.0</td>\n",
       "      <td>2007.0</td>\n",
       "      <td>[English Language]</td>\n",
       "      <td>[United States of America]</td>\n",
       "      <td>[Thriller, Crime Thriller, Road movie, Psychol...</td>\n",
       "      <td>M</td>\n",
       "      <td>1.85</td>\n",
       "      <td>Kenny Johnson</td>\n",
       "      <td>43.0</td>\n",
       "      <td>False</td>\n",
       "      <td>NaN</td>\n",
       "      <td>NaN</td>\n",
       "      <td>kenny johnson_zzyzx_2007.0</td>\n",
       "      <td>zzyzx_2007.0</td>\n",
       "    </tr>\n",
       "    <tr>\n",
       "      <th>445055</th>\n",
       "      <td>Zzyzx</td>\n",
       "      <td>2007</td>\n",
       "      <td>NaN</td>\n",
       "      <td>81.0</td>\n",
       "      <td>2007.0</td>\n",
       "      <td>[English Language]</td>\n",
       "      <td>[United States of America]</td>\n",
       "      <td>[Thriller, Crime Thriller, Road movie, Psychol...</td>\n",
       "      <td>F</td>\n",
       "      <td>NaN</td>\n",
       "      <td>Robyn Cohen</td>\n",
       "      <td>NaN</td>\n",
       "      <td>False</td>\n",
       "      <td>NaN</td>\n",
       "      <td>NaN</td>\n",
       "      <td>robyn cohen_zzyzx_2007.0</td>\n",
       "      <td>zzyzx_2007.0</td>\n",
       "    </tr>\n",
       "  </tbody>\n",
       "</table>\n",
       "<p>445056 rows × 17 columns</p>\n",
       "</div>"
      ],
      "text/plain": [
       "                           title release_date  box_office_revenue  runtime  \\\n",
       "0       È arrivato il cavaliere!         1950                 NaN     92.0   \n",
       "1       È arrivato il cavaliere!         1950                 NaN     92.0   \n",
       "2       È arrivato il cavaliere!         1950                 NaN     92.0   \n",
       "3       È arrivato il cavaliere!         1950                 NaN     92.0   \n",
       "4       È arrivato il cavaliere!         1950                 NaN     92.0   \n",
       "...                          ...          ...                 ...      ...   \n",
       "445051               Zyzzyx Road   2006-02-25                 NaN     90.0   \n",
       "445052               Zyzzyx Road   2006-02-25                 NaN     90.0   \n",
       "445053                     Zzyzx         2007                 NaN     81.0   \n",
       "445054                     Zzyzx         2007                 NaN     81.0   \n",
       "445055                     Zzyzx         2007                 NaN     81.0   \n",
       "\n",
       "        release_year           languages                   countries  \\\n",
       "0             1950.0  [Italian Language]                     [Italy]   \n",
       "1             1950.0  [Italian Language]                     [Italy]   \n",
       "2             1950.0  [Italian Language]                     [Italy]   \n",
       "3             1950.0  [Italian Language]                     [Italy]   \n",
       "4             1950.0  [Italian Language]                     [Italy]   \n",
       "...              ...                 ...                         ...   \n",
       "445051        2006.0  [English Language]  [United States of America]   \n",
       "445052        2006.0  [English Language]  [United States of America]   \n",
       "445053        2007.0  [English Language]  [United States of America]   \n",
       "445054        2007.0  [English Language]  [United States of America]   \n",
       "445055        2007.0  [English Language]  [United States of America]   \n",
       "\n",
       "                                                   genres Actor gender  \\\n",
       "0                                                [Comedy]            F   \n",
       "1                                                [Comedy]            M   \n",
       "2                                                [Comedy]            M   \n",
       "3                                                [Comedy]            M   \n",
       "4                                                [Comedy]            M   \n",
       "...                                                   ...          ...   \n",
       "445051  [Thriller, Indie, Psychological thriller, Dram...            M   \n",
       "445052  [Thriller, Indie, Psychological thriller, Dram...            M   \n",
       "445053  [Thriller, Crime Thriller, Road movie, Psychol...         None   \n",
       "445054  [Thriller, Crime Thriller, Road movie, Psychol...            M   \n",
       "445055  [Thriller, Crime Thriller, Road movie, Psychol...            F   \n",
       "\n",
       "        Actor height (in meters)        Actor name  \\\n",
       "0                            NaN      Alda Mangini   \n",
       "1                            NaN  Arturo Bragaglia   \n",
       "2                            NaN  Carlo Mazzarella   \n",
       "3                            NaN   Enrico Viarisio   \n",
       "4                            NaN     Enzo Biliotti   \n",
       "...                          ...               ...   \n",
       "445051                      1.80      Tom Sizemore   \n",
       "445052                       NaN     Yorlin Madera   \n",
       "445053                       NaN       Kayo Zepeda   \n",
       "445054                      1.85     Kenny Johnson   \n",
       "445055                       NaN       Robyn Cohen   \n",
       "\n",
       "        Actor age at movie release  oscar_nominated  number_of_votes  \\\n",
       "0                             35.0            False             61.0   \n",
       "1                              NaN            False             61.0   \n",
       "2                             30.0            False             61.0   \n",
       "3                              NaN            False             61.0   \n",
       "4                              NaN            False             61.0   \n",
       "...                            ...              ...              ...   \n",
       "445051                        44.0            False              NaN   \n",
       "445052                        30.0            False              NaN   \n",
       "445053                         NaN            False              NaN   \n",
       "445054                        43.0            False              NaN   \n",
       "445055                         NaN            False              NaN   \n",
       "\n",
       "        average_rating                                      identifier  \\\n",
       "0                  5.6      alda mangini_ arrivato il cavaliere_1950.0   \n",
       "1                  5.6  arturo bragaglia_ arrivato il cavaliere_1950.0   \n",
       "2                  5.6  carlo mazzarella_ arrivato il cavaliere_1950.0   \n",
       "3                  5.6   enrico viarisio_ arrivato il cavaliere_1950.0   \n",
       "4                  5.6     enzo biliotti_ arrivato il cavaliere_1950.0   \n",
       "...                ...                                             ...   \n",
       "445051             NaN                 tom sizemore_zyzzyx road_2006.0   \n",
       "445052             NaN                yorlin madera_zyzzyx road_2006.0   \n",
       "445053             NaN                        kayo zepeda_zzyzx_2007.0   \n",
       "445054             NaN                      kenny johnson_zzyzx_2007.0   \n",
       "445055             NaN                        robyn cohen_zzyzx_2007.0   \n",
       "\n",
       "                      film_identifier  \n",
       "0        arrivato il cavaliere_1950.0  \n",
       "1        arrivato il cavaliere_1950.0  \n",
       "2        arrivato il cavaliere_1950.0  \n",
       "3        arrivato il cavaliere_1950.0  \n",
       "4        arrivato il cavaliere_1950.0  \n",
       "...                               ...  \n",
       "445051             zyzzyx road_2006.0  \n",
       "445052             zyzzyx road_2006.0  \n",
       "445053                   zzyzx_2007.0  \n",
       "445054                   zzyzx_2007.0  \n",
       "445055                   zzyzx_2007.0  \n",
       "\n",
       "[445056 rows x 17 columns]"
      ]
     },
     "execution_count": 269,
     "metadata": {},
     "output_type": "execute_result"
    }
   ],
   "source": [
    "movie_character_oscar_rating_df"
   ]
  },
  {
   "cell_type": "markdown",
   "id": "267cef3e-ae95-4721-a518-b9a6a3e2f9c8",
   "metadata": {},
   "source": [
    "## Output data"
   ]
  },
  {
   "cell_type": "code",
   "execution_count": 268,
   "id": "ee5d443b",
   "metadata": {
    "ExecuteTime": {
     "end_time": "2024-11-11T08:57:58.782231Z",
     "start_time": "2024-11-11T08:57:56.271594Z"
    }
   },
   "outputs": [
    {
     "name": "stdout",
     "output_type": "stream",
     "text": [
      "Processing done\n"
     ]
    }
   ],
   "source": [
    "# Finish processed data\n",
    "path = 'cache/data.csv'\n",
    "os.makedirs('cache', exist_ok=True)\n",
    "movie_character_oscar_rating_df.to_csv(path)\n",
    "print('Processing done')"
   ]
  }
 ],
 "metadata": {
  "kernelspec": {
   "display_name": "ada",
   "language": "python",
   "name": "ada"
  },
  "language_info": {
   "codemirror_mode": {
    "name": "ipython",
    "version": 3
   },
   "file_extension": ".py",
   "mimetype": "text/x-python",
   "name": "python",
   "nbconvert_exporter": "python",
   "pygments_lexer": "ipython3",
   "version": "3.12.6"
  }
 },
 "nbformat": 4,
 "nbformat_minor": 5
}
