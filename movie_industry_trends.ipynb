{
 "cells": [
  {
   "cell_type": "code",
   "execution_count": 97,
   "metadata": {},
   "outputs": [],
   "source": [
    "import pandas as pd\n",
    "import os\n",
    "import numpy as np\n",
    "import matplotlib.pyplot as plt\n",
    "import seaborn as sns\n",
    "import json\n",
    "from scipy.interpolate import CubicSpline\n",
    "from scipy import stats\n",
    "import networkx as nx\n",
    "from itertools import combinations\n",
    "import scipy\n",
    "import plotly.graph_objects as go\n",
    "from plotly.subplots import make_subplots"
   ]
  },
  {
   "cell_type": "code",
   "execution_count": 98,
   "metadata": {},
   "outputs": [
    {
     "name": "stdout",
     "output_type": "stream",
     "text": [
      "########## Data pipeline ##########\n",
      "\n",
      "Preparing CMU data\n",
      "379 movies shared both name and release year, dropping\n"
     ]
    },
    {
     "ename": "KeyboardInterrupt",
     "evalue": "",
     "output_type": "error",
     "traceback": [
      "\u001b[0;31m---------------------------------------------------------------------------\u001b[0m",
      "\u001b[0;31mKeyboardInterrupt\u001b[0m                         Traceback (most recent call last)",
      "File \u001b[0;32m/var/folders/0y/ghdjhlvn38sf02nh2qxl20_c0000gn/T/ipykernel_52360/819023155.py:3\u001b[0m\n\u001b[1;32m      1\u001b[0m \u001b[38;5;66;03m# Read character\u001b[39;00m\n\u001b[1;32m      2\u001b[0m col_names \u001b[38;5;241m=\u001b[39m [\u001b[38;5;124m\"\u001b[39m\u001b[38;5;124mwiki_movie_id\u001b[39m\u001b[38;5;124m\"\u001b[39m, \u001b[38;5;124m\"\u001b[39m\u001b[38;5;124mfreebase_movie_id\u001b[39m\u001b[38;5;124m\"\u001b[39m, \u001b[38;5;124m\"\u001b[39m\u001b[38;5;124mmovie_release_date\u001b[39m\u001b[38;5;124m\"\u001b[39m, \u001b[38;5;124m\"\u001b[39m\u001b[38;5;124mcharacter_name\u001b[39m\u001b[38;5;124m\"\u001b[39m, \u001b[38;5;124m\"\u001b[39m\u001b[38;5;124mactor_date_of_birth\u001b[39m\u001b[38;5;124m\"\u001b[39m, \u001b[38;5;124m\"\u001b[39m\u001b[38;5;124mActor gender\u001b[39m\u001b[38;5;124m\"\u001b[39m, \u001b[38;5;124m\"\u001b[39m\u001b[38;5;124mActor height (in meters)\u001b[39m\u001b[38;5;124m\"\u001b[39m, \u001b[38;5;124m\"\u001b[39m\u001b[38;5;124mActor ethnicity (Freebase ID)\u001b[39m\u001b[38;5;124m\"\u001b[39m, \u001b[38;5;124m\"\u001b[39m\u001b[38;5;124mActor name\u001b[39m\u001b[38;5;124m\"\u001b[39m, \u001b[38;5;124m\"\u001b[39m\u001b[38;5;124mActor age at movie release\u001b[39m\u001b[38;5;124m\"\u001b[39m, \u001b[38;5;124m\"\u001b[39m\u001b[38;5;124mFreebase character/actor map ID\u001b[39m\u001b[38;5;124m\"\u001b[39m, \u001b[38;5;124m\"\u001b[39m\u001b[38;5;124mFreebase character ID\u001b[39m\u001b[38;5;124m\"\u001b[39m, \u001b[38;5;124m\"\u001b[39m\u001b[38;5;124mFreebase actor ID\u001b[39m\u001b[38;5;124m\"\u001b[39m]\n\u001b[0;32m----> 3\u001b[0m character_df \u001b[38;5;241m=\u001b[39m pd\u001b[38;5;241m.\u001b[39mread_csv(\u001b[38;5;124m'\u001b[39m\u001b[38;5;124mdata/character.metadata.tsv\u001b[39m\u001b[38;5;124m'\u001b[39m, sep\u001b[38;5;241m=\u001b[39m\u001b[38;5;124m'\u001b[39m\u001b[38;5;130;01m\\t\u001b[39;00m\u001b[38;5;124m'\u001b[39m, names\u001b[38;5;241m=\u001b[39mcol_names, index_col\u001b[38;5;241m=\u001b[39m\u001b[38;5;124m\"\u001b[39m\u001b[38;5;124mFreebase character ID\u001b[39m\u001b[38;5;124m\"\u001b[39m)\n",
      "File \u001b[0;32m/opt/anaconda3/lib/python3.12/site-packages/pandas/io/parsers/readers.py:1026\u001b[0m, in \u001b[0;36mread_csv\u001b[0;34m(filepath_or_buffer, sep, delimiter, header, names, index_col, usecols, dtype, engine, converters, true_values, false_values, skipinitialspace, skiprows, skipfooter, nrows, na_values, keep_default_na, na_filter, verbose, skip_blank_lines, parse_dates, infer_datetime_format, keep_date_col, date_parser, date_format, dayfirst, cache_dates, iterator, chunksize, compression, thousands, decimal, lineterminator, quotechar, quoting, doublequote, escapechar, comment, encoding, encoding_errors, dialect, on_bad_lines, delim_whitespace, low_memory, memory_map, float_precision, storage_options, dtype_backend)\u001b[0m\n\u001b[1;32m   1013\u001b[0m kwds_defaults \u001b[38;5;241m=\u001b[39m _refine_defaults_read(\n\u001b[1;32m   1014\u001b[0m     dialect,\n\u001b[1;32m   1015\u001b[0m     delimiter,\n\u001b[0;32m   (...)\u001b[0m\n\u001b[1;32m   1022\u001b[0m     dtype_backend\u001b[38;5;241m=\u001b[39mdtype_backend,\n\u001b[1;32m   1023\u001b[0m )\n\u001b[1;32m   1024\u001b[0m kwds\u001b[38;5;241m.\u001b[39mupdate(kwds_defaults)\n\u001b[0;32m-> 1026\u001b[0m \u001b[38;5;28;01mreturn\u001b[39;00m _read(filepath_or_buffer, kwds)\n",
      "File \u001b[0;32m/opt/anaconda3/lib/python3.12/site-packages/pandas/io/parsers/readers.py:626\u001b[0m, in \u001b[0;36m_read\u001b[0;34m(filepath_or_buffer, kwds)\u001b[0m\n\u001b[1;32m    623\u001b[0m     \u001b[38;5;28;01mreturn\u001b[39;00m parser\n\u001b[1;32m    625\u001b[0m \u001b[38;5;28;01mwith\u001b[39;00m parser:\n\u001b[0;32m--> 626\u001b[0m     \u001b[38;5;28;01mreturn\u001b[39;00m parser\u001b[38;5;241m.\u001b[39mread(nrows)\n",
      "File \u001b[0;32m/opt/anaconda3/lib/python3.12/site-packages/pandas/io/parsers/readers.py:1923\u001b[0m, in \u001b[0;36mTextFileReader.read\u001b[0;34m(self, nrows)\u001b[0m\n\u001b[1;32m   1916\u001b[0m nrows \u001b[38;5;241m=\u001b[39m validate_integer(\u001b[38;5;124m\"\u001b[39m\u001b[38;5;124mnrows\u001b[39m\u001b[38;5;124m\"\u001b[39m, nrows)\n\u001b[1;32m   1917\u001b[0m \u001b[38;5;28;01mtry\u001b[39;00m:\n\u001b[1;32m   1918\u001b[0m     \u001b[38;5;66;03m# error: \"ParserBase\" has no attribute \"read\"\u001b[39;00m\n\u001b[1;32m   1919\u001b[0m     (\n\u001b[1;32m   1920\u001b[0m         index,\n\u001b[1;32m   1921\u001b[0m         columns,\n\u001b[1;32m   1922\u001b[0m         col_dict,\n\u001b[0;32m-> 1923\u001b[0m     ) \u001b[38;5;241m=\u001b[39m \u001b[38;5;28mself\u001b[39m\u001b[38;5;241m.\u001b[39m_engine\u001b[38;5;241m.\u001b[39mread(  \u001b[38;5;66;03m# type: ignore[attr-defined]\u001b[39;00m\n\u001b[1;32m   1924\u001b[0m         nrows\n\u001b[1;32m   1925\u001b[0m     )\n\u001b[1;32m   1926\u001b[0m \u001b[38;5;28;01mexcept\u001b[39;00m \u001b[38;5;167;01mException\u001b[39;00m:\n\u001b[1;32m   1927\u001b[0m     \u001b[38;5;28mself\u001b[39m\u001b[38;5;241m.\u001b[39mclose()\n",
      "File \u001b[0;32m/opt/anaconda3/lib/python3.12/site-packages/pandas/io/parsers/c_parser_wrapper.py:234\u001b[0m, in \u001b[0;36mCParserWrapper.read\u001b[0;34m(self, nrows)\u001b[0m\n\u001b[1;32m    232\u001b[0m \u001b[38;5;28;01mtry\u001b[39;00m:\n\u001b[1;32m    233\u001b[0m     \u001b[38;5;28;01mif\u001b[39;00m \u001b[38;5;28mself\u001b[39m\u001b[38;5;241m.\u001b[39mlow_memory:\n\u001b[0;32m--> 234\u001b[0m         chunks \u001b[38;5;241m=\u001b[39m \u001b[38;5;28mself\u001b[39m\u001b[38;5;241m.\u001b[39m_reader\u001b[38;5;241m.\u001b[39mread_low_memory(nrows)\n\u001b[1;32m    235\u001b[0m         \u001b[38;5;66;03m# destructive to chunks\u001b[39;00m\n\u001b[1;32m    236\u001b[0m         data \u001b[38;5;241m=\u001b[39m _concatenate_chunks(chunks)\n",
      "File \u001b[0;32mparsers.pyx:838\u001b[0m, in \u001b[0;36mpandas._libs.parsers.TextReader.read_low_memory\u001b[0;34m()\u001b[0m\n",
      "File \u001b[0;32mparsers.pyx:905\u001b[0m, in \u001b[0;36mpandas._libs.parsers.TextReader._read_rows\u001b[0;34m()\u001b[0m\n",
      "File \u001b[0;32mparsers.pyx:874\u001b[0m, in \u001b[0;36mpandas._libs.parsers.TextReader._tokenize_rows\u001b[0;34m()\u001b[0m\n",
      "File \u001b[0;32mparsers.pyx:891\u001b[0m, in \u001b[0;36mpandas._libs.parsers.TextReader._check_tokenize_status\u001b[0;34m()\u001b[0m\n",
      "File \u001b[0;32mparsers.pyx:2053\u001b[0m, in \u001b[0;36mpandas._libs.parsers.raise_parser_error\u001b[0;34m()\u001b[0m\n",
      "File \u001b[0;32m<frozen codecs>:331\u001b[0m, in \u001b[0;36mgetstate\u001b[0;34m(self)\u001b[0m\n",
      "\u001b[0;31mKeyboardInterrupt\u001b[0m: "
     ]
    },
    {
     "ename": "KeyboardInterrupt",
     "evalue": "",
     "output_type": "error",
     "traceback": [
      "\u001b[0;31m---------------------------------------------------------------------------\u001b[0m",
      "\u001b[0;31mKeyboardInterrupt\u001b[0m                         Traceback (most recent call last)",
      "Cell \u001b[0;32mIn[98], line 1\u001b[0m\n\u001b[0;32m----> 1\u001b[0m get_ipython()\u001b[38;5;241m.\u001b[39mrun_line_magic(\u001b[38;5;124m'\u001b[39m\u001b[38;5;124mrun\u001b[39m\u001b[38;5;124m'\u001b[39m, \u001b[38;5;124m'\u001b[39m\u001b[38;5;124mdata_pipeline.ipynb\u001b[39m\u001b[38;5;124m'\u001b[39m)\n",
      "File \u001b[0;32m/opt/anaconda3/lib/python3.12/site-packages/IPython/core/interactiveshell.py:2480\u001b[0m, in \u001b[0;36mInteractiveShell.run_line_magic\u001b[0;34m(self, magic_name, line, _stack_depth)\u001b[0m\n\u001b[1;32m   2478\u001b[0m     kwargs[\u001b[38;5;124m'\u001b[39m\u001b[38;5;124mlocal_ns\u001b[39m\u001b[38;5;124m'\u001b[39m] \u001b[38;5;241m=\u001b[39m \u001b[38;5;28mself\u001b[39m\u001b[38;5;241m.\u001b[39mget_local_scope(stack_depth)\n\u001b[1;32m   2479\u001b[0m \u001b[38;5;28;01mwith\u001b[39;00m \u001b[38;5;28mself\u001b[39m\u001b[38;5;241m.\u001b[39mbuiltin_trap:\n\u001b[0;32m-> 2480\u001b[0m     result \u001b[38;5;241m=\u001b[39m fn(\u001b[38;5;241m*\u001b[39margs, \u001b[38;5;241m*\u001b[39m\u001b[38;5;241m*\u001b[39mkwargs)\n\u001b[1;32m   2482\u001b[0m \u001b[38;5;66;03m# The code below prevents the output from being displayed\u001b[39;00m\n\u001b[1;32m   2483\u001b[0m \u001b[38;5;66;03m# when using magics with decorator @output_can_be_silenced\u001b[39;00m\n\u001b[1;32m   2484\u001b[0m \u001b[38;5;66;03m# when the last Python token in the expression is a ';'.\u001b[39;00m\n\u001b[1;32m   2485\u001b[0m \u001b[38;5;28;01mif\u001b[39;00m \u001b[38;5;28mgetattr\u001b[39m(fn, magic\u001b[38;5;241m.\u001b[39mMAGIC_OUTPUT_CAN_BE_SILENCED, \u001b[38;5;28;01mFalse\u001b[39;00m):\n",
      "File \u001b[0;32m/opt/anaconda3/lib/python3.12/site-packages/IPython/core/magics/execution.py:737\u001b[0m, in \u001b[0;36mExecutionMagics.run\u001b[0;34m(self, parameter_s, runner, file_finder)\u001b[0m\n\u001b[1;32m    735\u001b[0m     \u001b[38;5;28;01mwith\u001b[39;00m preserve_keys(\u001b[38;5;28mself\u001b[39m\u001b[38;5;241m.\u001b[39mshell\u001b[38;5;241m.\u001b[39muser_ns, \u001b[38;5;124m'\u001b[39m\u001b[38;5;124m__file__\u001b[39m\u001b[38;5;124m'\u001b[39m):\n\u001b[1;32m    736\u001b[0m         \u001b[38;5;28mself\u001b[39m\u001b[38;5;241m.\u001b[39mshell\u001b[38;5;241m.\u001b[39muser_ns[\u001b[38;5;124m'\u001b[39m\u001b[38;5;124m__file__\u001b[39m\u001b[38;5;124m'\u001b[39m] \u001b[38;5;241m=\u001b[39m filename\n\u001b[0;32m--> 737\u001b[0m         \u001b[38;5;28mself\u001b[39m\u001b[38;5;241m.\u001b[39mshell\u001b[38;5;241m.\u001b[39msafe_execfile_ipy(filename, raise_exceptions\u001b[38;5;241m=\u001b[39m\u001b[38;5;28;01mTrue\u001b[39;00m)\n\u001b[1;32m    738\u001b[0m     \u001b[38;5;28;01mreturn\u001b[39;00m\n\u001b[1;32m    740\u001b[0m \u001b[38;5;66;03m# Control the response to exit() calls made by the script being run\u001b[39;00m\n",
      "File \u001b[0;32m/opt/anaconda3/lib/python3.12/site-packages/IPython/core/interactiveshell.py:3005\u001b[0m, in \u001b[0;36mInteractiveShell.safe_execfile_ipy\u001b[0;34m(self, fname, shell_futures, raise_exceptions)\u001b[0m\n\u001b[1;32m   3003\u001b[0m result \u001b[38;5;241m=\u001b[39m \u001b[38;5;28mself\u001b[39m\u001b[38;5;241m.\u001b[39mrun_cell(cell, silent\u001b[38;5;241m=\u001b[39m\u001b[38;5;28;01mTrue\u001b[39;00m, shell_futures\u001b[38;5;241m=\u001b[39mshell_futures)\n\u001b[1;32m   3004\u001b[0m \u001b[38;5;28;01mif\u001b[39;00m raise_exceptions:\n\u001b[0;32m-> 3005\u001b[0m     result\u001b[38;5;241m.\u001b[39mraise_error()\n\u001b[1;32m   3006\u001b[0m \u001b[38;5;28;01melif\u001b[39;00m \u001b[38;5;129;01mnot\u001b[39;00m result\u001b[38;5;241m.\u001b[39msuccess:\n\u001b[1;32m   3007\u001b[0m     \u001b[38;5;28;01mbreak\u001b[39;00m\n",
      "File \u001b[0;32m/opt/anaconda3/lib/python3.12/site-packages/IPython/core/interactiveshell.py:308\u001b[0m, in \u001b[0;36mExecutionResult.raise_error\u001b[0;34m(self)\u001b[0m\n\u001b[1;32m    306\u001b[0m     \u001b[38;5;28;01mraise\u001b[39;00m \u001b[38;5;28mself\u001b[39m\u001b[38;5;241m.\u001b[39merror_before_exec\n\u001b[1;32m    307\u001b[0m \u001b[38;5;28;01mif\u001b[39;00m \u001b[38;5;28mself\u001b[39m\u001b[38;5;241m.\u001b[39merror_in_exec \u001b[38;5;129;01mis\u001b[39;00m \u001b[38;5;129;01mnot\u001b[39;00m \u001b[38;5;28;01mNone\u001b[39;00m:\n\u001b[0;32m--> 308\u001b[0m     \u001b[38;5;28;01mraise\u001b[39;00m \u001b[38;5;28mself\u001b[39m\u001b[38;5;241m.\u001b[39merror_in_exec\n",
      "    \u001b[0;31m[... skipping hidden 1 frame]\u001b[0m\n",
      "File \u001b[0;32m/var/folders/0y/ghdjhlvn38sf02nh2qxl20_c0000gn/T/ipykernel_52360/819023155.py:3\u001b[0m\n\u001b[1;32m      1\u001b[0m \u001b[38;5;66;03m# Read character\u001b[39;00m\n\u001b[1;32m      2\u001b[0m col_names \u001b[38;5;241m=\u001b[39m [\u001b[38;5;124m\"\u001b[39m\u001b[38;5;124mwiki_movie_id\u001b[39m\u001b[38;5;124m\"\u001b[39m, \u001b[38;5;124m\"\u001b[39m\u001b[38;5;124mfreebase_movie_id\u001b[39m\u001b[38;5;124m\"\u001b[39m, \u001b[38;5;124m\"\u001b[39m\u001b[38;5;124mmovie_release_date\u001b[39m\u001b[38;5;124m\"\u001b[39m, \u001b[38;5;124m\"\u001b[39m\u001b[38;5;124mcharacter_name\u001b[39m\u001b[38;5;124m\"\u001b[39m, \u001b[38;5;124m\"\u001b[39m\u001b[38;5;124mactor_date_of_birth\u001b[39m\u001b[38;5;124m\"\u001b[39m, \u001b[38;5;124m\"\u001b[39m\u001b[38;5;124mActor gender\u001b[39m\u001b[38;5;124m\"\u001b[39m, \u001b[38;5;124m\"\u001b[39m\u001b[38;5;124mActor height (in meters)\u001b[39m\u001b[38;5;124m\"\u001b[39m, \u001b[38;5;124m\"\u001b[39m\u001b[38;5;124mActor ethnicity (Freebase ID)\u001b[39m\u001b[38;5;124m\"\u001b[39m, \u001b[38;5;124m\"\u001b[39m\u001b[38;5;124mActor name\u001b[39m\u001b[38;5;124m\"\u001b[39m, \u001b[38;5;124m\"\u001b[39m\u001b[38;5;124mActor age at movie release\u001b[39m\u001b[38;5;124m\"\u001b[39m, \u001b[38;5;124m\"\u001b[39m\u001b[38;5;124mFreebase character/actor map ID\u001b[39m\u001b[38;5;124m\"\u001b[39m, \u001b[38;5;124m\"\u001b[39m\u001b[38;5;124mFreebase character ID\u001b[39m\u001b[38;5;124m\"\u001b[39m, \u001b[38;5;124m\"\u001b[39m\u001b[38;5;124mFreebase actor ID\u001b[39m\u001b[38;5;124m\"\u001b[39m]\n\u001b[0;32m----> 3\u001b[0m character_df \u001b[38;5;241m=\u001b[39m pd\u001b[38;5;241m.\u001b[39mread_csv(\u001b[38;5;124m'\u001b[39m\u001b[38;5;124mdata/character.metadata.tsv\u001b[39m\u001b[38;5;124m'\u001b[39m, sep\u001b[38;5;241m=\u001b[39m\u001b[38;5;124m'\u001b[39m\u001b[38;5;130;01m\\t\u001b[39;00m\u001b[38;5;124m'\u001b[39m, names\u001b[38;5;241m=\u001b[39mcol_names, index_col\u001b[38;5;241m=\u001b[39m\u001b[38;5;124m\"\u001b[39m\u001b[38;5;124mFreebase character ID\u001b[39m\u001b[38;5;124m\"\u001b[39m)\n",
      "File \u001b[0;32m/opt/anaconda3/lib/python3.12/site-packages/pandas/io/parsers/readers.py:1026\u001b[0m, in \u001b[0;36mread_csv\u001b[0;34m(filepath_or_buffer, sep, delimiter, header, names, index_col, usecols, dtype, engine, converters, true_values, false_values, skipinitialspace, skiprows, skipfooter, nrows, na_values, keep_default_na, na_filter, verbose, skip_blank_lines, parse_dates, infer_datetime_format, keep_date_col, date_parser, date_format, dayfirst, cache_dates, iterator, chunksize, compression, thousands, decimal, lineterminator, quotechar, quoting, doublequote, escapechar, comment, encoding, encoding_errors, dialect, on_bad_lines, delim_whitespace, low_memory, memory_map, float_precision, storage_options, dtype_backend)\u001b[0m\n\u001b[1;32m   1013\u001b[0m kwds_defaults \u001b[38;5;241m=\u001b[39m _refine_defaults_read(\n\u001b[1;32m   1014\u001b[0m     dialect,\n\u001b[1;32m   1015\u001b[0m     delimiter,\n\u001b[0;32m   (...)\u001b[0m\n\u001b[1;32m   1022\u001b[0m     dtype_backend\u001b[38;5;241m=\u001b[39mdtype_backend,\n\u001b[1;32m   1023\u001b[0m )\n\u001b[1;32m   1024\u001b[0m kwds\u001b[38;5;241m.\u001b[39mupdate(kwds_defaults)\n\u001b[0;32m-> 1026\u001b[0m \u001b[38;5;28;01mreturn\u001b[39;00m _read(filepath_or_buffer, kwds)\n",
      "File \u001b[0;32m/opt/anaconda3/lib/python3.12/site-packages/pandas/io/parsers/readers.py:626\u001b[0m, in \u001b[0;36m_read\u001b[0;34m(filepath_or_buffer, kwds)\u001b[0m\n\u001b[1;32m    623\u001b[0m     \u001b[38;5;28;01mreturn\u001b[39;00m parser\n\u001b[1;32m    625\u001b[0m \u001b[38;5;28;01mwith\u001b[39;00m parser:\n\u001b[0;32m--> 626\u001b[0m     \u001b[38;5;28;01mreturn\u001b[39;00m parser\u001b[38;5;241m.\u001b[39mread(nrows)\n",
      "File \u001b[0;32m/opt/anaconda3/lib/python3.12/site-packages/pandas/io/parsers/readers.py:1923\u001b[0m, in \u001b[0;36mTextFileReader.read\u001b[0;34m(self, nrows)\u001b[0m\n\u001b[1;32m   1916\u001b[0m nrows \u001b[38;5;241m=\u001b[39m validate_integer(\u001b[38;5;124m\"\u001b[39m\u001b[38;5;124mnrows\u001b[39m\u001b[38;5;124m\"\u001b[39m, nrows)\n\u001b[1;32m   1917\u001b[0m \u001b[38;5;28;01mtry\u001b[39;00m:\n\u001b[1;32m   1918\u001b[0m     \u001b[38;5;66;03m# error: \"ParserBase\" has no attribute \"read\"\u001b[39;00m\n\u001b[1;32m   1919\u001b[0m     (\n\u001b[1;32m   1920\u001b[0m         index,\n\u001b[1;32m   1921\u001b[0m         columns,\n\u001b[1;32m   1922\u001b[0m         col_dict,\n\u001b[0;32m-> 1923\u001b[0m     ) \u001b[38;5;241m=\u001b[39m \u001b[38;5;28mself\u001b[39m\u001b[38;5;241m.\u001b[39m_engine\u001b[38;5;241m.\u001b[39mread(  \u001b[38;5;66;03m# type: ignore[attr-defined]\u001b[39;00m\n\u001b[1;32m   1924\u001b[0m         nrows\n\u001b[1;32m   1925\u001b[0m     )\n\u001b[1;32m   1926\u001b[0m \u001b[38;5;28;01mexcept\u001b[39;00m \u001b[38;5;167;01mException\u001b[39;00m:\n\u001b[1;32m   1927\u001b[0m     \u001b[38;5;28mself\u001b[39m\u001b[38;5;241m.\u001b[39mclose()\n",
      "File \u001b[0;32m/opt/anaconda3/lib/python3.12/site-packages/pandas/io/parsers/c_parser_wrapper.py:234\u001b[0m, in \u001b[0;36mCParserWrapper.read\u001b[0;34m(self, nrows)\u001b[0m\n\u001b[1;32m    232\u001b[0m \u001b[38;5;28;01mtry\u001b[39;00m:\n\u001b[1;32m    233\u001b[0m     \u001b[38;5;28;01mif\u001b[39;00m \u001b[38;5;28mself\u001b[39m\u001b[38;5;241m.\u001b[39mlow_memory:\n\u001b[0;32m--> 234\u001b[0m         chunks \u001b[38;5;241m=\u001b[39m \u001b[38;5;28mself\u001b[39m\u001b[38;5;241m.\u001b[39m_reader\u001b[38;5;241m.\u001b[39mread_low_memory(nrows)\n\u001b[1;32m    235\u001b[0m         \u001b[38;5;66;03m# destructive to chunks\u001b[39;00m\n\u001b[1;32m    236\u001b[0m         data \u001b[38;5;241m=\u001b[39m _concatenate_chunks(chunks)\n",
      "File \u001b[0;32mparsers.pyx:838\u001b[0m, in \u001b[0;36mpandas._libs.parsers.TextReader.read_low_memory\u001b[0;34m()\u001b[0m\n",
      "File \u001b[0;32mparsers.pyx:905\u001b[0m, in \u001b[0;36mpandas._libs.parsers.TextReader._read_rows\u001b[0;34m()\u001b[0m\n",
      "File \u001b[0;32mparsers.pyx:874\u001b[0m, in \u001b[0;36mpandas._libs.parsers.TextReader._tokenize_rows\u001b[0;34m()\u001b[0m\n",
      "File \u001b[0;32mparsers.pyx:891\u001b[0m, in \u001b[0;36mpandas._libs.parsers.TextReader._check_tokenize_status\u001b[0;34m()\u001b[0m\n",
      "File \u001b[0;32mparsers.pyx:2053\u001b[0m, in \u001b[0;36mpandas._libs.parsers.raise_parser_error\u001b[0;34m()\u001b[0m\n",
      "File \u001b[0;32m<frozen codecs>:331\u001b[0m, in \u001b[0;36mgetstate\u001b[0;34m(self)\u001b[0m\n",
      "\u001b[0;31mKeyboardInterrupt\u001b[0m: "
     ]
    }
   ],
   "source": [
    "%run data_pipeline.ipynb"
   ]
  },
  {
   "cell_type": "code",
   "execution_count": null,
   "metadata": {},
   "outputs": [],
   "source": [
    "# Read data\n",
    "df = pd.read_csv('cache/data.csv', sep=',', index_col=0)\n",
    "unclean_df = pd.read_csv('cache/unclean_data.csv', sep=',', index_col=0)"
   ]
  },
  {
   "cell_type": "code",
   "execution_count": null,
   "metadata": {},
   "outputs": [
    {
     "data": {
      "text/html": [
       "<div>\n",
       "<style scoped>\n",
       "    .dataframe tbody tr th:only-of-type {\n",
       "        vertical-align: middle;\n",
       "    }\n",
       "\n",
       "    .dataframe tbody tr th {\n",
       "        vertical-align: top;\n",
       "    }\n",
       "\n",
       "    .dataframe thead th {\n",
       "        text-align: right;\n",
       "    }\n",
       "</style>\n",
       "<table border=\"1\" class=\"dataframe\">\n",
       "  <thead>\n",
       "    <tr style=\"text-align: right;\">\n",
       "      <th></th>\n",
       "      <th>title</th>\n",
       "      <th>box_office_revenue</th>\n",
       "      <th>runtime</th>\n",
       "      <th>languages</th>\n",
       "      <th>countries</th>\n",
       "      <th>genres</th>\n",
       "      <th>movie_identifier</th>\n",
       "      <th>actor_gender</th>\n",
       "      <th>actor_height</th>\n",
       "      <th>actor_ethnicity</th>\n",
       "      <th>...</th>\n",
       "      <th>identifier</th>\n",
       "      <th>category</th>\n",
       "      <th>winner</th>\n",
       "      <th>oscar_nominated</th>\n",
       "      <th>year</th>\n",
       "      <th>average_rating</th>\n",
       "      <th>number_of_votes</th>\n",
       "      <th>number_of_movies_starred_in</th>\n",
       "      <th>average_rating_previous_movies</th>\n",
       "      <th>average_box_office_revenue_previous_movies</th>\n",
       "    </tr>\n",
       "  </thead>\n",
       "  <tbody>\n",
       "    <tr>\n",
       "      <th>140029</th>\n",
       "      <td>Down to You</td>\n",
       "      <td>24419914</td>\n",
       "      <td>92</td>\n",
       "      <td>['French Language', 'English Language']</td>\n",
       "      <td>['United States of America']</td>\n",
       "      <td>['Romantic comedy', 'Romance Film', 'Drama', '...</td>\n",
       "      <td>down to you_2000</td>\n",
       "      <td>M</td>\n",
       "      <td>1.88</td>\n",
       "      <td>/m/0xnvg</td>\n",
       "      <td>...</td>\n",
       "      <td>down to you_2000_adam carolla</td>\n",
       "      <td>NaN</td>\n",
       "      <td>NaN</td>\n",
       "      <td>False</td>\n",
       "      <td>2000</td>\n",
       "      <td>5.0</td>\n",
       "      <td>15878</td>\n",
       "      <td>1</td>\n",
       "      <td>5.000000</td>\n",
       "      <td>24419914.0</td>\n",
       "    </tr>\n",
       "    <tr>\n",
       "      <th>60320</th>\n",
       "      <td>The Bible: In The Beginning</td>\n",
       "      <td>34900023</td>\n",
       "      <td>171</td>\n",
       "      <td>['English Language']</td>\n",
       "      <td>['United States of America', 'Italy']</td>\n",
       "      <td>['Christian film', 'Drama', 'Epic', 'World cin...</td>\n",
       "      <td>the bible in the beginning_1966</td>\n",
       "      <td>M</td>\n",
       "      <td>1.85</td>\n",
       "      <td>/m/03bkbh</td>\n",
       "      <td>...</td>\n",
       "      <td>the bible in the beginning_1966_richard harris</td>\n",
       "      <td>NaN</td>\n",
       "      <td>NaN</td>\n",
       "      <td>False</td>\n",
       "      <td>1966</td>\n",
       "      <td>6.2</td>\n",
       "      <td>6385</td>\n",
       "      <td>1</td>\n",
       "      <td>6.200000</td>\n",
       "      <td>34900023.0</td>\n",
       "    </tr>\n",
       "    <tr>\n",
       "      <th>389034</th>\n",
       "      <td>Hawaii</td>\n",
       "      <td>34562222</td>\n",
       "      <td>161</td>\n",
       "      <td>['English Language']</td>\n",
       "      <td>['United States of America']</td>\n",
       "      <td>['Period piece', 'Roadshow theatrical release'...</td>\n",
       "      <td>hawaii_1966</td>\n",
       "      <td>M</td>\n",
       "      <td>1.85</td>\n",
       "      <td>/m/03bkbh</td>\n",
       "      <td>...</td>\n",
       "      <td>hawaii_1966_richard harris</td>\n",
       "      <td>NaN</td>\n",
       "      <td>NaN</td>\n",
       "      <td>False</td>\n",
       "      <td>1966</td>\n",
       "      <td>6.5</td>\n",
       "      <td>3708</td>\n",
       "      <td>1</td>\n",
       "      <td>12.700000</td>\n",
       "      <td>69462245.0</td>\n",
       "    </tr>\n",
       "    <tr>\n",
       "      <th>130002</th>\n",
       "      <td>Camelot</td>\n",
       "      <td>31102578</td>\n",
       "      <td>178</td>\n",
       "      <td>['English Language']</td>\n",
       "      <td>['United States of America']</td>\n",
       "      <td>['Costume drama', 'Musical', 'Roadshow theatri...</td>\n",
       "      <td>camelot_1967</td>\n",
       "      <td>M</td>\n",
       "      <td>1.85</td>\n",
       "      <td>/m/03bkbh</td>\n",
       "      <td>...</td>\n",
       "      <td>camelot_1967_richard harris</td>\n",
       "      <td>NaN</td>\n",
       "      <td>NaN</td>\n",
       "      <td>False</td>\n",
       "      <td>1967</td>\n",
       "      <td>6.6</td>\n",
       "      <td>7624</td>\n",
       "      <td>2</td>\n",
       "      <td>9.650000</td>\n",
       "      <td>50282411.5</td>\n",
       "    </tr>\n",
       "    <tr>\n",
       "      <th>182566</th>\n",
       "      <td>Caprice</td>\n",
       "      <td>4075000</td>\n",
       "      <td>95</td>\n",
       "      <td>['English Language']</td>\n",
       "      <td>['United States of America']</td>\n",
       "      <td>['Romantic comedy', 'Crime Fiction', 'Mystery'...</td>\n",
       "      <td>caprice_1967</td>\n",
       "      <td>M</td>\n",
       "      <td>1.85</td>\n",
       "      <td>/m/03bkbh</td>\n",
       "      <td>...</td>\n",
       "      <td>caprice_1967_richard harris</td>\n",
       "      <td>NaN</td>\n",
       "      <td>NaN</td>\n",
       "      <td>False</td>\n",
       "      <td>1967</td>\n",
       "      <td>5.5</td>\n",
       "      <td>1761</td>\n",
       "      <td>3</td>\n",
       "      <td>8.266667</td>\n",
       "      <td>34879941.0</td>\n",
       "    </tr>\n",
       "  </tbody>\n",
       "</table>\n",
       "<p>5 rows × 23 columns</p>\n",
       "</div>"
      ],
      "text/plain": [
       "                              title  box_office_revenue  runtime  \\\n",
       "140029                  Down to You            24419914       92   \n",
       "60320   The Bible: In The Beginning            34900023      171   \n",
       "389034                       Hawaii            34562222      161   \n",
       "130002                      Camelot            31102578      178   \n",
       "182566                      Caprice             4075000       95   \n",
       "\n",
       "                                      languages  \\\n",
       "140029  ['French Language', 'English Language']   \n",
       "60320                      ['English Language']   \n",
       "389034                     ['English Language']   \n",
       "130002                     ['English Language']   \n",
       "182566                     ['English Language']   \n",
       "\n",
       "                                    countries  \\\n",
       "140029           ['United States of America']   \n",
       "60320   ['United States of America', 'Italy']   \n",
       "389034           ['United States of America']   \n",
       "130002           ['United States of America']   \n",
       "182566           ['United States of America']   \n",
       "\n",
       "                                                   genres  \\\n",
       "140029  ['Romantic comedy', 'Romance Film', 'Drama', '...   \n",
       "60320   ['Christian film', 'Drama', 'Epic', 'World cin...   \n",
       "389034  ['Period piece', 'Roadshow theatrical release'...   \n",
       "130002  ['Costume drama', 'Musical', 'Roadshow theatri...   \n",
       "182566  ['Romantic comedy', 'Crime Fiction', 'Mystery'...   \n",
       "\n",
       "                       movie_identifier actor_gender  actor_height  \\\n",
       "140029                 down to you_2000            M          1.88   \n",
       "60320   the bible in the beginning_1966            M          1.85   \n",
       "389034                      hawaii_1966            M          1.85   \n",
       "130002                     camelot_1967            M          1.85   \n",
       "182566                     caprice_1967            M          1.85   \n",
       "\n",
       "       actor_ethnicity  ...                                      identifier  \\\n",
       "140029        /m/0xnvg  ...                   down to you_2000_adam carolla   \n",
       "60320        /m/03bkbh  ...  the bible in the beginning_1966_richard harris   \n",
       "389034       /m/03bkbh  ...                      hawaii_1966_richard harris   \n",
       "130002       /m/03bkbh  ...                     camelot_1967_richard harris   \n",
       "182566       /m/03bkbh  ...                     caprice_1967_richard harris   \n",
       "\n",
       "       category winner oscar_nominated  year average_rating  number_of_votes  \\\n",
       "140029      NaN    NaN           False  2000            5.0            15878   \n",
       "60320       NaN    NaN           False  1966            6.2             6385   \n",
       "389034      NaN    NaN           False  1966            6.5             3708   \n",
       "130002      NaN    NaN           False  1967            6.6             7624   \n",
       "182566      NaN    NaN           False  1967            5.5             1761   \n",
       "\n",
       "        number_of_movies_starred_in  average_rating_previous_movies  \\\n",
       "140029                            1                        5.000000   \n",
       "60320                             1                        6.200000   \n",
       "389034                            1                       12.700000   \n",
       "130002                            2                        9.650000   \n",
       "182566                            3                        8.266667   \n",
       "\n",
       "        average_box_office_revenue_previous_movies  \n",
       "140029                                  24419914.0  \n",
       "60320                                   34900023.0  \n",
       "389034                                  69462245.0  \n",
       "130002                                  50282411.5  \n",
       "182566                                  34879941.0  \n",
       "\n",
       "[5 rows x 23 columns]"
      ]
     },
     "execution_count": 12,
     "metadata": {},
     "output_type": "execute_result"
    }
   ],
   "source": [
    "df.head()"
   ]
  },
  {
   "cell_type": "markdown",
   "metadata": {},
   "source": [
    "## **Historic movie industry development**"
   ]
  },
  {
   "cell_type": "markdown",
   "metadata": {},
   "source": []
  },
  {
   "cell_type": "markdown",
   "metadata": {},
   "source": [
    "The movie industry has like the economy grown exponentially during the last 100 years. Hence one might expect higher demands and more competition for each Oscar nomination. It is nevertheless interesting and needed to validate this hypothesis with data. We start with constructing the dataframes used for the analysis, then plot the development of movie releases and actor nomnations since the 1920s. "
   ]
  },
  {
   "cell_type": "markdown",
   "metadata": {},
   "source": [
    "Constructing df for analysis"
   ]
  },
  {
   "cell_type": "code",
   "execution_count": null,
   "metadata": {},
   "outputs": [
    {
     "data": {
      "text/html": [
       "<div>\n",
       "<style scoped>\n",
       "    .dataframe tbody tr th:only-of-type {\n",
       "        vertical-align: middle;\n",
       "    }\n",
       "\n",
       "    .dataframe tbody tr th {\n",
       "        vertical-align: top;\n",
       "    }\n",
       "\n",
       "    .dataframe thead th {\n",
       "        text-align: right;\n",
       "    }\n",
       "</style>\n",
       "<table border=\"1\" class=\"dataframe\">\n",
       "  <thead>\n",
       "    <tr style=\"text-align: right;\">\n",
       "      <th></th>\n",
       "      <th>year</th>\n",
       "      <th>count</th>\n",
       "    </tr>\n",
       "  </thead>\n",
       "  <tbody>\n",
       "    <tr>\n",
       "      <th>0</th>\n",
       "      <td>1928</td>\n",
       "      <td>1</td>\n",
       "    </tr>\n",
       "    <tr>\n",
       "      <th>1</th>\n",
       "      <td>1929</td>\n",
       "      <td>1</td>\n",
       "    </tr>\n",
       "    <tr>\n",
       "      <th>2</th>\n",
       "      <td>1930</td>\n",
       "      <td>1</td>\n",
       "    </tr>\n",
       "    <tr>\n",
       "      <th>3</th>\n",
       "      <td>1932</td>\n",
       "      <td>3</td>\n",
       "    </tr>\n",
       "    <tr>\n",
       "      <th>4</th>\n",
       "      <td>1933</td>\n",
       "      <td>5</td>\n",
       "    </tr>\n",
       "  </tbody>\n",
       "</table>\n",
       "</div>"
      ],
      "text/plain": [
       "   year  count\n",
       "0  1928      1\n",
       "1  1929      1\n",
       "2  1930      1\n",
       "3  1932      3\n",
       "4  1933      5"
      ]
     },
     "execution_count": 13,
     "metadata": {},
     "output_type": "execute_result"
    }
   ],
   "source": [
    "oscar_nominated = df[df['oscar_nominated']==True]\n",
    "\n",
    "# Counting movie releases per year\n",
    "movie_df = df.drop_duplicates(subset='movie_identifier', keep='first', inplace=False)[['movie_identifier', 'year']]\n",
    "movie_releases = movie_df.groupby('year').size().reset_index(name='count')\n",
    "movie_releases.head()"
   ]
  },
  {
   "cell_type": "code",
   "execution_count": null,
   "metadata": {},
   "outputs": [
    {
     "data": {
      "text/html": [
       "<div>\n",
       "<style scoped>\n",
       "    .dataframe tbody tr th:only-of-type {\n",
       "        vertical-align: middle;\n",
       "    }\n",
       "\n",
       "    .dataframe tbody tr th {\n",
       "        vertical-align: top;\n",
       "    }\n",
       "\n",
       "    .dataframe thead th {\n",
       "        text-align: right;\n",
       "    }\n",
       "</style>\n",
       "<table border=\"1\" class=\"dataframe\">\n",
       "  <thead>\n",
       "    <tr style=\"text-align: right;\">\n",
       "      <th></th>\n",
       "      <th>year</th>\n",
       "      <th>count</th>\n",
       "    </tr>\n",
       "  </thead>\n",
       "  <tbody>\n",
       "    <tr>\n",
       "      <th>0</th>\n",
       "      <td>1928</td>\n",
       "      <td>0.0</td>\n",
       "    </tr>\n",
       "    <tr>\n",
       "      <th>1</th>\n",
       "      <td>1929</td>\n",
       "      <td>0.0</td>\n",
       "    </tr>\n",
       "    <tr>\n",
       "      <th>2</th>\n",
       "      <td>1930</td>\n",
       "      <td>0.0</td>\n",
       "    </tr>\n",
       "    <tr>\n",
       "      <th>3</th>\n",
       "      <td>1932</td>\n",
       "      <td>0.0</td>\n",
       "    </tr>\n",
       "    <tr>\n",
       "      <th>4</th>\n",
       "      <td>1933</td>\n",
       "      <td>0.0</td>\n",
       "    </tr>\n",
       "  </tbody>\n",
       "</table>\n",
       "</div>"
      ],
      "text/plain": [
       "   year  count\n",
       "0  1928    0.0\n",
       "1  1929    0.0\n",
       "2  1930    0.0\n",
       "3  1932    0.0\n",
       "4  1933    0.0"
      ]
     },
     "execution_count": 14,
     "metadata": {},
     "output_type": "execute_result"
    }
   ],
   "source": [
    "# Counting oscar nominations per year\n",
    "oscar_nominations = oscar_nominated.groupby('year').size().reset_index(name='count')\n",
    "years = pd.DataFrame({'year': movie_releases['year'].unique()})\n",
    "oscar_nominations = years.merge(oscar_nominations, on='year', how='left').fillna(0)\n",
    "oscar_nominations.head()"
   ]
  },
  {
   "cell_type": "code",
   "execution_count": null,
   "metadata": {},
   "outputs": [
    {
     "data": {
      "text/html": [
       "<div>\n",
       "<style scoped>\n",
       "    .dataframe tbody tr th:only-of-type {\n",
       "        vertical-align: middle;\n",
       "    }\n",
       "\n",
       "    .dataframe tbody tr th {\n",
       "        vertical-align: top;\n",
       "    }\n",
       "\n",
       "    .dataframe thead th {\n",
       "        text-align: right;\n",
       "    }\n",
       "</style>\n",
       "<table border=\"1\" class=\"dataframe\">\n",
       "  <thead>\n",
       "    <tr style=\"text-align: right;\">\n",
       "      <th></th>\n",
       "      <th>year</th>\n",
       "      <th>count</th>\n",
       "    </tr>\n",
       "  </thead>\n",
       "  <tbody>\n",
       "    <tr>\n",
       "      <th>0</th>\n",
       "      <td>1934</td>\n",
       "      <td>1</td>\n",
       "    </tr>\n",
       "    <tr>\n",
       "      <th>1</th>\n",
       "      <td>1936</td>\n",
       "      <td>1</td>\n",
       "    </tr>\n",
       "    <tr>\n",
       "      <th>2</th>\n",
       "      <td>1939</td>\n",
       "      <td>3</td>\n",
       "    </tr>\n",
       "    <tr>\n",
       "      <th>3</th>\n",
       "      <td>1940</td>\n",
       "      <td>1</td>\n",
       "    </tr>\n",
       "    <tr>\n",
       "      <th>4</th>\n",
       "      <td>1941</td>\n",
       "      <td>1</td>\n",
       "    </tr>\n",
       "  </tbody>\n",
       "</table>\n",
       "</div>"
      ],
      "text/plain": [
       "   year  count\n",
       "0  1934      1\n",
       "1  1936      1\n",
       "2  1939      3\n",
       "3  1940      1\n",
       "4  1941      1"
      ]
     },
     "execution_count": 15,
     "metadata": {},
     "output_type": "execute_result"
    }
   ],
   "source": [
    "# Counting nominated movies per year\n",
    "nominations_per_movie_per_year = oscar_nominated.groupby(['year', 'movie_identifier']).agg({'title':'count'}).reset_index().rename(columns={'title':'count'})\n",
    "unique_nominated_movies_per_year = nominations_per_movie_per_year.groupby(['year']).agg({'movie_identifier':'count'}).reset_index().rename(columns={'movie_identifier':'count'})\n",
    "unique_nominated_movies_per_year.head()"
   ]
  },
  {
   "cell_type": "code",
   "execution_count": null,
   "metadata": {},
   "outputs": [
    {
     "data": {
      "text/html": [
       "<div>\n",
       "<style scoped>\n",
       "    .dataframe tbody tr th:only-of-type {\n",
       "        vertical-align: middle;\n",
       "    }\n",
       "\n",
       "    .dataframe tbody tr th {\n",
       "        vertical-align: top;\n",
       "    }\n",
       "\n",
       "    .dataframe thead th {\n",
       "        text-align: right;\n",
       "    }\n",
       "</style>\n",
       "<table border=\"1\" class=\"dataframe\">\n",
       "  <thead>\n",
       "    <tr style=\"text-align: right;\">\n",
       "      <th></th>\n",
       "      <th>year</th>\n",
       "      <th>releases</th>\n",
       "      <th>nominated movies</th>\n",
       "    </tr>\n",
       "  </thead>\n",
       "  <tbody>\n",
       "    <tr>\n",
       "      <th>0</th>\n",
       "      <td>1928</td>\n",
       "      <td>1</td>\n",
       "      <td>0.0</td>\n",
       "    </tr>\n",
       "    <tr>\n",
       "      <th>1</th>\n",
       "      <td>1929</td>\n",
       "      <td>1</td>\n",
       "      <td>0.0</td>\n",
       "    </tr>\n",
       "    <tr>\n",
       "      <th>2</th>\n",
       "      <td>1930</td>\n",
       "      <td>1</td>\n",
       "      <td>0.0</td>\n",
       "    </tr>\n",
       "    <tr>\n",
       "      <th>3</th>\n",
       "      <td>1932</td>\n",
       "      <td>3</td>\n",
       "      <td>0.0</td>\n",
       "    </tr>\n",
       "    <tr>\n",
       "      <th>4</th>\n",
       "      <td>1933</td>\n",
       "      <td>5</td>\n",
       "      <td>0.0</td>\n",
       "    </tr>\n",
       "  </tbody>\n",
       "</table>\n",
       "</div>"
      ],
      "text/plain": [
       "   year  releases  nominated movies\n",
       "0  1928         1               0.0\n",
       "1  1929         1               0.0\n",
       "2  1930         1               0.0\n",
       "3  1932         3               0.0\n",
       "4  1933         5               0.0"
      ]
     },
     "execution_count": 16,
     "metadata": {},
     "output_type": "execute_result"
    }
   ],
   "source": [
    "# Merging releases and nominated movies per year\n",
    "movie_releases_with_nominations = movie_releases.merge(unique_nominated_movies_per_year, on='year', how='left').fillna(0).rename(columns={'count_x' : 'releases', 'count_y':'nominated movies'})\n",
    "movie_releases_with_nominations.head()"
   ]
  },
  {
   "cell_type": "code",
   "execution_count": null,
   "metadata": {},
   "outputs": [
    {
     "data": {
      "text/html": [
       "<div>\n",
       "<style scoped>\n",
       "    .dataframe tbody tr th:only-of-type {\n",
       "        vertical-align: middle;\n",
       "    }\n",
       "\n",
       "    .dataframe tbody tr th {\n",
       "        vertical-align: top;\n",
       "    }\n",
       "\n",
       "    .dataframe thead th {\n",
       "        text-align: right;\n",
       "    }\n",
       "</style>\n",
       "<table border=\"1\" class=\"dataframe\">\n",
       "  <thead>\n",
       "    <tr style=\"text-align: right;\">\n",
       "      <th></th>\n",
       "      <th>year</th>\n",
       "      <th>releases</th>\n",
       "      <th>nominated movies</th>\n",
       "      <th>oscar nominations</th>\n",
       "    </tr>\n",
       "  </thead>\n",
       "  <tbody>\n",
       "    <tr>\n",
       "      <th>0</th>\n",
       "      <td>1928</td>\n",
       "      <td>1</td>\n",
       "      <td>0.0</td>\n",
       "      <td>0.0</td>\n",
       "    </tr>\n",
       "    <tr>\n",
       "      <th>1</th>\n",
       "      <td>1929</td>\n",
       "      <td>1</td>\n",
       "      <td>0.0</td>\n",
       "      <td>0.0</td>\n",
       "    </tr>\n",
       "    <tr>\n",
       "      <th>2</th>\n",
       "      <td>1930</td>\n",
       "      <td>1</td>\n",
       "      <td>0.0</td>\n",
       "      <td>0.0</td>\n",
       "    </tr>\n",
       "    <tr>\n",
       "      <th>3</th>\n",
       "      <td>1932</td>\n",
       "      <td>3</td>\n",
       "      <td>0.0</td>\n",
       "      <td>0.0</td>\n",
       "    </tr>\n",
       "    <tr>\n",
       "      <th>4</th>\n",
       "      <td>1933</td>\n",
       "      <td>5</td>\n",
       "      <td>0.0</td>\n",
       "      <td>0.0</td>\n",
       "    </tr>\n",
       "  </tbody>\n",
       "</table>\n",
       "</div>"
      ],
      "text/plain": [
       "   year  releases  nominated movies  oscar nominations\n",
       "0  1928         1               0.0                0.0\n",
       "1  1929         1               0.0                0.0\n",
       "2  1930         1               0.0                0.0\n",
       "3  1932         3               0.0                0.0\n",
       "4  1933         5               0.0                0.0"
      ]
     },
     "execution_count": 17,
     "metadata": {},
     "output_type": "execute_result"
    }
   ],
   "source": [
    "# Merging nr. of oscar nominations per year\n",
    "releases_nominations_counts_df = movie_releases_with_nominations.merge(oscar_nominations, on='year', how='left').fillna(0).rename(columns={'count' : 'oscar nominations'})\n",
    "releases_nominations_counts_df.head()"
   ]
  },
  {
   "cell_type": "code",
   "execution_count": null,
   "metadata": {},
   "outputs": [
    {
     "data": {
      "text/html": [
       "<div>\n",
       "<style scoped>\n",
       "    .dataframe tbody tr th:only-of-type {\n",
       "        vertical-align: middle;\n",
       "    }\n",
       "\n",
       "    .dataframe tbody tr th {\n",
       "        vertical-align: top;\n",
       "    }\n",
       "\n",
       "    .dataframe thead th {\n",
       "        text-align: right;\n",
       "    }\n",
       "</style>\n",
       "<table border=\"1\" class=\"dataframe\">\n",
       "  <thead>\n",
       "    <tr style=\"text-align: right;\">\n",
       "      <th></th>\n",
       "      <th>year</th>\n",
       "      <th>releases</th>\n",
       "      <th>nominated movies</th>\n",
       "      <th>oscar nominations</th>\n",
       "      <th>%nominated</th>\n",
       "    </tr>\n",
       "  </thead>\n",
       "  <tbody>\n",
       "    <tr>\n",
       "      <th>0</th>\n",
       "      <td>1928</td>\n",
       "      <td>1</td>\n",
       "      <td>0.0</td>\n",
       "      <td>0.0</td>\n",
       "      <td>0.0</td>\n",
       "    </tr>\n",
       "    <tr>\n",
       "      <th>1</th>\n",
       "      <td>1929</td>\n",
       "      <td>1</td>\n",
       "      <td>0.0</td>\n",
       "      <td>0.0</td>\n",
       "      <td>0.0</td>\n",
       "    </tr>\n",
       "    <tr>\n",
       "      <th>2</th>\n",
       "      <td>1930</td>\n",
       "      <td>1</td>\n",
       "      <td>0.0</td>\n",
       "      <td>0.0</td>\n",
       "      <td>0.0</td>\n",
       "    </tr>\n",
       "    <tr>\n",
       "      <th>3</th>\n",
       "      <td>1932</td>\n",
       "      <td>3</td>\n",
       "      <td>0.0</td>\n",
       "      <td>0.0</td>\n",
       "      <td>0.0</td>\n",
       "    </tr>\n",
       "    <tr>\n",
       "      <th>4</th>\n",
       "      <td>1933</td>\n",
       "      <td>5</td>\n",
       "      <td>0.0</td>\n",
       "      <td>0.0</td>\n",
       "      <td>0.0</td>\n",
       "    </tr>\n",
       "  </tbody>\n",
       "</table>\n",
       "</div>"
      ],
      "text/plain": [
       "   year  releases  nominated movies  oscar nominations  %nominated\n",
       "0  1928         1               0.0                0.0         0.0\n",
       "1  1929         1               0.0                0.0         0.0\n",
       "2  1930         1               0.0                0.0         0.0\n",
       "3  1932         3               0.0                0.0         0.0\n",
       "4  1933         5               0.0                0.0         0.0"
      ]
     },
     "execution_count": 18,
     "metadata": {},
     "output_type": "execute_result"
    }
   ],
   "source": [
    "# Calculating % of movies that was nominated each year\n",
    "releases_nominations_counts_df['%nominated'] = releases_nominations_counts_df['nominated movies'] / releases_nominations_counts_df['releases']\n",
    "releases_nominations_counts_df.head()"
   ]
  },
  {
   "cell_type": "markdown",
   "metadata": {},
   "source": [
    "**Plotting**"
   ]
  },
  {
   "cell_type": "code",
   "execution_count": null,
   "metadata": {},
   "outputs": [
    {
     "data": {
      "image/png": "[encoded data removed]",
      "text/plain": [
       "<Figure size 1000x600 with 2 Axes>"
      ]
     },
     "metadata": {},
     "output_type": "display_data"
    }
   ],
   "source": [
    "plt.figure(figsize=(10, 6))\n",
    "\n",
    "plt.bar(releases_nominations_counts_df['year']+0.4, releases_nominations_counts_df['releases'], label ='Releases', alpha=0.8)\n",
    "plt.bar(releases_nominations_counts_df['year']-0.4, releases_nominations_counts_df['oscar nominations'], label ='Nominations', color='red')\n",
    "plt.bar(releases_nominations_counts_df['year'], releases_nominations_counts_df['nominated movies'], label ='Nominated Movies', color='#00008B')\n",
    "\n",
    "\n",
    "plt.xlabel('Year')\n",
    "plt.xlim(min(df['year']), max(df['year']))\n",
    "\n",
    "plt.ylabel('Nr. Releases')\n",
    "\n",
    "plt.legend()\n",
    "\n",
    "plt.title('Movie releases and nominations per year')\n",
    "\n",
    "\n",
    "x = releases_nominations_counts_df['year']\n",
    "y = releases_nominations_counts_df['%nominated']\n",
    "\n",
    "cs = CubicSpline(x, y)\n",
    "\n",
    "x_smooth = np.linspace(min(x), max(x), 500)\n",
    "y_smooth = cs(x_smooth)\n",
    "ax2 = plt.twinx()\n",
    "ax2.set_ylabel('Share')\n",
    "ax2.plot(x_smooth, 100*y_smooth, color='black', label='Nominated movies (%)', alpha=0.8, linewidth=1)\n",
    "\n",
    "ax2.set_ylabel('Nominated Movies (%)')\n",
    "plt.legend()\n",
    "plt.show()\n"
   ]
  },
  {
   "cell_type": "code",
   "execution_count": null,
   "metadata": {},
   "outputs": [
    {
     "data": {
      "application/vnd.plotly.v1+json": {
       "config": {
        "plotlyServerURL": "https://plot.ly"
       },
       "data": [
        {
         "name": "Nr. Movie releases",
         "type": "bar",
         "x": [
          1928,
          1929,
          1930,
          1932,
          1933,
          1934,
          1935,
          1936,
          1937,
          1938,
          1939,
          1940,
          1941,
          1942,
          1943,
          1944,
          1945,
          1946,
          1947,
          1948,
          1949,
          1950,
          1951,
          1952,
          1953,
          1954,
          1955,
          1956,
          1957,
          1958,
          1959,
          1960,
          1961,
          1962,
          1963,
          1964,
          1965,
          1966,
          1967,
          1968,
          1969,
          1970,
          1971,
          1972,
          1973,
          1974,
          1975,
          1976,
          1977,
          1978,
          1979,
          1980,
          1981,
          1982,
          1983,
          1984,
          1985,
          1986,
          1987,
          1988,
          1989,
          1990,
          1991,
          1992,
          1993,
          1994,
          1995,
          1996,
          1997,
          1998,
          1999,
          2000,
          2001,
          2002,
          2003,
          2004,
          2005,
          2006,
          2007,
          2008,
          2009,
          2010,
          2011,
          2012
         ],
         "xaxis": "x",
         "y": [
          1,
          1,
          1,
          3,
          5,
          4,
          10,
          10,
          4,
          8,
          14,
          10,
          4,
          6,
          3,
          3,
          5,
          5,
          6,
          6,
          15,
          30,
          45,
          50,
          59,
          43,
          50,
          55,
          46,
          6,
          9,
          11,
          9,
          14,
          12,
          9,
          6,
          24,
          27,
          26,
          18,
          22,
          21,
          19,
          22,
          24,
          26,
          25,
          28,
          42,
          46,
          50,
          60,
          62,
          74,
          100,
          100,
          106,
          125,
          146,
          128,
          118,
          121,
          132,
          154,
          139,
          157,
          177,
          162,
          176,
          170,
          167,
          180,
          196,
          174,
          194,
          210,
          256,
          244,
          229,
          230,
          210,
          194,
          98
         ],
         "yaxis": "y"
        },
        {
         "name": "% with a nominated performance",
         "type": "scatter",
         "x": [
          1928,
          1928.1683366733466,
          1928.3366733466935,
          1928.5050100200401,
          1928.6733466933867,
          1928.8416833667334,
          1929.0100200400802,
          1929.1783567134269,
          1929.3466933867735,
          1929.5150300601204,
          1929.683366733467,
          1929.8517034068136,
          1930.0200400801602,
          1930.188376753507,
          1930.3567134268537,
          1930.5250501002004,
          1930.693386773547,
          1930.8617234468938,
          1931.0300601202405,
          1931.198396793587,
          1931.366733466934,
          1931.5350701402806,
          1931.7034068136272,
          1931.8717434869739,
          1932.0400801603207,
          1932.2084168336673,
          1932.376753507014,
          1932.5450901803608,
          1932.7134268537075,
          1932.881763527054,
          1933.0501002004007,
          1933.2184368737476,
          1933.3867735470942,
          1933.5551102204408,
          1933.7234468937875,
          1933.8917835671343,
          1934.060120240481,
          1934.2284569138276,
          1934.3967935871744,
          1934.565130260521,
          1934.7334669338677,
          1934.9018036072143,
          1935.0701402805612,
          1935.2384769539078,
          1935.4068136272545,
          1935.5751503006013,
          1935.743486973948,
          1935.9118236472946,
          1936.0801603206412,
          1936.248496993988,
          1936.4168336673347,
          1936.5851703406813,
          1936.753507014028,
          1936.9218436873748,
          1937.0901803607214,
          1937.258517034068,
          1937.426853707415,
          1937.5951903807616,
          1937.7635270541082,
          1937.9318637274548,
          1938.1002004008017,
          1938.2685370741483,
          1938.436873747495,
          1938.6052104208418,
          1938.7735470941884,
          1938.941883767535,
          1939.1102204408817,
          1939.2785571142285,
          1939.4468937875752,
          1939.6152304609218,
          1939.7835671342687,
          1939.9519038076153,
          1940.120240480962,
          1940.2885771543085,
          1940.4569138276554,
          1940.625250501002,
          1940.7935871743487,
          1940.9619238476953,
          1941.1302605210421,
          1941.2985971943888,
          1941.4669338677354,
          1941.6352705410823,
          1941.803607214429,
          1941.9719438877755,
          1942.1402805611222,
          1942.308617234469,
          1942.4769539078156,
          1942.6452905811623,
          1942.8136272545091,
          1942.9819639278558,
          1943.1503006012024,
          1943.318637274549,
          1943.4869739478959,
          1943.6553106212425,
          1943.8236472945891,
          1943.9919839679358,
          1944.1603206412826,
          1944.3286573146293,
          1944.4969939879759,
          1944.6653306613227,
          1944.8336673346694,
          1945.002004008016,
          1945.1703406813626,
          1945.3386773547095,
          1945.5070140280561,
          1945.6753507014027,
          1945.8436873747496,
          1946.0120240480962,
          1946.1803607214429,
          1946.3486973947895,
          1946.5170340681364,
          1946.685370741483,
          1946.8537074148296,
          1947.0220440881762,
          1947.190380761523,
          1947.3587174348697,
          1947.5270541082164,
          1947.6953907815632,
          1947.8637274549098,
          1948.0320641282565,
          1948.200400801603,
          1948.36873747495,
          1948.5370741482966,
          1948.7054108216432,
          1948.87374749499,
          1949.0420841683367,
          1949.2104208416833,
          1949.37875751503,
          1949.5470941883768,
          1949.7154308617235,
          1949.88376753507,
          1950.0521042084167,
          1950.2204408817636,
          1950.3887775551102,
          1950.5571142284568,
          1950.7254509018037,
          1950.8937875751503,
          1951.062124248497,
          1951.2304609218436,
          1951.3987975951904,
          1951.567134268537,
          1951.7354709418837,
          1951.9038076152306,
          1952.0721442885772,
          1952.2404809619238,
          1952.4088176352705,
          1952.5771543086173,
          1952.745490981964,
          1952.9138276553106,
          1953.0821643286572,
          1953.250501002004,
          1953.4188376753507,
          1953.5871743486973,
          1953.7555110220442,
          1953.9238476953908,
          1954.0921843687374,
          1954.260521042084,
          1954.428857715431,
          1954.5971943887776,
          1954.7655310621242,
          1954.933867735471,
          1955.1022044088177,
          1955.2705410821643,
          1955.438877755511,
          1955.6072144288578,
          1955.7755511022044,
          1955.943887775551,
          1956.112224448898,
          1956.2805611222445,
          1956.4488977955912,
          1956.6172344689378,
          1956.7855711422847,
          1956.9539078156313,
          1957.122244488978,
          1957.2905811623245,
          1957.4589178356714,
          1957.627254509018,
          1957.7955911823647,
          1957.9639278557115,
          1958.1322645290581,
          1958.3006012024048,
          1958.4689378757514,
          1958.6372745490983,
          1958.805611222445,
          1958.9739478957915,
          1959.1422845691384,
          1959.310621242485,
          1959.4789579158316,
          1959.6472945891783,
          1959.8156312625251,
          1959.9839679358718,
          1960.1523046092184,
          1960.3206412825652,
          1960.4889779559119,
          1960.6573146292585,
          1960.8256513026051,
          1960.993987975952,
          1961.1623246492986,
          1961.3306613226453,
          1961.4989979959919,
          1961.6673346693387,
          1961.8356713426854,
          1962.004008016032,
          1962.1723446893789,
          1962.3406813627255,
          1962.5090180360721,
          1962.6773547094188,
          1962.8456913827656,
          1963.0140280561122,
          1963.1823647294589,
          1963.3507014028055,
          1963.5190380761524,
          1963.687374749499,
          1963.8557114228456,
          1964.0240480961925,
          1964.192384769539,
          1964.3607214428857,
          1964.5290581162324,
          1964.6973947895792,
          1964.8657314629259,
          1965.0340681362725,
          1965.2024048096193,
          1965.370741482966,
          1965.5390781563126,
          1965.7074148296592,
          1965.875751503006,
          1966.0440881763527,
          1966.2124248496993,
          1966.3807615230462,
          1966.5490981963928,
          1966.7174348697395,
          1966.885771543086,
          1967.054108216433,
          1967.2224448897796,
          1967.3907815631262,
          1967.5591182364728,
          1967.7274549098197,
          1967.8957915831663,
          1968.064128256513,
          1968.2324649298598,
          1968.4008016032064,
          1968.569138276553,
          1968.7374749498997,
          1968.9058116232466,
          1969.0741482965932,
          1969.2424849699398,
          1969.4108216432867,
          1969.5791583166333,
          1969.74749498998,
          1969.9158316633266,
          1970.0841683366734,
          1970.25250501002,
          1970.4208416833667,
          1970.5891783567133,
          1970.7575150300602,
          1970.9258517034068,
          1971.0941883767534,
          1971.2625250501003,
          1971.430861723447,
          1971.5991983967936,
          1971.7675350701402,
          1971.935871743487,
          1972.1042084168337,
          1972.2725450901803,
          1972.4408817635272,
          1972.6092184368738,
          1972.7775551102204,
          1972.945891783567,
          1973.114228456914,
          1973.2825651302605,
          1973.4509018036072,
          1973.6192384769538,
          1973.7875751503007,
          1973.9559118236473,
          1974.124248496994,
          1974.2925851703408,
          1974.4609218436874,
          1974.629258517034,
          1974.7975951903807,
          1974.9659318637275,
          1975.1342685370741,
          1975.3026052104208,
          1975.4709418837676,
          1975.6392785571143,
          1975.807615230461,
          1975.9759519038075,
          1976.1442885771544,
          1976.312625250501,
          1976.4809619238476,
          1976.6492985971945,
          1976.8176352705411,
          1976.9859719438878,
          1977.1543086172344,
          1977.3226452905812,
          1977.4909819639279,
          1977.6593186372745,
          1977.8276553106211,
          1977.995991983968,
          1978.1643286573146,
          1978.3326653306613,
          1978.5010020040081,
          1978.6693386773547,
          1978.8376753507014,
          1979.006012024048,
          1979.1743486973949,
          1979.3426853707415,
          1979.5110220440881,
          1979.679358717435,
          1979.8476953907816,
          1980.0160320641282,
          1980.1843687374749,
          1980.3527054108217,
          1980.5210420841684,
          1980.689378757515,
          1980.8577154308616,
          1981.0260521042085,
          1981.194388777555,
          1981.3627254509017,
          1981.5310621242486,
          1981.6993987975952,
          1981.8677354709419,
          1982.0360721442885,
          1982.2044088176353,
          1982.372745490982,
          1982.5410821643286,
          1982.7094188376755,
          1982.877755511022,
          1983.0460921843687,
          1983.2144288577153,
          1983.3827655310622,
          1983.5511022044088,
          1983.7194388777555,
          1983.887775551102,
          1984.056112224449,
          1984.2244488977956,
          1984.3927855711422,
          1984.561122244489,
          1984.7294589178357,
          1984.8977955911823,
          1985.066132264529,
          1985.2344689378758,
          1985.4028056112224,
          1985.571142284569,
          1985.739478957916,
          1985.9078156312626,
          1986.0761523046092,
          1986.2444889779558,
          1986.4128256513027,
          1986.5811623246493,
          1986.749498997996,
          1986.9178356713428,
          1987.0861723446894,
          1987.254509018036,
          1987.4228456913827,
          1987.5911823647295,
          1987.7595190380762,
          1987.9278557114228,
          1988.0961923847694,
          1988.2645290581163,
          1988.432865731463,
          1988.6012024048096,
          1988.7695390781564,
          1988.937875751503,
          1989.1062124248497,
          1989.2745490981963,
          1989.4428857715432,
          1989.6112224448898,
          1989.7795591182364,
          1989.947895791583,
          1990.11623246493,
          1990.2845691382765,
          1990.4529058116232,
          1990.62124248497,
          1990.7895791583167,
          1990.9579158316633,
          1991.12625250501,
          1991.2945891783568,
          1991.4629258517034,
          1991.63126252505,
          1991.799599198397,
          1991.9679358717435,
          1992.1362725450902,
          1992.3046092184368,
          1992.4729458917836,
          1992.6412825651303,
          1992.809619238477,
          1992.9779559118238,
          1993.1462925851704,
          1993.314629258517,
          1993.4829659318636,
          1993.6513026052105,
          1993.8196392785571,
          1993.9879759519038,
          1994.1563126252504,
          1994.3246492985973,
          1994.4929859719439,
          1994.6613226452905,
          1994.8296593186374,
          1994.997995991984,
          1995.1663326653306,
          1995.3346693386773,
          1995.5030060120241,
          1995.6713426853707,
          1995.8396793587174,
          1996.0080160320642,
          1996.1763527054109,
          1996.3446893787575,
          1996.5130260521041,
          1996.681362725451,
          1996.8496993987976,
          1997.0180360721442,
          1997.186372745491,
          1997.3547094188377,
          1997.5230460921844,
          1997.691382765531,
          1997.8597194388778,
          1998.0280561122245,
          1998.196392785571,
          1998.3647294589177,
          1998.5330661322646,
          1998.7014028056112,
          1998.8697394789579,
          1999.0380761523047,
          1999.2064128256513,
          1999.374749498998,
          1999.5430861723446,
          1999.7114228456915,
          1999.879759519038,
          2000.0480961923847,
          2000.2164328657313,
          2000.3847695390782,
          2000.5531062124248,
          2000.7214428857715,
          2000.8897795591183,
          2001.058116232465,
          2001.2264529058116,
          2001.3947895791582,
          2001.563126252505,
          2001.7314629258517,
          2001.8997995991983,
          2002.0681362725452,
          2002.2364729458918,
          2002.4048096192384,
          2002.573146292585,
          2002.741482965932,
          2002.9098196392786,
          2003.0781563126252,
          2003.246492985972,
          2003.4148296593187,
          2003.5831663326653,
          2003.751503006012,
          2003.9198396793588,
          2004.0881763527054,
          2004.256513026052,
          2004.4248496993987,
          2004.5931863727455,
          2004.7615230460922,
          2004.9298597194388,
          2005.0981963927857,
          2005.2665330661323,
          2005.434869739479,
          2005.6032064128256,
          2005.7715430861724,
          2005.939879759519,
          2006.1082164328657,
          2006.2765531062125,
          2006.4448897795592,
          2006.6132264529058,
          2006.7815631262524,
          2006.9498997995993,
          2007.118236472946,
          2007.2865731462925,
          2007.4549098196394,
          2007.623246492986,
          2007.7915831663327,
          2007.9599198396793,
          2008.1282565130261,
          2008.2965931863728,
          2008.4649298597194,
          2008.633266533066,
          2008.801603206413,
          2008.9699398797595,
          2009.1382765531062,
          2009.306613226453,
          2009.4749498997996,
          2009.6432865731463,
          2009.811623246493,
          2009.9799599198398,
          2010.1482965931864,
          2010.316633266533,
          2010.4849699398796,
          2010.6533066132265,
          2010.8216432865731,
          2010.9899799599198,
          2011.1583166332666,
          2011.3266533066133,
          2011.4949899799599,
          2011.6633266533065,
          2011.8316633266534,
          2012
         ],
         "xaxis": "x",
         "y": [
          0,
          0.187135925058814,
          0.27108092426472324,
          0.27272183562148716,
          0.2129454971332468,
          0.11263874680396525,
          -0.0073115773625610685,
          -0.12601863736202157,
          -0.22259559519060704,
          -0.2761556128443886,
          -0.2658118523192353,
          -0.1706774756112906,
          0.030116735326394656,
          0.34287562399287097,
          0.7329655438403418,
          1.1586128188612335,
          1.5780437730476196,
          1.9494847303920264,
          2.2311620148854767,
          2.38130195052059,
          2.358130861289271,
          2.119875071183613,
          1.6247609041957851,
          0.8310146843178573,
          -0.30215054686708387,
          -1.6807282308565545,
          -2.9402012076566972,
          -3.683719555192697,
          -3.5144333513868045,
          -2.035492674165175,
          1.144268230880652,
          5.967637422789739,
          11.612471876061592,
          17.181914410255093,
          21.779107844923544,
          24.5071949996223,
          24.484147623246574,
          21.582314758612178,
          16.771504851877154,
          11.108008665191758,
          5.648116960686628,
          1.4481205004978515,
          -0.4579420035812431,
          0.1783817749691835,
          2.62876816083953,
          6.103833852590863,
          9.814195548768936,
          12.970469947933974,
          14.800645753320913,
          14.980753040838382,
          13.663579182804709,
          11.025033689767548,
          7.241026072273235,
          2.4874658408611,
          -3.0309426972408104,
          -8.546337266317098,
          -12.777813366035707,
          -14.425722149890094,
          -12.19041477139349,
          -4.77224238405225,
          8.972296175525088,
          27.80563228349956,
          48.63414350847851,
          68.31510959077929,
          83.70581027063817,
          91.66352528837615,
          89.35367663015502,
          77.68313785586687,
          60.05048138165857,
          39.89945035982688,
          20.673787942654887,
          5.817237282505372,
          -1.5597659302672378,
          -1.6211985112308351,
          3.610440316364337,
          12.091319651678756,
          21.777608593893273,
          30.625476242184813,
          36.776171807911986,
          39.85997524894624,
          40.22510617828079,
          38.224406746862066,
          34.21071910564641,
          28.536885405583224,
          21.614959725273707,
          14.250637038330977,
          7.410195066187702,
          2.0603852256668995,
          -0.8320410664003408,
          -0.30033239317224236,
          4.363741619406442,
          12.439273930261445,
          22.714241971127812,
          33.97617644933472,
          45.01260807225316,
          54.61106754724143,
          61.74342129389178,
          66.23226808565838,
          68.1454653611438,
          67.55089360090078,
          64.51643328548612,
          59.109965090072116,
          51.51888763059065,
          42.39190139629437,
          32.48898593189464,
          22.57012078206578,
          13.395285491482056,
          5.724408793423417,
          0.14613408552656262,
          -3.3044857808090926,
          -4.704030669201729,
          -4.1290804432653125,
          -1.6562149666207393,
          2.6377062810268357,
          8.49682519715773,
          15.179196005537635,
          21.86114835331086,
          27.71901188762172,
          31.929116255590785,
          33.66972578984724,
          32.583701404132185,
          29.37858561716994,
          24.910438287998314,
          20.035319275642387,
          15.609288439125057,
          12.485077197364594,
          11.112675714400792,
          11.159890725422075,
          12.204661082303275,
          13.824925636914037,
          15.598623241128132,
          17.105609920525634,
          18.063257245971183,
          18.416131035264932,
          18.13007974141561,
          17.1709518174285,
          15.504595716313188,
          13.101755213035021,
          10.16350628485825,
          7.215600059805364,
          4.808251458577095,
          3.491675401861509,
          3.816086810352552,
          6.312175665572484,
          10.865585810551174,
          16.584579251012055,
          22.531136655395553,
          27.767238692117203,
          31.35486602961776,
          32.38925961209449,
          30.77516910008279,
          27.25238840001544,
          22.59908034426698,
          17.593407765205864,
          13.013533495221571,
          9.60814824052229,
          7.578607027961945,
          6.6429069971051025,
          6.502430730657754,
          6.858560811321768,
          7.412679821801685,
          7.878799670489413,
          8.154660292450435,
          8.276800816852132,
          8.285181832762756,
          8.219763929250625,
          8.120507695384113,
          8.035359657971275,
          8.105102870046121,
          8.530414917690827,
          9.512971629205175,
          11.254448832891907,
          13.956522357046328,
          17.790227061085513,
          22.637616996638982,
          28.22194318878465,
          34.26481419616619,
          40.48783857744981,
          46.612624891302644,
          52.33975831298224,
          57.207117877842364,
          60.67668678564371,
          62.21002176631174,
          61.268679549766624,
          57.314216865936864,
          49.99712472257896,
          40.17791843139038,
          29.194256671326464,
          18.384957875055424,
          9.088840475234583,
          2.6447229045587495,
          0.08330706249897743,
          0.7927853108093864,
          3.6162276712209915,
          7.396344793508232,
          10.975847327446536,
          13.1974459228129,
          13.200369430679574,
          11.444160918299467,
          8.755715804634889,
          5.961944573330004,
          3.8897577080409333,
          3.3660621168399194,
          4.933496047503328,
          8.075960302396625,
          12.030923721112389,
          16.035855143242483,
          19.328223408382406,
          21.14563403176941,
          21.025422240378948,
          19.44019476930818,
          17.044473650642807,
          14.49278091647923,
          12.439638598903782,
          11.53900670793803,
          12.159338043317454,
          13.919909988797716,
          16.318603161557295,
          18.853298178777987,
          21.02187565763086,
          22.323382990708804,
          22.496883935815333,
          21.813389956068487,
          20.615339926132958,
          19.245172720672453,
          18.045327214349346,
          17.356304975970342,
          17.309662369068555,
          17.64417754650326,
          18.055267069175382,
          18.23834749798735,
          17.88883539384133,
          16.706149499010124,
          14.651782811189301,
          12.106589958431705,
          9.48908120944521,
          7.217766832935041,
          5.711157097615674,
          5.381095262993461,
          6.348511204800065,
          8.336970633351397,
          11.041431018325552,
          14.156849829400153,
          17.378184536257102,
          20.403801066696833,
          23.03764047690649,
          25.206973510465662,
          26.8460571970217,
          27.889148566231142,
          28.27050464774726,
          27.93144113083222,
          26.975622875776285,
          25.669063913894895,
          24.284836936113248,
          23.096014633355196,
          22.375669696549462,
          22.382520932051612,
          23.12189642083168,
          24.38221168268144,
          25.94487928703751,
          27.591311803335948,
          29.10292180101468,
          30.270952138449953,
          31.02318691090683,
          31.387373110921544,
          31.393548631320257,
          31.0717513649308,
          30.45201920458029,
          29.56046137176869,
          28.37943443942726,
          26.8639523674095,
          24.968611561787142,
          22.64800842862845,
          19.85673937401137,
          16.580005071348705,
          13.080225936778142,
          9.767294253459774,
          7.052469639634797,
          5.347011713549059,
          5.062180093449174,
          6.519897107920787,
          9.376755554403845,
          12.989149594013643,
          16.71201405241267,
          19.900283755278416,
          21.90889352828386,
          22.208542184352492,
          20.984342402177717,
          18.69366660825042,
          15.794423173441153,
          12.744520468632947,
          10.00186686469687,
          7.948383936160417,
          6.575326354917109,
          5.748750412407564,
          5.334655310061795,
          5.1990402493120955,
          5.207904431590808,
          5.252104636385015,
          5.329292429020764,
          5.465793538404423,
          5.687934054109476,
          6.022040065709889,
          6.494436796203303,
          7.110318008354627,
          7.7989281284791625,
          8.472454763875652,
          9.043085521842748,
          9.423008009676813,
          9.524438446789551,
          9.302994051268207,
          8.845063702971387,
          8.261567592012899,
          7.663425908504704,
          7.16155884255925,
          6.8667713356179645,
          6.842452969625468,
          7.031749095326026,
          7.359030021581074,
          7.748666057250583,
          8.125027511195853,
          8.412579174611476,
          8.552600194736943,
          8.52241647877339,
          8.30401156303727,
          7.879368983844008,
          7.230472277510882,
          6.33983328350524,
          5.241043205147481,
          4.0606445965405245,
          2.935035750894672,
          2.0006149614153026,
          1.3937805213093721,
          1.2490083793897775,
          1.585433820815876,
          2.243414102082622,
          3.047927724532804,
          3.8239531895057355,
          4.396468998344124,
          4.5938463004054295,
          4.382086620412757,
          3.909372348329017,
          3.33640884909875,
          2.823901487665957,
          2.532555628976782,
          2.6185063680766354,
          3.104928527832728,
          3.8644378881870556,
          4.76154314730923,
          5.660753003371941,
          6.426576154547885,
          6.927713909864163,
          7.124113697061903,
          7.064178769775683,
          6.7999467651896115,
          6.3834553204890305,
          5.866742072858281,
          5.302258130097241,
          4.749399614246441,
          4.273325394049454,
          3.9393687711633416,
          3.8128630472459344,
          3.959141523955481,
          4.434909070787802,
          5.182356934956876,
          6.0624377017369495,
          6.934377365840347,
          7.657401921983058,
          8.090737364879946,
          8.107689775869446,
          7.731871560984324,
          7.0778721491286944,
          6.261549325854186,
          5.398760876715928,
          4.605364587265686,
          3.9865411254543437,
          3.5545406912155664,
          3.273764179675957,
          3.1082170371602196,
          3.02190470999368,
          2.9788326445019333,
          2.9464063114630084,
          2.916405059372782,
          2.891244299380225,
          2.873383733610388,
          2.8652830641882123,
          2.869401993238692,
          2.886668270406885,
          2.9088977814686077,
          2.924551027621478,
          2.9220832685730067,
          2.8899497640307152,
          2.8166057737021455,
          2.693777054765315,
          2.5294078759778733,
          2.3364606430909074,
          2.127899250474543,
          1.9166875924988207,
          1.7157895635346483,
          1.5410501562184897,
          1.4202578149224137,
          1.3842953932101771,
          1.4640457496844084,
          1.6903917429474895,
          2.094213787567383,
          2.680377987308916,
          3.3635142218594107,
          4.038700089206185,
          4.601013187337191,
          4.945531114238111,
          4.967378127557933,
          4.612974733536868,
          3.9780126059101195,
          3.1851855369394486,
          2.3571873188868477,
          1.616711744013425,
          1.086310967484658,
          0.84052216801921,
          0.8361820953557151,
          1.0124228619014572,
          1.3083765800628435,
          1.6631753622469543,
          2.0160562687506838,
          2.322556118164575,
          2.5720179704413337,
          2.7579868558133858,
          2.8740078045132633,
          2.9136258467730736,
          2.8705268380018985,
          2.7506660271068366,
          2.581615327579855,
          2.393147046295697,
          2.2150334901284117,
          2.0770469659521065,
          2.0085919459525505,
          2.018782480887899,
          2.0862652040791354,
          2.187177482523903,
          2.297656683219398,
          2.3938401731632317,
          2.4522294231399724,
          2.463090183203984,
          2.434345940150977,
          2.3750781538423635,
          2.2943682841394324,
          2.2012977909038227,
          2.104790357655185,
          2.0094512497277934,
          1.9151454762049966,
          1.821495672408666,
          1.728124473660803,
          1.634654515283283,
          1.5408912085831783,
          1.4504086381409258,
          1.370322568044559,
          1.3078860846846851,
          1.270352274452158,
          1.2649742237375556,
          1.298078189145122,
          1.361163852822505,
          1.433806407565145,
          1.4952432802112872,
          1.5247118975991831,
          1.5014496865669742,
          1.407168915102238,
          1.2549875514280253,
          1.0796113756585992,
          0.9161705233858687,
          0.7997951302019156,
          0.765615331698848,
          0.8440841967458489,
          1.0177705114716422,
          1.241174854588565,
          1.4684419789078345,
          1.6537166372416021,
          1.75114358240174,
          1.721193432231563,
          1.5772618701916434,
          1.3591167651134337,
          1.1067190359086427,
          0.8600296014886692,
          0.6590093807659338,
          0.5381182419112652,
          0.4938449226328968,
          0.506656073428493,
          0.5569618286993049,
          0.6251723228466911,
          0.6916976902720905,
          0.7393485947621765,
          0.7646995156300872,
          0.7692215799234351,
          0.7543918386463914,
          0.7216873428032017,
          0.672585143398062,
          0.60856229143508,
          0.5310958379186339,
          0.4416628338528506,
          0.3417403302419338,
          0.23280537808993423,
          0.11633502840135154
         ],
         "yaxis": "y2"
        }
       ],
       "layout": {
        "template": {
         "data": {
          "bar": [
           {
            "error_x": {
             "color": "#2a3f5f"
            },
            "error_y": {
             "color": "#2a3f5f"
            },
            "marker": {
             "line": {
              "color": "#E5ECF6",
              "width": 0.5
             },
             "pattern": {
              "fillmode": "overlay",
              "size": 10,
              "solidity": 0.2
             }
            },
            "type": "bar"
           }
          ],
          "barpolar": [
           {
            "marker": {
             "line": {
              "color": "#E5ECF6",
              "width": 0.5
             },
             "pattern": {
              "fillmode": "overlay",
              "size": 10,
              "solidity": 0.2
             }
            },
            "type": "barpolar"
           }
          ],
          "carpet": [
           {
            "aaxis": {
             "endlinecolor": "#2a3f5f",
             "gridcolor": "white",
             "linecolor": "white",
             "minorgridcolor": "white",
             "startlinecolor": "#2a3f5f"
            },
            "baxis": {
             "endlinecolor": "#2a3f5f",
             "gridcolor": "white",
             "linecolor": "white",
             "minorgridcolor": "white",
             "startlinecolor": "#2a3f5f"
            },
            "type": "carpet"
           }
          ],
          "choropleth": [
           {
            "colorbar": {
             "outlinewidth": 0,
             "ticks": ""
            },
            "type": "choropleth"
           }
          ],
          "contour": [
           {
            "colorbar": {
             "outlinewidth": 0,
             "ticks": ""
            },
            "colorscale": [
             [
              0,
              "#0d0887"
             ],
             [
              0.1111111111111111,
              "#46039f"
             ],
             [
              0.2222222222222222,
              "#7201a8"
             ],
             [
              0.3333333333333333,
              "#9c179e"
             ],
             [
              0.4444444444444444,
              "#bd3786"
             ],
             [
              0.5555555555555556,
              "#d8576b"
             ],
             [
              0.6666666666666666,
              "#ed7953"
             ],
             [
              0.7777777777777778,
              "#fb9f3a"
             ],
             [
              0.8888888888888888,
              "#fdca26"
             ],
             [
              1,
              "#f0f921"
             ]
            ],
            "type": "contour"
           }
          ],
          "contourcarpet": [
           {
            "colorbar": {
             "outlinewidth": 0,
             "ticks": ""
            },
            "type": "contourcarpet"
           }
          ],
          "heatmap": [
           {
            "colorbar": {
             "outlinewidth": 0,
             "ticks": ""
            },
            "colorscale": [
             [
              0,
              "#0d0887"
             ],
             [
              0.1111111111111111,
              "#46039f"
             ],
             [
              0.2222222222222222,
              "#7201a8"
             ],
             [
              0.3333333333333333,
              "#9c179e"
             ],
             [
              0.4444444444444444,
              "#bd3786"
             ],
             [
              0.5555555555555556,
              "#d8576b"
             ],
             [
              0.6666666666666666,
              "#ed7953"
             ],
             [
              0.7777777777777778,
              "#fb9f3a"
             ],
             [
              0.8888888888888888,
              "#fdca26"
             ],
             [
              1,
              "#f0f921"
             ]
            ],
            "type": "heatmap"
           }
          ],
          "heatmapgl": [
           {
            "colorbar": {
             "outlinewidth": 0,
             "ticks": ""
            },
            "colorscale": [
             [
              0,
              "#0d0887"
             ],
             [
              0.1111111111111111,
              "#46039f"
             ],
             [
              0.2222222222222222,
              "#7201a8"
             ],
             [
              0.3333333333333333,
              "#9c179e"
             ],
             [
              0.4444444444444444,
              "#bd3786"
             ],
             [
              0.5555555555555556,
              "#d8576b"
             ],
             [
              0.6666666666666666,
              "#ed7953"
             ],
             [
              0.7777777777777778,
              "#fb9f3a"
             ],
             [
              0.8888888888888888,
              "#fdca26"
             ],
             [
              1,
              "#f0f921"
             ]
            ],
            "type": "heatmapgl"
           }
          ],
          "histogram": [
           {
            "marker": {
             "pattern": {
              "fillmode": "overlay",
              "size": 10,
              "solidity": 0.2
             }
            },
            "type": "histogram"
           }
          ],
          "histogram2d": [
           {
            "colorbar": {
             "outlinewidth": 0,
             "ticks": ""
            },
            "colorscale": [
             [
              0,
              "#0d0887"
             ],
             [
              0.1111111111111111,
              "#46039f"
             ],
             [
              0.2222222222222222,
              "#7201a8"
             ],
             [
              0.3333333333333333,
              "#9c179e"
             ],
             [
              0.4444444444444444,
              "#bd3786"
             ],
             [
              0.5555555555555556,
              "#d8576b"
             ],
             [
              0.6666666666666666,
              "#ed7953"
             ],
             [
              0.7777777777777778,
              "#fb9f3a"
             ],
             [
              0.8888888888888888,
              "#fdca26"
             ],
             [
              1,
              "#f0f921"
             ]
            ],
            "type": "histogram2d"
           }
          ],
          "histogram2dcontour": [
           {
            "colorbar": {
             "outlinewidth": 0,
             "ticks": ""
            },
            "colorscale": [
             [
              0,
              "#0d0887"
             ],
             [
              0.1111111111111111,
              "#46039f"
             ],
             [
              0.2222222222222222,
              "#7201a8"
             ],
             [
              0.3333333333333333,
              "#9c179e"
             ],
             [
              0.4444444444444444,
              "#bd3786"
             ],
             [
              0.5555555555555556,
              "#d8576b"
             ],
             [
              0.6666666666666666,
              "#ed7953"
             ],
             [
              0.7777777777777778,
              "#fb9f3a"
             ],
             [
              0.8888888888888888,
              "#fdca26"
             ],
             [
              1,
              "#f0f921"
             ]
            ],
            "type": "histogram2dcontour"
           }
          ],
          "mesh3d": [
           {
            "colorbar": {
             "outlinewidth": 0,
             "ticks": ""
            },
            "type": "mesh3d"
           }
          ],
          "parcoords": [
           {
            "line": {
             "colorbar": {
              "outlinewidth": 0,
              "ticks": ""
             }
            },
            "type": "parcoords"
           }
          ],
          "pie": [
           {
            "automargin": true,
            "type": "pie"
           }
          ],
          "scatter": [
           {
            "fillpattern": {
             "fillmode": "overlay",
             "size": 10,
             "solidity": 0.2
            },
            "type": "scatter"
           }
          ],
          "scatter3d": [
           {
            "line": {
             "colorbar": {
              "outlinewidth": 0,
              "ticks": ""
             }
            },
            "marker": {
             "colorbar": {
              "outlinewidth": 0,
              "ticks": ""
             }
            },
            "type": "scatter3d"
           }
          ],
          "scattercarpet": [
           {
            "marker": {
             "colorbar": {
              "outlinewidth": 0,
              "ticks": ""
             }
            },
            "type": "scattercarpet"
           }
          ],
          "scattergeo": [
           {
            "marker": {
             "colorbar": {
              "outlinewidth": 0,
              "ticks": ""
             }
            },
            "type": "scattergeo"
           }
          ],
          "scattergl": [
           {
            "marker": {
             "colorbar": {
              "outlinewidth": 0,
              "ticks": ""
             }
            },
            "type": "scattergl"
           }
          ],
          "scattermapbox": [
           {
            "marker": {
             "colorbar": {
              "outlinewidth": 0,
              "ticks": ""
             }
            },
            "type": "scattermapbox"
           }
          ],
          "scatterpolar": [
           {
            "marker": {
             "colorbar": {
              "outlinewidth": 0,
              "ticks": ""
             }
            },
            "type": "scatterpolar"
           }
          ],
          "scatterpolargl": [
           {
            "marker": {
             "colorbar": {
              "outlinewidth": 0,
              "ticks": ""
             }
            },
            "type": "scatterpolargl"
           }
          ],
          "scatterternary": [
           {
            "marker": {
             "colorbar": {
              "outlinewidth": 0,
              "ticks": ""
             }
            },
            "type": "scatterternary"
           }
          ],
          "surface": [
           {
            "colorbar": {
             "outlinewidth": 0,
             "ticks": ""
            },
            "colorscale": [
             [
              0,
              "#0d0887"
             ],
             [
              0.1111111111111111,
              "#46039f"
             ],
             [
              0.2222222222222222,
              "#7201a8"
             ],
             [
              0.3333333333333333,
              "#9c179e"
             ],
             [
              0.4444444444444444,
              "#bd3786"
             ],
             [
              0.5555555555555556,
              "#d8576b"
             ],
             [
              0.6666666666666666,
              "#ed7953"
             ],
             [
              0.7777777777777778,
              "#fb9f3a"
             ],
             [
              0.8888888888888888,
              "#fdca26"
             ],
             [
              1,
              "#f0f921"
             ]
            ],
            "type": "surface"
           }
          ],
          "table": [
           {
            "cells": {
             "fill": {
              "color": "#EBF0F8"
             },
             "line": {
              "color": "white"
             }
            },
            "header": {
             "fill": {
              "color": "#C8D4E3"
             },
             "line": {
              "color": "white"
             }
            },
            "type": "table"
           }
          ]
         },
         "layout": {
          "annotationdefaults": {
           "arrowcolor": "#2a3f5f",
           "arrowhead": 0,
           "arrowwidth": 1
          },
          "autotypenumbers": "strict",
          "coloraxis": {
           "colorbar": {
            "outlinewidth": 0,
            "ticks": ""
           }
          },
          "colorscale": {
           "diverging": [
            [
             0,
             "#8e0152"
            ],
            [
             0.1,
             "#c51b7d"
            ],
            [
             0.2,
             "#de77ae"
            ],
            [
             0.3,
             "#f1b6da"
            ],
            [
             0.4,
             "#fde0ef"
            ],
            [
             0.5,
             "#f7f7f7"
            ],
            [
             0.6,
             "#e6f5d0"
            ],
            [
             0.7,
             "#b8e186"
            ],
            [
             0.8,
             "#7fbc41"
            ],
            [
             0.9,
             "#4d9221"
            ],
            [
             1,
             "#276419"
            ]
           ],
           "sequential": [
            [
             0,
             "#0d0887"
            ],
            [
             0.1111111111111111,
             "#46039f"
            ],
            [
             0.2222222222222222,
             "#7201a8"
            ],
            [
             0.3333333333333333,
             "#9c179e"
            ],
            [
             0.4444444444444444,
             "#bd3786"
            ],
            [
             0.5555555555555556,
             "#d8576b"
            ],
            [
             0.6666666666666666,
             "#ed7953"
            ],
            [
             0.7777777777777778,
             "#fb9f3a"
            ],
            [
             0.8888888888888888,
             "#fdca26"
            ],
            [
             1,
             "#f0f921"
            ]
           ],
           "sequentialminus": [
            [
             0,
             "#0d0887"
            ],
            [
             0.1111111111111111,
             "#46039f"
            ],
            [
             0.2222222222222222,
             "#7201a8"
            ],
            [
             0.3333333333333333,
             "#9c179e"
            ],
            [
             0.4444444444444444,
             "#bd3786"
            ],
            [
             0.5555555555555556,
             "#d8576b"
            ],
            [
             0.6666666666666666,
             "#ed7953"
            ],
            [
             0.7777777777777778,
             "#fb9f3a"
            ],
            [
             0.8888888888888888,
             "#fdca26"
            ],
            [
             1,
             "#f0f921"
            ]
           ]
          },
          "colorway": [
           "#636efa",
           "#EF553B",
           "#00cc96",
           "#ab63fa",
           "#FFA15A",
           "#19d3f3",
           "#FF6692",
           "#B6E880",
           "#FF97FF",
           "#FECB52"
          ],
          "font": {
           "color": "#2a3f5f"
          },
          "geo": {
           "bgcolor": "white",
           "lakecolor": "white",
           "landcolor": "#E5ECF6",
           "showlakes": true,
           "showland": true,
           "subunitcolor": "white"
          },
          "hoverlabel": {
           "align": "left"
          },
          "hovermode": "closest",
          "mapbox": {
           "style": "light"
          },
          "paper_bgcolor": "white",
          "plot_bgcolor": "#E5ECF6",
          "polar": {
           "angularaxis": {
            "gridcolor": "white",
            "linecolor": "white",
            "ticks": ""
           },
           "bgcolor": "#E5ECF6",
           "radialaxis": {
            "gridcolor": "white",
            "linecolor": "white",
            "ticks": ""
           }
          },
          "scene": {
           "xaxis": {
            "backgroundcolor": "#E5ECF6",
            "gridcolor": "white",
            "gridwidth": 2,
            "linecolor": "white",
            "showbackground": true,
            "ticks": "",
            "zerolinecolor": "white"
           },
           "yaxis": {
            "backgroundcolor": "#E5ECF6",
            "gridcolor": "white",
            "gridwidth": 2,
            "linecolor": "white",
            "showbackground": true,
            "ticks": "",
            "zerolinecolor": "white"
           },
           "zaxis": {
            "backgroundcolor": "#E5ECF6",
            "gridcolor": "white",
            "gridwidth": 2,
            "linecolor": "white",
            "showbackground": true,
            "ticks": "",
            "zerolinecolor": "white"
           }
          },
          "shapedefaults": {
           "line": {
            "color": "#2a3f5f"
           }
          },
          "ternary": {
           "aaxis": {
            "gridcolor": "white",
            "linecolor": "white",
            "ticks": ""
           },
           "baxis": {
            "gridcolor": "white",
            "linecolor": "white",
            "ticks": ""
           },
           "bgcolor": "#E5ECF6",
           "caxis": {
            "gridcolor": "white",
            "linecolor": "white",
            "ticks": ""
           }
          },
          "title": {
           "x": 0.05
          },
          "xaxis": {
           "automargin": true,
           "gridcolor": "white",
           "linecolor": "white",
           "ticks": "",
           "title": {
            "standoff": 15
           },
           "zerolinecolor": "white",
           "zerolinewidth": 2
          },
          "yaxis": {
           "automargin": true,
           "gridcolor": "white",
           "linecolor": "white",
           "ticks": "",
           "title": {
            "standoff": 15
           },
           "zerolinecolor": "white",
           "zerolinewidth": 2
          }
         }
        },
        "title": {
         "text": "Movie relases and percentage of movies with an Oscar nominated performance since 1928"
        },
        "xaxis": {
         "anchor": "y",
         "domain": [
          0,
          0.94
         ],
         "title": {
          "text": "Year"
         }
        },
        "yaxis": {
         "anchor": "x",
         "domain": [
          0,
          1
         ],
         "title": {
          "text": "Nr. of movies"
         }
        },
        "yaxis2": {
         "anchor": "x",
         "overlaying": "y",
         "side": "right",
         "title": {
          "text": "%"
         }
        }
       }
      }
     },
     "metadata": {},
     "output_type": "display_data"
    }
   ],
   "source": [
    "fig = make_subplots(specs=[[{\"secondary_y\": True}]])\n",
    "\n",
    "fig.add_trace(\n",
    "    go.Bar(y=releases_nominations_counts_df['releases'], x=releases_nominations_counts_df['year'], name=\"Nr. Movie releases\"),\n",
    "    secondary_y=False,\n",
    ")\n",
    "\n",
    "fig.add_trace(\n",
    "    go.Scatter(y=100*y_smooth, x=x_smooth, name=f\"% with a nominated performance\"),\n",
    "    secondary_y=True,\n",
    "    \n",
    ")\n",
    "\n",
    "fig.update_xaxes(title_text=\"Year\")\n",
    "fig.update_yaxes(title_text=\"Nr. of movies\", secondary_y=False)\n",
    "fig.update_yaxes(title_text=\"%\", secondary_y=True)\n",
    "fig.update_layout(\n",
    "    title_text=\"Movie relases and percentage of movies with an Oscar nominated performance since 1928\"\n",
    ")\n",
    "fig.show()"
   ]
  },
  {
   "cell_type": "markdown",
   "metadata": {},
   "source": [
    "Clearly, the number of movie releases per year has fluctuated during the last 100 years. However, since the 1960, the number of movie releases has been on a steady uptrend, until the 2010s. In the meantime, the share of movies that has nominated actors has decreased dramatically from 20-40% in thw 30s-70s to far below 10% in the 2010s. "
   ]
  },
  {
   "cell_type": "markdown",
   "metadata": {},
   "source": [
    "Review: "
   ]
  },
  {
   "cell_type": "code",
   "execution_count": 246,
   "metadata": {},
   "outputs": [],
   "source": [
    "review_df = df.sort_values(by=['movie_identifier', 'oscar_nominated'], ascending=False)\n",
    "review_df = review_df.drop_duplicates(subset='movie_identifier', keep='first')"
   ]
  },
  {
   "cell_type": "code",
   "execution_count": 252,
   "metadata": {},
   "outputs": [],
   "source": [
    "nominated_review_df = review_df[review_df['oscar_nominated']==True]\n",
    "not_nominated_review_df = review_df[review_df['oscar_nominated'] == False]"
   ]
  },
  {
   "cell_type": "code",
   "execution_count": null,
   "metadata": {},
   "outputs": [
    {
     "data": {
      "text/plain": [
       "148537    6.6\n",
       "406753    6.8\n",
       "130473    7.4\n",
       "241509    6.7\n",
       "51663     8.0\n",
       "         ... \n",
       "191381    7.5\n",
       "239647    7.7\n",
       "431312    8.2\n",
       "36034     7.6\n",
       "84728     7.5\n",
       "Name: average_rating, Length: 394, dtype: float64"
      ]
     },
     "execution_count": 254,
     "metadata": {},
     "output_type": "execute_result"
    }
   ],
   "source": []
  }
 ],
 "metadata": {
  "kernelspec": {
   "display_name": "base",
   "language": "python",
   "name": "python3"
  },
  "language_info": {
   "codemirror_mode": {
    "name": "ipython",
    "version": 3
   },
   "file_extension": ".py",
   "mimetype": "text/x-python",
   "name": "python",
   "nbconvert_exporter": "python",
   "pygments_lexer": "ipython3",
   "version": "3.12.4"
  }
 },
 "nbformat": 4,
 "nbformat_minor": 2
}
