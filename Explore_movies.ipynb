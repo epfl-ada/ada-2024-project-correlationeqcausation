{
 "cells": [
  {
   "cell_type": "code",
   "id": "initial_id",
   "metadata": {
    "collapsed": true
   },
   "source": "import pandas as pd",
   "outputs": [],
   "execution_count": null
  },
  {
   "metadata": {},
   "cell_type": "markdown",
   "source": [
    "Form a graph with people as nodes with edges between them if they have starred in the same movie. Search for some correlation between how well connected people are and the kind of movies they have performed in / the type of role they have etc.\n",
    "Once such hypotheses have been formed, test them in a similar graph in the imdb movie dataset to see if they hold there as well. \n",
    "\n",
    "Test the hypothesis that an uncommon combination of genres means a somewhat extreme box office collection - either low or high\n",
    "\n",
    "\n",
    "\n",
    "Is benford's law scale invariant?"
   ],
   "id": "a477ebbabb542e1f"
  },
  {
   "metadata": {},
   "cell_type": "code",
   "source": [
    "movie_df = pd.read_csv('data/movie.metadata.tsv', sep='\\t', names=['wiki_movie_id', 'freebase_movie_id', 'title', 'release_date', 'box_office_revenue', 'runtime', 'languages', 'countries', 'genres'], index_col='freebase_movie_id')\n",
    "movie_df"
   ],
   "id": "ae8c2335af72bc67",
   "outputs": [],
   "execution_count": null
  },
  {
   "metadata": {},
   "cell_type": "code",
   "source": [
    "col_names = [\"wiki_movie_id\", \"freebase_movie_id\", \"movie_release_date\", \"character_name\", \"actor_date_of_birth\", \"Actor gender\", \"Actor height (in meters)\", \"Actor ethnicity (Freebase ID)\", \"Actor name\", \"Actor age at movie release\", \"Freebase character/actor map ID\", \"Freebase character ID\", \"Freebase actor ID\"]\n",
    "character_df = pd.read_csv('data/character.metadata.tsv', sep='\\t', names=col_names, index_col=\"Freebase character ID\")\n",
    "character_df"
   ],
   "id": "1fdb1d7dad1c8cfc",
   "outputs": [],
   "execution_count": null
  },
  {
   "metadata": {},
   "cell_type": "code",
   "source": "movie_df.loc[movie_df['wiki_movie_id'] == 975900]",
   "id": "919d000469145ada",
   "outputs": [],
   "execution_count": null
  },
  {
   "metadata": {},
   "cell_type": "markdown",
   "source": "",
   "id": "3a0aa2581ab9d9c1"
  },
  {
   "metadata": {},
   "cell_type": "code",
   "source": "len(movie_df['wiki_movie_id'].unique())",
   "id": "dca66f22427c27e5",
   "outputs": [],
   "execution_count": null
  },
  {
   "metadata": {},
   "cell_type": "code",
   "source": "len(character_df['wiki_movie_id'].unique())",
   "id": "fc1efe4d0d40e691",
   "outputs": [],
   "execution_count": null
  },
  {
   "metadata": {},
   "cell_type": "code",
   "source": [
    "oscar_df = pd.read_csv('data/the_oscar_award.csv')\n",
    "oscar_df"
   ],
   "id": "cff3f08dbb5e5b83",
   "outputs": [],
   "execution_count": null
  },
  {
   "metadata": {},
   "cell_type": "markdown",
   "source": [
    "This join needs to be checked. \n",
    "Joining with ignore case? \n",
    "Do we want to do a right join? (so also keep movies that did not win oscars)\n"
   ],
   "id": "6d82f1f9cfe7e597"
  },
  {
   "metadata": {},
   "cell_type": "code",
   "source": [
    "merged_df = oscar_df.merge(movie_df, left_on='film', right_on='title', how='inner')\n",
    "merged_df"
   ],
   "id": "ef07c74b51ee829e",
   "outputs": [],
   "execution_count": null
  },
  {
   "metadata": {},
   "cell_type": "code",
   "source": [
    "# number of movie names in common between the two datasets\n",
    "len(set(movie_df['title'].str.lower().str.strip()).intersection(set(oscar_df['film'].str.lower().str.strip())))"
   ],
   "id": "4137cb4f8eb86f7e",
   "outputs": [],
   "execution_count": null
  },
  {
   "metadata": {},
   "cell_type": "code",
   "source": "len(set(oscar_df['film'].str.lower().str.strip()))",
   "id": "87945a5be8091a84",
   "outputs": [],
   "execution_count": null
  },
  {
   "metadata": {},
   "cell_type": "code",
   "source": "len(set(oscar_df.loc[oscar_df['year_ceremony'] <= 2016].loc[oscar_df['year_ceremony'] >= 1928, 'film'].str.lower().str.strip()))",
   "id": "b0d0e4bcb54f02d0",
   "outputs": [],
   "execution_count": null
  },
  {
   "metadata": {},
   "cell_type": "code",
   "source": "len(set(movie_df['title'].str.strip()).intersection(set(oscar_df['film'].str.strip())))",
   "id": "2c3f07baae12f765",
   "outputs": [],
   "execution_count": null
  },
  {
   "metadata": {},
   "cell_type": "code",
   "source": "",
   "id": "487b7909cb22939e",
   "outputs": [],
   "execution_count": null
  }
 ],
 "metadata": {
  "kernelspec": {
   "display_name": "Python 3",
   "language": "python",
   "name": "python3"
  },
  "language_info": {
   "codemirror_mode": {
    "name": "ipython",
    "version": 2
   },
   "file_extension": ".py",
   "mimetype": "text/x-python",
   "name": "python",
   "nbconvert_exporter": "python",
   "pygments_lexer": "ipython2",
   "version": "2.7.6"
  }
 },
 "nbformat": 4,
 "nbformat_minor": 5
}
