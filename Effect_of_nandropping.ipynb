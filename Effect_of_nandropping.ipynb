{
 "cells": [
  {
   "cell_type": "markdown",
   "id": "9d8b6270-7284-460f-9309-43a743f87486",
   "metadata": {},
   "source": [
    "# Reading data"
   ]
  },
  {
   "cell_type": "code",
   "execution_count": null,
   "id": "c2afc178-cc5e-4d42-84d5-7228b926b143",
   "metadata": {},
   "outputs": [],
   "source": [
    "import pandas as pd\n",
    "import os\n",
    "import numpy as np\n",
    "import matplotlib.pyplot as plt\n",
    "import seaborn as sns\n",
    "import json\n",
    "\n",
    "from scipy import stats"
   ]
  },
  {
   "cell_type": "code",
   "execution_count": null,
   "id": "c2f613f4-6cd5-4e26-8d1b-bff8468b9a07",
   "metadata": {
    "scrolled": true
   },
   "outputs": [],
   "source": [
    "%run data_pipeline.ipynb"
   ]
  },
  {
   "cell_type": "code",
   "execution_count": null,
   "id": "3f3889ad-228c-494e-87bf-63022e0e620e",
   "metadata": {},
   "outputs": [],
   "source": [
    "# Read data\n",
    "df = pd.read_csv('cache/data.csv', sep=',', index_col=0)\n",
    "unclean_df = pd.read_csv('cache/unclean_data.csv', sep=',', index_col=0)"
   ]
  },
  {
   "cell_type": "markdown",
   "id": "b3a660f5-bae5-4616-a689-d5dbfe90cb04",
   "metadata": {},
   "source": [
    "# Effect on distributions\n",
    "Plotting the distributions of variables before and after data cleaning was conducted"
   ]
  },
  {
   "cell_type": "markdown",
   "id": "e21cd774-d6e8-4fe8-a1f1-393eab47cb00",
   "metadata": {},
   "source": [
    "## Main functions"
   ]
  },
  {
   "cell_type": "markdown",
   "id": "523fca20-a3a2-4244-830e-adc03dce2b2b",
   "metadata": {
    "jp-MarkdownHeadingCollapsed": true
   },
   "source": [
    "### For categorical data"
   ]
  },
  {
   "cell_type": "code",
   "execution_count": null,
   "id": "b635b3dd-d52a-4f41-a951-db115ad3e1bc",
   "metadata": {},
   "outputs": [],
   "source": [
    "def display_cleaning_shift_plot(clean_df, unclean_df, column, display_values = None, display_only_given = False, optional_mappings = None, rotation = 90):\n",
    "    \"\"\"Displays the distribution of a given column in terms of nominated rows and not nominated rows for both clean and unclean data\n",
    "\n",
    "    Args:\n",
    "        clean_df: Pandas dataframe of cleaned data\n",
    "        unclean_df: Pandas dataframe of uncleaned data\n",
    "        column: String indicating the column the analysis is done on\n",
    "        display_values: List of column values that the plot will feature\n",
    "        display_only_given: boolean, if True only to plot the values given in display_values, if False, plot others gathered under \"Other\"\n",
    "        optional_mappings: dictionary, maps values in display_values to another string if there is a need to plot another word\n",
    "        rotation: int, rotation of the xlabels on the plot\n",
    "\n",
    "    Returns:\n",
    "        None\n",
    "    \"\"\"\n",
    "    \n",
    "    #Get the nominated rows from the data\n",
    "    nominated_df = clean_df[clean_df['oscar_nominated'] == True]\n",
    "    nominated_unclean_df = unclean_df[unclean_df['oscar_nominated'] == True]\n",
    "\n",
    "    #Get only the relevant attribute and map the values needed\n",
    "    #If no wanted values were given take all\n",
    "    if (display_values == None):\n",
    "        display_values = unclean_df[column].unique()\n",
    "\n",
    "\n",
    "    nominated_col = nominated_df[column].apply(lambda item: item if item in display_values else 'Other')\n",
    "    nominated_col_unclean = nominated_unclean_df[column].apply(lambda item: item if item in display_values else 'Other')\n",
    "    \n",
    "    all_movies_col = clean_df[column].apply(lambda item: item if item in display_values else 'Other')\n",
    "    all_movies_col_unclean = unclean_df[column].apply(lambda item: item if item in display_values else 'Other')\n",
    "\n",
    "    #If only need to display the ones given remove \"other\" from all series\n",
    "    if display_only_given:\n",
    "        nominated_col = nominated_col[nominated_col != 'Other']\n",
    "        nominated_col_unclean = nominated_col_unclean[nominated_col_unclean != 'Other']\n",
    "        all_movies_col = all_movies_col[all_movies_col != 'Other']\n",
    "        all_movies_col_unclean = all_movies_col_unclean[all_movies_col_unclean != 'Other']\n",
    "\n",
    "    #Get the counts\n",
    "    nominated_df_counts = nominated_col.value_counts()\n",
    "    nominated_unclean_df_counts = nominated_col_unclean.value_counts()\n",
    "    \n",
    "    all_movies_counts = all_movies_col.value_counts()\n",
    "    all_movies_counts_unclean = all_movies_col_unclean.value_counts()\n",
    "\n",
    "    #Merge the values before and after cleaning, sort\n",
    "    merged_nominated = pd.concat([nominated_unclean_df_counts, nominated_df_counts], axis=1).fillna(0)\n",
    "    merged_nominated.columns = [\"unclean_count\", \"clean_count\"]\n",
    "    merged_nominated = merged_nominated.sort_index()\n",
    "    \n",
    "    merged_all = pd.concat([all_movies_counts_unclean, all_movies_counts], axis=1).fillna(0)\n",
    "    merged_all.columns = [\"unclean_count\", \"clean_count\"]\n",
    "    merged_all = merged_all.sort_index()\n",
    "\n",
    "    #If given any value mappings for clearer display apply them\n",
    "    if optional_mappings != None:\n",
    "        merged_nominated = merged_nominated.rename(index=optional_mappings)\n",
    "        merged_all = merged_all.rename(index=optional_mappings)\n",
    "\n",
    "    \n",
    "    # Plotting\n",
    "    fig, axs = plt.subplots(1, 2, figsize=(15,5))\n",
    "    fig.suptitle(\"Distribution of data before and after data cleaning on a log scale\")\n",
    "    \n",
    "    merged_all.plot(kind=\"bar\", figsize=(12, 6), color=[\"blue\", \"orange\"], ax = axs[0])\n",
    "    axs[0].set_title(\"For all actors\")\n",
    "    axs[0].tick_params(axis=\"x\", rotation=rotation)\n",
    "    axs[0].set_yscale(\"log\")\n",
    "    axs[0].set_ylabel(\"Log Scale Count\")\n",
    "    \n",
    "    merged_nominated.plot(kind=\"bar\", figsize=(12, 6), color=[\"blue\", \"orange\"], ax = axs[1])\n",
    "    axs[1].set_title(\"For nominated actors\")\n",
    "    axs[1].tick_params(axis=\"x\", rotation=rotation)\n",
    "    axs[1].set_yscale(\"log\")\n",
    "    axs[1].set_ylabel(\"Log Scale Count\")\n",
    "    \n",
    "    plt.show()"
   ]
  },
  {
   "cell_type": "code",
   "execution_count": null,
   "id": "57b23423-e767-4c24-ad09-fdcb649368a9",
   "metadata": {},
   "outputs": [],
   "source": []
  },
  {
   "cell_type": "markdown",
   "id": "12f7bade-e536-4392-a480-aa5d57a4234f",
   "metadata": {
    "jp-MarkdownHeadingCollapsed": true
   },
   "source": [
    "### For continuous data"
   ]
  },
  {
   "cell_type": "code",
   "execution_count": null,
   "id": "728bbeb4-1b93-4439-9873-45d3b547f4f8",
   "metadata": {},
   "outputs": [],
   "source": [
    "def display_cleaning_shift_plot_cont(clean_df, unclean_df, column, is_character, bins_all, bins_nominated):\n",
    "    \"\"\" Displays the distribution of a given column in terms of nominated rows and not nominated rows for both clean and unclean data. Also calculates\n",
    "        the Kolmogorov-Smirnov comparing the distributions before and after cleaning\n",
    "\n",
    "    Args:\n",
    "        clean_df: Pandas dataframe of cleaned data\n",
    "        unclean_df: Pandas dataframe of uncleaned data\n",
    "        column: String indicating the column the analysis is done on\n",
    "        is_character: String, should be either \"characters\" or \"movies\" based on what the data is grouped by\n",
    "    Returns:\n",
    "        None\n",
    "    \"\"\"\n",
    "\n",
    "    #Get the nominated rows from the data\n",
    "    nominated_df = imdb_df[imdb_df['oscar_nominated'] == True]\n",
    "    nominated_unclean_df = imdb_unclean_df[imdb_unclean_df['oscar_nominated'] == True]\n",
    "    \n",
    "    nominated_df_vals = nominated_df[[column]]\n",
    "    nominated_unclean_df_vals = nominated_unclean_df[[column]].dropna()\n",
    "    \n",
    "    all_df_vals = imdb_df[[column]]\n",
    "    all_unclean_df_vals = imdb_unclean_df[[column]].dropna()\n",
    "    \n",
    "    # Plotting\n",
    "    fig, axs = plt.subplots(1, 2, figsize=(15,5))\n",
    "    fig.suptitle(\"Distribution of data before and after data cleaning\")\n",
    "    \n",
    "    axs[0].hist(all_unclean_df_vals[column], bins=bins_all, alpha= 0.7, label='unclean_data', color='blue')\n",
    "    axs[0].hist(all_df_vals[column], bins=bins_all, alpha= 0.7, label='cleaned_data', color='orange')\n",
    "    axs[0].set_title(\"For all \" + is_character)\n",
    "    axs[0].set_ylabel(\"Frequency\")\n",
    "    axs[0].legend()\n",
    "    \n",
    "    axs[1].hist(nominated_unclean_df_vals[column], bins=bins_nominated, alpha= 0.7, label='unclean_data', color='blue')\n",
    "    axs[1].hist(nominated_df_vals[column], bins=bins_nominated, alpha= 0.7, label='cleaned_data', color='orange')\n",
    "    axs[1].set_title(\"For nominated \" + is_character)\n",
    "    axs[1].set_ylabel(\"Frequency\")\n",
    "    axs[1].legend()\n",
    "    \n",
    "    plt.show()\n",
    "    \n",
    "    #Aditionally, do the kolmogorov smirnoff test for the distributions before and after \n",
    "    stat, p_value = stats.kstest(all_df_vals[column].values, all_unclean_df_vals[column].values)\n",
    "    print(f\"Kolmogorov-Smirnov test for the {column} distributions before and after data cleaning for all data\")\n",
    "    print(f\"Statistic: {stat} ; p-value: {p_value}\")\n",
    "    print()\n",
    "    stat, p_value = stats.kstest(nominated_df_vals[column].values, nominated_unclean_df_vals[column].values)\n",
    "    print(f\"Kolmogorov-Smirnov test for the {column} distributions before and after data cleaning for nominated data\")\n",
    "    print(f\"Statistic: {stat} ; p-value: {p_value}\")"
   ]
  },
  {
   "cell_type": "markdown",
   "id": "a2e1cf49-63c4-457f-acf2-6c334f132bcb",
   "metadata": {
    "jp-MarkdownHeadingCollapsed": true
   },
   "source": [
    "## Country"
   ]
  },
  {
   "cell_type": "code",
   "execution_count": null,
   "id": "98265555-4b76-4ec6-976e-2964ff57bc52",
   "metadata": {},
   "outputs": [],
   "source": [
    "#Create copies for handling country data\n",
    "country_df = df.copy()\n",
    "country_unclean_df = unclean_df.copy()\n",
    "\n",
    "#Fix apostrophes in countries column\n",
    "country_df['countries'] = df['countries'].apply(lambda row: row.replace(\"'\", '\"')).apply(json.loads)\n",
    "country_unclean_df['countries'] = unclean_df['countries'].apply(lambda row: row.replace(\"'\", '\"')).apply(json.loads)\n",
    "\n",
    "#Extract all countries associated to a given movie\n",
    "country_df = country_df.explode(column='countries').rename(columns={'countries':'country'}).reset_index()\n",
    "country_unclean_df = country_unclean_df.explode(column='countries').rename(columns={'countries':'country'}).reset_index()"
   ]
  },
  {
   "cell_type": "code",
   "execution_count": null,
   "id": "17df47f6-3d78-47e2-8d9f-780c10106c40",
   "metadata": {},
   "outputs": [],
   "source": [
    "display_cleaning_shift_plot(country_df, country_unclean_df, \"country\", ['United States of America', 'United Kingdom'],False, {'United States of America': 'USA', 'United Kingdom' : 'UK'}, rotation = 60)"
   ]
  },
  {
   "cell_type": "code",
   "execution_count": null,
   "id": "1e4f88dd-f5ce-4320-a7cb-5bb4c2c5c8f9",
   "metadata": {},
   "outputs": [],
   "source": [
    "#display_cleaning_shift_plot(country_df, country_unclean_df, \"country\", ['United States of America', 'United Kingdom'],True, {'United States of America': 'USA', 'United Kingdom' : 'UK'})"
   ]
  },
  {
   "cell_type": "markdown",
   "id": "94e3fa99-ef4f-4386-ae69-416464717676",
   "metadata": {},
   "source": [
    "As seen in this plot, cleaning the data has a pretty significant effect on the distribution of data, in terms of the presence of nominated movies. Before cleaning, the number of movies from other countries was comparable to the number of movies from USA. After cleaning this was no longer true.\n",
    "\n",
    "Looking at the nominated movies, the number of nominated movies from other countries or the UK never compared to the number of nominated movies from the US.\n",
    "\n",
    "In conclusion, this means that the data cleaning process targets more the group of movies that are unnominated and from countries other than the US.\n",
    "\n",
    "**Note** for others, if you have made it this far congratulations, it is also interesting to check these plots without the axs[1].set_yscale(\"log\"), as then the change is even more dramatic. Just that the number of \"others\" remaining after is so small that the plot is less readable"
   ]
  },
  {
   "cell_type": "markdown",
   "id": "df2add94-3573-46dd-9c66-ffece2fbbc1c",
   "metadata": {
    "jp-MarkdownHeadingCollapsed": true
   },
   "source": [
    "## Ethnicity"
   ]
  },
  {
   "cell_type": "code",
   "execution_count": null,
   "id": "f66cf588-4cb9-4daf-894c-cbb799b7262e",
   "metadata": {},
   "outputs": [],
   "source": [
    "#reversed_map = {item: key for key, item in ethnicity_map.items()}\n",
    "ethnicity_map = {\n",
    " '/m/0dryh9k': 'Indian',\n",
    " '/m/0x67': 'Black',\n",
    " '/m/041rx': 'Jewish',\n",
    " '/m/02w7gg': 'English',\n",
    " '/m/033tf_': 'Irish_Americans',\n",
    " '/m/0xnvg': 'Italian_Americans',\n",
    " '/m/02ctzb': 'White_people',\n",
    " '/m/07hwkr': 'White_Americans',\n",
    " '/m/07bch9': 'Scottish_Americans',\n",
    " '/m/03bkbh': 'Irish_people',\n",
    " '/m/0d7wh': 'British',\n",
    " '/m/03ts0c': 'French',\n",
    " '/m/0222qb': 'Italians',\n",
    " '/m/01rv7x': 'Tamil'\n",
    "}\n",
    " # '???' : '/m/044038p', Could not find what this "
   ]
  },
  {
   "cell_type": "code",
   "execution_count": null,
   "id": "2bef856a-f9e5-4b5d-ada3-745d7bb403fa",
   "metadata": {},
   "outputs": [],
   "source": [
    "#Create copies for handling ethnicity data\n",
    "ethnicity_df = df.copy()\n",
    "ethnicity_unclean_df = unclean_df.copy()\n",
    "\n",
    "#Map the known map values, \"Other\" if we don't know\n",
    "ethnicity_df['actor_ethnicity'] = ethnicity_df['actor_ethnicity'].map(ethnicity_map).fillna(\"Other\")\n",
    "ethnicity_unclean_df['actor_ethnicity'] = ethnicity_unclean_df['actor_ethnicity'].map(ethnicity_map).fillna(\"Other\")"
   ]
  },
  {
   "cell_type": "code",
   "execution_count": null,
   "id": "d75a9e09-4417-44ae-84f3-211589ed475e",
   "metadata": {},
   "outputs": [],
   "source": [
    "display_cleaning_shift_plot(ethnicity_df, ethnicity_unclean_df, 'actor_ethnicity', rotation = 85)"
   ]
  },
  {
   "cell_type": "markdown",
   "id": "333fed21-056b-47c5-9f64-e6c46ff6fe5a",
   "metadata": {},
   "source": [
    "In is noteworthy, that for both all actors and nominated actors the largest unkiwn group before and after dropping is \"other\".\n",
    "\n",
    "In terms of ethnicity diversity, most nominated movies only suffer a small dropoff of ethnical diversity. \n",
    "However, considering all movies, indian actors which represented the biggest knows ethnicity of actors suffers a big dropoff. There are no known Tamil actors left after dropping the values. A lot of data on French and Italian actors is also lost.\n",
    "\n",
    "In conclusion while the data cleaning generally has a small impact, some ethnicities suffer a lot. This indicates that the data we are using may already be biased against some groups"
   ]
  },
  {
   "cell_type": "markdown",
   "id": "76930a1c-d623-4704-9f63-acd278fa2ed0",
   "metadata": {
    "jp-MarkdownHeadingCollapsed": true
   },
   "source": [
    "## IMDb ratings"
   ]
  },
  {
   "cell_type": "code",
   "execution_count": null,
   "id": "dbdfbd98-0a04-43bf-b8dc-9a7b62d832ca",
   "metadata": {},
   "outputs": [],
   "source": [
    "imdb_df = df.drop_duplicates(subset='movie_identifier', keep='first')\n",
    "imdb_unclean_df = unclean_df.drop_duplicates(subset='movie_identifier', keep='first')\n",
    "\n",
    "display_cleaning_shift_plot_cont(imdb_df, imdb_unclean_df, \"average_rating\", \"movies\", 30, 30)"
   ]
  },
  {
   "cell_type": "markdown",
   "id": "29b0dbcb-d503-4b6d-b69e-4d6f2be7e712",
   "metadata": {},
   "source": [
    "The Kolmogorov-Smirnov indicates that for all the movies dropping the NaN values significantly changed the distributions rating, but for the distribution of ratings for nominated movies it did not. This is in tune with our previous notes that dropping data mostly \"hurts\" the general data but not necessarily the target group we are researching.\n",
    "\n",
    "The distributions being different for all data however do not seem too significant with the eye. The rating distributions for both similarly peak around 7."
   ]
  },
  {
   "cell_type": "markdown",
   "id": "df778567-45e4-4c39-aab0-0146d266ca5a",
   "metadata": {
    "jp-MarkdownHeadingCollapsed": true
   },
   "source": [
    "## Height"
   ]
  },
  {
   "cell_type": "code",
   "execution_count": null,
   "id": "1fe878a5-88d7-4ff5-a0b2-994f60aa6e63",
   "metadata": {},
   "outputs": [],
   "source": [
    "display_cleaning_shift_plot_cont(df, unclean_df, 'actor_height', \"characters\", 15, 15)"
   ]
  },
  {
   "cell_type": "markdown",
   "id": "2f255587-1614-4dd8-b771-d6063d61433a",
   "metadata": {},
   "source": [
    "Again, the Kolmogorov-Smirnov indicates that for all the movies dropping the NaN values significantly changed the distributions rating, but for the distribution of ratings for nominated movies it did not."
   ]
  },
  {
   "cell_type": "markdown",
   "id": "1be5c0b4-85aa-46cc-b205-65facce683c0",
   "metadata": {
    "jp-MarkdownHeadingCollapsed": true
   },
   "source": [
    "## Age"
   ]
  },
  {
   "cell_type": "code",
   "execution_count": null,
   "id": "07fce332-579e-4ee8-ba81-2fb6835c2c64",
   "metadata": {},
   "outputs": [],
   "source": [
    "display_cleaning_shift_plot_cont(df, unclean_df, 'actor_age', \"characters\", 20, 15)"
   ]
  },
  {
   "cell_type": "markdown",
   "id": "261b7902-379e-4e03-bd28-4965d940d44a",
   "metadata": {},
   "source": [
    "Unclean data seems to have negative values, for nominated data the distribution does not change"
   ]
  },
  {
   "cell_type": "markdown",
   "id": "ca57de80-75ee-400a-b39e-7f5c801b726a",
   "metadata": {
    "jp-MarkdownHeadingCollapsed": true
   },
   "source": [
    "## Gender"
   ]
  },
  {
   "cell_type": "code",
   "execution_count": null,
   "id": "73597ea9-f555-461a-b784-72cd47061315",
   "metadata": {},
   "outputs": [],
   "source": [
    "display_cleaning_shift_plot(df, unclean_df, 'actor_gender',['M', 'F'], True, rotation = 0)"
   ]
  },
  {
   "cell_type": "markdown",
   "id": "cfc757cc-4053-463c-93b0-ac7722fae656",
   "metadata": {},
   "source": [
    "The cleaning removes more female actors than male actors. Since the oscar nominations are gendered this will not affect the research too much"
   ]
  },
  {
   "cell_type": "markdown",
   "id": "5b016b04-712c-41ac-9e2d-50d1262b1ab3",
   "metadata": {
    "jp-MarkdownHeadingCollapsed": true
   },
   "source": [
    "## Year"
   ]
  },
  {
   "cell_type": "code",
   "execution_count": null,
   "id": "abe48402-ec10-4b39-9b77-49f0bce6c2f1",
   "metadata": {},
   "outputs": [],
   "source": [
    "#To count each movie only once\n",
    "year_df = df.drop_duplicates(subset='movie_identifier', keep='first')\n",
    "year_unclean_df = unclean_df.drop_duplicates(subset='movie_identifier', keep='first')\n",
    "\n",
    "display_cleaning_shift_plot_cont(year_df, year_unclean_df, 'year', \"movies\", 15, 10)"
   ]
  },
  {
   "cell_type": "markdown",
   "id": "1fa3bd5e-6fcc-4ec9-90e5-e6acee590f33",
   "metadata": {},
   "source": [
    "Removing NaNs alters the distribution of year values for both all the data and nominated data significantly"
   ]
  },
  {
   "cell_type": "markdown",
   "id": "cad1367a-f0d6-4b2a-8e10-a8f08bebb58f",
   "metadata": {},
   "source": [
    "## Genres"
   ]
  },
  {
   "cell_type": "code",
   "execution_count": null,
   "id": "984f36a1-997b-4980-90b8-1e895dd215c9",
   "metadata": {},
   "outputs": [],
   "source": [
    "#Create copies for handling country data\n",
    "genres_df = df.copy()\n",
    "genres_unclean_df = unclean_df.copy()\n",
    "\n",
    "#Fix apostrophes in countries column\n",
    "genres_df['genres'] = df['genres'].apply(lambda row: row.replace(\"'\", '\"')).apply(json.loads)\n",
    "genres_unclean_df['genres'] = unclean_df['genres'].apply(lambda row: row.replace(\"'\", '\"')).apply(json.loads)\n",
    "\n",
    "#Extract all countries associated to a given movie\n",
    "genres_df = genres_df.explode(column='genres').rename(columns={'genres':'genre'}).reset_index()\n",
    "genres_unclean_df = genres_unclean_df.explode(column='genres').rename(columns={'genres':'genre'}).reset_index()\n",
    "\n",
    "#As there appear some movies with genre \",\" which is not valid, drop those rows\n",
    "genres_df = genres_df[genres_df['genre'].str.strip() != \",\"]\n",
    "genres_unclean_df = genres_unclean_df[genres_unclean_df['genre'].str.strip() != \",\"]"
   ]
  },
  {
   "cell_type": "code",
   "execution_count": null,
   "id": "26f1e23f-3cdb-457b-8238-c8141d6302fb",
   "metadata": {},
   "outputs": [],
   "source": [
    "#Print the most popular genres to plot only them\n",
    "genres_df['genre'].value_counts()[:10].index"
   ]
  },
  {
   "cell_type": "code",
   "execution_count": null,
   "id": "dc976cc2-af74-44ba-ac32-3dcb4ca761db",
   "metadata": {},
   "outputs": [],
   "source": [
    "display_cleaning_shift_plot(genres_df, genres_unclean_df, \"genre\", \n",
    "        ['Drama', 'Comedy', 'Thriller', 'Action', 'Romance Film', 'Crime Fiction', 'Adventure', 'Romantic comedy', 'Family Film','Indie'],False, rotation = 70)"
   ]
  },
  {
   "cell_type": "code",
   "execution_count": null,
   "id": "06b85eb1-af8f-402b-be2e-253d4b9a1b3d",
   "metadata": {},
   "outputs": [],
   "source": []
  }
 ],
 "metadata": {
  "kernelspec": {
   "display_name": "Python 3 (ipykernel)",
   "language": "python",
   "name": "python3"
  },
  "language_info": {
   "codemirror_mode": {
    "name": "ipython",
    "version": 3
   },
   "file_extension": ".py",
   "mimetype": "text/x-python",
   "name": "python",
   "nbconvert_exporter": "python",
   "pygments_lexer": "ipython3",
   "version": "3.12.4"
  }
 },
 "nbformat": 4,
 "nbformat_minor": 5
}
