{
 "cells": [
  {
   "cell_type": "code",
   "execution_count": 2,
   "id": "initial_id",
   "metadata": {
    "collapsed": true
   },
   "outputs": [],
   "source": [
    "import pandas as pd"
   ]
  },
  {
   "cell_type": "markdown",
   "id": "a477ebbabb542e1f",
   "metadata": {},
   "source": [
    "Form a graph with people as nodes with edges between them if they have starred in the same movie. Search for some correlation between how well connected people are and the kind of movies they have performed in / the type of role they have etc.\n",
    "Once such hypotheses have been formed, test them in a similar graph in the imdb movie dataset to see if they hold there as well. \n",
    "\n",
    "Test the hypothesis that an uncommon combination of genres means a somewhat extreme box office collection - either low or high\n",
    "\n",
    "\n",
    "\n",
    "Is benford's law scale invariant?"
   ]
  },
  {
   "cell_type": "code",
   "execution_count": 22,
   "id": "ae8c2335af72bc67",
   "metadata": {},
   "outputs": [],
   "source": [
    "movie_df = pd.read_csv('data/movie.metadata.tsv', sep='\\t', names=['wiki_movie_id', 'freebase_movie_id', 'title', 'release_date', 'box_office_revenue', 'runtime', 'languages', 'countries', 'genres'], index_col='freebase_movie_id')\n",
    "movie_df = movie_df.reset_index()"
   ]
  },
  {
   "cell_type": "code",
   "execution_count": null,
   "id": "79071b62",
   "metadata": {},
   "outputs": [
    {
     "data": {
      "text/html": [
       "<div>\n",
       "<style scoped>\n",
       "    .dataframe tbody tr th:only-of-type {\n",
       "        vertical-align: middle;\n",
       "    }\n",
       "\n",
       "    .dataframe tbody tr th {\n",
       "        vertical-align: top;\n",
       "    }\n",
       "\n",
       "    .dataframe thead th {\n",
       "        text-align: right;\n",
       "    }\n",
       "</style>\n",
       "<table border=\"1\" class=\"dataframe\">\n",
       "  <thead>\n",
       "    <tr style=\"text-align: right;\">\n",
       "      <th></th>\n",
       "      <th>count</th>\n",
       "    </tr>\n",
       "    <tr>\n",
       "      <th>freebase_movie_id</th>\n",
       "      <th></th>\n",
       "    </tr>\n",
       "  </thead>\n",
       "  <tbody>\n",
       "    <tr>\n",
       "      <th>/m/011_mj</th>\n",
       "      <td>1</td>\n",
       "    </tr>\n",
       "    <tr>\n",
       "      <th>/m/0bwg_bz</th>\n",
       "      <td>1</td>\n",
       "    </tr>\n",
       "    <tr>\n",
       "      <th>/m/0bwgk61</th>\n",
       "      <td>1</td>\n",
       "    </tr>\n",
       "    <tr>\n",
       "      <th>/m/0bwgjgq</th>\n",
       "      <td>1</td>\n",
       "    </tr>\n",
       "    <tr>\n",
       "      <th>/m/0bwghsn</th>\n",
       "      <td>1</td>\n",
       "    </tr>\n",
       "    <tr>\n",
       "      <th>...</th>\n",
       "      <td>...</td>\n",
       "    </tr>\n",
       "    <tr>\n",
       "      <th>/m/04n51dq</th>\n",
       "      <td>1</td>\n",
       "    </tr>\n",
       "    <tr>\n",
       "      <th>/m/04n5187</th>\n",
       "      <td>1</td>\n",
       "    </tr>\n",
       "    <tr>\n",
       "      <th>/m/04n514t</th>\n",
       "      <td>1</td>\n",
       "    </tr>\n",
       "    <tr>\n",
       "      <th>/m/04n50x6</th>\n",
       "      <td>1</td>\n",
       "    </tr>\n",
       "    <tr>\n",
       "      <th>/m/0yzvw</th>\n",
       "      <td>1</td>\n",
       "    </tr>\n",
       "  </tbody>\n",
       "</table>\n",
       "<p>81741 rows × 1 columns</p>\n",
       "</div>"
      ],
      "text/plain": [
       "                   count\n",
       "freebase_movie_id       \n",
       "/m/011_mj              1\n",
       "/m/0bwg_bz             1\n",
       "/m/0bwgk61             1\n",
       "/m/0bwgjgq             1\n",
       "/m/0bwghsn             1\n",
       "...                  ...\n",
       "/m/04n51dq             1\n",
       "/m/04n5187             1\n",
       "/m/04n514t             1\n",
       "/m/04n50x6             1\n",
       "/m/0yzvw               1\n",
       "\n",
       "[81741 rows x 1 columns]"
      ]
     },
     "execution_count": 23,
     "metadata": {},
     "output_type": "execute_result"
    }
   ],
   "source": [
    "# No duplicates of freebase_movie_id\n",
    "movie_df.groupby('freebase_movie_id').agg(count = ('freebase_movie_id', 'size')).sort_values('count', ascending=False)"
   ]
  },
  {
   "cell_type": "code",
   "execution_count": 24,
   "id": "1fdb1d7dad1c8cfc",
   "metadata": {},
   "outputs": [
    {
     "data": {
      "text/plain": [
       "Index(['wiki_movie_id', 'freebase_movie_id', 'movie_release_date',\n",
       "       'character_name', 'actor_date_of_birth', 'Actor gender',\n",
       "       'Actor height (in meters)', 'Actor ethnicity (Freebase ID)',\n",
       "       'Actor name', 'Actor age at movie release',\n",
       "       'Freebase character/actor map ID', 'Freebase actor ID'],\n",
       "      dtype='object')"
      ]
     },
     "execution_count": 24,
     "metadata": {},
     "output_type": "execute_result"
    }
   ],
   "source": [
    "col_names = [\"wiki_movie_id\", \"freebase_movie_id\", \"movie_release_date\", \"character_name\", \"actor_date_of_birth\", \"Actor gender\", \"Actor height (in meters)\", \"Actor ethnicity (Freebase ID)\", \"Actor name\", \"Actor age at movie release\", \"Freebase character/actor map ID\", \"Freebase character ID\", \"Freebase actor ID\"]\n",
    "character_df = pd.read_csv('data/character.metadata.tsv', sep='\\t', names=col_names, index_col=\"Freebase character ID\")\n",
    "character_df.columns"
   ]
  },
  {
   "cell_type": "code",
   "execution_count": null,
   "id": "f967bb59",
   "metadata": {},
   "outputs": [],
   "source": [
    "character_df[]"
   ]
  },
  {
   "cell_type": "code",
   "execution_count": 7,
   "id": "a224f6c5",
   "metadata": {},
   "outputs": [
    {
     "data": {
      "text/plain": [
       "Index(['freebase_movie_id', 'wiki_movie_id_x', 'title', 'release_date',\n",
       "       'box_office_revenue', 'runtime', 'languages', 'countries', 'genres',\n",
       "       'wiki_movie_id_y', 'movie_release_date', 'character_name',\n",
       "       'actor_date_of_birth', 'Actor gender', 'Actor height (in meters)',\n",
       "       'Actor ethnicity (Freebase ID)', 'Actor name',\n",
       "       'Actor age at movie release', 'Freebase character/actor map ID',\n",
       "       'Freebase actor ID'],\n",
       "      dtype='object')"
      ]
     },
     "execution_count": 7,
     "metadata": {},
     "output_type": "execute_result"
    }
   ],
   "source": [
    "movie_character_df = movie_df.merge(character_df, on='freebase_movie_id', how='inner')\n",
    "movie_character_df.columns"
   ]
  },
  {
   "cell_type": "code",
   "execution_count": null,
   "id": "7dbe3d59",
   "metadata": {},
   "outputs": [
    {
     "data": {
      "text/html": [
       "<div>\n",
       "<style scoped>\n",
       "    .dataframe tbody tr th:only-of-type {\n",
       "        vertical-align: middle;\n",
       "    }\n",
       "\n",
       "    .dataframe tbody tr th {\n",
       "        vertical-align: top;\n",
       "    }\n",
       "\n",
       "    .dataframe thead th {\n",
       "        text-align: right;\n",
       "    }\n",
       "</style>\n",
       "<table border=\"1\" class=\"dataframe\">\n",
       "  <thead>\n",
       "    <tr style=\"text-align: right;\">\n",
       "      <th></th>\n",
       "      <th></th>\n",
       "      <th></th>\n",
       "      <th>count</th>\n",
       "    </tr>\n",
       "    <tr>\n",
       "      <th>Actor name</th>\n",
       "      <th>title</th>\n",
       "      <th>character_name</th>\n",
       "      <th></th>\n",
       "    </tr>\n",
       "  </thead>\n",
       "  <tbody>\n",
       "    <tr>\n",
       "      <th>Olivia Thirlby</th>\n",
       "      <th>The Other Side</th>\n",
       "      <th>Max Mackenzie</th>\n",
       "      <td>3</td>\n",
       "    </tr>\n",
       "    <tr>\n",
       "      <th>Rose McGowan</th>\n",
       "      <th>Dead Awake</th>\n",
       "      <th>Charlie</th>\n",
       "      <td>3</td>\n",
       "    </tr>\n",
       "    <tr>\n",
       "      <th>Aryeman Ramsay</th>\n",
       "      <th>Good Luck!</th>\n",
       "      <th>Vicky Varma</th>\n",
       "      <td>3</td>\n",
       "    </tr>\n",
       "    <tr>\n",
       "      <th>Ayub Khan</th>\n",
       "      <th>The Death Sentence</th>\n",
       "      <th>Vinay Singh</th>\n",
       "      <td>3</td>\n",
       "    </tr>\n",
       "    <tr>\n",
       "      <th>Aryeman Ramsay</th>\n",
       "      <th>Ek Aadat</th>\n",
       "      <th>Armaan</th>\n",
       "      <td>3</td>\n",
       "    </tr>\n",
       "    <tr>\n",
       "      <th>...</th>\n",
       "      <th>...</th>\n",
       "      <th>...</th>\n",
       "      <td>...</td>\n",
       "    </tr>\n",
       "    <tr>\n",
       "      <th>Gy Mirano</th>\n",
       "      <th>Call Me</th>\n",
       "      <th>Waitress</th>\n",
       "      <td>1</td>\n",
       "    </tr>\n",
       "    <tr>\n",
       "      <th>Gyalsen Gurung</th>\n",
       "      <th>Himalaya</th>\n",
       "      <th>Chewan</th>\n",
       "      <td>1</td>\n",
       "    </tr>\n",
       "    <tr>\n",
       "      <th>Gyanesh Mukherjee</th>\n",
       "      <th>Target</th>\n",
       "      <th>Rampear</th>\n",
       "      <td>1</td>\n",
       "    </tr>\n",
       "    <tr>\n",
       "      <th>Gyatso Lukhang</th>\n",
       "      <th>Kundun</th>\n",
       "      <th>Lord Chamberlain</th>\n",
       "      <td>1</td>\n",
       "    </tr>\n",
       "    <tr>\n",
       "      <th>高田由美</th>\n",
       "      <th>Tenchi Muyo! Daughter of Darkness</th>\n",
       "      <th>Ayeka</th>\n",
       "      <td>1</td>\n",
       "    </tr>\n",
       "  </tbody>\n",
       "</table>\n",
       "<p>191960 rows × 1 columns</p>\n",
       "</div>"
      ],
      "text/plain": [
       "                                                                      count\n",
       "Actor name        title                             character_name         \n",
       "Olivia Thirlby    The Other Side                    Max Mackenzie         3\n",
       "Rose McGowan      Dead Awake                        Charlie               3\n",
       "Aryeman Ramsay    Good Luck!                        Vicky Varma           3\n",
       "Ayub Khan         The Death Sentence                Vinay Singh           3\n",
       "Aryeman Ramsay    Ek Aadat                          Armaan                3\n",
       "...                                                                     ...\n",
       "Gy Mirano         Call Me                           Waitress              1\n",
       "Gyalsen Gurung    Himalaya                          Chewan                1\n",
       "Gyanesh Mukherjee Target                            Rampear               1\n",
       "Gyatso Lukhang    Kundun                            Lord Chamberlain      1\n",
       "高田由美              Tenchi Muyo! Daughter of Darkness Ayeka                 1\n",
       "\n",
       "[191960 rows x 1 columns]"
      ]
     },
     "execution_count": 14,
     "metadata": {},
     "output_type": "execute_result"
    }
   ],
   "source": [
    "# Investigating if Actor name and title uniquely identifies a row.\n",
    "# Realizing maybe duplicate rows!\n",
    "temp = movie_character_df.groupby(['Actor name', 'title', 'character_name']).agg(count = ('Actor name', 'size'))\n",
    "temp.sort_values('count', ascending=False)"
   ]
  },
  {
   "cell_type": "code",
   "execution_count": null,
   "id": "430475c4",
   "metadata": {},
   "outputs": [
    {
     "data": {
      "text/html": [
       "<div>\n",
       "<style scoped>\n",
       "    .dataframe tbody tr th:only-of-type {\n",
       "        vertical-align: middle;\n",
       "    }\n",
       "\n",
       "    .dataframe tbody tr th {\n",
       "        vertical-align: top;\n",
       "    }\n",
       "\n",
       "    .dataframe thead th {\n",
       "        text-align: right;\n",
       "    }\n",
       "</style>\n",
       "<table border=\"1\" class=\"dataframe\">\n",
       "  <thead>\n",
       "    <tr style=\"text-align: right;\">\n",
       "      <th></th>\n",
       "      <th>freebase_movie_id</th>\n",
       "      <th>wiki_movie_id_x</th>\n",
       "      <th>title</th>\n",
       "      <th>release_date</th>\n",
       "      <th>box_office_revenue</th>\n",
       "      <th>runtime</th>\n",
       "      <th>languages</th>\n",
       "      <th>countries</th>\n",
       "      <th>genres</th>\n",
       "      <th>wiki_movie_id_y</th>\n",
       "      <th>movie_release_date</th>\n",
       "      <th>character_name</th>\n",
       "      <th>actor_date_of_birth</th>\n",
       "      <th>Actor gender</th>\n",
       "      <th>Actor height (in meters)</th>\n",
       "      <th>Actor ethnicity (Freebase ID)</th>\n",
       "      <th>Actor name</th>\n",
       "      <th>Actor age at movie release</th>\n",
       "      <th>Freebase character/actor map ID</th>\n",
       "      <th>Freebase actor ID</th>\n",
       "    </tr>\n",
       "  </thead>\n",
       "  <tbody>\n",
       "    <tr>\n",
       "      <th>30260</th>\n",
       "      <td>/m/09gknmp</td>\n",
       "      <td>24904539</td>\n",
       "      <td>The Other Side</td>\n",
       "      <td>2012</td>\n",
       "      <td>NaN</td>\n",
       "      <td>NaN</td>\n",
       "      <td>{\"/m/02h40lc\": \"English Language\"}</td>\n",
       "      <td>{\"/m/09c7w0\": \"United States of America\", \"/m/...</td>\n",
       "      <td>{\"/m/07s9rl0\": \"Drama\", \"/m/02n4kr\": \"Mystery\"...</td>\n",
       "      <td>24904539</td>\n",
       "      <td>2012</td>\n",
       "      <td>Max Mackenzie</td>\n",
       "      <td>1986-10-06</td>\n",
       "      <td>F</td>\n",
       "      <td>1.626</td>\n",
       "      <td>NaN</td>\n",
       "      <td>Olivia Thirlby</td>\n",
       "      <td>25.0</td>\n",
       "      <td>/m/0h5qn1c</td>\n",
       "      <td>/m/025yjfc</td>\n",
       "    </tr>\n",
       "    <tr>\n",
       "      <th>30271</th>\n",
       "      <td>/m/09gknmp</td>\n",
       "      <td>24904539</td>\n",
       "      <td>The Other Side</td>\n",
       "      <td>2012</td>\n",
       "      <td>NaN</td>\n",
       "      <td>NaN</td>\n",
       "      <td>{\"/m/02h40lc\": \"English Language\"}</td>\n",
       "      <td>{\"/m/09c7w0\": \"United States of America\", \"/m/...</td>\n",
       "      <td>{\"/m/07s9rl0\": \"Drama\", \"/m/02n4kr\": \"Mystery\"...</td>\n",
       "      <td>24904539</td>\n",
       "      <td>2012</td>\n",
       "      <td>Max Mackenzie</td>\n",
       "      <td>1986-10-06</td>\n",
       "      <td>F</td>\n",
       "      <td>1.626</td>\n",
       "      <td>NaN</td>\n",
       "      <td>Olivia Thirlby</td>\n",
       "      <td>25.0</td>\n",
       "      <td>/m/0chbfb2</td>\n",
       "      <td>/m/025yjfc</td>\n",
       "    </tr>\n",
       "    <tr>\n",
       "      <th>30273</th>\n",
       "      <td>/m/09gknmp</td>\n",
       "      <td>24904539</td>\n",
       "      <td>The Other Side</td>\n",
       "      <td>2012</td>\n",
       "      <td>NaN</td>\n",
       "      <td>NaN</td>\n",
       "      <td>{\"/m/02h40lc\": \"English Language\"}</td>\n",
       "      <td>{\"/m/09c7w0\": \"United States of America\", \"/m/...</td>\n",
       "      <td>{\"/m/07s9rl0\": \"Drama\", \"/m/02n4kr\": \"Mystery\"...</td>\n",
       "      <td>24904539</td>\n",
       "      <td>2012</td>\n",
       "      <td>Max Mackenzie</td>\n",
       "      <td>1986-10-06</td>\n",
       "      <td>F</td>\n",
       "      <td>1.626</td>\n",
       "      <td>NaN</td>\n",
       "      <td>Olivia Thirlby</td>\n",
       "      <td>25.0</td>\n",
       "      <td>/m/0h38m4x</td>\n",
       "      <td>/m/025yjfc</td>\n",
       "    </tr>\n",
       "  </tbody>\n",
       "</table>\n",
       "</div>"
      ],
      "text/plain": [
       "      freebase_movie_id  wiki_movie_id_x           title release_date  \\\n",
       "30260        /m/09gknmp         24904539  The Other Side         2012   \n",
       "30271        /m/09gknmp         24904539  The Other Side         2012   \n",
       "30273        /m/09gknmp         24904539  The Other Side         2012   \n",
       "\n",
       "       box_office_revenue  runtime                           languages  \\\n",
       "30260                 NaN      NaN  {\"/m/02h40lc\": \"English Language\"}   \n",
       "30271                 NaN      NaN  {\"/m/02h40lc\": \"English Language\"}   \n",
       "30273                 NaN      NaN  {\"/m/02h40lc\": \"English Language\"}   \n",
       "\n",
       "                                               countries  \\\n",
       "30260  {\"/m/09c7w0\": \"United States of America\", \"/m/...   \n",
       "30271  {\"/m/09c7w0\": \"United States of America\", \"/m/...   \n",
       "30273  {\"/m/09c7w0\": \"United States of America\", \"/m/...   \n",
       "\n",
       "                                                  genres  wiki_movie_id_y  \\\n",
       "30260  {\"/m/07s9rl0\": \"Drama\", \"/m/02n4kr\": \"Mystery\"...         24904539   \n",
       "30271  {\"/m/07s9rl0\": \"Drama\", \"/m/02n4kr\": \"Mystery\"...         24904539   \n",
       "30273  {\"/m/07s9rl0\": \"Drama\", \"/m/02n4kr\": \"Mystery\"...         24904539   \n",
       "\n",
       "      movie_release_date character_name actor_date_of_birth Actor gender  \\\n",
       "30260               2012  Max Mackenzie          1986-10-06            F   \n",
       "30271               2012  Max Mackenzie          1986-10-06            F   \n",
       "30273               2012  Max Mackenzie          1986-10-06            F   \n",
       "\n",
       "       Actor height (in meters) Actor ethnicity (Freebase ID)      Actor name  \\\n",
       "30260                     1.626                           NaN  Olivia Thirlby   \n",
       "30271                     1.626                           NaN  Olivia Thirlby   \n",
       "30273                     1.626                           NaN  Olivia Thirlby   \n",
       "\n",
       "       Actor age at movie release Freebase character/actor map ID  \\\n",
       "30260                        25.0                      /m/0h5qn1c   \n",
       "30271                        25.0                      /m/0chbfb2   \n",
       "30273                        25.0                      /m/0h38m4x   \n",
       "\n",
       "      Freebase actor ID  \n",
       "30260        /m/025yjfc  \n",
       "30271        /m/025yjfc  \n",
       "30273        /m/025yjfc  "
      ]
     },
     "execution_count": 17,
     "metadata": {},
     "output_type": "execute_result"
    }
   ],
   "source": [
    "# Duplicates in the dataset\n",
    "movie_character_df[\n",
    "    (movie_character_df['Actor name'] == 'Olivia Thirlby') & \n",
    "    (movie_character_df['title'] == 'The Other Side') & \n",
    "    (movie_character_df['character_name']== 'Max Mackenzie')]"
   ]
  },
  {
   "cell_type": "code",
   "execution_count": 18,
   "id": "fc2076ae",
   "metadata": {},
   "outputs": [
    {
     "data": {
      "text/plain": [
       "30260    {\"/m/09c7w0\": \"United States of America\", \"/m/...\n",
       "30271    {\"/m/09c7w0\": \"United States of America\", \"/m/...\n",
       "30273    {\"/m/09c7w0\": \"United States of America\", \"/m/...\n",
       "Name: countries, dtype: object"
      ]
     },
     "execution_count": 18,
     "metadata": {},
     "output_type": "execute_result"
    }
   ],
   "source": [
    "movie_character_df[\n",
    "    (movie_character_df['Actor name'] == 'Olivia Thirlby') & \n",
    "    (movie_character_df['title'] == 'The Other Side') & \n",
    "    (movie_character_df['character_name']== 'Max Mackenzie')]['countries']"
   ]
  },
  {
   "cell_type": "code",
   "execution_count": 56,
   "id": "cff3f08dbb5e5b83",
   "metadata": {},
   "outputs": [],
   "source": [
    "oscar_df = pd.read_csv('data/the_oscar_award.csv')\n",
    "oscar_df = oscar_df[oscar_df['film'].notna() & oscar_df['name'].notna()]"
   ]
  },
  {
   "cell_type": "code",
   "execution_count": 57,
   "id": "191e868f",
   "metadata": {},
   "outputs": [],
   "source": [
    "# Filtering relevant Oscar catagories\n",
    "# TODO: explain why we drop certain categories.\n",
    "oscar_df = oscar_df[oscar_df['category'].str.contains('ACTOR') | oscar_df['category'].str.contains('ACTRESS')]"
   ]
  },
  {
   "cell_type": "markdown",
   "id": "6d82f1f9cfe7e597",
   "metadata": {},
   "source": [
    "This join needs to be checked. \n",
    "Joining with ignore case? \n",
    "Do we want to do a right join? (so also keep movies that did not win oscars)\n"
   ]
  },
  {
   "cell_type": "code",
   "execution_count": 58,
   "id": "6457f1f3",
   "metadata": {},
   "outputs": [],
   "source": [
    "# Avoid case-sensitivity and extra spaces\n",
    "oscar_df['film_title_parsed'] = oscar_df['film'].str.lower().str.strip()\n",
    "oscar_df['name_parsed'] = oscar_df['name'].str.lower().str.strip()\n",
    "\n",
    "movie_character_df['film_title_parsed'] = movie_character_df['title'].str.lower().str.strip()\n",
    "movie_character_df['name_parsed'] = movie_character_df['Actor name'].str.lower().str.strip()"
   ]
  },
  {
   "cell_type": "code",
   "execution_count": 59,
   "id": "31be4bd0",
   "metadata": {},
   "outputs": [],
   "source": [
    "oscar_character_movie_df = movie_character_df.merge(oscar_df, on=['film_title_parsed', 'name_parsed'], how='inner')"
   ]
  }
 ],
 "metadata": {
  "kernelspec": {
   "display_name": "ada",
   "language": "python",
   "name": "ada"
  },
  "language_info": {
   "codemirror_mode": {
    "name": "ipython",
    "version": 3
   },
   "file_extension": ".py",
   "mimetype": "text/x-python",
   "name": "python",
   "nbconvert_exporter": "python",
   "pygments_lexer": "ipython3",
   "version": "3.12.6"
  }
 },
 "nbformat": 4,
 "nbformat_minor": 5
}
