{
 "cells": [
  {
   "cell_type": "code",
   "execution_count": 34,
   "metadata": {},
   "outputs": [],
   "source": [
    "import matplotlib.pyplot as plt\n",
    "import numpy as np\n",
    "import pandas as pd\n",
    "import seaborn as sns\n",
    "import statsmodels.formula.api as smf\n",
    "from scipy import stats\n",
    "from scipy.stats import pearsonr\n",
    "\n",
    "from helpers.nationality import *"
   ]
  },
  {
   "cell_type": "markdown",
   "metadata": {},
   "source": [
    "# Initial analysis: How does nationality relate to Oscar nominations?"
   ]
  },
  {
   "cell_type": "code",
   "execution_count": 35,
   "metadata": {},
   "outputs": [],
   "source": [
    "movie_df = pd.read_csv('cache/data.csv', sep=',', index_col=0)"
   ]
  },
  {
   "cell_type": "code",
   "execution_count": 49,
   "metadata": {},
   "outputs": [
    {
     "data": {
      "text/html": [
       "<div>\n",
       "<style scoped>\n",
       "    .dataframe tbody tr th:only-of-type {\n",
       "        vertical-align: middle;\n",
       "    }\n",
       "\n",
       "    .dataframe tbody tr th {\n",
       "        vertical-align: top;\n",
       "    }\n",
       "\n",
       "    .dataframe thead th {\n",
       "        text-align: right;\n",
       "    }\n",
       "</style>\n",
       "<table border=\"1\" class=\"dataframe\">\n",
       "  <thead>\n",
       "    <tr style=\"text-align: right;\">\n",
       "      <th></th>\n",
       "      <th>title</th>\n",
       "      <th>box_office_revenue</th>\n",
       "      <th>runtime</th>\n",
       "      <th>languages</th>\n",
       "      <th>countries</th>\n",
       "      <th>genres</th>\n",
       "      <th>movie_identifier</th>\n",
       "      <th>actor_gender</th>\n",
       "      <th>actor_height</th>\n",
       "      <th>actor_ethnicity</th>\n",
       "      <th>actor_age</th>\n",
       "      <th>parsed_actor_name</th>\n",
       "      <th>actor_identifier</th>\n",
       "      <th>identifier</th>\n",
       "      <th>category</th>\n",
       "      <th>winner</th>\n",
       "      <th>oscar_nominated</th>\n",
       "      <th>year</th>\n",
       "      <th>average_rating</th>\n",
       "      <th>number_of_votes</th>\n",
       "    </tr>\n",
       "  </thead>\n",
       "  <tbody>\n",
       "    <tr>\n",
       "      <th>0</th>\n",
       "      <td>Ghosts of Mars</td>\n",
       "      <td>14010832</td>\n",
       "      <td>98</td>\n",
       "      <td>['English Language']</td>\n",
       "      <td>['United States of America']</td>\n",
       "      <td>['Thriller', 'Science Fiction', 'Horror', 'Adv...</td>\n",
       "      <td>ghosts of mars_2001</td>\n",
       "      <td>M</td>\n",
       "      <td>1.727</td>\n",
       "      <td>/m/0x67</td>\n",
       "      <td>32</td>\n",
       "      <td>ice cube</td>\n",
       "      <td>/m/01vw26l</td>\n",
       "      <td>ghosts of mars_2001_ice cube</td>\n",
       "      <td>NaN</td>\n",
       "      <td>NaN</td>\n",
       "      <td>False</td>\n",
       "      <td>2001</td>\n",
       "      <td>4.9</td>\n",
       "      <td>58876</td>\n",
       "    </tr>\n",
       "    <tr>\n",
       "      <th>4</th>\n",
       "      <td>Ghosts of Mars</td>\n",
       "      <td>14010832</td>\n",
       "      <td>98</td>\n",
       "      <td>['English Language']</td>\n",
       "      <td>['United States of America']</td>\n",
       "      <td>['Thriller', 'Science Fiction', 'Horror', 'Adv...</td>\n",
       "      <td>ghosts of mars_2001</td>\n",
       "      <td>F</td>\n",
       "      <td>1.780</td>\n",
       "      <td>/m/044038p</td>\n",
       "      <td>27</td>\n",
       "      <td>natasha henstridge</td>\n",
       "      <td>/m/0346l4</td>\n",
       "      <td>ghosts of mars_2001_natasha henstridge</td>\n",
       "      <td>NaN</td>\n",
       "      <td>NaN</td>\n",
       "      <td>False</td>\n",
       "      <td>2001</td>\n",
       "      <td>4.9</td>\n",
       "      <td>58876</td>\n",
       "    </tr>\n",
       "    <tr>\n",
       "      <th>11</th>\n",
       "      <td>Ghosts of Mars</td>\n",
       "      <td>14010832</td>\n",
       "      <td>98</td>\n",
       "      <td>['English Language']</td>\n",
       "      <td>['United States of America']</td>\n",
       "      <td>['Thriller', 'Science Fiction', 'Horror', 'Adv...</td>\n",
       "      <td>ghosts of mars_2001</td>\n",
       "      <td>F</td>\n",
       "      <td>1.727</td>\n",
       "      <td>/m/0x67</td>\n",
       "      <td>52</td>\n",
       "      <td>pam grier</td>\n",
       "      <td>/m/0418ft</td>\n",
       "      <td>ghosts of mars_2001_pam grier</td>\n",
       "      <td>NaN</td>\n",
       "      <td>NaN</td>\n",
       "      <td>False</td>\n",
       "      <td>2001</td>\n",
       "      <td>4.9</td>\n",
       "      <td>58876</td>\n",
       "    </tr>\n",
       "    <tr>\n",
       "      <th>51</th>\n",
       "      <td>Alexander's Ragtime Band</td>\n",
       "      <td>3600000</td>\n",
       "      <td>106</td>\n",
       "      <td>['English Language']</td>\n",
       "      <td>['United States of America']</td>\n",
       "      <td>['Musical', 'Comedy']</td>\n",
       "      <td>alexanders ragtime band_1938</td>\n",
       "      <td>M</td>\n",
       "      <td>1.820</td>\n",
       "      <td>/m/06v41q</td>\n",
       "      <td>24</td>\n",
       "      <td>tyrone power</td>\n",
       "      <td>/m/02s58t</td>\n",
       "      <td>alexanders ragtime band_1938_tyrone power</td>\n",
       "      <td>NaN</td>\n",
       "      <td>NaN</td>\n",
       "      <td>False</td>\n",
       "      <td>1938</td>\n",
       "      <td>6.8</td>\n",
       "      <td>2357</td>\n",
       "    </tr>\n",
       "    <tr>\n",
       "      <th>52</th>\n",
       "      <td>Alexander's Ragtime Band</td>\n",
       "      <td>3600000</td>\n",
       "      <td>106</td>\n",
       "      <td>['English Language']</td>\n",
       "      <td>['United States of America']</td>\n",
       "      <td>['Musical', 'Comedy']</td>\n",
       "      <td>alexanders ragtime band_1938</td>\n",
       "      <td>F</td>\n",
       "      <td>1.650</td>\n",
       "      <td>/m/033tf_</td>\n",
       "      <td>23</td>\n",
       "      <td>alice faye</td>\n",
       "      <td>/m/032xfz</td>\n",
       "      <td>alexanders ragtime band_1938_alice faye</td>\n",
       "      <td>NaN</td>\n",
       "      <td>NaN</td>\n",
       "      <td>False</td>\n",
       "      <td>1938</td>\n",
       "      <td>6.8</td>\n",
       "      <td>2357</td>\n",
       "    </tr>\n",
       "    <tr>\n",
       "      <th>...</th>\n",
       "      <td>...</td>\n",
       "      <td>...</td>\n",
       "      <td>...</td>\n",
       "      <td>...</td>\n",
       "      <td>...</td>\n",
       "      <td>...</td>\n",
       "      <td>...</td>\n",
       "      <td>...</td>\n",
       "      <td>...</td>\n",
       "      <td>...</td>\n",
       "      <td>...</td>\n",
       "      <td>...</td>\n",
       "      <td>...</td>\n",
       "      <td>...</td>\n",
       "      <td>...</td>\n",
       "      <td>...</td>\n",
       "      <td>...</td>\n",
       "      <td>...</td>\n",
       "      <td>...</td>\n",
       "      <td>...</td>\n",
       "    </tr>\n",
       "    <tr>\n",
       "      <th>443407</th>\n",
       "      <td>State and Main</td>\n",
       "      <td>6944471</td>\n",
       "      <td>106</td>\n",
       "      <td>['Italian Language', 'English Language']</td>\n",
       "      <td>['France', 'United States of America']</td>\n",
       "      <td>['Parody', 'Americana', 'Comedy']</td>\n",
       "      <td>state and main_2000</td>\n",
       "      <td>M</td>\n",
       "      <td>1.770</td>\n",
       "      <td>/m/033tf_</td>\n",
       "      <td>33</td>\n",
       "      <td>philip seymour hoffman</td>\n",
       "      <td>/m/02qgqt</td>\n",
       "      <td>state and main_2000_philip seymour hoffman</td>\n",
       "      <td>NaN</td>\n",
       "      <td>NaN</td>\n",
       "      <td>False</td>\n",
       "      <td>2000</td>\n",
       "      <td>6.7</td>\n",
       "      <td>22784</td>\n",
       "    </tr>\n",
       "    <tr>\n",
       "      <th>443408</th>\n",
       "      <td>State and Main</td>\n",
       "      <td>6944471</td>\n",
       "      <td>106</td>\n",
       "      <td>['Italian Language', 'English Language']</td>\n",
       "      <td>['France', 'United States of America']</td>\n",
       "      <td>['Parody', 'Americana', 'Comedy']</td>\n",
       "      <td>state and main_2000</td>\n",
       "      <td>M</td>\n",
       "      <td>1.700</td>\n",
       "      <td>/m/041rx</td>\n",
       "      <td>45</td>\n",
       "      <td>david paymer</td>\n",
       "      <td>/m/02t_vx</td>\n",
       "      <td>state and main_2000_david paymer</td>\n",
       "      <td>NaN</td>\n",
       "      <td>NaN</td>\n",
       "      <td>False</td>\n",
       "      <td>2000</td>\n",
       "      <td>6.7</td>\n",
       "      <td>22784</td>\n",
       "    </tr>\n",
       "    <tr>\n",
       "      <th>443414</th>\n",
       "      <td>State and Main</td>\n",
       "      <td>6944471</td>\n",
       "      <td>106</td>\n",
       "      <td>['Italian Language', 'English Language']</td>\n",
       "      <td>['France', 'United States of America']</td>\n",
       "      <td>['Parody', 'Americana', 'Comedy']</td>\n",
       "      <td>state and main_2000</td>\n",
       "      <td>M</td>\n",
       "      <td>1.910</td>\n",
       "      <td>/m/022dp5</td>\n",
       "      <td>20</td>\n",
       "      <td>john krasinski</td>\n",
       "      <td>/m/060j8b</td>\n",
       "      <td>state and main_2000_john krasinski</td>\n",
       "      <td>NaN</td>\n",
       "      <td>NaN</td>\n",
       "      <td>False</td>\n",
       "      <td>2000</td>\n",
       "      <td>6.7</td>\n",
       "      <td>22784</td>\n",
       "    </tr>\n",
       "    <tr>\n",
       "      <th>443423</th>\n",
       "      <td>State and Main</td>\n",
       "      <td>6944471</td>\n",
       "      <td>106</td>\n",
       "      <td>['Italian Language', 'English Language']</td>\n",
       "      <td>['France', 'United States of America']</td>\n",
       "      <td>['Parody', 'Americana', 'Comedy']</td>\n",
       "      <td>state and main_2000</td>\n",
       "      <td>F</td>\n",
       "      <td>1.600</td>\n",
       "      <td>/m/041rx</td>\n",
       "      <td>35</td>\n",
       "      <td>sarah jessica parker</td>\n",
       "      <td>/m/0m66w</td>\n",
       "      <td>state and main_2000_sarah jessica parker</td>\n",
       "      <td>NaN</td>\n",
       "      <td>NaN</td>\n",
       "      <td>False</td>\n",
       "      <td>2000</td>\n",
       "      <td>6.7</td>\n",
       "      <td>22784</td>\n",
       "    </tr>\n",
       "    <tr>\n",
       "      <th>443427</th>\n",
       "      <td>Guilty as Sin</td>\n",
       "      <td>22886222</td>\n",
       "      <td>107</td>\n",
       "      <td>['English Language']</td>\n",
       "      <td>['United States of America']</td>\n",
       "      <td>['Thriller', 'Erotic thriller', 'Psychological...</td>\n",
       "      <td>guilty as sin_1993</td>\n",
       "      <td>M</td>\n",
       "      <td>1.710</td>\n",
       "      <td>/m/0gkxl2</td>\n",
       "      <td>36</td>\n",
       "      <td>luis guzmn</td>\n",
       "      <td>/m/031f1q</td>\n",
       "      <td>guilty as sin_1993_luis guzmn</td>\n",
       "      <td>NaN</td>\n",
       "      <td>NaN</td>\n",
       "      <td>False</td>\n",
       "      <td>1993</td>\n",
       "      <td>5.7</td>\n",
       "      <td>5999</td>\n",
       "    </tr>\n",
       "  </tbody>\n",
       "</table>\n",
       "<p>23819 rows × 20 columns</p>\n",
       "</div>"
      ],
      "text/plain": [
       "                           title  box_office_revenue  runtime  \\\n",
       "0                 Ghosts of Mars            14010832       98   \n",
       "4                 Ghosts of Mars            14010832       98   \n",
       "11                Ghosts of Mars            14010832       98   \n",
       "51      Alexander's Ragtime Band             3600000      106   \n",
       "52      Alexander's Ragtime Band             3600000      106   \n",
       "...                          ...                 ...      ...   \n",
       "443407            State and Main             6944471      106   \n",
       "443408            State and Main             6944471      106   \n",
       "443414            State and Main             6944471      106   \n",
       "443423            State and Main             6944471      106   \n",
       "443427             Guilty as Sin            22886222      107   \n",
       "\n",
       "                                       languages  \\\n",
       "0                           ['English Language']   \n",
       "4                           ['English Language']   \n",
       "11                          ['English Language']   \n",
       "51                          ['English Language']   \n",
       "52                          ['English Language']   \n",
       "...                                          ...   \n",
       "443407  ['Italian Language', 'English Language']   \n",
       "443408  ['Italian Language', 'English Language']   \n",
       "443414  ['Italian Language', 'English Language']   \n",
       "443423  ['Italian Language', 'English Language']   \n",
       "443427                      ['English Language']   \n",
       "\n",
       "                                     countries  \\\n",
       "0                 ['United States of America']   \n",
       "4                 ['United States of America']   \n",
       "11                ['United States of America']   \n",
       "51                ['United States of America']   \n",
       "52                ['United States of America']   \n",
       "...                                        ...   \n",
       "443407  ['France', 'United States of America']   \n",
       "443408  ['France', 'United States of America']   \n",
       "443414  ['France', 'United States of America']   \n",
       "443423  ['France', 'United States of America']   \n",
       "443427            ['United States of America']   \n",
       "\n",
       "                                                   genres  \\\n",
       "0       ['Thriller', 'Science Fiction', 'Horror', 'Adv...   \n",
       "4       ['Thriller', 'Science Fiction', 'Horror', 'Adv...   \n",
       "11      ['Thriller', 'Science Fiction', 'Horror', 'Adv...   \n",
       "51                                  ['Musical', 'Comedy']   \n",
       "52                                  ['Musical', 'Comedy']   \n",
       "...                                                   ...   \n",
       "443407                  ['Parody', 'Americana', 'Comedy']   \n",
       "443408                  ['Parody', 'Americana', 'Comedy']   \n",
       "443414                  ['Parody', 'Americana', 'Comedy']   \n",
       "443423                  ['Parody', 'Americana', 'Comedy']   \n",
       "443427  ['Thriller', 'Erotic thriller', 'Psychological...   \n",
       "\n",
       "                    movie_identifier actor_gender  actor_height  \\\n",
       "0                ghosts of mars_2001            M         1.727   \n",
       "4                ghosts of mars_2001            F         1.780   \n",
       "11               ghosts of mars_2001            F         1.727   \n",
       "51      alexanders ragtime band_1938            M         1.820   \n",
       "52      alexanders ragtime band_1938            F         1.650   \n",
       "...                              ...          ...           ...   \n",
       "443407           state and main_2000            M         1.770   \n",
       "443408           state and main_2000            M         1.700   \n",
       "443414           state and main_2000            M         1.910   \n",
       "443423           state and main_2000            F         1.600   \n",
       "443427            guilty as sin_1993            M         1.710   \n",
       "\n",
       "       actor_ethnicity  actor_age       parsed_actor_name actor_identifier  \\\n",
       "0              /m/0x67         32                ice cube       /m/01vw26l   \n",
       "4           /m/044038p         27      natasha henstridge        /m/0346l4   \n",
       "11             /m/0x67         52               pam grier        /m/0418ft   \n",
       "51           /m/06v41q         24            tyrone power        /m/02s58t   \n",
       "52           /m/033tf_         23              alice faye        /m/032xfz   \n",
       "...                ...        ...                     ...              ...   \n",
       "443407       /m/033tf_         33  philip seymour hoffman        /m/02qgqt   \n",
       "443408        /m/041rx         45            david paymer        /m/02t_vx   \n",
       "443414       /m/022dp5         20          john krasinski        /m/060j8b   \n",
       "443423        /m/041rx         35    sarah jessica parker         /m/0m66w   \n",
       "443427       /m/0gkxl2         36              luis guzmn        /m/031f1q   \n",
       "\n",
       "                                        identifier category winner  \\\n",
       "0                     ghosts of mars_2001_ice cube      NaN    NaN   \n",
       "4           ghosts of mars_2001_natasha henstridge      NaN    NaN   \n",
       "11                   ghosts of mars_2001_pam grier      NaN    NaN   \n",
       "51       alexanders ragtime band_1938_tyrone power      NaN    NaN   \n",
       "52         alexanders ragtime band_1938_alice faye      NaN    NaN   \n",
       "...                                            ...      ...    ...   \n",
       "443407  state and main_2000_philip seymour hoffman      NaN    NaN   \n",
       "443408            state and main_2000_david paymer      NaN    NaN   \n",
       "443414          state and main_2000_john krasinski      NaN    NaN   \n",
       "443423    state and main_2000_sarah jessica parker      NaN    NaN   \n",
       "443427               guilty as sin_1993_luis guzmn      NaN    NaN   \n",
       "\n",
       "        oscar_nominated  year  average_rating  number_of_votes  \n",
       "0                 False  2001             4.9            58876  \n",
       "4                 False  2001             4.9            58876  \n",
       "11                False  2001             4.9            58876  \n",
       "51                False  1938             6.8             2357  \n",
       "52                False  1938             6.8             2357  \n",
       "...                 ...   ...             ...              ...  \n",
       "443407            False  2000             6.7            22784  \n",
       "443408            False  2000             6.7            22784  \n",
       "443414            False  2000             6.7            22784  \n",
       "443423            False  2000             6.7            22784  \n",
       "443427            False  1993             5.7             5999  \n",
       "\n",
       "[23819 rows x 20 columns]"
      ]
     },
     "execution_count": 49,
     "metadata": {},
     "output_type": "execute_result"
    }
   ],
   "source": [
    "movie_df"
   ]
  },
  {
   "cell_type": "markdown",
   "metadata": {},
   "source": [
    "We plot the 10 countries with the most Oscar nominations:"
   ]
  },
  {
   "cell_type": "code",
   "execution_count": 36,
   "metadata": {},
   "outputs": [
    {
     "name": "stdout",
     "output_type": "stream",
     "text": [
      "Number of rows, including those with multiple nationalities: 23819\n"
     ]
    }
   ],
   "source": [
    "# Getting dataframes of all nominated movies with the \"countries\"-column exploded (meaning we have one row per actor/movie/country combination)\n",
    "# exploded_df contains all rows in the dataset exploded by country, nominated_df contains all rows from exploded_df that were nominated for an Oscar\n",
    "nominated_df, exploded_df = get_nationality_dfs(movie_df)"
   ]
  },
  {
   "cell_type": "code",
   "execution_count": 37,
   "metadata": {},
   "outputs": [
    {
     "data": {
      "image/png": "[encoded data removed]",
      "text/plain": [
       "<Figure size 1000x300 with 1 Axes>"
      ]
     },
     "metadata": {},
     "output_type": "display_data"
    }
   ],
   "source": [
    "sns.set_theme(rc={'figure.figsize':(10, 3)})\n",
    "plt.xticks(rotation=70)\n",
    "plt.ylabel('Count')\n",
    "plt.xlabel('Country')\n",
    "plt.title('Oscar nominations per country')\n",
    "sns.countplot(x='country', data=nominated_df, order=nominated_df['country'].value_counts()[:10].index);\n",
    "plt.savefig('plots/oscar-nom-per-country.png', bbox_inches='tight')"
   ]
  },
  {
   "cell_type": "markdown",
   "metadata": {},
   "source": [
    "We see that the USA is vastly overrepresented. We combine all countries other than the USA and UK into an \"others\" category"
   ]
  },
  {
   "cell_type": "code",
   "execution_count": 50,
   "metadata": {},
   "outputs": [],
   "source": [
    "others_df = nominated_df.copy()\n",
    "others_df['country'] = others_df['country'].apply(lambda country: country if country in ['United States of America', 'United Kingdom'] else 'Others')\n",
    "\n",
    "# We drop duplicates to ensure that the same movie won't be counted multiple times for Others\n",
    "others_df = others_df.drop_duplicates(subset=['country', 'identifier'])"
   ]
  },
  {
   "cell_type": "code",
   "execution_count": 51,
   "metadata": {},
   "outputs": [
    {
     "data": {
      "image/png": "[encoded data removed]",
      "text/plain": [
       "<Figure size 600x400 with 1 Axes>"
      ]
     },
     "metadata": {},
     "output_type": "display_data"
    }
   ],
   "source": [
    "sns.set_theme(rc={'figure.figsize':(6, 4)})\n",
    "plt.xticks(rotation=70)\n",
    "plt.ylabel('Count')\n",
    "plt.xlabel('Country')\n",
    "plt.title('Oscar nominations per country')\n",
    "sns.countplot(x='country', data=others_df, order=others_df['country'].value_counts()[:10].index);"
   ]
  },
  {
   "cell_type": "code",
   "execution_count": 40,
   "metadata": {},
   "outputs": [],
   "source": [
    "# Get series of countries with their number of nominations adjusted for total number of rows in the dataset. Gives us some idea of the probability of a row from a country being nominated\n",
    "adjusted_nominations = get_adjusted_nominations(exploded_df, nominated_df)"
   ]
  },
  {
   "cell_type": "code",
   "execution_count": 41,
   "metadata": {},
   "outputs": [
    {
     "data": {
      "image/png": "[encoded data removed]",
      "text/plain": [
       "<Figure size 1000x300 with 1 Axes>"
      ]
     },
     "metadata": {},
     "output_type": "display_data"
    }
   ],
   "source": [
    "sns.set_theme(rc={'figure.figsize':(10, 3)})\n",
    "plt.xticks(rotation=70)\n",
    "plt.ylabel('Count')\n",
    "plt.xlabel('Country')\n",
    "plt.title('Share of actor/movie pairs from each country being nominated for Oscars')\n",
    "# Make a barplot for the top 10 countries after adjustment\n",
    "sns.barplot(data = adjusted_nominations.sort_values(ascending=False)[:10]);\n",
    "plt.savefig('plots/oscar-nom-per-country-adjusted.png', bbox_inches='tight')"
   ]
  },
  {
   "cell_type": "markdown",
   "metadata": {},
   "source": [
    "Russia is a surprising winner, could it be an outlier?"
   ]
  },
  {
   "cell_type": "code",
   "execution_count": 42,
   "metadata": {},
   "outputs": [
    {
     "name": "stdout",
     "output_type": "stream",
     "text": [
      "Number of russian nominations: 2\n"
     ]
    },
    {
     "data": {
      "text/html": [
       "<div>\n",
       "<style scoped>\n",
       "    .dataframe tbody tr th:only-of-type {\n",
       "        vertical-align: middle;\n",
       "    }\n",
       "\n",
       "    .dataframe tbody tr th {\n",
       "        vertical-align: top;\n",
       "    }\n",
       "\n",
       "    .dataframe thead th {\n",
       "        text-align: right;\n",
       "    }\n",
       "</style>\n",
       "<table border=\"1\" class=\"dataframe\">\n",
       "  <thead>\n",
       "    <tr style=\"text-align: right;\">\n",
       "      <th></th>\n",
       "      <th>index</th>\n",
       "      <th>title</th>\n",
       "      <th>box_office_revenue</th>\n",
       "      <th>runtime</th>\n",
       "      <th>languages</th>\n",
       "      <th>country</th>\n",
       "      <th>genres</th>\n",
       "      <th>movie_identifier</th>\n",
       "      <th>actor_gender</th>\n",
       "      <th>actor_height</th>\n",
       "      <th>...</th>\n",
       "      <th>actor_age</th>\n",
       "      <th>parsed_actor_name</th>\n",
       "      <th>actor_identifier</th>\n",
       "      <th>identifier</th>\n",
       "      <th>category</th>\n",
       "      <th>winner</th>\n",
       "      <th>oscar_nominated</th>\n",
       "      <th>year</th>\n",
       "      <th>average_rating</th>\n",
       "      <th>number_of_votes</th>\n",
       "    </tr>\n",
       "  </thead>\n",
       "  <tbody>\n",
       "    <tr>\n",
       "      <th>16612</th>\n",
       "      <td>220076</td>\n",
       "      <td>The Last Station</td>\n",
       "      <td>10332256</td>\n",
       "      <td>113</td>\n",
       "      <td>['English Language']</td>\n",
       "      <td>Russia</td>\n",
       "      <td>['Biography', 'World cinema', 'History', ', ',...</td>\n",
       "      <td>the last station_2009</td>\n",
       "      <td>F</td>\n",
       "      <td>1.630</td>\n",
       "      <td>...</td>\n",
       "      <td>64</td>\n",
       "      <td>helen mirren</td>\n",
       "      <td>/m/01hkhq</td>\n",
       "      <td>the last station_2009_helen mirren</td>\n",
       "      <td>ACTRESS IN A LEADING ROLE</td>\n",
       "      <td>False</td>\n",
       "      <td>True</td>\n",
       "      <td>2009</td>\n",
       "      <td>6.9</td>\n",
       "      <td>19290</td>\n",
       "    </tr>\n",
       "    <tr>\n",
       "      <th>16615</th>\n",
       "      <td>220078</td>\n",
       "      <td>The Last Station</td>\n",
       "      <td>10332256</td>\n",
       "      <td>113</td>\n",
       "      <td>['English Language']</td>\n",
       "      <td>Russia</td>\n",
       "      <td>['Biography', 'World cinema', 'History', ', ',...</td>\n",
       "      <td>the last station_2009</td>\n",
       "      <td>M</td>\n",
       "      <td>1.778</td>\n",
       "      <td>...</td>\n",
       "      <td>79</td>\n",
       "      <td>christopher plummer</td>\n",
       "      <td>/m/01ycbq</td>\n",
       "      <td>the last station_2009_christopher plummer</td>\n",
       "      <td>ACTOR IN A SUPPORTING ROLE</td>\n",
       "      <td>False</td>\n",
       "      <td>True</td>\n",
       "      <td>2009</td>\n",
       "      <td>6.9</td>\n",
       "      <td>19290</td>\n",
       "    </tr>\n",
       "  </tbody>\n",
       "</table>\n",
       "<p>2 rows × 21 columns</p>\n",
       "</div>"
      ],
      "text/plain": [
       "        index             title  box_office_revenue  runtime  \\\n",
       "16612  220076  The Last Station            10332256      113   \n",
       "16615  220078  The Last Station            10332256      113   \n",
       "\n",
       "                  languages country  \\\n",
       "16612  ['English Language']  Russia   \n",
       "16615  ['English Language']  Russia   \n",
       "\n",
       "                                                  genres  \\\n",
       "16612  ['Biography', 'World cinema', 'History', ', ',...   \n",
       "16615  ['Biography', 'World cinema', 'History', ', ',...   \n",
       "\n",
       "            movie_identifier actor_gender  actor_height  ... actor_age  \\\n",
       "16612  the last station_2009            F         1.630  ...        64   \n",
       "16615  the last station_2009            M         1.778  ...        79   \n",
       "\n",
       "         parsed_actor_name actor_identifier  \\\n",
       "16612         helen mirren        /m/01hkhq   \n",
       "16615  christopher plummer        /m/01ycbq   \n",
       "\n",
       "                                      identifier                    category  \\\n",
       "16612         the last station_2009_helen mirren   ACTRESS IN A LEADING ROLE   \n",
       "16615  the last station_2009_christopher plummer  ACTOR IN A SUPPORTING ROLE   \n",
       "\n",
       "      winner oscar_nominated  year  average_rating  number_of_votes  \n",
       "16612  False            True  2009             6.9            19290  \n",
       "16615  False            True  2009             6.9            19290  \n",
       "\n",
       "[2 rows x 21 columns]"
      ]
     },
     "execution_count": 42,
     "metadata": {},
     "output_type": "execute_result"
    }
   ],
   "source": [
    "Russia_nominees = exploded_df[(exploded_df['country'] == 'Russia') & (exploded_df['oscar_nominated'] == True)]\n",
    "print(f\"Number of russian nominations: {len(Russia_nominees)}\")\n",
    "Russia_nominees"
   ]
  },
  {
   "cell_type": "markdown",
   "metadata": {},
   "source": [
    "We see that the Russian nominations are for only one film. This makes Russia a clear outlier.\n",
    "\n",
    "In general, this analysis is very affected by our data cleaning process. For example, as documented in the data pipeline, we drop most actor/movie rows from India (Which means that we basically disregard Bollywood in this analysis, even though Bollywood would very likely have introduced a significant shift in the Oscard nomination probabilities). Keeping this in mind, we move on to analyze the distribution of American vs. non-American movies in our dataset."
   ]
  },
  {
   "cell_type": "markdown",
   "metadata": {},
   "source": [
    "# Binomial analysis USA vs. non-USA"
   ]
  },
  {
   "cell_type": "code",
   "execution_count": 43,
   "metadata": {},
   "outputs": [],
   "source": [
    "# movie_character_oscar_rating_df contains a row for each actor/movie pair. We select the non-American actors and compare with the American actors\n",
    "\n",
    "# All actors/movie rows, American and non-American\n",
    "total_actors_num = len(movie_df['countries'])\n",
    "american_total_actors_num = len(movie_df[movie_df['countries'].str.contains('United States of America')])\n",
    "non_american_total_actors_num = total_actors_num - american_total_actors_num\n",
    "\n",
    "# All actors/movie rows with an Oscar nomination, American and non-American\n",
    "total_nominated_actors_num = len(movie_df[movie_df['oscar_nominated'] == True]['countries'])\n",
    "american_nominations_num = len(movie_df[(movie_df['countries'].str.contains('United States of America')) & (movie_df['oscar_nominated'] == True)])\n",
    "non_american_nominations_num = total_nominated_actors_num - american_nominations_num"
   ]
  },
  {
   "cell_type": "code",
   "execution_count": 44,
   "metadata": {},
   "outputs": [
    {
     "data": {
      "text/plain": [
       "BinomTestResult(k=32, n=1644, alternative='two-sided', statistic=0.019464720194647202, pvalue=0.555551516013016)"
      ]
     },
     "execution_count": 44,
     "metadata": {},
     "output_type": "execute_result"
    }
   ],
   "source": [
    "# Observed probability of American actor getting nominated for a film\n",
    "p_american = american_nominations_num / american_total_actors_num\n",
    "p_non_american = non_american_nominations_num / non_american_total_actors_num\n",
    "\n",
    "# We perform a two-sided hypothesis test for whether non-American actors have the same binomial probability of getting nominated as American ones\n",
    "stats.binomtest(non_american_nominations_num, non_american_total_actors_num, p_american)"
   ]
  },
  {
   "cell_type": "markdown",
   "metadata": {},
   "source": [
    "Using alpha=0.05. P-value=0.56 > 0.05. The conclusion from this is that surprisingly, American movies in our dataset do not have a significantly different probability of being nominated for Oscars. Again, this is likely due to our data cleaning, where we remove for example a lot of Indian rows that had NaN-values (And were also likely not Oscar nominated)."
   ]
  },
  {
   "cell_type": "code",
   "execution_count": 45,
   "metadata": {},
   "outputs": [
    {
     "name": "stdout",
     "output_type": "stream",
     "text": [
      "Fraction of American actors nominated for an Oscar: 0.02196\n",
      "Fraction of non-American actors nominated for an Oscar: 0.01946\n"
     ]
    }
   ],
   "source": [
    "print('Fraction of American actors nominated for an Oscar:',round(p_american, 5))\n",
    "print('Fraction of non-American actors nominated for an Oscar:', round(p_non_american, 5))"
   ]
  },
  {
   "cell_type": "markdown",
   "metadata": {},
   "source": [
    "While the probability of winning an Oscar in general is likely higher for American movies, we will keep the non-American movies in this dataset, as the cleaning seems to have removed the expected multicolinearity between country and Oscar nomination."
   ]
  },
  {
   "cell_type": "markdown",
   "metadata": {},
   "source": [
    "# Analysis on data before our cleaning"
   ]
  },
  {
   "cell_type": "markdown",
   "metadata": {},
   "source": [
    "While the nationality analysis does not affect how we treat our dataset moving forward, it is also interesting to examine how nationality relates to chances of Oscar nomination before we remove null-values (that is, how does it relate to the whole combined dataset). We perform the same binomial analysis on the uncleaned data."
   ]
  },
  {
   "cell_type": "code",
   "execution_count": 46,
   "metadata": {},
   "outputs": [],
   "source": [
    "uncleaned_movie_df = pd.read_csv('cache/unclean_data.csv', sep=',', index_col=0)"
   ]
  },
  {
   "cell_type": "code",
   "execution_count": 47,
   "metadata": {},
   "outputs": [],
   "source": [
    "# movie_character_oscar_rating_df contains a row for each actor/movie pair. We select the non-American actors and compare with the American actors\n",
    "\n",
    "# All actors/movie rows, American and non-American\n",
    "total_actors_num = len(uncleaned_movie_df['countries'])\n",
    "american_total_actors_num = len(uncleaned_movie_df[uncleaned_movie_df['countries'].str.contains('United States of America')])\n",
    "non_american_total_actors_num = total_actors_num - american_total_actors_num\n",
    "\n",
    "# All actors/movie rows with an Oscar nomination, American and non-American\n",
    "total_nominated_actors_num = len(uncleaned_movie_df[uncleaned_movie_df['oscar_nominated'] == True]['countries'])\n",
    "american_nominations_num = len(uncleaned_movie_df[(uncleaned_movie_df['countries'].str.contains('United States of America')) & (uncleaned_movie_df['oscar_nominated'] == True)])\n",
    "non_american_nominations_num = total_nominated_actors_num - american_nominations_num"
   ]
  },
  {
   "cell_type": "code",
   "execution_count": 48,
   "metadata": {},
   "outputs": [
    {
     "name": "stdout",
     "output_type": "stream",
     "text": [
      "Share of American movies being nominated: 0.005462821195579816\n",
      "Share of non-American movies being nominated: 0.0006399149405371347\n"
     ]
    },
    {
     "data": {
      "text/plain": [
       "BinomTestResult(k=130, n=203152, alternative='two-sided', statistic=0.0006399149405371347, pvalue=2.6118071094409342e-307)"
      ]
     },
     "execution_count": 48,
     "metadata": {},
     "output_type": "execute_result"
    }
   ],
   "source": [
    "# Observed probability of American actor getting nominated for a film\n",
    "p_american = american_nominations_num / american_total_actors_num\n",
    "p_non_american = non_american_nominations_num / non_american_total_actors_num\n",
    "\n",
    "print(f\"Share of American movies being nominated: {p_american}\")\n",
    "print(f\"Share of non-American movies being nominated: {p_non_american}\")\n",
    "\n",
    "# We perform a two-sided hypothesis test for whether non-American actors have the same binomial probability of getting nominated as American ones\n",
    "stats.binomtest(non_american_nominations_num, non_american_total_actors_num, p_american)"
   ]
  },
  {
   "cell_type": "markdown",
   "metadata": {},
   "source": [
    "Using alpha=0.05, this p-value is far below our alpha. This indicates a significantly different distribution."
   ]
  },
  {
   "cell_type": "markdown",
   "metadata": {},
   "source": [
    "We see that the same test performed on the full dataset before dropping null-values shows a significantly higher chance for American movies to be nominated than non-American movies. Assuming that the complete dataset is representative of the real world, we conclude that actors in American movies in general have a much higher chance of being nominated for an Oscar compared to actors in non-American movies."
   ]
  }
 ],
 "metadata": {
  "kernelspec": {
   "display_name": "ada",
   "language": "python",
   "name": "python3"
  },
  "language_info": {
   "codemirror_mode": {
    "name": "ipython",
    "version": 3
   },
   "file_extension": ".py",
   "mimetype": "text/x-python",
   "name": "python",
   "nbconvert_exporter": "python",
   "pygments_lexer": "ipython3",
   "version": "3.11.10"
  }
 },
 "nbformat": 4,
 "nbformat_minor": 2
}
