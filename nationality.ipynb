{
 "cells": [
  {
   "cell_type": "code",
   "execution_count": 19,
   "metadata": {},
   "outputs": [],
   "source": [
    "import matplotlib.pyplot as plt\n",
    "import numpy as np\n",
    "import pandas as pd\n",
    "import seaborn as sns\n",
    "import statsmodels.formula.api as smf\n",
    "from scipy import stats\n",
    "from scipy.stats import pearsonr\n",
    "\n",
    "from helpers.nationality import *"
   ]
  },
  {
   "cell_type": "markdown",
   "metadata": {},
   "source": [
    "# Initial analysis: How does nationality relate to Oscar nominations?"
   ]
  },
  {
   "cell_type": "code",
   "execution_count": 20,
   "metadata": {},
   "outputs": [],
   "source": [
    "movie_df = pd.read_csv('cache/data.csv', sep=',', index_col=0)"
   ]
  },
  {
   "cell_type": "markdown",
   "metadata": {},
   "source": [
    "We plot the 10 countries with the most Oscar nominations:"
   ]
  },
  {
   "cell_type": "code",
   "execution_count": 21,
   "metadata": {},
   "outputs": [],
   "source": [
    "# Getting dataframes of all nominated movies with the \"countries\"-column exploded (meaning we have one row per actor/movie/country combination)\n",
    "# exploded_df contains all rows in the dataset exploded by country, nominated_df contains all rows from exploded_df that were nominated for an Oscar\n",
    "nominated_df, exploded_df = get_nationality_dfs(movie_df)"
   ]
  },
  {
   "cell_type": "code",
   "execution_count": 22,
   "metadata": {},
   "outputs": [],
   "source": [
    "sns.set_theme(rc={'figure.figsize':(20, 4)})\n",
    "plt.xticks(rotation=70)\n",
    "plt.ylabel('Count')\n",
    "plt.xlabel('Country')\n",
    "plt.title('Oscar nominations per country')\n",
    "sns.countplot(x='country', data=nominated_df, order=nominated_df['country'].value_counts()[:10].index);"
   ]
  },
  {
   "cell_type": "markdown",
   "metadata": {},
   "source": [
    "We see that the USA is vastly overrepresented. We combine all countries other than the USA and UK into an \"others\" category"
   ]
  },
  {
   "cell_type": "code",
   "execution_count": 23,
   "metadata": {},
   "outputs": [],
   "source": [
    "others_df = nominated_df.copy()\n",
    "others_df['country'] = nominated_df['country'].apply(lambda country: country if country in ['United States of America', 'United Kingdom'] else 'Others')"
   ]
  },
  {
   "cell_type": "code",
   "execution_count": 24,
   "metadata": {},
   "outputs": [],
   "source": [
    "sns.set_theme(rc={'figure.figsize':(6, 4)})\n",
    "plt.xticks(rotation=70)\n",
    "plt.ylabel('Count')\n",
    "plt.xlabel('Country')\n",
    "plt.title('Oscar nominations per country')\n",
    "sns.countplot(x='country', data=others_df, order=others_df['country'].value_counts()[:10].index);"
   ]
  },
  {
   "cell_type": "code",
   "execution_count": 25,
   "metadata": {},
   "outputs": [],
   "source": [
    "# Get series of countries with their number of nominations adjusted for total number of rows in the dataset. Gives us some idea of the probability of a row from a country being nominated\n",
    "adjusted_nominations = get_adjusted_nominations(exploded_df, nominated_df)"
   ]
  },
  {
   "cell_type": "code",
   "execution_count": 26,
   "metadata": {},
   "outputs": [],
   "source": [
    "sns.set_theme(rc={'figure.figsize':(10, 3)})\n",
    "plt.xticks(rotation=70)\n",
    "plt.ylabel('Count')\n",
    "plt.xlabel('Country')\n",
    "plt.title('Share of actor/movie pairs from each country being nominated for Oscars')\n",
    "# Make a barplot for the top 10 countries after adjustment\n",
    "sns.barplot(data = adjusted_nominations.sort_values(ascending=False)[:10]);"
   ]
  },
  {
   "cell_type": "markdown",
   "metadata": {},
   "source": [
    "Russia is a surprising winner, could it be an outlier?"
   ]
  },
  {
   "cell_type": "code",
   "execution_count": 27,
   "metadata": {},
   "outputs": [
    {
     "name": "stdout",
     "output_type": "stream",
     "text": [
      "Number of russian nominations: 2\n"
     ]
    },
    {
     "data": {
      "text/html": [
       "<div>\n",
       "<style scoped>\n",
       "    .dataframe tbody tr th:only-of-type {\n",
       "        vertical-align: middle;\n",
       "    }\n",
       "\n",
       "    .dataframe tbody tr th {\n",
       "        vertical-align: top;\n",
       "    }\n",
       "\n",
       "    .dataframe thead th {\n",
       "        text-align: right;\n",
       "    }\n",
       "</style>\n",
       "<table border=\"1\" class=\"dataframe\">\n",
       "  <thead>\n",
       "    <tr style=\"text-align: right;\">\n",
       "      <th></th>\n",
       "      <th>index</th>\n",
       "      <th>title</th>\n",
       "      <th>box_office_revenue</th>\n",
       "      <th>runtime</th>\n",
       "      <th>languages</th>\n",
       "      <th>country</th>\n",
       "      <th>genres</th>\n",
       "      <th>movie_identifier</th>\n",
       "      <th>actor_gender</th>\n",
       "      <th>actor_height</th>\n",
       "      <th>...</th>\n",
       "      <th>actor_age</th>\n",
       "      <th>parsed_actor_name</th>\n",
       "      <th>actor_identifier</th>\n",
       "      <th>identifier</th>\n",
       "      <th>category</th>\n",
       "      <th>winner</th>\n",
       "      <th>oscar_nominated</th>\n",
       "      <th>year</th>\n",
       "      <th>average_rating</th>\n",
       "      <th>number_of_votes</th>\n",
       "    </tr>\n",
       "  </thead>\n",
       "  <tbody>\n",
       "    <tr>\n",
       "      <th>16612</th>\n",
       "      <td>220076</td>\n",
       "      <td>The Last Station</td>\n",
       "      <td>10332256</td>\n",
       "      <td>113</td>\n",
       "      <td>['English Language']</td>\n",
       "      <td>Russia</td>\n",
       "      <td>['Biography', 'World cinema', 'History', ', ',...</td>\n",
       "      <td>the last station_2009</td>\n",
       "      <td>F</td>\n",
       "      <td>1.630</td>\n",
       "      <td>...</td>\n",
       "      <td>64</td>\n",
       "      <td>helen mirren</td>\n",
       "      <td>/m/01hkhq</td>\n",
       "      <td>the last station_2009_helen mirren</td>\n",
       "      <td>ACTRESS IN A LEADING ROLE</td>\n",
       "      <td>False</td>\n",
       "      <td>True</td>\n",
       "      <td>2009</td>\n",
       "      <td>6.9</td>\n",
       "      <td>19290</td>\n",
       "    </tr>\n",
       "    <tr>\n",
       "      <th>16615</th>\n",
       "      <td>220078</td>\n",
       "      <td>The Last Station</td>\n",
       "      <td>10332256</td>\n",
       "      <td>113</td>\n",
       "      <td>['English Language']</td>\n",
       "      <td>Russia</td>\n",
       "      <td>['Biography', 'World cinema', 'History', ', ',...</td>\n",
       "      <td>the last station_2009</td>\n",
       "      <td>M</td>\n",
       "      <td>1.778</td>\n",
       "      <td>...</td>\n",
       "      <td>79</td>\n",
       "      <td>christopher plummer</td>\n",
       "      <td>/m/01ycbq</td>\n",
       "      <td>the last station_2009_christopher plummer</td>\n",
       "      <td>ACTOR IN A SUPPORTING ROLE</td>\n",
       "      <td>False</td>\n",
       "      <td>True</td>\n",
       "      <td>2009</td>\n",
       "      <td>6.9</td>\n",
       "      <td>19290</td>\n",
       "    </tr>\n",
       "  </tbody>\n",
       "</table>\n",
       "<p>2 rows × 21 columns</p>\n",
       "</div>"
      ],
      "text/plain": [
       "        index             title  box_office_revenue  runtime  \\\n",
       "16612  220076  The Last Station            10332256      113   \n",
       "16615  220078  The Last Station            10332256      113   \n",
       "\n",
       "                  languages country  \\\n",
       "16612  ['English Language']  Russia   \n",
       "16615  ['English Language']  Russia   \n",
       "\n",
       "                                                  genres  \\\n",
       "16612  ['Biography', 'World cinema', 'History', ', ',...   \n",
       "16615  ['Biography', 'World cinema', 'History', ', ',...   \n",
       "\n",
       "            movie_identifier actor_gender  actor_height  ... actor_age  \\\n",
       "16612  the last station_2009            F         1.630  ...        64   \n",
       "16615  the last station_2009            M         1.778  ...        79   \n",
       "\n",
       "         parsed_actor_name actor_identifier  \\\n",
       "16612         helen mirren        /m/01hkhq   \n",
       "16615  christopher plummer        /m/01ycbq   \n",
       "\n",
       "                                      identifier                    category  \\\n",
       "16612         the last station_2009_helen mirren   ACTRESS IN A LEADING ROLE   \n",
       "16615  the last station_2009_christopher plummer  ACTOR IN A SUPPORTING ROLE   \n",
       "\n",
       "      winner oscar_nominated  year  average_rating  number_of_votes  \n",
       "16612  False            True  2009             6.9            19290  \n",
       "16615  False            True  2009             6.9            19290  \n",
       "\n",
       "[2 rows x 21 columns]"
      ]
     },
     "execution_count": 27,
     "metadata": {},
     "output_type": "execute_result"
    }
   ],
   "source": [
    "Russia_nominees = exploded_df[(exploded_df['country'] == 'Russia') & (exploded_df['oscar_nominated'] == True)]\n",
    "print(f\"Number of russian nominations: {len(Russia_nominees)}\")\n",
    "Russia_nominees"
   ]
  },
  {
   "cell_type": "markdown",
   "metadata": {},
   "source": [
    "We see that the Russian nominations are for only one film. This makes Russia a clear outlier.\n",
    "\n",
    "In general, this analysis is very affected by our data cleaning process. For example, as documented in the data pipeline, we drop most actor/movie rows from India (Which means that we basically disregard Bollywood in this analysis, even though Bollywood would very likely have introduced a significant shift in the Oscard nomination probabilities). Keeping this in mind, we move on to analyze the distribution of American vs. non-American movies in our dataset."
   ]
  },
  {
   "cell_type": "markdown",
   "metadata": {},
   "source": [
    "# Binomial analysis USA vs. non-USA"
   ]
  },
  {
   "cell_type": "code",
   "execution_count": 28,
   "metadata": {},
   "outputs": [],
   "source": [
    "# movie_character_oscar_rating_df contains a row for each actor/movie pair. We select the non-American actors and compare with the American actors\n",
    "\n",
    "# All actors/movie rows, American and non-American\n",
    "total_actors_num = len(movie_df['countries'])\n",
    "american_total_actors_num = len(movie_df[movie_df['countries'].str.contains('United States of America')])\n",
    "non_american_total_actors_num = total_actors_num - american_total_actors_num\n",
    "\n",
    "# All actors/movie rows with an Oscar nomination, American and non-American\n",
    "total_nominated_actors_num = len(movie_df[movie_df['oscar_nominated'] == True]['countries'])\n",
    "american_nominations_num = len(movie_df[(movie_df['countries'].str.contains('United States of America')) & (movie_df['oscar_nominated'] == True)])\n",
    "non_american_nominations_num = total_nominated_actors_num - american_nominations_num"
   ]
  },
  {
   "cell_type": "code",
   "execution_count": 29,
   "metadata": {},
   "outputs": [
    {
     "data": {
      "text/plain": [
       "BinomTestResult(k=32, n=1644, alternative='two-sided', statistic=0.019464720194647202, pvalue=0.555551516013016)"
      ]
     },
     "execution_count": 29,
     "metadata": {},
     "output_type": "execute_result"
    }
   ],
   "source": [
    "# Observed probability of American actor getting nominated for a film\n",
    "p_american = american_nominations_num / american_total_actors_num\n",
    "p_non_american = non_american_nominations_num / non_american_total_actors_num\n",
    "\n",
    "# We perform a two-sided hypothesis test for whether non-American actors have the same binomial probability of getting nominated as American ones\n",
    "stats.binomtest(non_american_nominations_num, non_american_total_actors_num, p_american)"
   ]
  },
  {
   "cell_type": "markdown",
   "metadata": {},
   "source": [
    "Using alpha=0.05. P-value=0.56 > 0.05. The conclusion from this is that surprisingly, American movies in our dataset do not have a significantly different probability of being nominated for Oscars. Again, this is likely due to our data cleaning, where we remove for example a lot of Indian rows that had NaN-values (And were also likely not Oscar nominated)."
   ]
  },
  {
   "cell_type": "code",
   "execution_count": 30,
   "metadata": {},
   "outputs": [],
   "source": [
    "print('Fraction of American actors nominated for an Oscar:',round(p_american, 5))\n",
    "print('Fraction of non-American actors nominated for an Oscar:', round(p_non_american, 5))"
   ]
  },
  {
   "cell_type": "markdown",
   "metadata": {},
   "source": [
    "While the probability of winning an Oscar in general is likely higher for American movies, we will keep the non-American movies in this dataset, as the cleaning seems to have removed the expected multicolinearity between country and Oscar nomination."
   ]
  },
  {
   "cell_type": "markdown",
   "metadata": {},
   "source": [
    "# Analysis on data before our cleaning"
   ]
  },
  {
   "cell_type": "markdown",
   "metadata": {},
   "source": [
    "While the nationality analysis does not affect how we treat our dataset moving forward, it is also interesting to examine how nationality relates to chances of Oscar nomination before we remove null-values (that is, how does it relate to the whole combined dataset). We perform the same binomial analysis on the uncleaned data."
   ]
  },
  {
   "cell_type": "code",
   "execution_count": 31,
   "metadata": {},
   "outputs": [],
   "source": [
    "uncleaned_movie_df = pd.read_csv('cache/unclean_data.csv', sep=',', index_col=0)"
   ]
  },
  {
   "cell_type": "code",
   "execution_count": 32,
   "metadata": {},
   "outputs": [],
   "source": [
    "# movie_character_oscar_rating_df contains a row for each actor/movie pair. We select the non-American actors and compare with the American actors\n",
    "\n",
    "# All actors/movie rows, American and non-American\n",
    "total_actors_num = len(uncleaned_movie_df['countries'])\n",
    "american_total_actors_num = len(uncleaned_movie_df[uncleaned_movie_df['countries'].str.contains('United States of America')])\n",
    "non_american_total_actors_num = total_actors_num - american_total_actors_num\n",
    "\n",
    "# All actors/movie rows with an Oscar nomination, American and non-American\n",
    "total_nominated_actors_num = len(uncleaned_movie_df[uncleaned_movie_df['oscar_nominated'] == True]['countries'])\n",
    "american_nominations_num = len(uncleaned_movie_df[(uncleaned_movie_df['countries'].str.contains('United States of America')) & (uncleaned_movie_df['oscar_nominated'] == True)])\n",
    "non_american_nominations_num = total_nominated_actors_num - american_nominations_num"
   ]
  },
  {
   "cell_type": "code",
   "execution_count": 33,
   "metadata": {},
   "outputs": [
    {
     "name": "stdout",
     "output_type": "stream",
     "text": [
      "Share of American movies being nominated: 0.005462821195579816\n",
      "Share of non-American movies being nominated: 0.0006399149405371347\n"
     ]
    },
    {
     "data": {
      "text/plain": [
       "BinomTestResult(k=130, n=203152, alternative='two-sided', statistic=0.0006399149405371347, pvalue=2.6118071094409342e-307)"
      ]
     },
     "execution_count": 33,
     "metadata": {},
     "output_type": "execute_result"
    }
   ],
   "source": [
    "# Observed probability of American actor getting nominated for a film\n",
    "p_american = american_nominations_num / american_total_actors_num\n",
    "p_non_american = non_american_nominations_num / non_american_total_actors_num\n",
    "\n",
    "print(f\"Share of American movies being nominated: {p_american}\")\n",
    "print(f\"Share of non-American movies being nominated: {p_non_american}\")\n",
    "\n",
    "# We perform a two-sided hypothesis test for whether non-American actors have the same binomial probability of getting nominated as American ones\n",
    "stats.binomtest(non_american_nominations_num, non_american_total_actors_num, p_american)"
   ]
  },
  {
   "cell_type": "markdown",
   "metadata": {},
   "source": [
    "Using alpha=0.05, this p-value is far below our alpha. This indicates a significantly different distribution."
   ]
  },
  {
   "cell_type": "markdown",
   "metadata": {},
   "source": [
    "We see that the same test performed on the full dataset before dropping null-values shows a significantly higher chance for American movies to be nominated than non-American movies. Assuming that the complete dataset is representative of the real world, we conclude that actors in American movies in general have a much higher chance of being nominated for an Oscar compared to actors in non-American movies."
   ]
  }
 ],
 "metadata": {
  "kernelspec": {
   "display_name": "ada",
   "language": "python",
   "name": "python3"
  },
  "language_info": {
   "codemirror_mode": {
    "name": "ipython",
    "version": 3
   },
   "file_extension": ".py",
   "mimetype": "text/x-python",
   "name": "python",
   "nbconvert_exporter": "python",
   "pygments_lexer": "ipython3",
   "version": "3.11.10"
  }
 },
 "nbformat": 4,
 "nbformat_minor": 2
}
